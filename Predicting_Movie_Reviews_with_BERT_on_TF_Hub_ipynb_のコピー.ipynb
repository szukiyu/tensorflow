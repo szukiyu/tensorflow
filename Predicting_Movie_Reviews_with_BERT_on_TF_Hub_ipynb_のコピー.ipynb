{
  "nbformat": 4,
  "nbformat_minor": 0,
  "metadata": {
    "colab": {
      "name": "Predicting Movie Reviews with BERT on TF Hub.ipynb のコピー",
      "version": "0.3.2",
      "provenance": [],
      "collapsed_sections": [],
      "include_colab_link": true
    },
    "kernelspec": {
      "name": "python3",
      "display_name": "Python 3"
    },
    "accelerator": "GPU"
  },
  "cells": [
    {
      "cell_type": "markdown",
      "metadata": {
        "id": "view-in-github",
        "colab_type": "text"
      },
      "source": [
        "<a href=\"https://colab.research.google.com/github/szukiyu/tensorflow/blob/master/Predicting_Movie_Reviews_with_BERT_on_TF_Hub_ipynb_%E3%81%AE%E3%82%B3%E3%83%94%E3%83%BC.ipynb\" target=\"_parent\"><img src=\"https://colab.research.google.com/assets/colab-badge.svg\" alt=\"Open In Colab\"/></a>"
      ]
    },
    {
      "cell_type": "code",
      "metadata": {
        "id": "j0a4mTk9o1Qg",
        "colab_type": "code",
        "colab": {}
      },
      "source": [
        "# Copyright 2019 Google Inc.\n",
        "\n",
        "# Licensed under the Apache License, Version 2.0 (the \"License\");\n",
        "# you may not use this file except in compliance with the License.\n",
        "# You may obtain a copy of the License at\n",
        "\n",
        "#     http://www.apache.org/licenses/LICENSE-2.0\n",
        "\n",
        "# Unless required by applicable law or agreed to in writing, software\n",
        "# distributed under the License is distributed on an \"AS IS\" BASIS,\n",
        "# WITHOUT WARRANTIES OR CONDITIONS OF ANY KIND, either express or implied.\n",
        "# See the License for the specific language governing permissions and\n",
        "# limitations under the License."
      ],
      "execution_count": 0,
      "outputs": []
    },
    {
      "cell_type": "markdown",
      "metadata": {
        "id": "dCpvgG0vwXAZ",
        "colab_type": "text"
      },
      "source": [
        "#Predicting Movie Review Sentiment with BERT on TF Hub"
      ]
    },
    {
      "cell_type": "markdown",
      "metadata": {
        "id": "xiYrZKaHwV81",
        "colab_type": "text"
      },
      "source": [
        "If you’ve been following Natural Language Processing over the past year, you’ve probably heard of BERT: Bidirectional Encoder Representations from Transformers. It’s a neural network architecture designed by Google researchers that’s totally transformed what’s state-of-the-art for NLP tasks, like text classification, translation, summarization, and question answering.\n",
        "\n",
        "Now that BERT's been added to [TF Hub](https://www.tensorflow.org/hub) as a loadable module, it's easy(ish) to add into existing Tensorflow text pipelines. In an existing pipeline, BERT can replace text embedding layers like ELMO and GloVE. Alternatively, [finetuning](http://wiki.fast.ai/index.php/Fine_tuning) BERT can provide both an accuracy boost and faster training time in many cases.\n",
        "\n",
        "Here, we'll train a model to predict whether an IMDB movie review is positive or negative using BERT in Tensorflow with tf hub. Some code was adapted from [this colab notebook](https://colab.sandbox.google.com/github/tensorflow/tpu/blob/master/tools/colab/bert_finetuning_with_cloud_tpus.ipynb). Let's get started!"
      ]
    },
    {
      "cell_type": "code",
      "metadata": {
        "id": "hsZvic2YxnTz",
        "colab_type": "code",
        "colab": {}
      },
      "source": [
        "from sklearn.model_selection import train_test_split\n",
        "import pandas as pd\n",
        "import tensorflow as tf\n",
        "import tensorflow_hub as hub\n",
        "from datetime import datetime"
      ],
      "execution_count": 0,
      "outputs": []
    },
    {
      "cell_type": "markdown",
      "metadata": {
        "id": "cp5wfXDx5SPH",
        "colab_type": "text"
      },
      "source": [
        "In addition to the standard libraries we imported above, we'll need to install BERT's python package."
      ]
    },
    {
      "cell_type": "code",
      "metadata": {
        "id": "jviywGyWyKsA",
        "colab_type": "code",
        "outputId": "f6bcbfd9-42f7-463c-ca2a-974afba717cc",
        "colab": {
          "base_uri": "https://localhost:8080/",
          "height": 51
        }
      },
      "source": [
        "!pip install bert-tensorflow"
      ],
      "execution_count": 22,
      "outputs": [
        {
          "output_type": "stream",
          "text": [
            "Requirement already satisfied: bert-tensorflow in /usr/local/lib/python3.6/dist-packages (1.0.1)\n",
            "Requirement already satisfied: six in /usr/local/lib/python3.6/dist-packages (from bert-tensorflow) (1.12.0)\n"
          ],
          "name": "stdout"
        }
      ]
    },
    {
      "cell_type": "code",
      "metadata": {
        "id": "hhbGEfwgdEtw",
        "colab_type": "code",
        "colab": {}
      },
      "source": [
        "import bert\n",
        "from bert import run_classifier\n",
        "from bert import optimization\n",
        "from bert import tokenization"
      ],
      "execution_count": 0,
      "outputs": []
    },
    {
      "cell_type": "markdown",
      "metadata": {
        "id": "KVB3eOcjxxm1",
        "colab_type": "text"
      },
      "source": [
        "Below, we'll set an output directory location to store our model output and checkpoints. This can be a local directory, in which case you'd set OUTPUT_DIR to the name of the directory you'd like to create. If you're running this code in Google's hosted Colab, the directory won't persist after the Colab session ends.\n",
        "\n",
        "Alternatively, if you're a GCP user, you can store output in a GCP bucket. To do that, set a directory name in OUTPUT_DIR and the name of the GCP bucket in the BUCKET field.\n",
        "\n",
        "Set DO_DELETE to rewrite the OUTPUT_DIR if it exists. Otherwise, Tensorflow will load existing model checkpoints from that directory (if they exist)."
      ]
    },
    {
      "cell_type": "code",
      "metadata": {
        "id": "US_EAnICvP7f",
        "colab_type": "code",
        "outputId": "5bcf38e5-184f-4af0-e6e3-946a6011d9d9",
        "cellView": "both",
        "colab": {
          "base_uri": "https://localhost:8080/",
          "height": 34
        }
      },
      "source": [
        "# Set the output directory for saving model file\n",
        "# Optionally, set a GCP bucket location\n",
        "\n",
        "OUTPUT_DIR = 'OUTPUT_DIR_NAME3'#@param {type:\"string\"}\n",
        "#@markdown Whether or not to clear/delete the directory and create a new one\n",
        "DO_DELETE = True #@param {type:\"boolean\"}\n",
        "#@markdown Set USE_BUCKET and BUCKET if you want to (optionally) store model output on GCP bucket.\n",
        "USE_BUCKET = True #@param {type:\"boolean\"}\n",
        "BUCKET = 'bert_szukiyu' #@param {type:\"string\"}\n",
        "\n",
        "if USE_BUCKET:\n",
        "  OUTPUT_DIR = 'gs://{}/{}'.format(BUCKET, OUTPUT_DIR)\n",
        "  from google.colab import auth\n",
        "  auth.authenticate_user()\n",
        "\n",
        "if DO_DELETE:\n",
        "  try:\n",
        "    tf.gfile.DeleteRecursively(OUTPUT_DIR)\n",
        "  except:\n",
        "    # Doesn't matter if the directory didn't exist\n",
        "    pass\n",
        "tf.gfile.MakeDirs(OUTPUT_DIR)\n",
        "print('***** Model output directory: {} *****'.format(OUTPUT_DIR))\n"
      ],
      "execution_count": 72,
      "outputs": [
        {
          "output_type": "stream",
          "text": [
            "***** Model output directory: gs://bert_szukiyu/OUTPUT_DIR_NAME3 *****\n"
          ],
          "name": "stdout"
        }
      ]
    },
    {
      "cell_type": "markdown",
      "metadata": {
        "id": "pmFYvkylMwXn",
        "colab_type": "text"
      },
      "source": [
        "#Data"
      ]
    },
    {
      "cell_type": "markdown",
      "metadata": {
        "id": "MC_w8SRqN0fr",
        "colab_type": "text"
      },
      "source": [
        "First, let's download the dataset, hosted by Stanford. The code below, which downloads, extracts, and imports the IMDB Large Movie Review Dataset, is borrowed from [this Tensorflow tutorial](https://www.tensorflow.org/hub/tutorials/text_classification_with_tf_hub)."
      ]
    },
    {
      "cell_type": "code",
      "metadata": {
        "id": "fom_ff20gyy6",
        "colab_type": "code",
        "colab": {}
      },
      "source": [
        "from tensorflow import keras\n",
        "import os\n",
        "import re\n",
        "\n",
        "# Load all files from a directory in a DataFrame.\n",
        "def load_directory_data(directory):\n",
        "  data = {}\n",
        "  data[\"sentence\"] = []\n",
        "  data[\"sentiment\"] = []\n",
        "  for file_path in os.listdir(directory):\n",
        "    with tf.gfile.GFile(os.path.join(directory, file_path), \"r\") as f:\n",
        "      data[\"sentence\"].append(f.read())\n",
        "      data[\"sentiment\"].append(re.match(\"\\d+_(\\d+)\\.txt\", file_path).group(1))\n",
        "  return pd.DataFrame.from_dict(data)\n",
        "\n",
        "# Merge positive and negative examples, add a polarity column and shuffle.\n",
        "def load_dataset(directory):\n",
        "  pos_df = load_directory_data(os.path.join(directory, \"pos\"))\n",
        "  neg_df = load_directory_data(os.path.join(directory, \"neg\"))\n",
        "  pos_df[\"polarity\"] = 1\n",
        "  neg_df[\"polarity\"] = 0\n",
        "  return pd.concat([pos_df, neg_df]).sample(frac=1).reset_index(drop=True)\n",
        "\n",
        "# Download and process the dataset files.\n",
        "def download_and_load_datasets(force_download=False):\n",
        "  dataset = tf.keras.utils.get_file(\n",
        "      fname=\"aclImdb.tar.gz\", \n",
        "      origin=\"http://ai.stanford.edu/~amaas/data/sentiment/aclImdb_v1.tar.gz\", \n",
        "      extract=True)\n",
        "  \n",
        "  train_df = load_dataset(os.path.join(os.path.dirname(dataset), \n",
        "                                       \"aclImdb\", \"train\"))\n",
        "  test_df = load_dataset(os.path.join(os.path.dirname(dataset), \n",
        "                                      \"aclImdb\", \"test\"))\n",
        "  \n",
        "  return train_df, test_df\n"
      ],
      "execution_count": 0,
      "outputs": []
    },
    {
      "cell_type": "code",
      "metadata": {
        "id": "2abfwdn-g135",
        "colab_type": "code",
        "outputId": "8b94bc76-78e0-4bf8-bdf6-f879cd38964d",
        "colab": {
          "base_uri": "https://localhost:8080/",
          "height": 51
        }
      },
      "source": [
        "train, test = download_and_load_datasets()"
      ],
      "execution_count": 0,
      "outputs": [
        {
          "output_type": "stream",
          "text": [
            "Downloading data from http://ai.stanford.edu/~amaas/data/sentiment/aclImdb_v1.tar.gz\n",
            "84131840/84125825 [==============================] - 7s 0us/step\n"
          ],
          "name": "stdout"
        }
      ]
    },
    {
      "cell_type": "markdown",
      "metadata": {
        "id": "XA8WHJgzhIZf",
        "colab_type": "text"
      },
      "source": [
        "To keep training fast, we'll take a sample of 5000 train and test examples, respectively."
      ]
    },
    {
      "cell_type": "code",
      "metadata": {
        "id": "lw_F488eixTV",
        "colab_type": "code",
        "colab": {}
      },
      "source": [
        "train = train.sample(5000)\n",
        "test = test.sample(5000)"
      ],
      "execution_count": 0,
      "outputs": []
    },
    {
      "cell_type": "code",
      "metadata": {
        "id": "prRQM8pDi8xI",
        "colab_type": "code",
        "outputId": "17d74b4f-1d65-4291-dc93-96563f770290",
        "colab": {
          "base_uri": "https://localhost:8080/",
          "height": 34
        }
      },
      "source": [
        "train.columns"
      ],
      "execution_count": 0,
      "outputs": [
        {
          "output_type": "execute_result",
          "data": {
            "text/plain": [
              "Index(['sentence', 'sentiment', 'polarity'], dtype='object')"
            ]
          },
          "metadata": {
            "tags": []
          },
          "execution_count": 9
        }
      ]
    },
    {
      "cell_type": "code",
      "metadata": {
        "id": "5Xb9wZ2832Jq",
        "colab_type": "code",
        "outputId": "a677c74b-847d-4297-ff3d-1a6e63d1eca2",
        "colab": {
          "base_uri": "https://localhost:8080/",
          "height": 1105
        }
      },
      "source": [
        "print(train)"
      ],
      "execution_count": 0,
      "outputs": [
        {
          "output_type": "stream",
          "text": [
            "                                                sentence sentiment  polarity\n",
            "8223   Back to the roots with \"like it is in heaven\" ...        10         1\n",
            "2442   Seeing as I hate reading long essays hoping to...         4         0\n",
            "20735  Farrah Fawcett has spent the better part of he...         8         1\n",
            "18877  What seemed as a good premise for a movie...un...         1         0\n",
            "19804  There aren't many overcoming-the-odds stories ...         8         1\n",
            "10044  John Leguizemo, a wonderful comic actor, is a ...         3         0\n",
            "2242   \"Pickup On South Street\" is a high speed drama...         7         1\n",
            "3896   A solid B movie.<br /><br />I like Jake Weber....         7         1\n",
            "17678  What a crime...<br /><br />You forgot to brush...         1         0\n",
            "12791  When you actually find a video game to be scar...        10         1\n",
            "5284   I wrote a review of this movie further down af...         1         0\n",
            "8937   Following the release of Cube 2: Hypercube (20...         3         0\n",
            "16876  When i heard about this movie it was supposed ...         9         1\n",
            "15686  This movie should be nominated for a new genre...         1         0\n",
            "19579  Most people, especially young people, may not ...        10         1\n",
            "9589   As usual, Sean Connery does a great job. Lawre...         9         1\n",
            "18628  Overall this movie was excellent for its time ...         7         1\n",
            "13115  Necessarily ridiculous film version the litera...         4         0\n",
            "17329  this is a wonderful film, makes the 1950'S loo...        10         1\n",
            "10466  Hilarious, evocative, confusing, brilliant fil...         9         1\n",
            "3412   I saw this movie, just now, not when it was re...         4         0\n",
            "18254  For starters, I would like to say that I'm a f...         2         0\n",
            "5927   Being the prototype of the classical Errol Fly...         9         1\n",
            "14801  I remember watching this on prime time when I ...         4         0\n",
            "16931  Ronald Reagan and a bunch of US soldiers in a ...         1         0\n",
            "15437  The peculiar charisma of Martin Kosleck brings...         4         0\n",
            "9972   When I was flicking through the TV Guide, and ...         8         1\n",
            "6366   This movie was featured on a very early episod...         7         1\n",
            "23667  A memorable line from a short lived show. Afte...         3         0\n",
            "7519   Let's face it, romantic comedies are considere...         1         0\n",
            "...                                                  ...       ...       ...\n",
            "4524   Well it's been a long year and I'm down to rev...         7         1\n",
            "22250  Spoiler alert  although I think this one was ...         3         0\n",
            "18353  While the movie does feel a bit long at times,...        10         1\n",
            "6988   You can't hold too much against this knowing t...         3         0\n",
            "9692   I hate this movie. I hate the show. i hate jus...         1         0\n",
            "16406  I love Zombie-Movies and I love amateur-produc...         2         0\n",
            "20736  As an engineer, I must say this show's first s...         4         0\n",
            "2833   This is one of those movies that should have b...         3         0\n",
            "5572   The viewer leaves wondering why he bothered to...         2         0\n",
            "5472   The movie is wonderful. It shows the man's wor...         8         1\n",
            "19423  This movie was so bad that my i.q. went down a...         1         0\n",
            "24714  When I ordered this from Blockbuster's website...         1         0\n",
            "16443  I saw this movie about 5 years ago, and the me...         1         0\n",
            "22361  One the whole, this movie isn't perfect. It do...         8         1\n",
            "3674   This film concerns the story of Eddy as mentio...         1         0\n",
            "14807  There's a major difference between releasing a...         3         0\n",
            "17607  I saw the 10p.m. showing and I must say that t...         1         0\n",
            "21590  Maybe the greatest film ever about jazz.<br />...        10         1\n",
            "7768   For those of you that don't that reference, cl...        10         1\n",
            "21411  Okay.. this wasn't the worst movie I've ever s...         4         0\n",
            "1887   First off...with names like Fred Olen Ray, Bri...         4         0\n",
            "15248  An unmarried woman named Stella (Bette Midler)...         1         0\n",
            "3478   Whatever rating I give BOOM is only because of...         4         0\n",
            "8297   Shirley MacLaine in another tailor-made role. ...         8         1\n",
            "10804  Samuel Fuller is an interesting filmmaker, mai...         8         1\n",
            "10664  This movie was pretty bad. Sci-fi is usually m...         2         0\n",
            "18144  I thought this movie did a down right good job...        10         1\n",
            "17525  This film was enjoyable but for the wrong reas...         7         1\n",
            "23350  This movie is bad news and I'm really surprise...         2         0\n",
            "7129   I came here for a review last night before dec...         3         0\n",
            "\n",
            "[5000 rows x 3 columns]\n"
          ],
          "name": "stdout"
        }
      ]
    },
    {
      "cell_type": "markdown",
      "metadata": {
        "id": "sfRnHSz3iSXz",
        "colab_type": "text"
      },
      "source": [
        "For us, our input data is the 'sentence' column and our label is the 'polarity' column (0, 1 for negative and positive, respecitvely)"
      ]
    },
    {
      "cell_type": "code",
      "metadata": {
        "id": "RzLzXxtW7abf",
        "colab_type": "code",
        "colab": {}
      },
      "source": [
        "from google_drive_downloader import GoogleDriveDownloader as gdd\n",
        "\n",
        "tgz_fname = \"ldcc-20140209.tar.gz\"\n"
      ],
      "execution_count": 0,
      "outputs": []
    },
    {
      "cell_type": "code",
      "metadata": {
        "id": "-0ODFkzW8DoU",
        "colab_type": "code",
        "colab": {
          "base_uri": "https://localhost:8080/",
          "height": 34
        },
        "outputId": "5b68381c-d0eb-450f-8cb7-6339cca9b634"
      },
      "source": [
        "# Google driverからダウンロード\n",
        "gdd.download_file_from_google_drive(file_id=\"1b-llzNQdmKIp0FYMwzGOKmXdQUNpNXC8\",\n",
        "                                   dest_path=\"./ldcc-20140209.tar.gz\", unzip=False)"
      ],
      "execution_count": 7,
      "outputs": [
        {
          "output_type": "stream",
          "text": [
            "Downloading 1b-llzNQdmKIp0FYMwzGOKmXdQUNpNXC8 into ./ldcc-20140209.tar.gz... Done.\n"
          ],
          "name": "stdout"
        }
      ]
    },
    {
      "cell_type": "code",
      "metadata": {
        "id": "FcxcbF7z8IxW",
        "colab_type": "code",
        "outputId": "0fa95347-671f-4ccc-fa93-62b0416ae116",
        "colab": {
          "base_uri": "https://localhost:8080/",
          "height": 34
        }
      },
      "source": [
        "# 株式会社ロンウィットからダウンロード\n",
        "import urllib.request\n",
        "tgz_url = \"https://www.rondhuit.com/download/ldcc-20140209.tar.gz\"\n",
        "urllib.request.urlretrieve(tgz_url, \"ldcc-20140209.tar.gz\")"
      ],
      "execution_count": 8,
      "outputs": [
        {
          "output_type": "execute_result",
          "data": {
            "text/plain": [
              "('ldcc-20140209.tar.gz', <http.client.HTTPMessage at 0x7fde26e38898>)"
            ]
          },
          "metadata": {
            "tags": []
          },
          "execution_count": 8
        }
      ]
    },
    {
      "cell_type": "code",
      "metadata": {
        "id": "OHx1kJqq8QTY",
        "colab_type": "code",
        "colab": {}
      },
      "source": [
        "import tarfile\n",
        "import csv\n",
        "import re\n",
        "\n",
        "target_genre = [\"it-life-hack\", \"kaden-channel\"]\n",
        "\n",
        "zero_fnames = []\n",
        "one_fnames = []\n",
        "tsv_fname = \"all.tsv\"\n",
        "\n",
        "brackets_tail = re.compile('【[^】]*】$')\n",
        "brackets_head = re.compile('^【[^】]*】')\n",
        "\n",
        "def remove_brackets(inp):\n",
        "    output = re.sub(brackets_head, '',\n",
        "                   re.sub(brackets_tail, '', inp))\n",
        "    return output\n",
        "\n",
        "def read_title(f):\n",
        "    # 2行スキップ\n",
        "    next(f)\n",
        "    next(f)\n",
        "    title = next(f) # 3行目を返す\n",
        "    title = remove_brackets(title.decode('utf-8'))\n",
        "    return title[:-1]\n",
        "\n",
        "with tarfile.open(tgz_fname, encoding=\"utf-8\") as tf:\n",
        "    # 対象ファイルの選定\n",
        "    for ti in tf:\n",
        "        # ライセンスファイルはスキップ\n",
        "        if \"LICENSE.txt\" in ti.name:\n",
        "            continue\n",
        "        if target_genre[0] in ti.name and ti.name.endswith(\".txt\"):\n",
        "            zero_fnames.append(ti.name)\n",
        "            continue\n",
        "        if target_genre[1] in ti.name and ti.name.endswith(\".txt\"):\n",
        "            one_fnames.append(ti.name)\n",
        "    with open(tsv_fname, \"w\", encoding='utf-8') as wf:\n",
        "        writer = csv.writer(wf, delimiter='\\t')\n",
        "        # ラベル 0\n",
        "        for name in zero_fnames:\n",
        "            f = tf.extractfile(name)\n",
        "            title = read_title(f)\n",
        "            row = [target_genre[0], 0, '', title]\n",
        "            writer.writerow(row)\n",
        "        # ラベル 1\n",
        "        for name in one_fnames:\n",
        "            f = tf.extractfile(name)\n",
        "            title = read_title(f)\n",
        "            row = [target_genre[1], 1, '', title]\n",
        "            writer.writerow(row)\n"
      ],
      "execution_count": 0,
      "outputs": []
    },
    {
      "cell_type": "code",
      "metadata": {
        "id": "ZJbePDFj8Yis",
        "colab_type": "code",
        "colab": {}
      },
      "source": [
        "import random\n",
        "\n",
        "random.seed(100)\n",
        "with open(\"all.tsv\", 'r', encoding='utf-8') as f, open(\"rand-all.tsv\", \"w\", encoding='utf-8') as wf:\n",
        "    lines = f.readlines()\n",
        "    random.shuffle(lines)\n",
        "    for line in lines:\n",
        "        wf.write(line)"
      ],
      "execution_count": 0,
      "outputs": []
    },
    {
      "cell_type": "code",
      "metadata": {
        "id": "7l4io-X38cJp",
        "colab_type": "code",
        "outputId": "e698735e-9d20-4932-caf4-c4432263c0a5",
        "colab": {
          "base_uri": "https://localhost:8080/",
          "height": 58973
        }
      },
      "source": [
        "random.seed(101)\n",
        "\n",
        "train_fname, dev_fname, test_fname = [\"train.tsv\", \"dev.tsv\", \"test.tsv\"]\n",
        "with open(\"rand-all.tsv\", encoding='utf-8') as f, open(train_fname, \"w\", encoding='utf-8') as tf, open(dev_fname, \"w\", encoding='utf-8') as df, open(test_fname, \"w\", encoding='utf-8') as ef:\n",
        "    ef.write(\"class\\tsentence\\n\")\n",
        "    for line in f:\n",
        "        print(\"line=\",line)\n",
        "        v = random.randint(0, 9)\n",
        "        if v == 8:\n",
        "            df.write(line)\n",
        "        elif v == 9:\n",
        "            row = line.split('\\t')\n",
        " \n",
        "            ef.write(\"\\t\".join([row[1], row[3]]))\n",
        "        else:\n",
        "            tf.write(line)"
      ],
      "execution_count": 11,
      "outputs": [
        {
          "output_type": "stream",
          "text": [
            "line= it-life-hack\t0\t\t何かとネットが騒がしかった！　不審なAndroidアプリ騒動までを振り返る\n",
            "\n",
            "line= kaden-channel\t1\t\tソニーだいじょうぶ？　PS Vitaの質問ページがちょっと変で話題になり、ソニーは慌てて修正\n",
            "\n",
            "line= kaden-channel\t1\t\t絨毯もフローリングもスチームで「洗う」ＦＳＭ１２００\n",
            "\n",
            "line= kaden-channel\t1\t\tお風呂場がベター!?　iPhoneの保護シールがうまく貼れない人にヒント\n",
            "\n",
            "line= it-life-hack\t0\t\t24時間しょこたん三昧　本日0時より「中川翔子が売ってみた！独り24時間テレビ」ニコニコ生放送開始\n",
            "\n",
            "line= kaden-channel\t1\t\t『癒し』と『安眠サポート』—部屋中をほんのり桜色に照らすＬＥＤ照明シャープＤＬ−Ｃ６０４Ｖ\n",
            "\n",
            "line= kaden-channel\t1\t\t忘年会シーズンは要注意！　Facebook上にある76％は恥ずかしい写真だった\n",
            "\n",
            "line= it-life-hack\t0\t\tあの名作に隠された秘密！スラムダンクの秘密　完全版\n",
            "\n",
            "line= it-life-hack\t0\t\t一連の流れを紹介！ Google playで出回った不審なAndroidアプリ問題\n",
            "\n",
            "line= kaden-channel\t1\t\tタムロンのEマウントレンズを純正レンズと比べてみた\n",
            "\n",
            "line= kaden-channel\t1\t\t普通の小学生に戻ってほしい？　人気子役の愛菜ちゃんが消えてほしい芸能人１位に\n",
            "\n",
            "line= it-life-hack\t0\t\t先週気になったニュースや話題を振り返る「ITフラッシュバック」\n",
            "\n",
            "line= it-life-hack\t0\t\tiPhone用オモシロアプリからお役立ちアプリまで一挙紹介\n",
            "\n",
            "line= it-life-hack\t0\t\t駆け込み購入で「しまった」を挽回できる！古い液晶テレビを最新にする作戦\n",
            "\n",
            "line= kaden-channel\t1\t\t安全でスタイリッシュ！タイガー電気ケトル「PCD-A型」で賢く節電\n",
            "\n",
            "line= kaden-channel\t1\t\t以前の方が面白かった？　学生が選ぶ「復活してほしいバラエティ」に納得の声\n",
            "\n",
            "line= kaden-channel\t1\t\tどっちが問題？　韓国ロケで激怒する中国人女優と、それをバッシングする韓国人\n",
            "\n",
            "line= it-life-hack\t0\t\t次世代セキュリティソフト「ノートン360 v6」を徹底検証！ITライフハック編集長が使ってみた\n",
            "\n",
            "line= it-life-hack\t0\t\tMacの次期OS「Mountain Lion」の真の狙いとは？ \n",
            "\n",
            "line= kaden-channel\t1\t\t第8回上映 中野 森 監督作品　　　　　 『今日は秋刀魚の日』\n",
            "\n",
            "line= it-life-hack\t0\t\t七夕の願いは済んだ？　短冊に書かれたユニークな願いが話題に\n",
            "\n",
            "line= kaden-channel\t1\t\tこんなに似すぎで大丈夫？　ＧＲＥＥのゲームが名前もイラストもポケモンにそっくり\n",
            "\n",
            "line= it-life-hack\t0\t\t自然とはなんと偉大なんだろう！孫社長″言葉不要の美しさ″\n",
            "\n",
            "line= it-life-hack\t0\t\tおはこんこん！紺子ぬいぐるみ、7月頃に出来上がるよ\n",
            "\n",
            "line= kaden-channel\t1\t\tサムスンWindows8 タブレットが人間の脳波でスケボーを操作する!?　テキサスでおもしろ実験に挑む\n",
            "\n",
            "line= it-life-hack\t0\t\tSafariのリーダー機能をFirefoxで アドオン「Evernote Clearly」\n",
            "\n",
            "line= it-life-hack\t0\t\tWordやExcelでよく使うコマンドをワンクリックで実行する\n",
            "\n",
            "line= it-life-hack\t0\t\t大切な投稿を見逃さない！友達管理が簡単に！個性派Facebookにするテクニックまとめ\n",
            "\n",
            "line= it-life-hack\t0\t\tあなたのiPhoneサクサク動く？　もしダメなら「サクサク for iPhone 改」\n",
            "\n",
            "line= kaden-channel\t1\t\t今度こそ？　バッテリー問題を修正した「iOS 5.0.2」をアップルがリリースか\n",
            "\n",
            "line= kaden-channel\t1\t\tお年賀には映画をプレゼント？　日本初！「映画付年賀状」は365円\n",
            "\n",
            "line= it-life-hack\t0\t\t未来の名プログラマーを育め！中高生150名がアプリ開発にチャレンジ\n",
            "\n",
            "line= kaden-channel\t1\t\tかわいい頑張り屋さんロボ「じゅくすい君」は睡眠時無呼吸症候群の患者を顔をたたいてサポート\n",
            "\n",
            "line= kaden-channel\t1\t\tゆっくりなのがたまにキズ？　「USBあったかオニギリ ウォーマー（USBHTOW1）」に注目\n",
            "\n",
            "line= kaden-channel\t1\t\tPCカメラとしての使用も可能な小型トイデジカメ「GH-TCAM30P」登場\n",
            "\n",
            "line= kaden-channel\t1\t\tドコモも登場で競争がより過熱！？　来年夏にドコモがiPhone参入か\n",
            "\n",
            "line= kaden-channel\t1\t\t連載●After Effects 天国への階段 第9回\n",
            "\n",
            "line= kaden-channel\t1\t\t春だ！モテたい!!　日立マクセル「Ａｎｇｅｌｉｑｕｅ（アンジェリーク）」は第一印象をナントカしてくれるモバイルアイテム\n",
            "\n",
            "line= kaden-channel\t1\t\t家電の不調時に役立つ！　工場出荷時状態へのリセット方法がわかる便利サイト「Factory Reset」\n",
            "\n",
            "line= kaden-channel\t1\t\tパンクを過去のものにする、空気なしタイヤ\n",
            "\n",
            "line= it-life-hack\t0\t\tGeForce GTX 660 Ti搭載PC登場！　ドスパラより新型GPU搭載モデル発売開始\n",
            "\n",
            "line= kaden-channel\t1\t\t毒舌ブームはまだまだ続くか？　テレビに一番多く出た有吉の2012年はどうなる？\n",
            "\n",
            "line= kaden-channel\t1\t\t自分で作れる！　太陽撮影キットを使って、金星の日面通過を観測\n",
            "\n",
            "line= it-life-hack\t0\t\tExcel表をらくらく修正！ドラッグで列の順序を入れ替える\n",
            "\n",
            "line= it-life-hack\t0\t\tいつでもどこでもUltrabook生活！HP「Folio13-1000」のレビューア3名を募集\n",
            "\n",
            "line= it-life-hack\t0\t\tPCの次世代利用モデルを創出へ インテルつくばに新センター開設\n",
            "\n",
            "line= it-life-hack\t0\t\tThinkPad X1風アイソレーションタイプへ！ ThinkPad新シリーズのキーボード一大変更\n",
            "\n",
            "line= it-life-hack\t0\t\t最新スマホに最強兵器が登場！ソフトバンク AQUOS PHONE 104SH対応大容量バッテリー\n",
            "\n",
            "line= it-life-hack\t0\t\tファイル整理に役立つ！　カメラの情報表示\n",
            "\n",
            "line= kaden-channel\t1\t\tロジテック、地震や津波を到達前に知らせる地震警報機能付きラジオを発売\n",
            "\n",
            "line= kaden-channel\t1\t\t真夏の夜のお勧め恐怖監督「ダリオ・アルジェント」\n",
            "\n",
            "line= kaden-channel\t1\t\t重さで容量がわかる！　コンクリートでできたUSBがおもしろい！！\n",
            "\n",
            "line= it-life-hack\t0\t\tFBのカバー部の見栄えをカッコ良く！「Facebook Cover Designer」\n",
            "\n",
            "line= it-life-hack\t0\t\t最新モバイルルーターに強い味方！ドコモ BF-01D用大型大容量バッテリー\n",
            "\n",
            "line= kaden-channel\t1\t\t連載●極・ト書き一行のカット割り! 第9回\n",
            "\n",
            "line= kaden-channel\t1\t\tiPhoneに国産アンドロイドがついに逆襲！　ドコモの「AQUOS PHONE SH-01D」が販売ランキング１位に\n",
            "\n",
            "line= kaden-channel\t1\t\t棒料理が得意？　テレビ出演多数の二股被害者が作る料理が不思議だと話題\n",
            "\n",
            "line= it-life-hack\t0\t\tMac必須アプリの使いこなし術！パソコンの最新情報をチェック\n",
            "\n",
            "line= it-life-hack\t0\t\tLAWSON Wi-Fiが大炎上！　WiFiサービスを使うと友達を無くす規約にTwitterが騒然\n",
            "\n",
            "line= it-life-hack\t0\t\t写真の撮り方がうますぎる！孫社長 桜を詠んだ句と写真が話題\n",
            "\n",
            "line= it-life-hack\t0\t\tソニーのモノ造りの健在を体感できる！技術をぎゅーっと凝縮したソニーのDSC-WX100\n",
            "\n",
            "line= it-life-hack\t0\t\tその真相や如何に！ミクシィ、身売り報道にコメント\n",
            "\n",
            "line= it-life-hack\t0\t\t地デジ＆BS/CSデジタル対応ハイビジョンレコーダーのレビューアー10名を募集\n",
            "\n",
            "line= kaden-channel\t1\t\tポイズンが足りない！　新ＧＴＯは反町版ＧＴＯと何が違うのか\n",
            "\n",
            "line= it-life-hack\t0\t\t2200mAhでわずか65g！GALAXYを最強にするバッテリー内蔵ケース\n",
            "\n",
            "line= kaden-channel\t1\t\t次はアップルは何をする？　今月末の発表会でのテーマは「メディア関係」−　セルフパブリッシングについてとの噂も\n",
            "\n",
            "line= it-life-hack\t0\t\tWindowsトラブル時にデータを救出！Ubuntuの便利な機能アレコレ \n",
            "\n",
            "line= kaden-channel\t1\t\t任天堂「Ｗｉｉ　Ｕ」は年末商戦期に発売決定　−　販売エリアは日米欧豪\n",
            "\n",
            "line= it-life-hack\t0\t\tGoogleドライブで企画や計算書をメンバーと共有\n",
            "\n",
            "line= it-life-hack\t0\t\tスマホで使える驚愕の次世代眼鏡！身に付けられるディスプレイ\n",
            "\n",
            "line= kaden-channel\t1\t\t次世代Xbox 720は年明けすぐに発表か？　この冬買いたいゲーム機をおさらいしよう\n",
            "\n",
            "line= kaden-channel\t1\t\tキャノン７Dを使っての動画撮影に挑戦\n",
            "\n",
            "line= kaden-channel\t1\t\tカシオ「EX-FC200S」でスロー映像で自分のゴルフスイングを分析\n",
            "\n",
            "line= it-life-hack\t0\t\tカワイイは正義！　おかもとまりさんのカワイすぎる顔真似メイキングが反則過ぎる\n",
            "\n",
            "line= it-life-hack\t0\t\tWebページを丸ごと取り込むワザ！知っているとお得なパソコン快適術\n",
            "\n",
            "line= kaden-channel\t1\t\tNTTドコモがイギリスのボーダフォンと事業提携へ\n",
            "\n",
            "line= it-life-hack\t0\t\tケーブルいらずのスマホバッテリ！情報満載の1日を振り返る\n",
            "\n",
            "line= kaden-channel\t1\t\t亀梨和也も「気持ちい〜！」　パナソニックからメンズ用の頭皮ケアアイテムが登場！　\n",
            "\n",
            "line= it-life-hack\t0\t\tふぉっくす紺子だよ！アキバとPC業界を応援します\n",
            "\n",
            "line= it-life-hack\t0\t\tスマホもバッテリーパックもコレ1台でOK！欲張りなマルチ充電器\n",
            "\n",
            "line= it-life-hack\t0\t\tアップル、デベロッパプレビューをリリース！次期Mac OS X「Mountain Lion」が明らかに\n",
            "\n",
            "line= it-life-hack\t0\t\tはるかぜちゃんかっけー！ togetterまとめを使ったはるかぜちゃんからのメッセージ\n",
            "\n",
            "line= kaden-channel\t1\t\tソニー・エリクソンがXperia rayで女性市場をターゲットにした理由　\n",
            "\n",
            "line= kaden-channel\t1\t\t女子から圧倒的な人気！　オシャレでスキャンダルな「ゴシップガール」シーズン１〜３がHuluで一挙公開に\n",
            "\n",
            "line= kaden-channel\t1\t\t元旦深夜０時に「ミラーファイト」新作がYouTubeで公開！\n",
            "\n",
            "line= it-life-hack\t0\t\tストップ違法コピー！ BSA世界ソフトウェア違法コピー調査2011の結果発表\n",
            "\n",
            "line= kaden-channel\t1\t\t「リア充」演出してる？　フェイスブックでのキャラの違いに違和感\n",
            "\n",
            "line= it-life-hack\t0\t\t原因判明！ アップデート中のWindows XPで青画面が続出した「ブルースクリーン祭り」\n",
            "\n",
            "line= kaden-channel\t1\t\tAndroid初心者必見！「女の子のためのアンドロイド講座」がニコ動で公開\n",
            "\n",
            "line= it-life-hack\t0\t\tPCを使いこなす小技が満載！　裏技やOffice系アプリ使いこなしまでを振り返る\n",
            "\n",
            "line= kaden-channel\t1\t\t話題のスポットの撮影に！ペンタックスからアウトドアに最適のデジタル一眼カメラK-30発売\n",
            "\n",
            "line= it-life-hack\t0\t\t117万2132件の動画中最高の1本！ニコニコ動画「第4回動画アワード」グランプリ作品決定\n",
            "\n",
            "line= kaden-channel\t1\t\tスマホでゲリラ豪雨に備える\n",
            "\n",
            "line= it-life-hack\t0\t\t仲間内だけでヒミツの会話　Facebookのグループ機能\n",
            "\n",
            "line= kaden-channel\t1\t\tレゲエの神様ボブ・マーリーの精神を引き継いだライフスタイル・オーディオ待望の日本デビュー\n",
            "\n",
            "line= kaden-channel\t1\t\t何をしたらいいのかわからない！　スマホのセキュリティ対策をしない理由\n",
            "\n",
            "line= kaden-channel\t1\t\t独自開発のローラータイプで３つのケア！　自宅でイオンケアができるオリジナル美顔器「イオンマイエステＩＩ」\n",
            "\n",
            "line= kaden-channel\t1\t\tカシオ、女性向け愛らしいデザインのコンパクトデジカメを発売\n",
            "\n",
            "line= kaden-channel\t1\t\t驚異の重低音ポータブルプレーヤーCreative Zen X-F13\n",
            "\n",
            "line= it-life-hack\t0\t\tなにかが起こるっ！4コマ、もうすぐ100回になるんだよ\n",
            "\n",
            "line= kaden-channel\t1\t\t五輪イヤーの今年、日立「Wooo」の新製品はさらに高画質化、省エネ性アップ\n",
            "\n",
            "line= it-life-hack\t0\t\t川面を流れる花弁の美しさに感動！　散った桜が川面を埋め尽くす光景のあまりの美しさが話題に\n",
            "\n",
            "line= kaden-channel\t1\t\t原因は韓国の勢い　−　ソニーが家庭向け有機ELテレビの販売・製造から撤退 \n",
            "\n",
            "line= kaden-channel\t1\t\tガガ様がNHKを救うか？「第62回NHK紅白歌合戦」に出演決定\n",
            "\n",
            "line= it-life-hack\t0\t\t電源不要でボリュームアップ！？ エコなのに音量増幅できるiPhone用スタンド\n",
            "\n",
            "line= kaden-channel\t1\t\tソーシャル活用でコネを作るのは当たり前？　堂々と縁故採用宣言の岩波書店に「おかしくない」の声\n",
            "\n",
            "line= it-life-hack\t0\t\t「隠れSATAポート」を活用！eSATAによる外付けに挑戦 - 続インテル SSD 520をMacに装着 (上)\n",
            "\n",
            "line= kaden-channel\t1\t\t実験みたい！？あっという間に水道水から炭酸水を作るおもしろソーダメーカー\n",
            "\n",
            "line= kaden-channel\t1\t\tツイッターでストレス発散？　ローラが老人の弁当のおかずを聞かれ「もちーo(^u^)o」\n",
            "\n",
            "line= kaden-channel\t1\t\t「暑い」といえば涼しくなる！世界初の声に反応するエアコン「大清快ＶＯｉＣＥ　ＮＤＲシリーズ」が東芝から発売\n",
            "\n",
            "line= it-life-hack\t0\t\tアナタはどっち派？「谷間」対「太もも」　じわじわ広がる「#女子ふともも晒し祭り」\n",
            "\n",
            "line= it-life-hack\t0\t\t重量を当ててUltrabookをゲット！ NEC LaVie Zの重さ当てクイズ\n",
            "\n",
            "line= kaden-channel\t1\t\tヤマダ電機へ対抗で業界２位へ！　ビックカメラがコジマを買収でポイントはどうなる？\n",
            "\n",
            "line= it-life-hack\t0\t\t次に見れるのは3年後？　先週末に見れたブルームーンが綺麗だと話題に\n",
            "\n",
            "line= kaden-channel\t1\t\tみんな使ってる？　Google＋の国内利用者数は220万人\n",
            "\n",
            "line= it-life-hack\t0\t\t高品質なレッツノートの工場！開発現場並みの検査施設\n",
            "\n",
            "line= it-life-hack\t0\t\t聞こえてきたIVY Bridgeの足音！GIGABYTEがCeBIT 2012でIVY Bridge対応マザーを展示\n",
            "\n",
            "line= kaden-channel\t1\t\t11月号 別冊付録 キヤノン iVIS HF G10 Perfect Book\n",
            "\n",
            "line= it-life-hack\t0\t\tiPhone、iPodの音質が劇的改善！ 「FANTABIT」で音楽に革命を\n",
            "\n",
            "line= it-life-hack\t0\t\tFirefoxの超簡単ブックマーク登録ワザ\n",
            "\n",
            "line= kaden-channel\t1\t\tピカチュウにいつでも会える！　Huluに大人気の「ポケモン」シリーズが初登場!!　キッズも大満足の400話以上が視聴可能に\n",
            "\n",
            "line= it-life-hack\t0\t\tGoogleドライブのファイルをiPhoneからダイレクトに編集する\n",
            "\n",
            "line= it-life-hack\t0\t\t日本最大級のショッピングポータルがオープン！「イオンスクエア」が凄い理由\n",
            "\n",
            "line= kaden-channel\t1\t\t使い方が想像できないと話題！　Googleショッピングで販売中のミシンがすごい\n",
            "\n",
            "line= it-life-hack\t0\t\t古いWiFi環境に追加するだけ！　最大300Mbps通信を可能にする家電用アクセスポイント\n",
            "\n",
            "line= it-life-hack\t0\t\t必要なファイルを素早く取り出すマル秘ワザ\n",
            "\n",
            "line= kaden-channel\t1\t\tシンプルが一番—シャープ空気清浄機FU-A51\n",
            "\n",
            "line= kaden-channel\t1\t\tスタイリッシュな男性と、きらめく女性向け！　パナソニックグループ、単３形・単４形「エネループ　トーンズ　ウォモ／ルージュ」を限定発売\n",
            "\n",
            "line= it-life-hack\t0\t\t正論。でもしんどいときもある！孫社長「人生は己の判断で決めるべき」\n",
            "\n",
            "line= it-life-hack\t0\t\tトラブル解決に役立つMSのサイト！Windows Sysinternals TechCenter\n",
            "\n",
            "line= it-life-hack\t0\t\tPSPソックリのAndroid端末が登場！レッドスター、携帯ゲーム機「JXD 5000」を販売へ\n",
            "\n",
            "line= kaden-channel\t1\t\t本格的なみそ汁をマルコメがサポート！　バージョンアップした小型みそ汁サーバーと新具材が販売開始\n",
            "\n",
            "line= kaden-channel\t1\t\tあなたのIDは大丈夫？　「楽天ポイント」の不正利用問題、被害規模は拡大か\n",
            "\n",
            "line= it-life-hack\t0\t\tこんこん、ふぉっくす紺子です！MMD動画、配信中です\n",
            "\n",
            "line= it-life-hack\t0\t\tバックアップをより手軽に便利に！　最新バックアップソフトの試用企業を募集\n",
            "\n",
            "line= it-life-hack\t0\t\tこれを付ければ速くなる！？　AMDプラットフォームに最適化されたメモリー登場\n",
            "\n",
            "line= kaden-channel\t1\t\t家の外装になじむシックな地デジアンテナ—マスプロ電工『スカイウォーリーＵ２ＳＷＬ２０』新登場\n",
            "\n",
            "line= it-life-hack\t0\t\t芸能・ゴシップネタはこちら！ ITライフハックでは読めない話題は三面貴族で読もう！\n",
            "\n",
            "line= kaden-channel\t1\t\tスマホを自分で除菌するのが新常識に！？　手軽な小型紫外線滅菌器「UVサニタイザー」がオススメ\n",
            "\n",
            "line= kaden-channel\t1\t\tMOOK「デジタルムービー実践ガイドブック」映像リンク情報\n",
            "\n",
            "line= kaden-channel\t1\t\tケータイでテレビを見るのは当たり前「ひかりTV」が年内にモバイル専用プラン開始\n",
            "\n",
            "line= it-life-hack\t0\t\t面白い生放送がわかる新機能　ニコ生の「ルーキーランキング」と「Tweetまとめ」を試した\n",
            "\n",
            "line= it-life-hack\t0\t\tiPhone撮影の手ブレを防ぐ！ iPhone用のシャッター延長アクセサリー\n",
            "\n",
            "line= it-life-hack\t0\t\tこんこん、ふぉっくす紺子だよ！踊ってる紺子動画も見に行ってね\n",
            "\n",
            "line= it-life-hack\t0\t\tユニークなアイデアが満載！目からウロコの商品しか売らないショップ\n",
            "\n",
            "line= it-life-hack\t0\t\t脳トレしたい人にオススメ！NumberLink – Sudoku style game\n",
            "\n",
            "line= kaden-channel\t1\t\t10月11日〜16日に一番売れたデジカメはキャノン「IXY 600F」\n",
            "\n",
            "line= kaden-channel\t1\t\tハンサムな夫婦のための子育て電動自転車に新色が新発売—ブリジストン「HYDEE.B（ハイディビー）」\n",
            "\n",
            "line= it-life-hack\t0\t\tPCとはちょっと違うAndroidにおけるROMとRAMの意味！  Android端末の選び方\n",
            "\n",
            "line= kaden-channel\t1\t\tこれは便利！　iPhoneにキーボードを付けられるケースが登場\n",
            "\n",
            "line= kaden-channel\t1\t\t中国における日本文化が解禁。日本アニメが正規配信され中国で大ブーム\n",
            "\n",
            "line= kaden-channel\t1\t\tSANYOの歴史終わる……今後はパナソニックに統合\n",
            "\n",
            "line= kaden-channel\t1\t\tタイ洪水被害でパソコン、デジタルカメラ生産に影響\n",
            "\n",
            "line= it-life-hack\t0\t\t蘇れ青春！俺のオリジナル編集MDをスマホで聞いてくれ計画\n",
            "\n",
            "line= it-life-hack\t0\t\tDL罰則化の動きが気になる！　ネットで盛り上がった話題を振り返る\n",
            "\n",
            "line= kaden-channel\t1\t\tKDDIがiPhone向けアプリ「auお客さまサポート」 をリリース\n",
            "\n",
            "line= kaden-channel\t1\t\tこれなら手が届く！　2万円以下の家庭用放射線計測器大集合\n",
            "\n",
            "line= kaden-channel\t1\t\tもうひと息、ホームメイドアイスで猛暑を乗り切れ！アイスクリームメーカー特集\n",
            "\n",
            "line= it-life-hack\t0\t\tなるほど、そういうことか！Googleロゴが写真である理由\n",
            "\n",
            "line= it-life-hack\t0\t\t大人のユーモア、大人の対応ですね！孫社長が自分の髪の毛にコメント\n",
            "\n",
            "line= it-life-hack\t0\t\t最新PLC規格は最大240Mbps！　アイ・オー・データ機器より第3世代HD-PLCアダプター\n",
            "\n",
            "line= it-life-hack\t0\t\tExcelで5ずつ増える数を入力！Excelで意外と知らない便利ワザ\n",
            "\n",
            "line= it-life-hack\t0\t\t1万4千円を切るAndroid4.0タブレット　激安なAndroid4.0搭載7インチタブレット登場\n",
            "\n",
            "line= kaden-channel\t1\t\tトイレでお小遣い稼ぎができるかも？　自分のトイレを有料で貸し出すアプリ\n",
            "\n",
            "line= it-life-hack\t0\t\t本体なしでも育成とゲームが可能！ スマートペット育成記 （2）\n",
            "\n",
            "line= it-life-hack\t0\t\tわずか7分で散会！ 改正著作権法案が参院文教科学委員会を通過し本会議へ！\n",
            "\n",
            "line= it-life-hack\t0\t\t日経新聞のiPad専用アプリが登場！新聞の読み方はどう変わるのか\n",
            "\n",
            "line= it-life-hack\t0\t\t日本の伝統を学べるiPhoneアプリ！折り紙の折り方を学べる“おりがみ”\n",
            "\n",
            "line= kaden-channel\t1\t\t雷対策でパソコンを守ろう\n",
            "\n",
            "line= it-life-hack\t0\t\tおはこんです！紺子のＭＭＤ動画が流れる予定ですっ\n",
            "\n",
            "line= kaden-channel\t1\t\t電磁波が原因！あなたはの体調不良は「電磁波過敏症」かも？\n",
            "\n",
            "line= kaden-channel\t1\t\t４つのアイテムでスタイリング！　いつもの写真をワンランクアップしてかわいい写真を撮る方法\n",
            "\n",
            "line= it-life-hack\t0\t\t本日のGoogleロゴはテーブルテニス　Googleロゴがスポーツ関連画像に変化第四弾\n",
            "\n",
            "line= kaden-channel\t1\t\tEDIUS 3D プレビューバージョン テスター募集のお知らせ\n",
            "\n",
            "line= kaden-channel\t1\t\t開業まであと少し！　東京スカイツリーと星空をお風呂でも楽しめる『ＨＯＭＥＳＴＡＲ　ＡＱＵＡ東京スカイツリー（Ｒ）　粋風／雅風』\n",
            "\n",
            "line= it-life-hack\t0\t\tいい大人が癒やされたくなった！ スマートペット育成記 （1）\n",
            "\n",
            "line= it-life-hack\t0\t\t個性派Facebookにしよう！　みんなと違う背景にする方法\n",
            "\n",
            "line= kaden-channel\t1\t\tUSBとシガーソケット電源対応加湿器GH-USB-MISTM\n",
            "\n",
            "line= it-life-hack\t0\t\t緊急速報！ちょっとしたアクシデントも発生！最強の電子ブックリーダー「kobo Touch」開封レポ\n",
            "\n",
            "line= kaden-channel\t1\t\t美人過ぎる低周波治療器!?　アクセサリー感覚の「ネックリフレ」新発売\n",
            "\n",
            "line= it-life-hack\t0\t\tタブの多段表示やウィンドウのシングル表示　Firefoxを強化しよう\n",
            "\n",
            "line= kaden-channel\t1\t\t過去３００年の新聞をすべてアーカイブ！　大英国図書館が有料サービスを開始\n",
            "\n",
            "line= it-life-hack\t0\t\t納得いかない写真は見せない！　Facebookのタグ付き写真は承認する\n",
            "\n",
            "line= it-life-hack\t0\t\tHDD内を徹底調査！PageDefragのお供に最適なDiskView\n",
            "\n",
            "line= it-life-hack\t0\t\tFacebookに潜む「乗っ取り」のリスク！　SNS対策レポートをソースネクストが公表\n",
            "\n",
            "line= kaden-channel\t1\t\t人気のエネループにおいしそうなシリーズが限定登場！\n",
            "\n",
            "line= kaden-channel\t1\t\tトレッキング用ストックがカメラの一脚にも２００−ＣＡＭ０１７\n",
            "\n",
            "line= it-life-hack\t0\t\tイザというときのZohoがパワーアップ！ZohoのオフィスシリーズがGoogleドライブと連携\n",
            "\n",
            "line= kaden-channel\t1\t\t嘘泣きじゃない！　柳美里が北朝鮮市民の涙のワケを解説\n",
            "\n",
            "line= kaden-channel\t1\t\tブラックマジックデザイン、Final Cut Pro X 10.0.3ブロードキャストモニタリングに対応\n",
            "\n",
            "line= kaden-channel\t1\t\t使うほど髪にハリツヤ、モッズ・ヘアサロンのドライヤー\n",
            "\n",
            "line= kaden-channel\t1\t\t今年は満を持して新製品ラッシュ？ソニーからデジタル一眼カメラ“α”（アルファ）シリーズ発売\n",
            "\n",
            "line= it-life-hack\t0\t\t衆院を通過しカウントダウン開始！　違法ダウンロード刑罰化改正法案\n",
            "\n",
            "line= kaden-channel\t1\t\t復帰間近か？　宇多田ヒカルの活発なツイッターに注目\n",
            "\n",
            "line= it-life-hack\t0\t\tiPadでオリンピックを見よう！地デジを無線化して、どこでもテレビだ\n",
            "\n",
            "line= kaden-channel\t1\t\t人間より丁寧に掃除！賢さがアップした「ルンバ700シリーズ」\n",
            "\n",
            "line= kaden-channel\t1\t\t2012年はモバイルプロジェクター元年！　新時代のプロジェクターはこんなに進化している！\n",
            "\n",
            "line= it-life-hack\t0\t\t新しいウィンドウを素早く開いて次の作業を開始\n",
            "\n",
            "line= kaden-channel\t1\t\tスマホで熱中症を避ける\n",
            "\n",
            "line= it-life-hack\t0\t\tスマホやタブレットの活用グッズが満載！　バッテリー切れから車載対応までイケショップで解決！\n",
            "\n",
            "line= kaden-channel\t1\t\t子どもだけにはもったいない！　トイストーリーの世界を体験できそうなカメラ付きミニカー\n",
            "\n",
            "line= it-life-hack\t0\t\tiPad/iPhoneの文字入力を快適に！Bluetooth対応ワイヤレスキーボード\n",
            "\n",
            "line= it-life-hack\t0\t\tあなたの銀行は大丈夫？「SpyEye」が銀行を狙ってる！\n",
            "\n",
            "line= kaden-channel\t1\t\t豪徳寺美鈴お気に入りのレンジはなに？　「Kiss」で連載スタートの「家電の女」を読んでみた\n",
            "\n",
            "line= kaden-channel\t1\t\t３D映像にハマる！ソニーのゴーグル型ディスプレイHMZ-T1\n",
            "\n",
            "line= kaden-channel\t1\t\t1kW当たり全国平均より約20万円お得—激安！太陽光発電プラン\n",
            "\n",
            "line= it-life-hack\t0\t\t話題のスマホに最適な高級ケース！AQUOS PHONE SoftBank 103SH用ケース\n",
            "\n",
            "line= kaden-channel\t1\t\t速い！　進化したオートフォーカスは0.1秒！！　リコーが「CX6」を発売\n",
            "\n",
            "line= kaden-channel\t1\t\tダブルスロットで2枚同時記録可能なHDカメラJVC GY-HM150\n",
            "\n",
            "line= kaden-channel\t1\t\t虐待だ！の声多数、日テレで人気のワンコが声帯除去手術を受けていた事実に非難殺到\n",
            "\n",
            "line= it-life-hack\t0\t\t今日は、そういう日だったのか！Googleロゴが馬の写真である理由\n",
            "\n",
            "line= kaden-channel\t1\t\t薄型テレビ：アーリーアダプターは買い替えの季節か？\n",
            "\n",
            "line= kaden-channel\t1\t\tアンドロイドアプリを徹底解説！「Appmax」がデザインを一新\n",
            "\n",
            "line= it-life-hack\t0\t\t「なつき度」アップで要求が次々！ スマートペット育成記 (3)\n",
            "\n",
            "line= it-life-hack\t0\t\tテレビ電話にもなる！ iPad対応のBluetoothキーボードとハンドセット\n",
            "\n",
            "line= kaden-channel\t1\t\tやっぱりマリオはスーパーだった？　任天堂をマリオが救う！\n",
            "\n",
            "line= it-life-hack\t0\t\tUltrabookで使えるポータブルBD！パイオニアの世界最小・最軽量のBD/DVD/CDライターの性能に驚愕\n",
            "\n",
            "line= it-life-hack\t0\t\t「Ubuntu One」はLinux対応 楽曲ストリーミング対応のクラウド\n",
            "\n",
            "line= it-life-hack\t0\t\tラジオ会館×カムイがコラボ！ふぉっくす紺子ちゃんが応援\n",
            "\n",
            "line= it-life-hack\t0\t\t作りたいのは碁盤目のような表ばかりじゃない！　Wordの表を自由自在に編集\n",
            "\n",
            "line= kaden-channel\t1\t\tアメリカではすでに導入の「グーグルショッピング」ってなに？\n",
            "\n",
            "line= it-life-hack\t0\t\tスマホでシャッター＋デジタル一眼レフ画質のAPS HDセンサー搭載ミラーレスデジ一眼「NEX-5R」を発表\n",
            "\n",
            "line= kaden-channel\t1\t\t「韓流ばかり」「すべてがゴリ押し」テレビを見なくなった理由は？\n",
            "\n",
            "line= kaden-channel\t1\t\t自覚のなさにびっくり！　AKB脱退騒動から見るソーシャルメディアの危険\n",
            "\n",
            "line= it-life-hack\t0\t\tWindowsをより快適に使うノウハウ集\n",
            "\n",
            "line= it-life-hack\t0\t\tダウンロードよりもCDの方が便利 これからもCDを買い続ける理由\n",
            "\n",
            "line= kaden-channel\t1\t\t第11回上映 小田 学 監督作品 『二人』\n",
            "\n",
            "line= it-life-hack\t0\t\tニコニコ超会議振り返り①　本気（マジ）の痛車のスゴさを実感\n",
            "\n",
            "line= it-life-hack\t0\t\tニコニコ超会議の来場者が9万人超え、配信での来場者は347万人超\n",
            "\n",
            "line= it-life-hack\t0\t\t液晶を開けて自動復帰と電源入り パソコンの使い勝手を改善 \n",
            "\n",
            "line= kaden-channel\t1\t\tおサイフケータイで体重と血圧データをウェブサイトのアカウントにお手軽転送\n",
            "\n",
            "line= kaden-channel\t1\t\tホワイトボードは大きなタッチスクリーン、しかもUSBバスパワー！—パナソニック電子黒板「エリート　パナボード」\n",
            "\n",
            "line= it-life-hack\t0\t\tWordで何行書いたかひと目でわかるようにする方法\n",
            "\n",
            "line= kaden-channel\t1\t\tスマホで選んだ話題を印刷！　イギリス発の小さなプリンターがかわいい\n",
            "\n",
            "line= it-life-hack\t0\t\tより低消費電力なCPUにも対応！　ZOTACのmini-ITXマザーがXeon E3シリーズをサポート\n",
            "\n",
            "line= it-life-hack\t0\t\t生命の勢いを感じます！孫社長″厳しい日々の後にも春は必ず来る″\n",
            "\n",
            "line= it-life-hack\t0\t\tこれはなんでしょう？　iPhoneならではのユニークアイテム\n",
            "\n",
            "line= it-life-hack\t0\t\tFacebookドリームから飛び出した19歳！驚くほどパワフルな写真の秘密を探る\n",
            "\n",
            "line= kaden-channel\t1\t\t憧れのオシャレ家電をお得にゲット！　「アマダナ」福袋2012予約受付スタート\n",
            "\n",
            "line= it-life-hack\t0\t\tハードルが高いダブルすれちがい ドラクエXですれちがいは盛り上がるか?\n",
            "\n",
            "line= it-life-hack\t0\t\tお得に購入できる裏技あり！楽天の書籍端末が凄い5つの理由\n",
            "\n",
            "line= kaden-channel\t1\t\t日本が好きすぎる外国人IT集団がおもしろビデオで求人募集！\n",
            "\n",
            "line= it-life-hack\t0\t\tユニークな両面液晶PC！次世代PCを見たCOMPTEXから変化があった新型ThinkPadまで\n",
            "\n",
            "line= kaden-channel\t1\t\tコミック150巻が収納できる！　雑誌や写真集も楽しめる7型最軽量クラスの電子ブックリーダー東芝BookPlace DB50\n",
            "\n",
            "line= it-life-hack\t0\t\tスマホ対応も進んで続々と機能アップ！進化するクラウド型ストレージサービス\n",
            "\n",
            "line= it-life-hack\t0\t\tハイスペックのグラフィックスを搭載！マウスコンピューター、コスパに優れた高性能ゲームPCを発売\n",
            "\n",
            "line= it-life-hack\t0\t\t直感的に使えるマジックリモコン！LG、3D対応の液晶テレビ「LG Smart TV」が凄い\n",
            "\n",
            "line= kaden-channel\t1\t\t連載●After Effects 天国への階段 第8回\n",
            "\n",
            "line= kaden-channel\t1\t\t居眠り運転を事前に防ぐ！　運転中の目の動きで居眠り検知、iPhoneが起こしてくれる\n",
            "\n",
            "line= it-life-hack\t0\t\tデータ整理に役立つ！　Excelで大量の連番をまとめて入力\n",
            "\n",
            "line= kaden-channel\t1\t\tiPhone4Sの通信速度が違う？　auとソフトバンクの差\n",
            "\n",
            "line= it-life-hack\t0\t\tネットがなくても動画がスイスイ見られるスグレモノ\n",
            "\n",
            "line= kaden-channel\t1\t\tお気に入りのコスプレをいつでも鑑賞！　日本最大のコスプレコミュニティサイト「Cure」 がアンドロイド向けアプリをリリース\n",
            "\n",
            "line= kaden-channel\t1\t\t声に反応！　東芝の「VoiPY」で電化製品を声でコントロール\n",
            "\n",
            "line= it-life-hack\t0\t\t七人の侍によって開発された新素材！　NECのLaVie Zで使われた新素材の開発秘話\n",
            "\n",
            "line= kaden-channel\t1\t\tほぼ２人に１人はスマホ持ち！　アメリカでのスマホ普及が広がる\n",
            "\n",
            "line= it-life-hack\t0\t\tある日突然犯罪者扱いに？　無許可ダウンロードの罰則化が引き起こす問題\n",
            "\n",
            "line= kaden-channel\t1\t\tまるでお抱えＤＪ！快適に踊り続けるための音楽プレーヤー新発売\n",
            "\n",
            "line= it-life-hack\t0\t\tスマホからもアクセスできるNAS！アイ・オー・データ機器の高速NASのレビューアー10名を募集\n",
            "\n",
            "line= it-life-hack\t0\t\t一粒で三度おいしい虚構新聞！　一連の騒動に関する検証を掲載\n",
            "\n",
            "line= it-life-hack\t0\t\tお気に入り写真がアイコンに！　写真フォルダー分類術\n",
            "\n",
            "line= kaden-channel\t1\t\t白物家電はやっぱり店頭買いが主流！　洗濯機のネット通販はたった3.2％\n",
            "\n",
            "line= kaden-channel\t1\t\t着脱式ソーラーパネル搭載、外出先で充電できるメンズバッグシリーズ「HALOS」\n",
            "\n",
            "line= it-life-hack\t0\t\tスマホでカーナビを実現！純正ドリンクホルダーがスマホホルダーに早変わり\n",
            "\n",
            "line= it-life-hack\t0\t\tオリンピック期間中は毎日更新？　Googleロゴがスポーツ関連画像に変化！\n",
            "\n",
            "line= kaden-channel\t1\t\t視聴率は上がるか？　それともお茶の間が凍りつくか？　NHK大河が視聴率回復へ向けて濡れ場投入\n",
            "\n",
            "line= it-life-hack\t0\t\t世界一周に挑戦する学生にiPadを贈る！孫社長の粋なはからいに感動の嵐\n",
            "\n",
            "line= kaden-channel\t1\t\tAKB48公式プロバイダサービス登場！　メンバーと赤ちゃんが作れる面白コンテンツが話題に\n",
            "\n",
            "line= kaden-channel\t1\t\t音の編集講座「ステレオとモノラル」\n",
            "\n",
            "line= kaden-channel\t1\t\t８２０億！　フェイスブックが画像共有サービス「インスタグラム」を買収\n",
            "\n",
            "line= it-life-hack\t0\t\tふぉっくす紺子だよ！完売の声がぞくしゅつちゅう\n",
            "\n",
            "line= it-life-hack\t0\t\tこれじゃない感バリバリ！　ファミマの初音ミクコラボ肉まんが話題に\n",
            "\n",
            "line= kaden-channel\t1\t\t大ヒットのiPhone4Sが年末までに世界での販売エリアを大幅拡大\n",
            "\n",
            "line= it-life-hack\t0\t\tニコニコ動画：Zero地味に改善中！　動画視聴用の「ZeroWatch」新バージョンにアップデート\n",
            "\n",
            "line= it-life-hack\t0\t\tまたひとつサービスが消える！ドコモwebメールを終了する理由\n",
            "\n",
            "line= it-life-hack\t0\t\tダウンロードカードも販売！ 任天堂によるソフトダウンロード販売の詳細が明らかに\n",
            "\n",
            "line= it-life-hack\t0\t\tAKB48の広告が動き出す HPのAR広告キャンペーン\n",
            "\n",
            "line= kaden-channel\t1\t\t寒い冬はヒーター付きのマフラーであたたかに！　無印良品から「充電式マフラー」登場\n",
            "\n",
            "line= it-life-hack\t0\t\t海外でも快適インターネット！KDDI、「au Wi-Fi SPOT」のサービスを拡充\n",
            "\n",
            "line= it-life-hack\t0\t\tあと40cm高い津波で原発事故？孫社長が明かした東海村の怖い話\n",
            "\n",
            "line= it-life-hack\t0\t\t美しさが際立つ新Xperiaが発売へ！ドコモ、Xperia NX SO-02Dが凄い\n",
            "\n",
            "line= kaden-channel\t1\t\tナチュラルライトの活用でブログにもっと魅力的な写真を！　ブログ用撮影のヒント\n",
            "\n",
            "line= kaden-channel\t1\t\t音声で危険を知らせてくれるコンロは忙しい人にもおすすめ！—アイリスオーヤマ『ガラストップＩＨクッキングヒーター音声タイプ』\n",
            "\n",
            "line= kaden-channel\t1\t\t地球の未来に参加しよう！　ネットで地球サミットに自分の意見を届けるチャンス\n",
            "\n",
            "line= kaden-channel\t1\t\t今年一番秋葉でがんばったのはだれ？　PC萌えキャラ人気コンテスト投票開始\n",
            "\n",
            "line= kaden-channel\t1\t\tQRコードが照明になった「Wooden QR Code Stool」がおしゃれすぎる\n",
            "\n",
            "line= kaden-channel\t1\t\tいったいナゼ？　ヤマダ電機が苦戦の理由\n",
            "\n",
            "line= kaden-channel\t1\t\t家族でもっと楽しめる「未来型料理生活」をチェック\n",
            "\n",
            "line= it-life-hack\t0\t\tアナタはこの誘惑に耐えられるか？　猫の肉球だけ集めた写真がスゴイ\n",
            "\n",
            "line= kaden-channel\t1\t\tキーワードはスカパー！この秋パナソニック、シャープ、ソニーからブルーレイレコーダー新機種が続々登場\n",
            "\n",
            "line= kaden-channel\t1\t\tネットの炎上で有料メルマガが人気に！　有名飲食店経営者に非難集中【話題】　\n",
            "\n",
            "line= it-life-hack\t0\t\t石より早く土台が登場！　IVY Bridge対応チップセット「Intel 7シリーズ」解禁！\n",
            "\n",
            "line= it-life-hack\t0\t\tiPhoneアプリを子どもが勝手に使えないようにする\n",
            "\n",
            "line= kaden-channel\t1\t\t連載●一眼流映像表現術 第21回\n",
            "\n",
            "line= it-life-hack\t0\t\tiPad対抗のMSタブレットって何？マイクロソフトの秘策を振り返る\n",
            "\n",
            "line= kaden-channel\t1\t\t新技術４Kに集まる注目と期待！　４Kテレビは家庭に普及するのか？\n",
            "\n",
            "line= it-life-hack\t0\t\tモックアップで製品を選べる？ 古い手法で販売されるスマホ\n",
            "\n",
            "line= it-life-hack\t0\t\tTwitterの影響力マジパねぇ！　東大駒場校舎で行われた無料耳かきサービスに人だかり\n",
            "\n",
            "line= it-life-hack\t0\t\t本日のGoogleロゴは棒高跳　Googleロゴがスポーツ関連画像に変化第六弾\n",
            "\n",
            "line= kaden-channel\t1\t\t放射線計測の基礎知識をおさらいしてみよう\n",
            "\n",
            "line= kaden-channel\t1\t\t気をつけて！　スマホの普及で駅での事故が過去最悪か\n",
            "\n",
            "line= kaden-channel\t1\t\tお金が欲しい！　ウィキペディアが寄付を募るも日本からの寄付は世界最低レベル\n",
            "\n",
            "line= it-life-hack\t0\t\t今週末は北海道へGo！　ニコニコ町会議in 北海道長万部町の詳細決定\n",
            "\n",
            "line= it-life-hack\t0\t\tネタにマジレス何それ痛い！　Twitter義務化のパロディニュースに釣られる人続出！\n",
            "\n",
            "line= it-life-hack\t0\t\t今後のアップデートに期待！ 無料期間後も課金する人が大多数のドラクエX \n",
            "\n",
            "line= kaden-channel\t1\t\tランニングのお供に。ソニーからヘッドホン一体型ウォークマン「ＮＷＤ−Ｗ２６３」発売 へ\n",
            "\n",
            "line= kaden-channel\t1\t\tおもちゃじゃない！　脳波で動く「necomimi（ネコミミ）」の仕組みを開発者に聞いてきました\n",
            "\n",
            "line= it-life-hack\t0\t\tこれは気づかなかった！古いノートPCがWebテレビに格安で変身する裏技\n",
            "\n",
            "line= kaden-channel\t1\t\tフルカラーしかも無線対応—史上最強のペンライト「ルミコネ」\n",
            "\n",
            "line= it-life-hack\t0\t\t毅然とした態度で臨んでいく！グリー田中社長が訴訟の判決にコメント\n",
            "\n",
            "line= it-life-hack\t0\t\tWord文章の重要部分に蛍光ペンでマークする\n",
            "\n",
            "line= kaden-channel\t1\t\t10月11日〜16日に一番売れたＢＤレコーダーは「ブルーレイディーガ BRT300」\n",
            "\n",
            "line= it-life-hack\t0\t\tWindows 8優待購入プログラム解禁！　ドスパラなら1,200円でWindows 8にアップグレード\n",
            "\n",
            "line= it-life-hack\t0\t\tWordで表の列幅や行幅をピッタリ微調整する\n",
            "\n",
            "line= kaden-channel\t1\t\t家電チャンネルの記事も配信！向かうところ敵なしのスマホアプリ「ITニュース by livedoor ニュース」 \n",
            "\n",
            "line= kaden-channel\t1\t\t「これからは電子書籍かな？」　中日マスコットのドアラが「コアラ坂」リリースへ\n",
            "\n",
            "line= kaden-channel\t1\t\tデジタル双眼鏡はビデオカメラの進化形なのか？\n",
            "\n",
            "line= it-life-hack\t0\t\t超豪邸の賃料が3〜4万円！？　中国で借りた家の賃料が安いと話題に！\n",
            "\n",
            "line= kaden-channel\t1\t\t電子書籍市場をこっそり支えるのは女の子のエッチな願望？\n",
            "\n",
            "line= kaden-channel\t1\t\t知らなきゃソン！　知ってるだけで得をする「賢い家電の買い方」大研究\n",
            "\n",
            "line= it-life-hack\t0\t\t知りたいニュースがここにある！職業別最新ITニュース活用法\n",
            "\n",
            "line= it-life-hack\t0\t\t例のあのメニューも！ニコニコ超会議のフードコートメニュー14種類紹介（後半）\n",
            "\n",
            "line= kaden-channel\t1\t\t空前の子役ブームに衝撃？　大橋のぞみ引退から見る子役の引き際とは\n",
            "\n",
            "line= kaden-channel\t1\t\tiPadの独占が終了！　アンドロイドの追撃に市場シェアが96％から67％に大幅ダウン\n",
            "\n",
            "line= kaden-channel\t1\t\t家のテレビで簡単にHuluを楽しむ！「WD TVR Liveストリーミングメディアプレーヤー」を使ってみた\n",
            "\n",
            "line= it-life-hack\t0\t\t便利と危険は背中合わせ！BIOSロックでデータ盗み取りを防げ\n",
            "\n",
            "line= kaden-channel\t1\t\tFacebook投稿で原因発覚？　イタリアの豪華客船、船長がいいとこ見せたくて事故か？\n",
            "\n",
            "line= it-life-hack\t0\t\tクラウドより便利で速い！安全！大容量！デュアルHDDで大事なデータを守る必殺技\n",
            "\n",
            "line= it-life-hack\t0\t\tUltrabookのその先へ COMPTEX で次世代パソコンが見えた\n",
            "\n",
            "line= it-life-hack\t0\t\t関西の3G回線の実用度をチェック！ うらやまし過ぎる3GとWiMAXの使い分けができる通信環境\n",
            "\n",
            "line= it-life-hack\t0\t\tデジタルガジェット新製品は？　6月の大規模展示会複数開催で発表あるか？\n",
            "\n",
            "line= kaden-channel\t1\t\tソニーの「4Kホームシアタープロジェクター」で映画館の臨場感を\n",
            "\n",
            "line= kaden-channel\t1\t\t「サンタが手足を置いていく」乙武洋匡のツイッターに戸惑い\n",
            "\n",
            "line= kaden-channel\t1\t\tニッポン放送で明日「Windows Phone祭り」が開催！\n",
            "\n",
            "line= kaden-channel\t1\t\t自分好みのお店が必ず見つかると噂のソーシャルグルメサイト「Retty」ってなに？\n",
            "\n",
            "line= kaden-channel\t1\t\t11月号付録 キヤノン iVIS HF G10 Perfect Book 丸かじりダウンロード\n",
            "\n",
            "line= kaden-channel\t1\t\t知らない間にみんなはげっそり！　自慢症候群がまわりに疲労を生んでいる\n",
            "\n",
            "line= kaden-channel\t1\t\tすっぴんで写ってもコフレドールの色味でメイクしてくれるパナソニック「ＬＵＭＩＸ　ＤＭＣ−ＦＸ８０」—コラボキャンペーンのヒミツが2月16日から解禁\n",
            "\n",
            "line= kaden-channel\t1\t\t恋愛禁止に疑問！　AKBメンバーが「恋愛したらほぼ失職ってすごいな」とGoogle＋でコメント\n",
            "\n",
            "line= kaden-channel\t1\t\t年末商戦大ピンチ！タイの大洪水でHDDの価格高騰、品不足の恐れ\n",
            "\n",
            "line= it-life-hack\t0\t\tウィンドウを閉じずにデスクトップのアイコンを操作するマル秘ワザ\n",
            "\n",
            "line= it-life-hack\t0\t\t揃いの色や柄、オリジナルプリントで一体感！ポロシャツのプロが運営するユニフォームタウン\n",
            "\n",
            "line= it-life-hack\t0\t\tiPhoneやスマホにLINEキャラをデコレーション！　LINEキャラステッカーと目を保護するシート\n",
            "\n",
            "line= kaden-channel\t1\t\t露出を理解してクリエイティブな写真を撮る！プロのテクに近づく露出を学ぶ\n",
            "\n",
            "line= kaden-channel\t1\t\t次世代PSなのか!? 部屋と一体になる映像システムのコンセプト映像公開—ソニー\n",
            "\n",
            "line= kaden-channel\t1\t\tソニー、ＢＡ・ドライバーユニット搭載の密閉型インナーイヤーヘッドホンを発売\n",
            "\n",
            "line= it-life-hack\t0\t\t現実的では無い！孫社長 Twitter読者の発言に反論\n",
            "\n",
            "line= kaden-channel\t1\t\t「老後どうすんの？」さんまの質問にメッシが激怒！　テレビが凍りついた瞬間\n",
            "\n",
            "line= it-life-hack\t0\t\tドデカクーラー登場！　ZALMANより6本ヒートパイプの巨大CPUクーラー\n",
            "\n",
            "line= it-life-hack\t0\t\t米テレビ番組がiPhone工場に潜入！\n",
            "\n",
            "line= kaden-channel\t1\t\tブラックマジックデザイン、Thunderbolt対応のIntensity Shuttleを発売\n",
            "\n",
            "line= it-life-hack\t0\t\tFacebook使いこなしも指南！ Office系ネットサービスの使い方まで使い方指南\n",
            "\n",
            "line= kaden-channel\t1\t\t事実上不可能か　ハッカー集団が「3月31日にインターネットをダウンさせる」と予告\n",
            "\n",
            "line= kaden-channel\t1\t\tアートをもっと楽しむ！　キース・へリング展にARが採用される\n",
            "\n",
            "line= kaden-channel\t1\t\tアウトドア＆モバイル移動放送局\n",
            "\n",
            "line= kaden-channel\t1\t\tパナソニックが節電指南！「エコナビ」イベントで家電のムダと節電のヒントを紹介\n",
            "\n",
            "line= it-life-hack\t0\t\tダウンロード版ゲームはお得に購入できるのか？ 新たに始まった任天堂のダウンロード版ゲーム\n",
            "\n",
            "line= it-life-hack\t0\t\tアナタはもう見た金環食？　あいにくの天気だった人はネットで楽しもう！\n",
            "\n",
            "line= it-life-hack\t0\t\t安価に作るマルチディスプレイ環境　独自拡張のグラボ「「FLEX HD7770 GHZ EDITION」\n",
            "\n",
            "line= kaden-channel\t1\t\tロボットに洗ってもらってリフレッシュ！　パナソニックが洗髪などを行える「ヘッドケアロボット」の試用運用を開始\n",
            "\n",
            "line= it-life-hack\t0\t\tガジェット使い方新提案！　小技の効いたハイテク家電使いこなし術\n",
            "\n",
            "line= kaden-channel\t1\t\tクリスマスはテレビを見よう！　２３日はNHKスペシャル「世界を変えた男 スティーブ・ジョブズ」が放送に\n",
            "\n",
            "line= it-life-hack\t0\t\t残暑見舞い挨拶の簡単挿入や書式の再利用　文書をカッコ良く効率的に作るWordの小技集\n",
            "\n",
            "line= kaden-channel\t1\t\t野球の次は中国市場でも勢いを見せる！　モバゲーが中国スマホに標準搭載へ\n",
            "\n",
            "line= kaden-channel\t1\t\tかわいい姿に怒れない！ねこ界のブーム「ごめん寝」はネットでも話題に\n",
            "\n",
            "line= it-life-hack\t0\t\tこれは商品化して欲しい！　テニプリベースのイヤホンジャックカバー\n",
            "\n",
            "line= it-life-hack\t0\t\t出演者は130人超、前夜祭も開催！ 真夏のダンマス4は超熱い！\n",
            "\n",
            "line= kaden-channel\t1\t\t電気自動車に大注目！　イオンも参入し、充電サービスなどを積極化\n",
            "\n",
            "line= it-life-hack\t0\t\tスマホのゲームに毎月いくら課金してる？　年代やOS別の調査結果発表\n",
            "\n",
            "line= kaden-channel\t1\t\t2012年4月1日までモバイルルータが0円になる特典実施中！—BIGLOBE 3Gで低料金スマホ＆モバイル通信\n",
            "\n",
            "line= kaden-channel\t1\t\t起用の理由は黄色だったから!?　ダンディ坂野がクイズアプリ「AD Latte」のキャラクターに就任！\n",
            "\n",
            "line= kaden-channel\t1\t\t気を付けて！　道や駅で増える「ケータイ事故」\n",
            "\n",
            "line= it-life-hack\t0\t\t町会議ラス前開催は福島県！　ニコニコ町会議in 福島県三春町の詳細決定\n",
            "\n",
            "line= kaden-channel\t1\t\tフレッシュな野菜ジュースを朝食に！容器がタンブラーになる手間なしジューサー\n",
            "\n",
            "line= kaden-channel\t1\t\t「PS Vita」がついに発売　—　初日は待ちわびたファンが行列を作る大盛況\n",
            "\n",
            "line= it-life-hack\t0\t\tデスクトップ代わりに使える低価格ノート　レノボのIdeaPad Z480はIvy Bridege搭載\n",
            "\n",
            "line= it-life-hack\t0\t\t増税・値上げに負けない！ノートPCでできるネット収入アップ化計画\n",
            "\n",
            "line= kaden-channel\t1\t\t部屋から見たいのは東京タワー？　東京スカイツリーの夜景価値は7176円で東京タワーは9233円\n",
            "\n",
            "line= it-life-hack\t0\t\t入手困難なDVDドライブが絶対当たる！ ZENBOOKを買うと絶対もらえるキャンペーン開始\n",
            "\n",
            "line= it-life-hack\t0\t\t参加した人も、不参加の人もチャンスがある！Ultrabooker.jpブースも登場したインテルイベント\n",
            "\n",
            "line= kaden-channel\t1\t\tベッカム様がグーグル＋に登場！　バラエティ向きの彼はどこまで答えてくれるのか？\n",
            "\n",
            "line= kaden-channel\t1\t\t脚の生えたエアカウンター!?　—日本トラストテクノロジーのスパイダーポディウム\n",
            "\n",
            "line= it-life-hack\t0\t\t自分の顔で画面ロックを解除！ドコモ、GALAXY S IIにAndroid 4.0を提供\n",
            "\n",
            "line= it-life-hack\t0\t\tフルHDを超えるWQHDの解像度！　大解像度時代到来！5万円を切るデルの液晶ディスプレイ\n",
            "\n",
            "line= kaden-channel\t1\t\tシャープ、チューナー分離の薄型テレビ「フリースタイル　アクオス」発表\n",
            "\n",
            "line= it-life-hack\t0\t\t竜の巣？ 　これが…？　富士山上空を覆う巨大雲が話題に\n",
            "\n",
            "line= kaden-channel\t1\t\tパナソニック マッサージソファとインテリアのコンランがコラボ\n",
            "\n",
            "line= it-life-hack\t0\t\t新しいiPadでわかったLTE 新サービス開始当初の混乱期\n",
            "\n",
            "line= it-life-hack\t0\t\tKepler搭載製品が登場！MSIやZOTACよりNVIDIA GeForce GTX 680カード\n",
            "\n",
            "line= kaden-channel\t1\t\t女性の目線からオーディオを楽しむ！　「女子オーディオ」が、プラザ銀座で課外講座を開催！\n",
            "\n",
            "line= it-life-hack\t0\t\tスマホに関する疑問に答えます！ PC使い故のスマホへの疑問を解決\n",
            "\n",
            "line= kaden-channel\t1\t\tSNSの感覚で気軽にチョコっと！　今年のバレンタインは「いいね！チョコ」が流行るかも\n",
            "\n",
            "line= it-life-hack\t0\t\t本日深夜販売敢行！　例のアレか？　本日ドスパラパーツ館で深夜販売！\n",
            "\n",
            "line= it-life-hack\t0\t\t最新のFirefoxが登場！　Firefox 11日本語版が公式リリース\n",
            "\n",
            "line= kaden-channel\t1\t\tソニー、鮮やかな映像表現を実現した液晶テレビ「ブラビア　ＨＸ９５０シリーズ」２機種を発売\n",
            "\n",
            "line= kaden-channel\t1\t\t電子書籍リーダーはタブレット端末に勝てるのか？\n",
            "\n",
            "line= kaden-channel\t1\t\t男子必見！　今すぐまねしたいファッションコーデを映像で学ぶ\n",
            "\n",
            "line= kaden-channel\t1\t\t第10回上映 小池俊範 監督作品 『I talk with‘me′. 』\n",
            "\n",
            "line= it-life-hack\t0\t\tメンテナンス性の高いHP Z1 省スペースAIOワークステーション\n",
            "\n",
            "line= kaden-channel\t1\t\t節電対策や停電への備えに、ソニーが家庭用蓄電池を新発売\n",
            "\n",
            "line= it-life-hack\t0\t\t大切な投稿を見逃さない　Facebookに親友の投稿だけを表示する\n",
            "\n",
            "line= it-life-hack\t0\t\tおはこん、ふぉっくす紺子です！紺子グッズ第二段も進んでるよ\n",
            "\n",
            "line= kaden-channel\t1\t\tイルミネーションも景色もバッチリ！　難しいと思っていた夜景撮影に挑戦\n",
            "\n",
            "line= kaden-channel\t1\t\tQRコードやマクロ、広角も撮影自由自在！—サンワダイレクト「ｉＰｈｏｎｅ４Ｓ・４　マクロ＆ワイドレンズキット４００−ＣＡＭ０１２」\n",
            "\n",
            "line= it-life-hack\t0\t\t納得！そういうことか！Googleロゴにファスナーが付いてる理由\n",
            "\n",
            "line= it-life-hack\t0\t\tこんこん、ふぉっくす紺子だよ！ミニうちわも企画中だよ\n",
            "\n",
            "line= kaden-channel\t1\t\tフェイスブックで重婚発覚！　別居中の妻が旦那の新しい嫁を発見\n",
            "\n",
            "line= it-life-hack\t0\t\tグラボを買うとBDプレーヤーが当たる！　Sapphire製グラボ購入キャンペーン本日開始\n",
            "\n",
            "line= kaden-channel\t1\t\t値下げも好評の動画配信サービスHulu！　新オフィスを訪問してきました\n",
            "\n",
            "line= kaden-channel\t1\t\tミクシィで堂々と覚せい剤が売られていた！「元祖！シャブコミュ」管理人は元東京・新宿区議\n",
            "\n",
            "line= it-life-hack\t0\t\tウェディング雑誌に凄い付録！　「ゼクシィ」9月号の付録は「乙女すぎるドライバーセット」\n",
            "\n",
            "line= it-life-hack\t0\t\t検索力をアップ！　IE9に好みのエンジンを追加する\n",
            "\n",
            "line= it-life-hack\t0\t\t23カ国のiTunesランキングを動画でチェック！\n",
            "\n",
            "line= it-life-hack\t0\t\tiPhone動画のムダをトリミングして飽きさせない\n",
            "\n",
            "line= kaden-channel\t1\t\tコンパスを使うのは年に１度？　iPhoneで一番不要な機能とは\n",
            "\n",
            "line= it-life-hack\t0\t\tアノなめこがiPhoneカバーになった！　「おさわり探偵 なめこ栽培キット」のiPhoneカバー登場！\n",
            "\n",
            "line= it-life-hack\t0\t\tこれが次世代スマートフォン！ドコモ「Xperia acro HD SO-03D」開封レポート\n",
            "\n",
            "line= it-life-hack\t0\t\tMSIより低価格マザー登場！　Ivy Bridge対応のIntel 7シリーズ激安マザー\n",
            "\n",
            "line= kaden-channel\t1\t\t恐怖！　GPSを利用した勤怠管理アプリ「GPS Punch!」登場に営業マン衝撃\n",
            "\n",
            "line= it-life-hack\t0\t\t不便なブックマークよさよなら！　俺はライフリストでブクマを管理するぜ！\n",
            "\n",
            "line= it-life-hack\t0\t\t音声認識で英語の発音練習しよう Siriを使うiPhoneアプリReal英会話\n",
            "\n",
            "line= kaden-channel\t1\t\t企業戦士の鎧を脱いだら光の戦士になろう！　スター・ウォーズ ライトセーバールームライト\n",
            "\n",
            "line= kaden-channel\t1\t\t日本版HuluはHuluにしてHuluにあらず？\n",
            "\n",
            "line= kaden-channel\t1\t\t充電中にiPhoneが爆発！　驚きの事件が日本でも発生\n",
            "\n",
            "line= it-life-hack\t0\t\tコストはどっちに軍配？　書籍の長期保存は紙？　それともデジタル？ \n",
            "\n",
            "line= it-life-hack\t0\t\tテレビの高画質化は誰のため？コンテンツが性能に追いつかない\n",
            "\n",
            "line= it-life-hack\t0\t\tなるほどジ○リめしって言うのか！　あのオムライスは王蟲ライスだったのね！\n",
            "\n",
            "line= kaden-channel\t1\t\tTwitterでの炎上防止へ　−　承認が下りないとつぶやけないシステムがあった【話題】　\n",
            "\n",
            "line= it-life-hack\t0\t\t自分のIQを知りたくありませんか？　そんなときは「IQチェック2」がオススメ\n",
            "\n",
            "line= kaden-channel\t1\t\tEOS-1D XでEOS MOVIEは第2章突入か？\n",
            "\n",
            "line= it-life-hack\t0\t\t起動を高速化！　いらないアプリはスタートアップから外す\n",
            "\n",
            "line= it-life-hack\t0\t\tネットサービスの解約問題からLinuxでのクラウド使いこなしまで一気読み\n",
            "\n",
            "line= kaden-channel\t1\t\t2台目・3台目のテレビとしておススメ！恵安の超薄型地デジ対応液晶テレビ\n",
            "\n",
            "line= kaden-channel\t1\t\tTwitterのつぶやきでおしりをふいてみる？　おもしろサービス「shitter」\n",
            "\n",
            "line= kaden-channel\t1\t\t年末年始はフジテレビが大騒ぎ！　ものまね問題に続き、元日は収録映像を生と放送疑惑\n",
            "\n",
            "line= kaden-channel\t1\t\tカーナビの次は自転車！　パナソニックの「Gorilla CN-MC01L」は自転車ナビ対応\n",
            "\n",
            "line= it-life-hack\t0\t\tこれなら作ってみたくなる！質感の高いHTPC向けケースが登場！\n",
            "\n",
            "line= it-life-hack\t0\t\t一風変わった動きが新鮮！ブロック系ゲームStar＊Burst \n",
            "\n",
            "line= kaden-channel\t1\t\t旅にこだわりたい若者から人気！　ネットで世界中の宿やツアーを探せば夏の旅行にまだ間に合う！\n",
            "\n",
            "line= kaden-channel\t1\t\tFacebookでクリックジャック被害が多数発生！　怪しい画像がプロフィールに掲載され大迷惑\n",
            "\n",
            "line= it-life-hack\t0\t\t間違えてコメントしちゃった！をないことにするFacebookワザ\n",
            "\n",
            "line= kaden-channel\t1\t\t高性能な高品位ボディ！　パナソニックがフラットタイプミラーレス一眼「ＬＵＭＩＸ　ＤＭＣ−ＧＸ１」を発売\n",
            "\n",
            "line= it-life-hack\t0\t\tレノボWindows 8タブレットを公開 詳細は不明ながらThinkPad同様に企業向け\n",
            "\n",
            "line= it-life-hack\t0\t\t24日はアキバへGo！Ultrabooker.jp専用ブースでオリジナルグッズを当てよう\n",
            "\n",
            "line= it-life-hack\t0\t\t第三弾間もなく開始！ Sapphire製グラボ購入キャンペーン第二弾終了間近につき\n",
            "\n",
            "line= kaden-channel\t1\t\tテレビにはもう頼れない？　シャープ通期2900億円の赤字に転落\n",
            "\n",
            "line= it-life-hack\t0\t\tAndroidを狙うウイルスが急増！スマホに迫る悪質なアプリ \n",
            "\n",
            "line= it-life-hack\t0\t\tできないことができる！？通常では解消できない断片化を解消してくれる「PageDefrag」\n",
            "\n",
            "line= it-life-hack\t0\t\tドコモのスマホに強い味方！ドコモ AQUOS PHONE SH-01D対応大容量バッテリー\n",
            "\n",
            "line= kaden-channel\t1\t\t第12回上映 雨宮真五 監督作品 『Shooting Memories』\n",
            "\n",
            "line= it-life-hack\t0\t\tパソコンとテレビが合体した製品！NECの技術を盛り込んだ、レノボの新PCが凄い\n",
            "\n",
            "line= it-life-hack\t0\t\tNFCがバイクの鍵に？ COMPTEX TAIPEIで見つけた面白ガジェット\n",
            "\n",
            "line= it-life-hack\t0\t\tターガス製のUSB3.0ポートリプリケータ登場！　レビューアーになれば無償でゲット\n",
            "\n",
            "line= kaden-channel\t1\t\t伸びるスマホとタブレット！　家電とＩＴ市場の上半期を振り返る\n",
            "\n",
            "line= it-life-hack\t0\t\t金環日食から切り込み隊長まで！　ネットの話題を振り返る\n",
            "\n",
            "line= it-life-hack\t0\t\t例のあのメニューも！ニコニコ超会議のフードコートメニュー14種類紹介（前半）\n",
            "\n",
            "line= kaden-channel\t1\t\t高すぎる？　独島警備隊のインターネットは毎月１５０万円以上！\n",
            "\n",
            "line= it-life-hack\t0\t\t細かな違いや使用感がわかる！ありそうでなかった白髪染め体験記サイト\n",
            "\n",
            "line= kaden-channel\t1\t\t見るのがコワイ！でも知りたい！！未来のボディラインを映し出すワコールのアプリ「ラブエイジングミラー」\n",
            "\n",
            "line= kaden-channel\t1\t\tテストレポート フジフイルムX10\n",
            "\n",
            "line= it-life-hack\t0\t\tよく使うファイルを高速に呼び出す　タスクバーカスタマイズ術\n",
            "\n",
            "line= kaden-channel\t1\t\t毎日新聞が正月ボケ！　「北朝鮮」を「北挑戦」に、「年度代表馬」を「年度代表場」に\n",
            "\n",
            "line= kaden-channel\t1\t\t感覚・体験を共有する　タッチ・インターネットが拓く未来（１）\n",
            "\n",
            "line= it-life-hack\t0\t\tプレミアムなUltrabookが登場！ガラスを多用したノートパソコン\n",
            "\n",
            "line= it-life-hack\t0\t\tソーシャルの今が分かる！ヤフーの「話題なう」ってなに？\n",
            "\n",
            "line= kaden-channel\t1\t\tシャッターを次々に押せる軽快なコンパクトデジカメ！カシオ「EXILIM EX-ZR200」\n",
            "\n",
            "line= kaden-channel\t1\t\tエコ家電は地球の裏でも興味津々！　ブラジルで開催の地球サミットにて出展中のパナソニックを直撃！\n",
            "\n",
            "line= it-life-hack\t0\t\t本当に稼動するのですね。凄い！孫社長 メガソーラーの状況を報告\n",
            "\n",
            "line= it-life-hack\t0\t\t春分の日のトリビア！Googleロゴがイラストである理由\n",
            "\n",
            "line= kaden-channel\t1\t\tTVF2012の入賞30作品が決定\n",
            "\n",
            "line= kaden-channel\t1\t\tタテとヨコ、引きと寄りで最高の１枚を！いつもの写真をワンランクアップしてかわいい写真を撮る方法\n",
            "\n",
            "line= it-life-hack\t0\t\t知って得する虎の巻テクニック集！スマホやパソコンを便利に使おう\n",
            "\n",
            "line= it-life-hack\t0\t\tまだスーパーマルチなアナタに！　薄型のポータブルBDドライブが登場\n",
            "\n",
            "line= kaden-channel\t1\t\t前方に案内が浮かび上がる!?　世界初のサイバーなカーナビがパイオニアから発売\n",
            "\n",
            "line= kaden-channel\t1\t\tソニーNEX-VG20でCEATECを取材する\n",
            "\n",
            "line= kaden-channel\t1\t\t気を付けて！　iTunesのギフトを装った怪しいメールが流行中\n",
            "\n",
            "line= kaden-channel\t1\t\tこの春、健康は良質な睡眠から！オムロンヘルスケアより「ねむり時間計・睡眠計」新発売\n",
            "\n",
            "line= it-life-hack\t0\t\t子供の一瞬の表情も逃さない！「EX-ZR300」開封レポート\n",
            "\n",
            "line= it-life-hack\t0\t\tスマホの音楽をお風呂場で聴く技！iPhoneで使える無線防水スピーカ\n",
            "\n",
            "line= it-life-hack\t0\t\tTime-Lapse（微速度）撮影ができるカメラ！ COMPTEX TAIPEIで見つけたオモシロガジェット\n",
            "\n",
            "line= it-life-hack\t0\t\t総勢20名を大募集！「feel Windows」オープン記念第一弾のレビューアー募集中\n",
            "\n",
            "line= it-life-hack\t0\t\tいきなり列番号が変わっても慌てない！　元に戻せるExcel設定\n",
            "\n",
            "line= it-life-hack\t0\t\t世界を選んだ写真家たち！RING CUBE写真展「OVERSEAS 2012」を開催\n",
            "\n",
            "line= it-life-hack\t0\t\tガラスのUltrabook登場！美麗なUltrabook「HP ENVY14-3000 SPECTRE」のレビューアー募集\n",
            "\n",
            "line= kaden-channel\t1\t\t３つのポイントでオシャレな写真を撮ろう！　モノクロのすすめ\n",
            "\n",
            "line= it-life-hack\t0\t\t反対者はわずか12人、参議院本会議で違法ダウンロード刑罰化が確定\n",
            "\n",
            "line= it-life-hack\t0\t\t高画質と小型・軽量化を両立！キヤノンのミラーレス一眼「EOS M」を見てきました\n",
            "\n",
            "line= kaden-channel\t1\t\t「かわいく撮って」と小林星蘭ちゃんにお願いされたのでSONY一押しのハンディカムで撮ってきました！\n",
            "\n",
            "line= it-life-hack\t0\t\t日本も捨てたもんじゃないですね！孫社長 自然エネの普及活動を強調\n",
            "\n",
            "line= it-life-hack\t0\t\t見積書や企画書を移動中にチェック！　GoogleドライブにAndroidからアクセス\n",
            "\n",
            "line= kaden-channel\t1\t\tついにiOS版もリリース！無料で読める暇つぶしアプリlivedoorニュース「三面貴族」\n",
            "\n",
            "line= it-life-hack\t0\t\t日本・香港・欧米の3カ国の違いを堪能！「OVERSEAS 2012」世界を選んだ写真家たちの写真展\n",
            "\n",
            "line= it-life-hack\t0\t\t今度はiPad mini完全対応ケース！ 未発表のiPad mini完全対応ケースの先行予約販売開始\n",
            "\n",
            "line= it-life-hack\t0\t\tハイビジョン録画時代のビデオカセット計画！奥さんに趣味の番組を消されない裏技\n",
            "\n",
            "line= kaden-channel\t1\t\t新しいモデルの登場か！？　アップルTVのうわさ\n",
            "\n",
            "line= kaden-channel\t1\t\tクリスマス撮ってきましたー！やっぱり夜景はスマホより小さいのにキレイに撮れる“サイバーショット”がイイネ\n",
            "\n",
            "line= kaden-channel\t1\t\t新しいものさしになる？　ツイッターで好感度があがる芸能人と下がる芸能人\n",
            "\n",
            "line= kaden-channel\t1\t\tiPhoneに高く、Androidに低い「キャリアのカベ」\n",
            "\n",
            "line= it-life-hack\t0\t\t超コンパクトで充電ケーブルいらず！わずか92gのモバイルバッテリー\n",
            "\n",
            "line= it-life-hack\t0\t\tCPUもGPUも祭だワッショイ！GIGABYTE板祭でマザボ＆グラボのレビューアーを大募集\n",
            "\n",
            "line= it-life-hack\t0\t\tスマホが使える時間をのばす裏技！激安のモバイル大容量バッテリー\n",
            "\n",
            "line= kaden-channel\t1\t\tサンワサプライ、半径５ｍ内の音声を集音できる高感度マイク採用のＷＥＢ会議マイクを発売\n",
            "\n",
            "line= it-life-hack\t0\t\t意外と知らないExcel技を紹介！ 他人と差をつけるExcel技特集\n",
            "\n",
            "line= kaden-channel\t1\t\tパーティを楽しむはずがテロリストと勘違い「デストローイ！（破壊）」のつぶやきで逮捕されたイギリス人\n",
            "\n",
            "line= it-life-hack\t0\t\t最新スマホに最強兵器が登場！ソフトバンク AQUOS PHONE 103SH対応大容量バッテリー\n",
            "\n",
            "line= it-life-hack\t0\t\t本日はプレイ不可なロゴ！　Googleロゴがスポーツ関連画像に変化第十二弾\n",
            "\n",
            "line= kaden-channel\t1\t\t「Yahoo! Phone」がいよいよ２３日に発売スタート\n",
            "\n",
            "line= kaden-channel\t1\t\t視聴者の感覚とズレズレ！　声だけ出演の映画も公開決定で紳助復帰の気配？\n",
            "\n",
            "line= it-life-hack\t0\t\tようやくiPhoneでもChromeが使えるように！\n",
            "\n",
            "line= it-life-hack\t0\t\tニコニコ超会議で気になった小ネタを写真で紹介\n",
            "\n",
            "line= kaden-channel\t1\t\t99のパターンから最適な撮影モードをチョイス！　富士フィルムの「FinePix」に新商品登場\n",
            "\n",
            "line= it-life-hack\t0\t\t無職ランナーをオリンピックへ！　プレアカ1か月分でスポンサーになれる\n",
            "\n",
            "line= it-life-hack\t0\t\t人気の音ゲーここにあり！ 上手にリズムを刻む心地さがここに「jubeat plus」\n",
            "\n",
            "line= kaden-channel\t1\t\tパナソニックの「旅ナビ」に新モデル登場！「CN-MH01L」はガイドブックデータが充実\n",
            "\n",
            "line= it-life-hack\t0\t\t関西エリアが予感させる、「auスマートバリュー」の破壊力と可能性\n",
            "\n",
            "line= kaden-channel\t1\t\t2012年はどうなる？タイの大洪水の影響が長引きパソコン出荷台数が減少か\n",
            "\n",
            "line= kaden-channel\t1\t\tシャープの独自OS端末ガラパゴスが発売終了\n",
            "\n",
            "line= kaden-channel\t1\t\tNHKがネットテレビ参入はテレビ離れを食い止められるのか？\n",
            "\n",
            "line= kaden-channel\t1\t\tスマートフォンを選ぶときの注意\n",
            "\n",
            "line= it-life-hack\t0\t\t孫社長が社内業務紙ゼロ宣言 ペーパーレスの真の目的とは\n",
            "\n",
            "line= it-life-hack\t0\t\tご当地アプリがiPhoneカバーに！　登場！ぐんまのやぼう ＆ にほんのあらそい iPhoneカバー\n",
            "\n",
            "line= kaden-channel\t1\t\t原発事故は本当に収束？　気になるホットスポットがひと目でわかる—東芝ポータブルガンマカメラ\n",
            "\n",
            "line= it-life-hack\t0\t\t話題のタブレット端末に強い味方！ドコモ ARROWS Tab LTE F-01D本革マルチポーチケース\n",
            "\n",
            "line= kaden-channel\t1\t\tワイドショーを見る親が子どもの学力を下げている？　子ども社会に広がる学力格差\n",
            "\n",
            "line= it-life-hack\t0\t\t書式を再利用　手間を省いて見栄えを整えるWordワザ\n",
            "\n",
            "line= kaden-channel\t1\t\t３DSが売れない！任天堂が初の赤字か\n",
            "\n",
            "line= kaden-channel\t1\t\t映画表現育成協会主催 プロモーションビデオ制作講座、受講生募集\n",
            "\n",
            "line= kaden-channel\t1\t\t５分で初見の英文２３００文字を正確にタイプ！　パソコン入力で全国一は中学３年生\n",
            "\n",
            "line= kaden-channel\t1\t\t忘年会・クリスマスパーティで盛り上がりそう！タカラトミーアーツからうまい棒スライサー発売\n",
            "\n",
            "line= kaden-channel\t1\t\t連載●極・ト書き一行のカット割り!　　　　　 第6回\n",
            "\n",
            "line= kaden-channel\t1\t\t正しいダイエットできていますか？\n",
            "\n",
            "line= kaden-channel\t1\t\t様々なデバイスでドラマや映画をシームレスに動画を視聴できるHulu\n",
            "\n",
            "line= kaden-channel\t1\t\t第9回上映 中平悠里 監督作品 『猫と少女の物語』\n",
            "\n",
            "line= kaden-channel\t1\t\tこれ以上どうがんばるの？　AKB総選挙、ごり押しのスーパー研究生惨敗でGoogle+で涙\n",
            "\n",
            "line= it-life-hack\t0\t\tありそうでなかった便利グッズ！iPad2用バッテリー内蔵ケース\n",
            "\n",
            "line= it-life-hack\t0\t\tゲームセンターの楽しさを手のひらに！Air Hockey : Extreme Fun\n",
            "\n",
            "line= it-life-hack\t0\t\t笹食ってる場合じゃねぇ！孫社長 イベントの講演を宣伝\n",
            "\n",
            "line= kaden-channel\t1\t\t不正アプリ混入発覚！　アップルの事前審査に疑問の声\n",
            "\n",
            "line= it-life-hack\t0\t\tエイプリールフールでもうそはつきません！ITの一週間を振り返る\n",
            "\n",
            "line= it-life-hack\t0\t\tGALAXY TabもiPadも家電も充電できる！万能高容量ポータブルバッテリー\n",
            "\n",
            "line= kaden-channel\t1\t\t２０１２年！気になる運勢をエガちゃんが占ってくれるアプリはいかが？\n",
            "\n",
            "line= it-life-hack\t0\t\tウィンドウズ製品を有効活用しよう！新たにスタートした「feel Windows」の魅力\n",
            "\n",
            "line= kaden-channel\t1\t\t挑戦! 3D編集 3D作品をYouTube公開\n",
            "\n",
            "line= it-life-hack\t0\t\tアナタは見た？今世紀最後の天体ショー！金星の太陽面通過\n",
            "\n",
            "line= it-life-hack\t0\t\t高ワットを安定供給できる電源！　ZALMANより1250ワット電源発売開始\n",
            "\n",
            "line= it-life-hack\t0\t\tユーザーとメーカーとの橋渡し！大盛況だったUltrabooker.jpブース\n",
            "\n",
            "line= kaden-channel\t1\t\tマーク・ザッカーバーグがFacebookに訴えられる！？\n",
            "\n",
            "line= kaden-channel\t1\t\tスマホをカーナビに！ドコモが「ドライブネットクレイドル01」を発売に\n",
            "\n",
            "line= kaden-channel\t1\t\t姉さん事件です！　裁判中の美元が二股だったことをテレビでぽろり\n",
            "\n",
            "line= kaden-channel\t1\t\tソニーNXCAMのファームアップ情報\n",
            "\n",
            "line= it-life-hack\t0\t\t315gの最軽量スキャナも登場！PCレスでスキャンデータを活用できる「ADS-2500W」\n",
            "\n",
            "line= kaden-channel\t1\t\tAmazonがシアトルにKindleストアをオープン！　電子書籍に興味がなかった人にどこまで響くか？\n",
            "\n",
            "line= it-life-hack\t0\t\tペットロボットの状態は？　これからどうなる？ 不定期連載スマートペット育成記\n",
            "\n",
            "line= it-life-hack\t0\t\t2ヶ月で全国を走り抜けた写真！若さを行動で表現して魂を繋ぐ\n",
            "\n",
            "line= kaden-channel\t1\t\t「同情して！」アピールが痛い!!　心配されたがりやのネガティブさん\n",
            "\n",
            "line= kaden-channel\t1\t\t優しいだけじゃ汚れに勝てない！　豪徳寺美鈴が肉食系洗濯機をゲット！\n",
            "\n",
            "line= kaden-channel\t1\t\tツイッターやフェイスブックの利用が負担に！　「ソーシャル疲れ」から見る日本人の微妙な人間関係\n",
            "\n",
            "line= kaden-channel\t1\t\t自宅で究極のコーヒー体験を！　ネスレネスプレッソ、シンプルで最新機能搭載の新コーヒーメーカー「Ｕ（ユー）」を発売\n",
            "\n",
            "line= kaden-channel\t1\t\t真似しちゃダメ！　金属を回しながら壊れていくかわいそうな洗濯機がネットで話題に\n",
            "\n",
            "line= kaden-channel\t1\t\t音の編集講座「音量の合わせ方」\n",
            "\n",
            "line= it-life-hack\t0\t\tタスクバーに不要なアイコン通知は表示しない\n",
            "\n",
            "line= it-life-hack\t0\t\tMacの隠し機能を使うアプリ！長寿命の無線マウスから最新PCまで一挙紹介\n",
            "\n",
            "line= kaden-channel\t1\t\t連載●極・ト書き一行のカット割り! 第7回\n",
            "\n",
            "line= kaden-channel\t1\t\tホンダが次世代電動スモールスポーツコンセプトモデル「EV-STER」を披露\n",
            "\n",
            "line= kaden-channel\t1\t\t子どもの歯磨き仕上げも電動で！ポケットドルツにキッズ用が登場\n",
            "\n",
            "line= kaden-channel\t1\t\t夏場は扇風機になるダイソン羽根なしヒーター！\n",
            "\n",
            "line= it-life-hack\t0\t\t個人スポンサー2万人達成！ロンドン五輪マラソン代表選手の藤原新選手\n",
            "\n",
            "line= it-life-hack\t0\t\tレガシーポート搭載マザー！ECSよりAtom搭載Mini-ITXマザーボード\n",
            "\n",
            "line= kaden-channel\t1\t\t地デジ化をきっかけに、テレビ離れが増加？\n",
            "\n",
            "line= it-life-hack\t0\t\t日本を思う気持ちがあると思えない！孫社長 大人の対応がネットで話題\n",
            "\n",
            "line= it-life-hack\t0\t\tSSDをキャッシュに使う“ハイブリッドHDD”！　Windowsを快適にするシステムキャッシュ技術がスゴイ\n",
            "\n",
            "line= kaden-channel\t1\t\t連載●After Effects 天国への階段 第12回\n",
            "\n",
            "line= it-life-hack\t0\t\tオリンピック最終日ロゴは閉会式！　Googleロゴがスポーツ関連画像に変化第十三弾\n",
            "\n",
            "line= kaden-channel\t1\t\t世界最大の家電ショーから見る！　すべての家電が小さなチップで考え、通信するサイバーな未来\n",
            "\n",
            "line= kaden-channel\t1\t\t夏までにダイエット！オムロンからPCやスマホにデータ転送できるカラダスキャン新発売\n",
            "\n",
            "line= it-life-hack\t0\t\tインテル吉田社長の自作PCをパワーアップ！“超”社長PCを作ってみた\n",
            "\n",
            "line= kaden-channel\t1\t\t一度は働いてみたい？　グーグル社のとにかくおしゃれなロンドンオフィスが話題に【話題】　\n",
            "\n",
            "line= it-life-hack\t0\t\tスマホ持ちで有線なアナタに！無線LAN親機になる超小型アダプター\n",
            "\n",
            "line= it-life-hack\t0\t\tスタイリッシュなブロック系パズルゲーム！ ルミネス – Touch Fusion\n",
            "\n",
            "line= it-life-hack\t0\t\tウルトラブックとは一体何なのか？パソコン市場は縮小するのか\n",
            "\n",
            "line= it-life-hack\t0\t\tタスクマネージャーよさらば！　プロセスが手に取るようにわかる「Process Explorer」\n",
            "\n",
            "line= it-life-hack\t0\t\tこんこん！紺子には秘策があるんだからねっ\n",
            "\n",
            "line= it-life-hack\t0\t\t最新の標的型攻撃メールに注意せよ \n",
            "\n",
            "line= it-life-hack\t0\t\tコンプガチャ廃止決定！　結局は堂々巡り？　今後一体どうなる？\n",
            "\n",
            "line= kaden-channel\t1\t\tスマホの似合う著名人、トップはスマホそのもの（？）な渡辺謙\n",
            "\n",
            "line= it-life-hack\t0\t\tこれからお花見の人は気を付けて！　春の宴のあとのあまりの酷さに唖然\n",
            "\n",
            "line= it-life-hack\t0\t\tiPhoneにぴったりフィットのケース登場！シリコン素材で帯電防止機能も持つiPhone 4S/4用ケース\n",
            "\n",
            "line= kaden-channel\t1\t\tギミックなしの実力派！ 空気清浄機 ブルーエア 270E\n",
            "\n",
            "line= it-life-hack\t0\t\tレノボ、プロゴルファーの斉藤愛璃選手とオフィシャル・スポンサーシップ契約を締結\n",
            "\n",
            "line= it-life-hack\t0\t\tドコモのスマホに強い味方！ドコモ MEDIAS PP N-01D用大容量バッテリー\n",
            "\n",
            "line= kaden-channel\t1\t\t失った視力を取り戻す、光駆動の網膜インプラント\n",
            "\n",
            "line= it-life-hack\t0\t\t売れ筋モデルがさらにコンパクトに　EPSONより2012年インクジェット新モデル登場\n",
            "\n",
            "line= kaden-channel\t1\t\tお前が言うな！　「AKB商法気持ち悪い」と炎上のエイベックス社員にネットが総突っ込み\n",
            "\n",
            "line= it-life-hack\t0\t\t都会の空でも美しい星が私たちを照らしている！写真展「都会の星」を開催へ\n",
            "\n",
            "line= it-life-hack\t0\t\tコンデジでも星の軌跡が撮れるGR IVインターバル合成撮影の秘密！「都会の星」トークショー\n",
            "\n",
            "line= it-life-hack\t0\t\t高性能で低消費電力！インテル吉田社長が語る、IVY Bridgeの魅力\n",
            "\n",
            "line= kaden-channel\t1\t\tコンビニでも！　セブン＆アイで無料Wi-Fiサービス開始。　AKBのオリジナル壁紙も配布\n",
            "\n",
            "line= it-life-hack\t0\t\tGoogleによるIM「Mozc」を使う Ubuntuの日本語入力を改善\n",
            "\n",
            "line= kaden-channel\t1\t\t広告の落ち込みが原因　人気SNSミクシィが業績予想を下方修正\n",
            "\n",
            "line= it-life-hack\t0\t\t普通の中学で学んだ程度でした！孫社長が明かした若き日の英語力\n",
            "\n",
            "line= it-life-hack\t0\t\t違法ダウンロード刑罰化の次は通信の秘密に踏み込む音楽権利団体\n",
            "\n",
            "line= kaden-channel\t1\t\tニコニコ動画、生中継用エンコーダーや画質向上など 新サービスを続々発表\n",
            "\n",
            "line= kaden-channel\t1\t\t猛暑でダメージを受けた肌に！ヤーマンから温冷ケア美顔機新発売\n",
            "\n",
            "line= kaden-channel\t1\t\tこの秋、ブルーレイディスクプレーヤーの新製品はソニーの独壇場！？　\n",
            "\n",
            "line= kaden-channel\t1\t\tいよいよ明日！JAXAが行う「みんなで皆既月食を観察しようキャンペーン」\n",
            "\n",
            "line= it-life-hack\t0\t\t東山正宜と石井ゆかりが織りなすロマンテックな都会の星！GR DIGITAL IVでも撮れる秘密とは？\n",
            "\n",
            "line= kaden-channel\t1\t\tクリスマスは家電をおねだり？　パナソニックが「おねだりグリーティング」キャンペーン\n",
            "\n",
            "line= kaden-channel\t1\t\tUSB電源で積極的に温める手袋— 上海問屋 DN-YKS-GMSF-USB\n",
            "\n",
            "line= kaden-channel\t1\t\tRO浄水器がお手軽価格に！—ウォーターサーバー型浄水器コーウェイP-07CL[NEOS]\n",
            "\n",
            "line= kaden-channel\t1\t\t電話？　メール？　SNS？　ストレスなく連絡を取り合うイマドキの恋人たち\n",
            "\n",
            "line= it-life-hack\t0\t\t本日のGoogleロゴは吊り輪　Googleロゴがスポーツ関連画像に変化第二弾\n",
            "\n",
            "line= kaden-channel\t1\t\tタフな防水コンデジに欲しかった機能満載！—パナソニック「ＬＵＭＩＸ　ＤＭＣ−ＦＴ２０」を2月16日発売\n",
            "\n",
            "line= it-life-hack\t0\t\tもっと便利な語学学習を！！NHK出版の「語学プレーヤー」\n",
            "\n",
            "line= it-life-hack\t0\t\t来たぜ！お祭り第2弾！GIGABYTE板祭でマザボ＆グラボのレビューアーを大募集\n",
            "\n",
            "line= it-life-hack\t0\t\t全米教育部門で2位！色彩感覚を育てるのにオススメのぬり絵アプリ\n",
            "\n",
            "line= it-life-hack\t0\t\t検出率9割超はごくわずか！Android用アンチウイルスソフトの比較テスト \n",
            "\n",
            "line= it-life-hack\t0\t\tもちろんカレー臭はしなかった！ 品質もそこそこなインド製携帯電話\n",
            "\n",
            "line= kaden-channel\t1\t\tソニープロフェッショナルセミナー〜3Dの世界\n",
            "\n",
            "line= kaden-channel\t1\t\tソフトバンクがiPhoneキャンペーンを強化「「iPhone家族無料キャンペーン」を発表\n",
            "\n",
            "line= it-life-hack\t0\t\tUltrabookに強力なライバル！女性がラクに持ち運べる、エイサーのノートPCが凄い\n",
            "\n",
            "line= kaden-channel\t1\t\tiPhone5の発表に期待！　毎年恒例Apple WWDCは6月11日から開催\n",
            "\n",
            "line= kaden-channel\t1\t\tiPhone型の巨大ディスプレイで展示！　アメリカ特許商標庁がスティーブジョブズ展開催\n",
            "\n",
            "line= kaden-channel\t1\t\tソニー、「ウォークマン」Ｓシリーズの「初音ミク生誕５周年記念モデル」を限定発売\n",
            "\n",
            "line= kaden-channel\t1\t\tドコモユーザー大丈夫？　あなたのケータイが今週いっぱいで使えなくなるかも\n",
            "\n",
            "line= kaden-channel\t1\t\tプリンストンテクノロジー、ｉＰｏｄ　ｔｏｕｃｈなど向けワイヤレスミニスピーカーを発売\n",
            "\n",
            "line= kaden-channel\t1\t\tあなたのプランは大丈夫?　定額でないためスマホ使用に超高額請求!?　\n",
            "\n",
            "line= kaden-channel\t1\t\t今年のベストセラーはやっぱりジョブズの伝記！　でも日本人ってこんなにジョブズ好きだったっけ？\n",
            "\n",
            "line= it-life-hack\t0\t\t復興支援ありがとう！孫社長 復興支援の協力に賞賛の声\n",
            "\n",
            "line= kaden-channel\t1\t\tiPhoneに差すだけ、はんだづけ不用、3500円の空間線量計自作キット\n",
            "\n",
            "line= kaden-channel\t1\t\t熱中症予防のポイント—水分補給のコツ\n",
            "\n",
            "line= kaden-channel\t1\t\tミドルレンジのビデオ制作者の有志が 集まって結成したHD Usersが選んだATEM 1M/E Switcher\n",
            "\n",
            "line= kaden-channel\t1\t\t11月号記事連動「音の編集講座」〜ピッチとスピード\n",
            "\n",
            "line= it-life-hack\t0\t\tステマはなくなるか？ Yahoo! JAPANと食べログが業務提携\n",
            "\n",
            "line= kaden-channel\t1\t\tHuluが搭載されたWD TV Liveストリーミングメディアプレーヤー登場\n",
            "\n",
            "line= kaden-channel\t1\t\t皇居ランのお供に！アディダスランベースがウォークマン無料貸し出しへ\n",
            "\n",
            "line= kaden-channel\t1\t\tSNS離婚が急増中？　離婚請求の理由２０％がFacebookでの怪しい行動が原因\n",
            "\n",
            "line= kaden-channel\t1\t\t薄型テレビの課題を解決？　薄型テレビ用の赤べこや木彫りの熊\n",
            "\n",
            "line= it-life-hack\t0\t\t肩や腕の負担を軽減するExcel／Wordキー操作術\n",
            "\n",
            "line= it-life-hack\t0\t\t世界戦略が重要なゲーム市場 E3 2012で注目の新戦略\n",
            "\n",
            "line= it-life-hack\t0\t\tイベント作成や友人の紹介方法　Facebook活用のスゴ技・裏技テクニック集\n",
            "\n",
            "line= it-life-hack\t0\t\tWordで作成した表を2つに分ける便利ワザ\n",
            "\n",
            "line= it-life-hack\t0\t\t旅行・出張先のホテルでネットを無線化！ポケットルーターをタダでもらおう\n",
            "\n",
            "line= it-life-hack\t0\t\tGoogleロゴが往年の料理研究家に！　本日のGoogleロゴは有名な料理研究家の生誕100周年記念\n",
            "\n",
            "line= it-life-hack\t0\t\t夏と言えば朝顔！　小学生時代を思い起こさせるアサガオ観察日記ツイート\n",
            "\n",
            "line= it-life-hack\t0\t\t今でも、後でも読めるニュースがここにある！スマホでもタブレットでも読みやすいITニュース活用法\n",
            "\n",
            "line= kaden-channel\t1\t\tさんまには教えなかった「老後」について、ついにメッシが語った！\n",
            "\n",
            "line= kaden-channel\t1\t\tブラックマジックデザイン、HyperDeck SSD レコーダーに タイムコード、DNxHD QuickTime サポートを追加\n",
            "\n",
            "line= it-life-hack\t0\t\tプロフィールはいつでも見てもらいたい　tumblrで別ページ作成\n",
            "\n",
            "line= it-life-hack\t0\t\t写真に友達のタグを付けて公開を知らせる　Facebookテクニック\n",
            "\n",
            "line= it-life-hack\t0\t\tカセットHDDで録画番組を管理！ネット対応のHDDレコーダーが凄い\n",
            "\n",
            "line= kaden-channel\t1\t\t1.25リットルの大容量、氷も砕くパワフルなミキサー—Cuisinart『スマートパワーブレンダー』SPB-600J\n",
            "\n",
            "line= kaden-channel\t1\t\t心がほっこり！　東芝LEDのCMがすごくイイ！\n",
            "\n",
            "line= kaden-channel\t1\t\t震災特番が大コケ！　「めちゃイケ」は何を間違ったのか？\n",
            "\n",
            "line= it-life-hack\t0\t\tその建物に歴史あり！　建物の名称を表わす“建て書き”写真の数々\n",
            "\n",
            "line= it-life-hack\t0\t\tユニークな携帯マナーが話題 に！ “さすが社学”早稲田大学の携帯マナーが秀逸だと話題に\n",
            "\n",
            "line= it-life-hack\t0\t\t「ソブリン危機」をiOSで体感せよ！ 国の借金をリアルタイム表示\n",
            "\n",
            "line= kaden-channel\t1\t\tついにターミネーターの世界が現実に!? —2012年中にグーグルがサングラス型のコンピューターを発売予定\n",
            "\n",
            "line= it-life-hack\t0\t\tマイクロソフトの独自タブレット「Surface」の販売体制はどうなる？ \n",
            "\n",
            "line= kaden-channel\t1\t\t意外に難しくない露出の活用！　EV (Exposure Value)/露出値を学ぶ\n",
            "\n",
            "line= kaden-channel\t1\t\t外国人にも人気！　こたつのトレンドは懐かしいのに新しい山善カジュアルこたつBSK-75\n",
            "\n",
            "line= kaden-channel\t1\t\t別人！　だけどかわいい！　ローラのスッピンが「いい感じ」でネットで話題に\n",
            "\n",
            "line= it-life-hack\t0\t\tかなり使えるiOSの音声認識！使ってみたい新しいiPadの音声認識機能\n",
            "\n",
            "line= it-life-hack\t0\t\t美味しそうな航空会社の機内食！情報満載の1日を振り返る\n",
            "\n",
            "line= it-life-hack\t0\t\tMacBook ProがRetina対応 次はAirも対応？\n",
            "\n",
            "line= kaden-channel\t1\t\tメガネ不要の３D動画をHDの解像度で—REGZA 55X3\n",
            "\n",
            "line= it-life-hack\t0\t\t1日3名が11日連続で何と33名！　「SAMSUNG SSD 830シリーズ」のレビューアーを大募集\n",
            "\n",
            "line= kaden-channel\t1\t\t個人情報流出か？　「au one ショッピングモール」で不正ログインとなりすまし購入が発覚\n",
            "\n",
            "line= kaden-channel\t1\t\t今度の貞子はネットを使って呪いを拡散？　「リング」シリーズ最新作の構想が明らかに\n",
            "\n",
            "line= it-life-hack\t0\t\t高性能なデジタル一眼が登場！キヤノン、「EOS 5D Mark III」が凄い\n",
            "\n",
            "line= it-life-hack\t0\t\tThinkPad X1 Carbonで従来のACアダプターは使えるのか？\n",
            "\n",
            "line= kaden-channel\t1\t\t携帯・ラジオ・テレビより早く正確に、自分のＰＣで地震の揺れをカウントダウン—センチュリー「地震の見張り番」\n",
            "\n",
            "line= kaden-channel\t1\t\tテレコムスクエアが中部国際空港にモバイルレンタル専門店「モバイルセンター」を本日オープン！「モバイルセンター羽田空港」もリニューアルし、国内主要空港でのサポートを拡充\n",
            "\n",
            "line= it-life-hack\t0\t\t英語で地理が勉強できる！世界クイズアプリ！\n",
            "\n",
            "line= it-life-hack\t0\t\tGalaxy Noteを1日フルに使い倒せる！2.2倍の大容量5400mAhバッテリの便利さと使い勝手\n",
            "\n",
            "line= it-life-hack\t0\t\tやっぱいいわ！レッツノート！  SX2の中身はコレだ！最強モバイルノートPC開封フォトレポ\n",
            "\n",
            "line= kaden-channel\t1\t\tおすすめAndroidアプリ・ベスト5（日常編）　\n",
            "\n",
            "line= kaden-channel\t1\t\tインテリアにこだわる人へオススメ！　ソニーの美しすぎるうつぶせリモコン\n",
            "\n",
            "line= kaden-channel\t1\t\tストーリーがもりもり広がりファンにはたまらないアイテム！　「ジョジョ」のクリームがiPhoneを飲み込む！\n",
            "\n",
            "line= kaden-channel\t1\t\tタイガー魔法瓶、おいしい炊き上がりの土鍋ＩＨ炊飯ジャー「炊きたて」の新製品を発売\n",
            "\n",
            "line= it-life-hack\t0\t\tより強く！より最強に！ 無敵Galaxy Noteをさらに強くする\n",
            "\n",
            "line= kaden-channel\t1\t\tネットより高い！　家電が売れずに量販店の販売額が過去最大の下落\n",
            "\n",
            "line= it-life-hack\t0\t\tタブレットより断然快適！一度使ったらやめられないUltrabookとDropbox\n",
            "\n",
            "line= it-life-hack\t0\t\t装着場所が無いならサンバイザーだ！サンバイザーに装着するホルダー\n",
            "\n",
            "line= kaden-channel\t1\t\t思ったより所持率の低いスマホ　—　関心は高いが利用者は実は約１割\n",
            "\n",
            "line= kaden-channel\t1\t\t近頃のシニアはネットに強い！　70代の２割、60代の５割がネットを利用\n",
            "\n",
            "line= kaden-channel\t1\t\tAKB前田敦子がネタにされファンが大激怒！　日本一下世話なクイズ番組がネットで話題に\n",
            "\n",
            "line= kaden-channel\t1\t\tiPhoneを本格的なカメラに変えるかわいすぎるケースが登場！\n",
            "\n",
            "line= kaden-channel\t1\t\tガソリンスタンドでの電気自動車の充電サービスが有料化へ　−　１月から\n",
            "\n",
            "line= kaden-channel\t1\t\t曲がり角の先が見えるカメラ\n",
            "\n",
            "line= kaden-channel\t1\t\t方言で美少女がおねだりしてくれる！　方言少女。とメンズ用カミソリがコラボ\n",
            "\n",
            "line= it-life-hack\t0\t\t使い方で選べるスマホをラインナップ！ドコモ 2012年夏モデル20機種を発表\n",
            "\n",
            "line= it-life-hack\t0\t\tKeplerをより安く！　Keplerアーキテクチャのミドルレンジ向けGPU「GeForce GTX670」\n",
            "\n",
            "line= it-life-hack\t0\t\t町会議が震災復興を応援！　福島県三春町の町会議レポート\n",
            "\n",
            "line= kaden-channel\t1\t\t日本上陸で話題の動画配信サービスHuluがブラビアでも視聴可能に\n",
            "\n",
            "line= it-life-hack\t0\t\tおお！この鍵盤弾けるぞ！Googleロゴがシンセサイザーになっている理由\n",
            "\n",
            "line= it-life-hack\t0\t\tおはこんこん！連載ちゅうの4コマの予告編ですっ\n",
            "\n",
            "line= kaden-channel\t1\t\tふるいちやすし氏の新作上映とトークイベントを アップルストアで開催\n",
            "\n",
            "line= it-life-hack\t0\t\t国内最速クラスの下り最大75Mbps！イー・モバイル、次世代モバイル通信「EMOBILE LTE」が凄い\n",
            "\n",
            "line= it-life-hack\t0\t\t利用の拡大が続くタブレット端末　GfK Japan「012年4月期企業のタブレット型端末導入状況調査」\n",
            "\n",
            "line= kaden-channel\t1\t\tフェイスブックCEOが自身の年収をジョブズにならって１ドルに\n",
            "\n",
            "line= it-life-hack\t0\t\t関西KDDI強し！2ヶ月連続で純増No.1に続く、さらなる一手\n",
            "\n",
            "line= kaden-channel\t1\t\t春はもうすぐ！　撮りたいときにすぐ撮れるカシオEXILIM『EX-ZR20』新発売\n",
            "\n",
            "line= kaden-channel\t1\t\t無料アプリが原因？　スマホの電池がすぐに消耗される理由【話題】　\n",
            "\n",
            "line= it-life-hack\t0\t\tいったい何が起きた？ 　SCEのネットワークレコーダー「nasne」が突然の発売延期\n",
            "\n",
            "line= it-life-hack\t0\t\tなんという豪華キャスティング！ニコニコ超会議スーパーステージの出演者を発表！\n",
            "\n",
            "line= it-life-hack\t0\t\tスマホ購入でゲーム初体験！　MMD研究所「マートフォン所有者の接触頻度に関する実態調査」\n",
            "\n",
            "line= it-life-hack\t0\t\t何で誰もやらなかったの？  重ねるだけで容量を増やせるモバイルバッテリー\n",
            "\n",
            "line= kaden-channel\t1\t\t東芝のLEDがルーヴル美術館に登場！　１２月６日からライトアップスタート\n",
            "\n",
            "line= it-life-hack\t0\t\t楽天が電子書籍サービスを開始？　「Kobo」のサイトを新たに開設\n",
            "\n",
            "line= it-life-hack\t0\t\tやはり ドラクエXも例外ではなかった！　ゲームの通貨やアイテムを実社会で売買するRMT行為\n",
            "\n",
            "line= kaden-channel\t1\t\tドコモのｓｐモードでまたトラブル発生！　今度はつながらない\n",
            "\n",
            "line= kaden-channel\t1\t\tいざという時のために！　死後パスワードを家族や友人にメールしてくれるサービスがあった\n",
            "\n",
            "line= it-life-hack\t0\t\tGoogleがセキュリティを指南！ネットユーザー向け「知っておきたいこと」サイト開設\n",
            "\n",
            "line= kaden-channel\t1\t\tツイッターやミクシィ、フェイスブックでかわいいクリスマスメッセージを送って被災地支援！\n",
            "\n",
            "line= kaden-channel\t1\t\t自殺をほのめかすユーザーは即通報！　Facebookが自殺防止の取り組みスタート\n",
            "\n",
            "line= kaden-channel\t1\t\t録画ができる！７型ワイド液晶ワンセグ対応のポータブルＤＶＤプレーヤー「ＧＨＶ−ＰＤＶ７７１ＳＴＲ」新発売\n",
            "\n",
            "line= it-life-hack\t0\t\t3D BIOSにDual UEFI！ギガバイトのIntel 7シリーズ搭載マザー\n",
            "\n",
            "line= kaden-channel\t1\t\t電気ポット？電気ケトル？節電に効果的な「湯沸かし家電」とは\n",
            "\n",
            "line= kaden-channel\t1\t\t「安すぎ！」「最強!!」深夜発表にも関わらず「新しいiPad」にネットが大騒ぎ\n",
            "\n",
            "line= it-life-hack\t0\t\t国内主要空港でのサポートを拡充！テレコムスクェア新オープン＆リニューアル！\n",
            "\n",
            "line= kaden-channel\t1\t\t今年は出遅れるな！　夏の節電対策にダイソン「エアマルチプライアー」シリーズ\n",
            "\n",
            "line= it-life-hack\t0\t\t脳も疲れない気がする！孫社長 新iPadを大絶賛\n",
            "\n",
            "line= kaden-channel\t1\t\tiPhone4Sに予約殺到！　初日で100万台突破し、一カ月待ちも\n",
            "\n",
            "line= kaden-channel\t1\t\t単三乾電池で動く！　12V 型ハイビジョン液晶 TV「PRODIA PRD-LK112」が登場\n",
            "\n",
            "line= kaden-channel\t1\t\t声優を使えば人気爆発？　iPhoneの音声アシスタント機能「Siri」は3月に日本語対応か\n",
            "\n",
            "line= kaden-channel\t1\t\t手のひらサイズの球体ハンディクリーナー「オーブ（ORB）」に上位モデルが登場！\n",
            "\n",
            "line= kaden-channel\t1\t\tおすすめAndroidアプリ・ベスト5（仕事効率化編）　\n",
            "\n",
            "line= it-life-hack\t0\t\t守るものが違いませんか？　議員先生が2ちゃんねるまとめサイトを守ろう宣言\n",
            "\n",
            "line= it-life-hack\t0\t\t「Dropbox」のUbuntu版を試す Linuxでも同じ使いこなし！\n",
            "\n",
            "line= kaden-channel\t1\t\t好調のアプリ取り放題プラン「auスマートパス」に落とし穴！　解約したらアプリはすべて消去されてしまう\n",
            "\n",
            "line= kaden-channel\t1\t\tサイバーエージェント、「Ａｍｅｂａ」でスマホ向け交換日記型コミュニティサービスを提供開始\n",
            "\n",
            "line= it-life-hack\t0\t\tクアッドコアのFusion APU搭載！デスクトップ代わりになるLenovoの新型ノート\n",
            "\n",
            "line= kaden-channel\t1\t\tすべてのパソコンは中華圏が握る？\n",
            "\n",
            "line= it-life-hack\t0\t\t現場の一瞬を切り取り番組の裏側を伝える！日本テレビ「ZERO写真展」を開催\n",
            "\n",
            "line= kaden-channel\t1\t\t月額料金が980円に値下げ！　無料トライアルも登場のHuluをこの春はじめてみる？\n",
            "\n",
            "line= kaden-channel\t1\t\t大人カワイく省エネ実践！パナソニック「エネループ」がディズニーとコラボ\n",
            "\n",
            "line= kaden-channel\t1\t\tNTTドコモ「おくだけ充電」が「てもみん」や「PRONTO」に設置！無料で利用できる\n",
            "\n",
            "line= kaden-channel\t1\t\tiPhoneはやっぱりすごい！！　携帯契約、ＫＤＤＩがドコモを抜いて２位に浮上！\n",
            "\n",
            "line= it-life-hack\t0\t\tプラチナバンド期待してます！孫社長”頑張ります”\n",
            "\n",
            "line= it-life-hack\t0\t\tスマホ用電子書籍ビューワが凄い！電子書籍の配信ソリューション「book-in-the-box」\n",
            "\n",
            "line= it-life-hack\t0\t\t来年こそは黒字達成（たぶん）！ ニコニコ超会議2の開催決定！\n",
            "\n",
            "line= kaden-channel\t1\t\t日本ではどう広がる？　アマゾンの電子書籍サービスが年内に日本に登場\n",
            "\n",
            "line= it-life-hack\t0\t\t懐かしのヒーローが続々！　名アニメーターが描くヒーローイラストが話題に\n",
            "\n",
            "line= kaden-channel\t1\t\t進む自然エネルギーへの関心！　太陽電池の出荷が大幅に伸びる\n",
            "\n",
            "line= kaden-channel\t1\t\t「超大型画面」は救世主となるか!?シャープが80型液晶テレビと電子看板用ディスプレーを立て続けに発表\n",
            "\n",
            "line= it-life-hack\t0\t\t戦国武将が勢揃い！戦国RPG 真・戦国バスター\n",
            "\n",
            "line= kaden-channel\t1\t\tスマホ率が急上昇中！　世界の携帯３割はスマホだった\n",
            "\n",
            "line= kaden-channel\t1\t\t日立から節電と非常時の強い味方になる蓄電システム「エネタス」発売\n",
            "\n",
            "line= kaden-channel\t1\t\t読書の夏！洋書好きにKindleがオススメな理由　\n",
            "\n",
            "line= kaden-channel\t1\t\t音質補整にＷｉ−Ｆｉ通信…あまりに賢いＭＰ３プレーヤー登場—コウォンジャパン『Ｚ２　ｐｌｅｎｕｅ』\n",
            "\n",
            "line= it-life-hack\t0\t\tおはこんこん！今回は超特大のお知らせがあるよ\n",
            "\n",
            "line= it-life-hack\t0\t\t無料サービスのほうがむしろ使える！個人利用のメールサービスを見直してみよう\n",
            "\n",
            "line= kaden-channel\t1\t\t本格運用開始の「グーグル+」、中国では利用不可\n",
            "\n",
            "line= kaden-channel\t1\t\t会議室から教室まで！　価格で汎用性の高い3D対応プロジェクターDELLから新発売\n",
            "\n",
            "line= kaden-channel\t1\t\tプロジェクターもモバイルの時代、住友スリーエムからビデオカメラプロジェクター発売\n",
            "\n",
            "line= kaden-channel\t1\t\t自由がない？　民主党が所属国会議員にツイッターやブログの自粛要請\n",
            "\n",
            "line= kaden-channel\t1\t\t女性人気の高いミラーレスカメラはオリンパス「PEN E-P3」\n",
            "\n",
            "line= kaden-channel\t1\t\tデリケートなスマホの扱い要注意！　破損の大きな原因と対策\n",
            "\n",
            "line= kaden-channel\t1\t\t魁!! ビデオ道場　2012年１月号\n",
            "\n",
            "line= it-life-hack\t0\t\tPS Vita 3G版ユーザーで何割のユーザーが3G通信を解約したか考えてみる\n",
            "\n",
            "line= it-life-hack\t0\t\t着実な資産形成をイメージできる！ 日興アセットの「お金計算機」\n",
            "\n",
            "line= it-life-hack\t0\t\tどこよりも詳しく解説！写真でみる世界最軽量Ultrabook、NEC「LaVie Z」\n",
            "\n",
            "line= it-life-hack\t0\t\tFirefoxのブックマーク管理がタグでもっと便利になる\n",
            "\n",
            "line= kaden-channel\t1\t\tたった４秒で測定完了！計測した体重は簡単にアプリやパソコンに転送！　オムロンが発売の体重計をチェック\n",
            "\n",
            "line= it-life-hack\t0\t\tこれで今日からExcelの達人！ビジネスに必須のExcel基本ワザ\n",
            "\n",
            "line= kaden-channel\t1\t\tたくさん押されないとクドカンが眠れない！　NHKの「眠いいね！」ボタンが気になる\n",
            "\n",
            "line= it-life-hack\t0\t\tサービス終了後はどうなる！電子書籍は永遠に読めるのか\n",
            "\n",
            "line= kaden-channel\t1\t\t「着る電気毛布」—広電(KODEN) ホットローブCWS-X180LA\n",
            "\n",
            "line= kaden-channel\t1\t\tNikon 1 V1の10倍ズームレンズの作例\n",
            "\n",
            "line= it-life-hack\t0\t\tiPhoneをド派手に着飾れ！　個性派のためのセンサー付きイルミネーションケース\n",
            "\n",
            "line= it-life-hack\t0\t\t“何かあったら知らせてくれる”安心をNASに！「NarSuS（ナーサス）」とは何ぞ？\n",
            "\n",
            "line= kaden-channel\t1\t\tローマ法王のお気に入りタブレットはソニーのTablet Sだった！\n",
            "\n",
            "line= it-life-hack\t0\t\tnasneが再出発！　出荷延期中だったSCEのnasneの再出荷が決定される\n",
            "\n",
            "line= it-life-hack\t0\t\tスマホ初心者女子大生がドキドキ、パーソナルクラウド初体験\n",
            "\n",
            "line= it-life-hack\t0\t\tiPhoneで撮った動画を仲間で共有！その場で動画を共有するテクニック\n",
            "\n",
            "line= it-life-hack\t0\t\tSNSも動画の時代へ！自動でカッコ良く動画編集＆投稿できるviddy\n",
            "\n",
            "line= kaden-channel\t1\t\t冬休みだ！海外だ！iPhone使ったら高額請求書！を回避する方法\n",
            "\n",
            "line= it-life-hack\t0\t\t診断ツールでパソコンを高速化！アプリで劇的に高速化するPC裏技\n",
            "\n",
            "line= kaden-channel\t1\t\t忙しいオフィスで大活躍！超短焦点プロジェクター　リコーIPSiO(イプシオ) PJ WX4130N / WX4130\n",
            "\n",
            "line= kaden-channel\t1\t\t電子黒板機能付きやワイヤレス、新世代液晶プロジェクター今度は日立から新商品\n",
            "\n",
            "line= it-life-hack\t0\t\t簡単にシステムキャッシュのサイズを変更！ CacheSetで最適な仮想メモリーを設定する\n",
            "\n",
            "line= it-life-hack\t0\t\tアナタは五月病大丈夫？今の仕事がつくづくイヤになった時に読む本\n",
            "\n",
            "line= kaden-channel\t1\t\tついにスマホの充電ができる手回し充電ラジオ登場！—ソニー「ＩＣＦ−Ｂ０３」\n",
            "\n",
            "line= kaden-channel\t1\t\tテレビ離れなんて関係ない！「家政婦のミタ」人気がすごすぎる！！\n",
            "\n",
            "line= it-life-hack\t0\t\t2D動画を3Dに変換！Webから動画ダウンロードもできるソフトのレビューアー募集開始\n",
            "\n",
            "line= it-life-hack\t0\t\t手軽にブログ更新がわかる！　ブログ更新チェックサイト「ひとくり」を試してみた\n",
            "\n",
            "line= it-life-hack\t0\t\tあなただけのオリジナルダンス作成！ Twitter/Facebook連動コンテンツ「重低音BROTHERS meets EXTRA BASS 」\n",
            "\n",
            "line= kaden-channel\t1\t\tパナソニック、ミラーレスタイプのデジタル一眼カメラ「ＤＭＣ−Ｇ５」を発売\n",
            "\n",
            "line= it-life-hack\t0\t\tケースによっては5千円も節約！　3G回線を使わずにWiMAXとWiFiオンリーでスマホ利用\n",
            "\n",
            "line= it-life-hack\t0\t\t新型MBP登場で盛り上がったWWDC！ iPhone 5も7インチiPad miniもなし！\n",
            "\n",
            "line= kaden-channel\t1\t\t通話機能にしか使わないなら無駄なスマートフォン\n",
            "\n",
            "line= it-life-hack\t0\t\t驚くほど長寿命な無線式！3年半も電池交換が不要なマウス\n",
            "\n",
            "line= kaden-channel\t1\t\t信頼できるかわからない！　SNSで婚活したくないと答えた人が８割\n",
            "\n",
            "line= it-life-hack\t0\t\t写真魂のバトンリレー！GRデジタルをバトンに若き写真家たちの駅伝写真展がスタート\n",
            "\n",
            "line= kaden-channel\t1\t\t来年1月に登場か！？　アップルがiPad3の製造を開始\n",
            "\n",
            "line= kaden-channel\t1\t\tみたままつりで「節電しろ〜」小林よしのりが献灯でアピール\n",
            "\n",
            "line= it-life-hack\t0\t\t世界最大7.7インチ液晶タブレットで全機種Xi対応　ドコモより新機種5モデルが登場\n",
            "\n",
            "line= kaden-channel\t1\t\t位置やアングルで写真は決まる！　いつもの写真をワンランクアップしてかわいい写真を撮る方法\n",
            "\n",
            "line= kaden-channel\t1\t\tボディソニック座イス—ナップ・ファンソニック マンボウソファ\n",
            "\n",
            "line= kaden-channel\t1\t\tiPhone4Sユーザーに朗報！　アップルが「iOS5」の修正版配布でバッテリー問題が間もなく解決\n",
            "\n",
            "line= kaden-channel\t1\t\t厳しい？　それとも当たり前？　アップルが従業員のSNS利用にガイドライン導入\n",
            "\n",
            "line= kaden-channel\t1\t\tズバズバ発言するフィフィのツイッターが話題！「政治家になってほしい」の声も\n",
            "\n",
            "line= kaden-channel\t1\t\tレイプ犯がFacebookから逮捕！　犯人が警察に絡み、場所が判明\n",
            "\n",
            "line= kaden-channel\t1\t\t交際宣言のナイナイ岡村がテレビで破局を報告！　原因は元カレ\n",
            "\n",
            "line= kaden-channel\t1\t\t撮影中にスギちゃん重傷！　繰り返されるテレビの事故\n",
            "\n",
            "line= it-life-hack\t0\t\tDVD起動でもアプリが使える 便利なUbuntuの使い方\n",
            "\n",
            "line= it-life-hack\t0\t\t文字が超きれいなRetina Mac！文字にこだわるならこれしかないでしょ\n",
            "\n",
            "line= kaden-channel\t1\t\t配達人がモニタを庭に投げ込む衝撃映像！　FedExは映像を社員教育に採用\n",
            "\n",
            "line= it-life-hack\t0\t\t話題のスマホに強い味方！ドコモ MEDIAS ES N-05D用大型大容量バッテリー\n",
            "\n",
            "line= it-life-hack\t0\t\tこんこん、ふぉっくす紺子だよ！紺子のぬいぐるみ、できたんだよ\n",
            "\n",
            "line= it-life-hack\t0\t\t価格が安価で矯正を気づかれない！綺麗な歯並びになれる、歯列矯正の最前線\n",
            "\n",
            "line= kaden-channel\t1\t\t３ＤＳみたいなグラスレス立体映像と写真をiPhone４／４Ｓで楽しもう！\n",
            "\n",
            "line= kaden-channel\t1\t\tさまざまな「線量計」、本来の機能についておさらいしてみよう\n",
            "\n",
            "line= it-life-hack\t0\t\tWord書類の余白が空きすぎてカッコ悪いときに調整する方法\n",
            "\n",
            "line= kaden-channel\t1\t\t豪徳寺美鈴が待ちわびたお掃除ロボットは？　「家電の女」第三話を読んでみた\n",
            "\n",
            "line= it-life-hack\t0\t\tUltrabookをパワーアップ！　mSATA対応の小型SSDがマイクロンより登場\n",
            "\n",
            "line= kaden-channel\t1\t\tパイオニアから3D映像に対応した簡単操作のブルーレイディスクプレーヤー新発売　\n",
            "\n",
            "line= kaden-channel\t1\t\tなんとソーラー電源で稼働！デジタルクッキングスケール「ＳＤ−００４」\n",
            "\n",
            "line= kaden-channel\t1\t\t簡単、清潔！タイガー「スチーム式加湿器 ATC-A300」は電気ポット感覚でお手入れ簡単\n",
            "\n",
            "line= it-life-hack\t0\t\t人気のスマホに強い味方！ドコモ GALAXY NEXUS SC-04D用大容量バッテリー\n",
            "\n",
            "line= kaden-channel\t1\t\t渋い外観はそのままに、高画質なワイド撮影が可能になった！富士フィルムFinePix X100用、ワイドコンバージョンレンズ\n",
            "\n",
            "line= it-life-hack\t0\t\tネットワークダビング対応　ポータブルBDドライブのレビューアー10名を募集\n",
            "\n",
            "line= it-life-hack\t0\t\t脳科学者 茂木氏も登場！教育とテクノロジーの祭典を開催へ\n",
            "\n",
            "line= kaden-channel\t1\t\t寒い冬もスマホが快適に使える！　今週の「週間アスキー」の付録は「超ぬくぬくスマホてぶくろ」\n",
            "\n",
            "line= it-life-hack\t0\t\tすげー、資料にはまだ髪がある！孫社長「記念すべき日になりました」\n",
            "\n",
            "line= it-life-hack\t0\t\tこりゃ商品化は無理！　ユニークなイヤホンジャックカバー（作品）が話題に？\n",
            "\n",
            "line= it-life-hack\t0\t\tシマンテックより警告！　メールアドレスを収集する危険なアプリに要注意！\n",
            "\n",
            "line= it-life-hack\t0\t\tヘンなアプリに要注意！ データぶっこ抜きアプリか？Google playに不審なアプリが出回る\n",
            "\n",
            "line= it-life-hack\t0\t\t写真補正がワンタップでできるアプリ！ SnapDishがlivedoorブログと連携\n",
            "\n",
            "line= it-life-hack\t0\t\tふぉっくす紺子だよ！紺子ぬいぐるみ、みんなのところに行けるといいなぁ\n",
            "\n",
            "line= kaden-channel\t1\t\tiPhoneの同期に要注意！　家族団らんが崩壊したとの報告あり\n",
            "\n",
            "line= kaden-channel\t1\t\tiPhoneユーザー予想外！　iOSアップデートでもバッテリー問題が解決しない！？\n",
            "\n",
            "line= kaden-channel\t1\t\t街のビデオ屋目線のTest Room\n",
            "\n",
            "line= kaden-channel\t1\t\t録画したいほど見たいテレビ番組がない？　録画機を買わない理由がネットで討論\n",
            "\n",
            "line= it-life-hack\t0\t\t将来のノートパソコンの厚みは? 薄型化の限界はどこまで\n",
            "\n",
            "line= it-life-hack\t0\t\tデルの新Ultrabookは光学ドライブ付き！14.3インチディスプレイの「Inspiron 14z」登場\n",
            "\n",
            "line= it-life-hack\t0\t\tUltrabook最大の弱点を裏技で克服！会社や自宅で最強PC環境を作ろう\n",
            "\n",
            "line= it-life-hack\t0\t\tなんだこの不思議な空は？　神奈川周辺で見られた不思議な空が話題に\n",
            "\n",
            "line= it-life-hack\t0\t\tリミッター解除のグラボ登場！MSIよりクロックアップの制限を解除したRadeon HD 7970搭載カード\n",
            "\n",
            "line= it-life-hack\t0\t\tいつでもどこでも自分専用環境！　Ubuntu起動ができるUSBメモリーを作成！\n",
            "\n",
            "line= it-life-hack\t0\t\tおはこんこん、ふぉっくす紺子です！オリジナルグッズがアキバ進出だよ\n",
            "\n",
            "line= kaden-channel\t1\t\tスティーブ・ジョブズが広告業界で「名誉の殿堂」入り！【話題】　\n",
            "\n",
            "line= it-life-hack\t0\t\t複数の大手２ちゃんねるまとめサイトに転載禁止の通達！残ったサイトとの違い\n",
            "\n",
            "line= it-life-hack\t0\t\t何これ欲しい！のキーボード登場！　エレコムのレーザー投影式キーボード\n",
            "\n",
            "line= kaden-channel\t1\t\tiPhoneの値段が高すぎる！　急成長するブラジルに家電メーカーが国内工場や子会社を作るわけ\n",
            "\n",
            "line= kaden-channel\t1\t\t正しい歯磨き方法をコーチしてくれるブラウン電動歯ブラシオーラルBプレミアムモデル新発売\n",
            "\n",
            "line= it-life-hack\t0\t\t英単語をイメージ化して覚える！全単語イラスト付きのワードスケッチTOEICテスト\n",
            "\n",
            "line= it-life-hack\t0\t\tボカロ曲のみのライブ開催　「Voca Nico Night」-Live Stage-8月25日、26日で開催\n",
            "\n",
            "line= it-life-hack\t0\t\t本日のGoogleロゴは砲丸投　Googleロゴがスポーツ関連画像に変化第五弾\n",
            "\n",
            "line= kaden-channel\t1\t\t日本の首都は吉野家で首相はキティちゃん！？　アンサイクロペディアの日本の項目がおもしろい\n",
            "\n",
            "line= kaden-channel\t1\t\tスプレーするだけで、何でも電池にできるペンキ\n",
            "\n",
            "line= it-life-hack\t0\t\tタッチにも対応！ワコム、プロ向けペンタブレット「Intuos5」 が凄い\n",
            "\n",
            "line= kaden-channel\t1\t\tスマートフォンの常識 バッテリーが持たない\n",
            "\n",
            "line= kaden-channel\t1\t\tお前が言うな？　ミヤネ屋の塩谷報道に突っ込み殺到\n",
            "\n",
            "line= kaden-channel\t1\t\tクリスマスはテレビを見よう！実は恋人と過ごす人はたった18.6%…切ない夜を笑いで吹き飛ばしたい人は「すべらない話」第21弾がオススメ\n",
            "\n",
            "line= kaden-channel\t1\t\tセミナーレポート 「EOS MOVIEセミナー〜EOS MOVIEで広がる映像の世界」\n",
            "\n",
            "line= it-life-hack\t0\t\tGALAXY SIIIが圧倒的人気！　MMD研究所「2012年夏発売の携帯電話スマートフォン新端末購入意欲調査」\n",
            "\n",
            "line= it-life-hack\t0\t\tグラフィックスの頂上対決！GeForce GTX680 vs Radeon HD7970\n",
            "\n",
            "line= kaden-channel\t1\t\t盗撮現場を配信!?　無料イベント中継のはずが衝撃的瞬間が発覚\n",
            "\n",
            "line= kaden-channel\t1\t\tまだ間に合う！　今年こそしっかり豆をまく人へ向けたアプリ「節分セット」\n",
            "\n",
            "line= kaden-channel\t1\t\t計測時間を２分に短縮、スリムなルックス、量産体制ばっちり準備中！—エステー 家庭用放射線測定器「エアカウンターS」\n",
            "\n",
            "line= it-life-hack\t0\t\tUSB機器を家族で使える！無線LAN対応USBデバイスサーバー「WN-DS/US」のレビューアーを募集\n",
            "\n",
            "line= it-life-hack\t0\t\tオシャレなページで情報発信！Tumblrのデザインを設定してみよう\n",
            "\n",
            "line= kaden-channel\t1\t\t町でどんどんモバイル充電しよう—パナソニック「無接点対応USBモバイル電源」QE-PL301\n",
            "\n",
            "line= it-life-hack\t0\t\tコペルニクス的転回的なGPU登場！ITニュースの1週間を振り返る\n",
            "\n",
            "line= it-life-hack\t0\t\t静音PCに最適なグラボ登場！　アスクよりファンレスのKepler搭載グラボ登場\n",
            "\n",
            "line= it-life-hack\t0\t\t製造業界に激震か！国内唯一のDRAMメーカーであったエルピーダが倒産\n",
            "\n",
            "line= kaden-channel\t1\t\t「カロリスキャン」が毎日教えてくれる　目標体重達成に必要な運動量\n",
            "\n",
            "line= kaden-channel\t1\t\t今や照明と言えばLEDが常識！続々登場するLEDシーリングライトの新製品\n",
            "\n",
            "line= kaden-channel\t1\t\t超音波で洗浄、オゾンで除菌—野菜洗浄器「くりん棒」\n",
            "\n",
            "line= it-life-hack\t0\t\tそういうことか！Googleロゴが絵画である理由\n",
            "\n",
            "line= it-life-hack\t0\t\tUbuntuをこまめにアップデート 専用ソフトで安全・安心に行える\n",
            "\n",
            "line= kaden-channel\t1\t\t業界初！　富士通など、自社回収したＣＤ／ＤＶＤをノートパソコンに再生利用\n",
            "\n",
            "line= kaden-channel\t1\t\t出火の恐れあり！　ソニーが「ブラビア」18万台を点検・修理\n",
            "\n",
            "line= it-life-hack\t0\t\t購入してよかったの最高はEOS DIGITAL　ブランド総合研究所「デジタル家電イメージ調査2012」\n",
            "\n",
            "line= it-life-hack\t0\t\tジメっとした気分を吹き飛ばせ！　いまが見ごろ、鎌倉の紫陽花写真の数々\n",
            "\n",
            "line= kaden-channel\t1\t\tおっきくなっちゃう？　次期iPhoneにまつわる噂\n",
            "\n",
            "line= kaden-channel\t1\t\tあのタモリさんが不機嫌になり危うく放送事故！　総集編が気になる「笑っていいとも！」\n",
            "\n",
            "line= kaden-channel\t1\t\tソニーは過去最大の赤字で１万人リストラ...　家電業界の凋落はとまらないのか\n",
            "\n",
            "line= it-life-hack\t0\t\tバージョンアップは提供されるのか? Android端末の選び方\n",
            "\n",
            "line= kaden-channel\t1\t\t東芝からロボット掃除機「Ｓｍａｒｂｏ(スマーボ)　ＶＣ−ＲＢ１００」が発売に\n",
            "\n",
            "line= it-life-hack\t0\t\t毎月1,500円がタダ！お金をかけずにドラマや映画を見まくる方法\n",
            "\n",
            "line= kaden-channel\t1\t\t愛菜ちゃんは転ぶも、紅白の結果は紅組が７年ぶりに優勝！\n",
            "\n",
            "line= it-life-hack\t0\t\t少し古いマシンに向くSSD登場！ マイクロンよりSATA2.0に最適化されたSSD\n",
            "\n",
            "line= it-life-hack\t0\t\t1ページに表示する投稿数を読みやすく調整するtumblrワザ\n",
            "\n",
            "line= it-life-hack\t0\t\tゲーム関連の話題まとめ　PC関連だけでなくあらゆるデバイスに精通するデジ通\n",
            "\n",
            "line= kaden-channel\t1\t\t寝るときに？　移動中に？　実は使いにくいとの声も多いiPadのおススメ利用法\n",
            "\n",
            "line= it-life-hack\t0\t\tついに本日、発売開始！パナソニック、最強カスタマイズの「レッツノートSX1」開封レポート\n",
            "\n",
            "line= kaden-channel\t1\t\t春の新生活の必需品！女の子でも簡単に使えるワイヤレスモニタでおうちを更に安心に！\n",
            "\n",
            "line= it-life-hack\t0\t\tもちろん見てきました！デルがはなつUltrabookの本命！写真で見てもカッコイイ「XPS 13」\n",
            "\n",
            "line= it-life-hack\t0\t\tauスマホの新モデルを5秒で解説！「au発表会2012 Summer」速報\n",
            "\n",
            "line= kaden-channel\t1\t\t次に来るのはパカパカiPhone！？　アップルが新たに行った特許申請に夢が広がる\n",
            "\n",
            "line= kaden-channel\t1\t\t「何の自信も持てない」視聴率がとれず自信喪失のAKB前田敦子に同情の声\n",
            "\n",
            "line= kaden-channel\t1\t\tネコでもわかる！「新しい」iPadはここが新しい!!\n",
            "\n",
            "line= kaden-channel\t1\t\t「電力使用状況グラフ」にダマされるな\n",
            "\n",
            "line= kaden-channel\t1\t\t夏休みにおすすめのビデオ編集ソフト\n",
            "\n",
            "line= kaden-channel\t1\t\tウィンドウズ版のDaVinci Resolve8.2 のパブリックベータ版がダウンロード可能に\n",
            "\n",
            "line= it-life-hack\t0\t\t最近使ったファイルをキー操作だけで素早く開く\n",
            "\n",
            "line= it-life-hack\t0\t\t最近使ったファイルを素早くスタートメニューから開く\n",
            "\n",
            "line= it-life-hack\t0\t\t不屈の精神力を持っているか！孫社長の格言的な言葉が話題\n",
            "\n",
            "line= it-life-hack\t0\t\tテレビ録画もガラパゴス化 日本にしか無いテレビ録画機市場\n",
            "\n",
            "line= kaden-channel\t1\t\t窓を開けずに掃除ができる！シャープ　プラズマクラスターサイクロン掃除機が新発売\n",
            "\n",
            "line= kaden-channel\t1\t\tきれいに洗えない！　期待はずれだった家電ナンバー１は食器洗い機\n",
            "\n",
            "line= kaden-channel\t1\t\tUSB HDD録画対応で最大4台同時接続が可能に　「REGZA RE2」に32V型が追加\n",
            "\n",
            "line= kaden-channel\t1\t\tついにケーブル不要？ 無線での高速データ送受信実現か　東京工業大学とソニーが世界最高速のミリ波無線用LSIを共同開発\n",
            "\n",
            "line= kaden-channel\t1\t\t「ハリポタ」抜き１位！　英国版アマゾンで最も売れた本は官能小説！\n",
            "\n",
            "line= it-life-hack\t0\t\t進化するUltrabook　全部入りUltrabookにテカテカ液晶モデルが追加\n",
            "\n",
            "line= kaden-channel\t1\t\tパナソニックが力を入れる「ビューティ」家電\n",
            "\n",
            "line= it-life-hack\t0\t\t3万円台のコンパクトベアボーン　ZOTACのベアボーンに新モデルが登場\n",
            "\n",
            "line= it-life-hack\t0\t\tネット上の無断転載を巡る議論　無断転載はされて当然という意見にTwitterが騒然\n",
            "\n",
            "line= it-life-hack\t0\t\tUbuntuでOffice互換ソフトを使う OpenOfficeをめぐるあれこれ\n",
            "\n",
            "line= it-life-hack\t0\t\tThinkPadをNECで生産へ 2012年秋より日本で試験生産\n",
            "\n",
            "line= kaden-channel\t1\t\t独自のフシギな世界が展開！　吉高由里子のツイッターが気になる\n",
            "\n",
            "line= kaden-channel\t1\t\t災害時、遠隔地でも通信を確保！　法人向けレンタルと販売開始—イリジウム衛星携帯電話のＧＰＳ機能搭載モデルＫＤＤＩ「Ｅｘｔｒｅｍｅ」\n",
            "\n",
            "line= kaden-channel\t1\t\tジョブズ構想のテレビがアップルから登場か\n",
            "\n",
            "line= it-life-hack\t0\t\t話題のスマホの駆動時間をのばす！ドコモ REGZA Phone T-01用大容量バッテリー\n",
            "\n",
            "line= kaden-channel\t1\t\tミラーレス一眼のメリット・デメリットとは？\n",
            "\n",
            "line= kaden-channel\t1\t\t日本に進出する中国家電メーカー！　OEM供給ではすっかり定着\n",
            "\n",
            "line= kaden-channel\t1\t\tソニーが示すコンセントの未来コンセプト!? —FeliCaがユーザーや機器、電気使用量もコントロール\n",
            "\n",
            "line= it-life-hack\t0\t\t同じ趣味の人を紹介し合おう　Facebookで広げる友達の輪\n",
            "\n",
            "line= it-life-hack\t0\t\tインテル社長の自作PCまとめ 吉田社長の個性的な自作機\n",
            "\n",
            "line= kaden-channel\t1\t\t大型サイズはいかが？シャープから「AQUOS　クアトロン　３D」70型が発売に\n",
            "\n",
            "line= it-life-hack\t0\t\t常識を塗り替える軽いUltrabook！新製品ラッシュの1日を振り返る\n",
            "\n",
            "line= it-life-hack\t0\t\t2012年夏モデルも紹介！　新しいネットサービスから新型CPUネタやiアプリまで【デジ通】一気読み\n",
            "\n",
            "line= kaden-channel\t1\t\t三菱電機、ＬＥＤ照明の新ブランド「ミライエ」を展開\n",
            "\n",
            "line= kaden-channel\t1\t\tコダックが大ピンチ！　なんと毎月54億円の大赤字\n",
            "\n",
            "line= kaden-channel\t1\t\tパナソニック、人気の3Dビエラ「GT3シリーズ」に55V型も登場\n",
            "\n",
            "line= it-life-hack\t0\t\t快適化前に最低限しておきたい設定\n",
            "\n",
            "line= it-life-hack\t0\t\ttwitterの写真のほうがカッコいい！孫社長 Facebook開始宣言が話題\n",
            "\n",
            "line= kaden-channel\t1\t\t中の人はこんなに大変！　クリスマス商戦でアマゾン倉庫は大忙しに\n",
            "\n",
            "line= it-life-hack\t0\t\t紙飛行機に足が！　思わず作ってみたくなる足の生えた紙ヒコーキ\n",
            "\n",
            "line= it-life-hack\t0\t\tついつい見入っちゃうよね！　航空会社提供の機内食＆ラウンジ食の数々\n",
            "\n",
            "line= kaden-channel\t1\t\tiPhoneだけじゃない！！　サムスンの「GALAXY S II」もいきなり発火\n",
            "\n",
            "line= it-life-hack\t0\t\t歌＋歌＝歌　見事な才能に感嘆！え？二曲を同時再生するとまったく別の曲が！\n",
            "\n",
            "line= it-life-hack\t0\t\tアナログとデジタルの融合。旧と新の技術が出会った不思議な写真空間\n",
            "\n",
            "line= kaden-channel\t1\t\tPS Vitaをいち早く体験するチャンス！　「東京ゲームショウ2011」開幕中\n",
            "\n",
            "line= kaden-channel\t1\t\t米アマゾンが発表のタブレットは「キンドル・ファイア」！　気になる価格はiPadの半額\n",
            "\n",
            "line= kaden-channel\t1\t\tやっぱり使いにくい！　スマホからガラケーに戻す人が多いらしい!?\n",
            "\n",
            "line= it-life-hack\t0\t\tプレゼンのジェスチャーの参考に！ AMD CEOのパワフルなプレゼンテクニック\n",
            "\n",
            "line= it-life-hack\t0\t\tホットピンクの天板がまぶしいっ！ ASUSTeKが春モデルノート第2弾を発表\n",
            "\n",
            "line= kaden-channel\t1\t\tソニー、高輝度と豊かな色再現性を両立したホームシアタープロジェクターを発売\n",
            "\n",
            "line= it-life-hack\t0\t\tGoogle Drive対抗か！？ Dropboxが着実に機能アップ\n",
            "\n",
            "line= kaden-channel\t1\t\tすぐに暖まって美肌にも効果的なシャーププラズマクラスターエアコン「ＳＸシリーズ」新発売\n",
            "\n",
            "line= kaden-channel\t1\t\tどうしたmixi！　減収減益で最終損益は61.6％減の４億7,400万円\n",
            "\n",
            "line= kaden-channel\t1\t\t失業率の高さも原因か…アメリカの年末商戦、今年は家電も超激安！\n",
            "\n",
            "line= kaden-channel\t1\t\t食洗機がウチ飲みビールをおいしくする！—パナソニックが検証\n",
            "\n",
            "line= it-life-hack\t0\t\t韓国・台湾に続くのは中国！世界に躍り出たZTEの日本侵食は避けられない\n",
            "\n",
            "line= it-life-hack\t0\t\tもう糞アプリとは呼ばせない！これはもはや芸術だ\n",
            "\n",
            "line= it-life-hack\t0\t\tWindowsユーザーにはイマイチ？ アップルの「iCloud」\n",
            "\n",
            "line= kaden-channel\t1\t\tオタクは大人のカラダになれない！　幼児体型が増加中！？　\n",
            "\n",
            "line= it-life-hack\t0\t\t会社用スマホの安全を管理！ MobiConnect（モビ・コネクト）の試用企業を募集\n",
            "\n",
            "line= it-life-hack\t0\t\tデジ一眼に匹敵する最強コンデジ！有効4600万画素の「SIGMA DP2 Merrill」が凄い理由\n",
            "\n",
            "line= it-life-hack\t0\t\tこんこん、ふぉっくす紺子だよ！暑中見舞いカードを無料配布してます\n",
            "\n",
            "line= kaden-channel\t1\t\tパナソニックが新「エコナビ」キャンペーンを開始！ナビゲーターに吉瀬美智子さん\n",
            "\n",
            "line= kaden-channel\t1\t\t無線LANと体重計で「はかるだけ」も手間なしダイエット\n",
            "\n",
            "line= kaden-channel\t1\t\t家庭菜園の流行で注目！　初心者や女性にもぴったりな軽くて使いやすい「ミニ耕運機　ＬＧＣ１２０」\n",
            "\n",
            "line= it-life-hack\t0\t\tスマホで使えるNASに新モデル！　挑戦者の自作NASキット「RockDisk」にHDD入りモデル登場\n",
            "\n",
            "line= it-life-hack\t0\t\tブラウザカスタマイズのポイント解説　Firefox＆Chrome使いこなし術まとめ\n",
            "\n",
            "line= kaden-channel\t1\t\t「上からマリコ」はやっぱりサディスティックだった！　AKB前田敦子がツイッターでネタにされる\n",
            "\n",
            "line= kaden-channel\t1\t\t家庭円満のコツはITにあり!?　オンラインの活用は家族間のコミュニケーションを満足させる\n",
            "\n",
            "line= it-life-hack\t0\t\tオーバークロックを推奨するマザー！ MSI製“超品質”マザーボード「Z77 MPower」登場\n",
            "\n",
            "line= kaden-channel\t1\t\tスマホやタブレットで高音質サウンドをコントロールするAVアンプ—ヤマハ　ＡＶレシーバー　『ＲＸ−Ｖ５７３』\n",
            "\n",
            "line= kaden-channel\t1\t\tブラックマジックデザイン、Avid Media Composer 6のサポートを発表\n",
            "\n",
            "line= kaden-channel\t1\t\tパナソニックAG-AC160、1080/60p記録にも対応\n",
            "\n",
            "line= kaden-channel\t1\t\t店頭で口コミをささっとチェック！　食品のバーコードをスキャンするiPhone/Androidアプリは「もぐナビ」\n",
            "\n",
            "line= kaden-channel\t1\t\tノイズキャンセリングでiPhoneの通話・音楽に集中できる—Creative HN-900\n",
            "\n",
            "line= it-life-hack\t0\t\tAppleとの一騎打ちに死角？スマホシェア1位Samsungが抱える激動の2012年\n",
            "\n",
            "line= it-life-hack\t0\t\tFacebookの意外と知らない裏ワザ！ビジネスユーザーに役立つPC活用術\n",
            "\n",
            "line= it-life-hack\t0\t\tデザイン変更や調整テクニック　Tumblr使いこなしテクニック\n",
            "\n",
            "line= it-life-hack\t0\t\t何だそうだったのか！Googleロゴがキノコになっている理由\n",
            "\n",
            "line= kaden-channel\t1\t\tマリオがたくさん！　ゲームの発売を記念してショッピングセンターでお祭り騒ぎ\n",
            "\n",
            "line= it-life-hack\t0\t\tキンドルの3G回線は無料で使える！書籍購入以外にも使い放題\n",
            "\n",
            "line= it-life-hack\t0\t\t21日は金環食を見よう！　ニコ生やUSTでも25年ぶりの金環食を配信予定\n",
            "\n",
            "line= it-life-hack\t0\t\tこんこん、ふぉっくす紺子だよ！お花見日和なのに、おしごと\n",
            "\n",
            "line= it-life-hack\t0\t\t冷房なしでは低温やけどしそうな熱さ！ 発熱は他製品と同じMacBook Pro Retinaディスプレイモデル\n",
            "\n",
            "line= kaden-channel\t1\t\tこれは切ない！　なくしたiPhoneが「渋谷区のゴミ焼却場なう」\n",
            "\n",
            "line= it-life-hack\t0\t\t叩いてもひっかいてもOK！iPhone液晶を保護するスクリーンプロテクター\n",
            "\n",
            "line= kaden-channel\t1\t\t光の力で写真を変える！いつもの写真をワンランクアップしてかわいい写真を撮る方法\n",
            "\n",
            "line= kaden-channel\t1\t\tマウス本体があなたの手を温める！— 上海問屋 DN-YKS-GMHT-USB\n",
            "\n",
            "line= it-life-hack\t0\t\tiPhoneからどこでもOffice書類にアクセス　SkyeDriveを徹底活用\n",
            "\n",
            "line= kaden-channel\t1\t\tドキドキすると透けちゃう！　心拍数の上昇で変化する近未来ドレスが登場\n",
            "\n",
            "line= it-life-hack\t0\t\tドラクエXで遊ぶのに必要な物 PCの周辺機器を流用できる\n",
            "\n",
            "line= kaden-channel\t1\t\tTest Report タスカム US-125M［USBオーディオインターフェイス］\n",
            "\n",
            "line= kaden-channel\t1\t\t耳の内側でふんばる、けなげなスポーツヘッドホン『HP-S20』でイライラ解消！\n",
            "\n",
            "line= kaden-channel\t1\t\t収入低下！　無料通話サービスでケイタイ会社がヤバい？\n",
            "\n",
            "line= it-life-hack\t0\t\t“3”も“HD”もなかった！　製品名は何と新しい「iPad」\n",
            "\n",
            "line= it-life-hack\t0\t\tコンパクトケース対応のGTX 670！　ツインクーラーで全長の短いGeForce GTX 670搭載グラボ\n",
            "\n",
            "line= kaden-channel\t1\t\t高橋名人も苦言！　買ったばかりのPS Vitaがトラブル続きで不満殺到\n",
            "\n",
            "line= it-life-hack\t0\t\t地方の元気が日本の元気に！「ニコニコ町会議」佐賀県唐津市呼子町に1万6千人が来場\n",
            "\n",
            "line= it-life-hack\t0\t\tその被害は数百万人以上？ 個人情報ぶっこ抜きの不審なAndroidアプリの顛末\n",
            "\n",
            "line= kaden-channel\t1\t\tオリオン電機から発売！　USB接続HDDへ録画対応液晶テレビ\n",
            "\n",
            "line= it-life-hack\t0\t\tニコニコ超会議振り返り第二段　ユーザー生放送の人気のスゴさを実感\n",
            "\n",
            "line= it-life-hack\t0\t\t楽しくリズム感覚が身につく「おやこでリズムえほんプラス」\n",
            "\n",
            "line= it-life-hack\t0\t\tこれでぐっすり！早く眠れる睡眠導入アプリ \n",
            "\n",
            "line= kaden-channel\t1\t\t気になってゆっくり休めない？　ホリデー中に仕事メールをチェックする人は７０％\n",
            "\n",
            "line= it-life-hack\t0\t\tニュースやメールをいつでもチェック！　Chromeをカスタマイズしよう\n",
            "\n",
            "line= kaden-channel\t1\t\t好きなところを温めてほぐすマッサージ器は車載もOK!\n",
            "\n",
            "line= kaden-channel\t1\t\t冷える日本列島！　寒い年末年始をぬくぬく過ごせる便利グッズ\n",
            "\n",
            "line= it-life-hack\t0\t\tゲーム機に必要なストレージ容量は？ ダウンロード販売が本格化\n",
            "\n",
            "line= kaden-channel\t1\t\t東芝、ルートを覚えて４回掃除するスマートロボットクリーナーを発売\n",
            "\n",
            "line= kaden-channel\t1\t\tソニー・エリクソン完全子会社化で、スマホを含めたシームレス事業の展開を 目指すソニー\n",
            "\n",
            "line= kaden-channel\t1\t\tネットの世界は好景気？　オンラインゲームで１０万円のアイテムが２０００個売れた\n",
            "\n",
            "line= it-life-hack\t0\t\t23年ぶりの天体ショー再び！  14日未明は金星食を観測しよう！\n",
            "\n",
            "line= kaden-channel\t1\t\t効果的な節電のために！　朝日電器が電気の無駄使いをチェックできる「エコキーパー」を新発売\n",
            "\n",
            "line= kaden-channel\t1\t\t東電リストラ！　クビを切られたのは人気キャラクター「でんこちゃん」だった\n",
            "\n",
            "line= it-life-hack\t0\t\t本日のGoogleロゴはプレイ可能なハードル　Googleロゴがスポーツ関連画像に変化第八弾\n",
            "\n",
            "line= kaden-channel\t1\t\t朝から圧倒的なエロさ！　マグナムが寂しそうなGACKTのツイッターがおもしろい\n",
            "\n",
            "line= kaden-channel\t1\t\t冬の節電対策は夏のうちに\n",
            "\n",
            "line= kaden-channel\t1\t\t人工知能からHCIへ　グーグルの生みの親が語る、コンピューターと人の関係（１）\n",
            "\n",
            "line= it-life-hack\t0\t\t見せたくない文字は隠してしまうWordの便利ワザ\n",
            "\n",
            "line= kaden-channel\t1\t\t2月記事連動「音の編集講座」効果\n",
            "\n",
            "line= kaden-channel\t1\t\t夜空を見上げよう！　天文写真の撮影に再挑戦\n",
            "\n",
            "line= it-life-hack\t0\t\tCrucialのSSDがより身近に！ アスクがマイクロンジャパン正規代理店に\n",
            "\n",
            "line= kaden-channel\t1\t\tオープンしたての「Apple Store, Grand Central」の様子が公開！　オープン前には行列ができる大賑わい\n",
            "\n",
            "line= kaden-channel\t1\t\tHulu、ついに待望のApple TVに対応！　一周年記念で「Hulu アンバサダープロジェクト」 もスタート\n",
            "\n",
            "line= it-life-hack\t0\t\t新型iPad情報でビンゴも！ITのいまを伝える【デジ通】まとめ読み\n",
            "\n",
            "line= kaden-channel\t1\t\t学生は要チェック！　アップルがMacを買うと1万円分のアプリが買えるキャンペーンをスタート\n",
            "\n",
            "line= kaden-channel\t1\t\t人気アイドルが被害に！　防犯カメラの画像がツイッターにさらされる【話題】　\n",
            "\n",
            "line= it-life-hack\t0\t\tWindows8、Retina Mac情報　PCの情報に精通するデジ通の原点\n",
            "\n",
            "line= it-life-hack\t0\t\t行間を読む　翻訳のされ方で大きく印象が変わる言葉の難しさ\n",
            "\n",
            "line= it-life-hack\t0\t\t最新バージョンに追いつくことはできる？ Android端末選択指南\n",
            "\n",
            "line= it-life-hack\t0\t\tどうやって撮ったの？コンデジで驚きの不思議な写真「Naked Flower（裸の花）」\n",
            "\n",
            "line= kaden-channel\t1\t\t紙に書いた内容をデジタルでも保存できる！ワコムがデジタルボールペン「Inkling」発表\n",
            "\n",
            "line= it-life-hack\t0\t\tExcelで支社名のリストを手早く連続入力する\n",
            "\n",
            "line= it-life-hack\t0\t\tアイコンを変更してフォルダーを目立たせる\n",
            "\n",
            "line= it-life-hack\t0\t\t通信プラットフォーム企画会社の清算に見る次世代LTE開発の行方\n",
            "\n",
            "line= kaden-channel\t1\t\t笑いありマジメなコメントあり・・・ハム太郎公式ツイッターが大人気\n",
            "\n",
            "line= kaden-channel\t1\t\tこれは便利！ありそうでなかった電動ホチキス＆電動パンチ、サンワサプライから発売\n",
            "\n",
            "line= it-life-hack\t0\t\tiPhone版Google Drive体験レポ！情報満載の1日を振り返る\n",
            "\n",
            "line= kaden-channel\t1\t\t無線LAN搭載のミラーレス一眼！　ソニーが「NEX-5R」を海外発表\n",
            "\n",
            "line= kaden-channel\t1\t\tAndroidでGoogle+を使うのが気に入ってきたワケ\n",
            "\n",
            "line= it-life-hack\t0\t\t賞品がもらえるコンテストも応募受付中！zigsow、「やってみよう！オーバークロック」がスタート\n",
            "\n",
            "line= kaden-channel\t1\t\t今日から役立つ、実践ムービーカメラ講座\n",
            "\n",
            "line= it-life-hack\t0\t\t本音トークが炸裂！これが「Android ライターサミット」だ\n",
            "\n",
            "line= it-life-hack\t0\t\t危険なのはWindowsだけではない！無料のセキュリティソフトを活用する - Mac必須アプリ (最終回)\n",
            "\n",
            "line= kaden-channel\t1\t\tシングル７００人が参加！　ロンブー淳のお見合い企画はまた盛況！\n",
            "\n",
            "line= kaden-channel\t1\t\tプライバシーについてもう一度見直しを！　フェイスブック利用者に要注意\n",
            "\n",
            "line= kaden-channel\t1\t\t村上春樹はじめてのCM！　箱根駅伝で２日間の限定放送\n",
            "\n",
            "line= kaden-channel\t1\t\t女の子は誰でも好きな「ガチピンク」！人気モデルがドコモのスマホをアピール\n",
            "\n",
            "line= kaden-channel\t1\t\t脚本家がネタバレしちゃった！？　「家政婦のミタ」が今夜ついに最終回\n",
            "\n",
            "line= it-life-hack\t0\t\tソフトバンクのスマホに強い味方！ソフトバンク AQUOS PHONE 102SH対応大容量バッテリー\n",
            "\n",
            "line= kaden-channel\t1\t\t目に見えない「透明マント」光学素子が、 映像機器を変える\n",
            "\n",
            "line= it-life-hack\t0\t\tウェブセキュリティの向上を目指すOWASPとは \n",
            "\n",
            "line= it-life-hack\t0\t\tPS Vita 3G版で3G解約は何割？情報満載の1日を振り返る\n",
            "\n",
            "line= kaden-channel\t1\t\t使える素材から伝えたいメッセージを効果的にまとめる。編集のお仕事\n",
            "\n",
            "line= kaden-channel\t1\t\t薄型テレビの売り上げが過去最高！　ビックカメラが発表\n",
            "\n",
            "line= kaden-channel\t1\t\t芸能・ゴシップ・エンタメニュースならお任せ！livedoor無料公式アプリ「三面貴族」\n",
            "\n",
            "line= it-life-hack\t0\t\t今話題の画像系SNS「Pinterest 」（ピンタレスト）をiPhoneで快適に使う！ \n",
            "\n",
            "line= it-life-hack\t0\t\tおはこんこん！紺子ぬいぐるみ、まんまるなお目々で進行中です\n",
            "\n",
            "line= it-life-hack\t0\t\tインテル最新プロセッサが登場！ 新Ultrabookへの採用はいつ? \n",
            "\n",
            "line= kaden-channel\t1\t\t関電の節電要請は２２日で終了\n",
            "\n",
            "line= kaden-channel\t1\t\tネットはバカ発見器？　SNSの普及で拡大する実名制に要注意\n",
            "\n",
            "line= kaden-channel\t1\t\t選手のゲームができるかも!?　「横浜DeNAベイスターズ」がついに誕生へ\n",
            "\n",
            "line= kaden-channel\t1\t\t魁!! ビデオ道場　2012年２月号\n",
            "\n",
            "line= it-life-hack\t0\t\tカワイイけど難しい“カワむず”なパズルゲーム「ねこずらし」が楽しい\n",
            "\n",
            "line= kaden-channel\t1\t\t写真を合成してより自然な１枚を作る！「ハイダイナミックレンジ合成」に挑戦　\n",
            "\n",
            "line= kaden-channel\t1\t\t一晩平均３０通！？　アメリカのティーンはケータイしすぎで睡眠不足\n",
            "\n",
            "line= it-life-hack\t0\t\t2年間で20万円超のスマホ料金！？ 音声専用契約からの変更では何と6倍に\n",
            "\n",
            "line= it-life-hack\t0\t\t外出先で録りためたビデオを見る！クラウドの動画ライブラリを作ろう\n",
            "\n",
            "line= it-life-hack\t0\t\t今度は大丈夫？ iPhoneで24時間無料のWi-Fi！「LAWSON Wi-Fiサービス」が大幅アップデート\n",
            "\n",
            "line= it-life-hack\t0\t\t自然災害だからと諦めない！　災害救助法適用地区に関する特別サービスを利用しよう\n",
            "\n",
            "line= it-life-hack\t0\t\tえ？コミュ障？　それでも平気！ どんな人とも10秒でうちとけて話せる本\n",
            "\n",
            "line= it-life-hack\t0\t\t人生には笑いと驚きが必要だ！面白いニュースをどんどんシェアするITニュース活用法\n",
            "\n",
            "line= it-life-hack\t0\t\t電波監理審議会が答申！プラチナバンド900MHz帯はソフトバンクへ\n",
            "\n",
            "line= kaden-channel\t1\t\t時間つぶしに有効？　ゲーセンに設置されている一人用カラオケボックス\n",
            "\n",
            "line= kaden-channel\t1\t\tきっかけは知事のつぶやき！　ジョジョの荒木飛呂彦氏イラストで岩手県HPがダウン\n",
            "\n",
            "line= it-life-hack\t0\t\tファーストサーバがまたも謝罪！復元時に他人の情報を漏えいか\n",
            "\n",
            "line= kaden-channel\t1\t\t来春開局のスマホ向け放送局「NOTTV」は今までのテレビと何が違うのか？\n",
            "\n",
            "line= kaden-channel\t1\t\t静かにお掃除！パナソニックから運転音53ｄBのサイクロン掃除機登場\n",
            "\n",
            "line= it-life-hack\t0\t\tWebで認知症チェックができる！ 日本初の認知機能チェックサービス「脳測」正式公開\n",
            "\n",
            "line= kaden-channel\t1\t\tセンター試験終了！　受験生ファンに眞鍋かをりが的確なアドバイスをしていた\n",
            "\n",
            "line= it-life-hack\t0\t\t「ゴミ箱に入れるだけ」ではない！アプリ関連ファイルの削除を確実に - Mac必須アプリ (5)\n",
            "\n",
            "line= kaden-channel\t1\t\tスマホを買ったらまずFacebook？　Androidユーザーがよく使うアプリはアプリストアとFacebook\n",
            "\n",
            "line= it-life-hack\t0\t\tFacebookで友達宛にコメントを付けたことを知らせたい\n",
            "\n",
            "line= it-life-hack\t0\t\t電子ブックリーダー「kobo Touch」の実機が見られる！楽天が大手書店と連携した理由\n",
            "\n",
            "line= kaden-channel\t1\t\t充電中の青い光が美しい！　サンワサプライ「光るiPhone・iPad USBケーブル」\n",
            "\n",
            "line= it-life-hack\t0\t\tスマホライフスタイルを提案！KDDI 甘田氏が語る、関西KDDIの強さの秘密\n",
            "\n",
            "line= it-life-hack\t0\t\t「すぐつく」の機能は微妙に異なる！テレビ機能の競い合い続く国産PC\n",
            "\n",
            "line= kaden-channel\t1\t\tアルインコ、イスにセットして使う「どこでもマッサージャー　モミっくすキングＮＥＯ」を発売\n",
            "\n",
            "line= kaden-channel\t1\t\tDaVinci Resolve Lite 8.1 でノードが無制限に！\n",
            "\n",
            "line= it-life-hack\t0\t\t龍馬がいたら原発はどうなる？孫社長の問い掛けに賛否両論\n",
            "\n",
            "line= kaden-channel\t1\t\t待望のEOS 5D Mark III、動画の進化のポイントは？\n",
            "\n",
            "line= kaden-channel\t1\t\t感覚・体験を共有する　タッチ・インターネットが拓く未来（３）\n",
            "\n",
            "line= it-life-hack\t0\t\t何これキモい！　ツイッターのTLの合間に出てくる怪しい生物画像が話題に\n",
            "\n",
            "line= kaden-channel\t1\t\tソニーから発売の小型で高感度なヘッドホンは独自開発のバランスド・アーマチュアドライバーユニットを採用\n",
            "\n",
            "line= kaden-channel\t1\t\t押すとしゃべる！　テレ東が「ピカチュウリモコン」を７，７７７名にプレゼント！\n",
            "\n",
            "line= it-life-hack\t0\t\tかっこ良すぎるまな板！　アスクよりAerocoolの「Strike-X AIR」登場\n",
            "\n",
            "line= kaden-channel\t1\t\tスタイリングってなに？　いつもの写真をワンランクアップ！　かわいい写真を撮る方法\n",
            "\n",
            "line= kaden-channel\t1\t\tボーズ、シンプルで簡単な操作パネルの高音質スピーカープロセッサーを発表\n",
            "\n",
            "line= it-life-hack\t0\t\tクリエイターと読者が創るソーシャル時代の電子書籍サービス「Yomuca」\n",
            "\n",
            "line= kaden-channel\t1\t\tパナソニックが交通事故のない未来へ大きな一歩—夜間や悪天候でも車両と人をクッキリ検出できるミリ波レーダー技術を開発\n",
            "\n",
            "line= it-life-hack\t0\t\tこの谷間写真は誰得？　Twitterのハッシュタグ「#女子谷間晒し祭」で大いに盛り上がる\n",
            "\n",
            "line= kaden-channel\t1\t\tテレビ業界が迷走中・・・課題を抱えたスマートテレビの普及はどうなる？\n",
            "\n",
            "line= kaden-channel\t1\t\t今年は秋冬も節電！岩谷産業の「カセットガスストーブ」は持ち運びも便利\n",
            "\n",
            "line= it-life-hack\t0\t\t今年の夏は湘南とお台場へGo！　ニコニコ神社、夏の出張はお台場と海の家\n",
            "\n",
            "line= it-life-hack\t0\t\t英語の筆記体書けますか？ あなたも筆記体が書けるようになるアプリ\n",
            "\n",
            "line= it-life-hack\t0\t\tウィンドウを拡大し自在に動かす！プレゼンからPC操作の説明まで使える「ZoomIT」\n",
            "\n",
            "line= it-life-hack\t0\t\tGALAXY Noteをキーボードで使う！　Bluetoothキーボード付き専用カバー\n",
            "\n",
            "line= it-life-hack\t0\t\t毎日数十万番組！ニコニコ生放送の放送番組数が1億番組を突破\n",
            "\n",
            "line= it-life-hack\t0\t\t出席者の数がすぐにわかるExcelワザ\n",
            "\n",
            "line= kaden-channel\t1\t\tYES！　高須度チェック！　予想の斜め上を行く高須クリニックのスペシャルサイトに困惑\n",
            "\n",
            "line= it-life-hack\t0\t\tデジ一眼に匹敵する最強コンデジ！情報満載の怒濤の1日を振り返る\n",
            "\n",
            "line= kaden-channel\t1\t\t「一番アカン日！」司会の今田耕司も嘆くフジテレビの大晦日は大コケ！　視聴率はまさかの一桁\n",
            "\n",
            "line= it-life-hack\t0\t\t電子書籍では何が重要なのか？ 本格化する日本の電子書籍\n",
            "\n",
            "line= kaden-channel\t1\t\tパスポートがなくてももう大丈夫？　iPadで入国できちゃった！\n",
            "\n",
            "line= kaden-channel\t1\t\t人気マンガで視聴率を取れるか！？　「孤独のグルメ」実写ドラマ化に早くも大注目\n",
            "\n",
            "line= it-life-hack\t0\t\t定番スキャナがiPhone＆スマホに対応！　iPhoneやAndroidからスキャンできるScanSnap登場\n",
            "\n",
            "line= kaden-channel\t1\t\tスターウォーズ「R2-D2」をイメージした限定Xbox発売決定！　ダサい？　それともレトロでかわいい？\n",
            "\n",
            "line= it-life-hack\t0\t\t入社3年後の定着率9割以上！孫社長の雇用発言がネットで話題\n",
            "\n",
            "line= it-life-hack\t0\t\tシンプル・スリム！スタンドやiPhoneを張り付ける不思議なマグネットスタンド&カバーケース\n",
            "\n",
            "line= kaden-channel\t1\t\t「傷だらけのローラ」になる？　ついにローラVS黒柳徹子の対決が実現！\n",
            "\n",
            "line= kaden-channel\t1\t\t約2倍の広さで日本最大級規模！　ヨドバシカメラ梅田店が新ビルを建設へ\n",
            "\n",
            "line= it-life-hack\t0\t\t旅行に行く人へチャンス！海外パケット定額使い放題サービスのレビューアー10名を募集\n",
            "\n",
            "line= kaden-channel\t1\t\tクリスマスはテレビを見よう！　クリスマスを恨めしく思う女子はイブの夜に「祝女」スペシャルがおすすめ\n",
            "\n",
            "line= kaden-channel\t1\t\tウサギから最後のお願い「あけおめメールは午前２時まで控えて！」　各キャリアがお願い\n",
            "\n",
            "line= it-life-hack\t0\t\t入力し直し不要！　Excelで表の行と列を入れ替える\n",
            "\n",
            "line= it-life-hack\t0\t\t転売厨に要注意！　創刊当日に休刊が決定したコミック雑誌がamazonで高値で転売される\n",
            "\n",
            "line= it-life-hack\t0\t\tスクラップブックが簡単にできる！写真加工アプリ\n",
            "\n",
            "line= it-life-hack\t0\t\tガガを聴きながら毎朝歯磨き！　レディー・ガガ　シンギングトゥースブラシ独占先行販売\n",
            "\n",
            "line= kaden-channel\t1\t\t楽天が電子書籍に本腰！　カナダの電子書籍企業「Kobo」社を買収\n",
            "\n",
            "line= kaden-channel\t1\t\t阪神が一番嫌いだった！　手を抜いたことある！　新庄剛志がテレビで衝撃告白\n",
            "\n",
            "line= it-life-hack\t0\t\tおはこんこん、アキバ大好き！祭りだよ\n",
            "\n",
            "line= it-life-hack\t0\t\tPCレスで地デジ視聴！地デジチューナー搭載の無線LANルーター\n",
            "\n",
            "line= it-life-hack\t0\t\t今もっとも注目の「Ultrabook」が20台貰えるレビューアー募集！活用サイト「Ultrabooker.jp」がオープン記念\n",
            "\n",
            "line= it-life-hack\t0\t\tマイクロソフトが方針転換を始めた！マイクロソフトの独自タブレット\n",
            "\n",
            "line= it-life-hack\t0\t\tゲリラ豪雨にも勝てる？ iPhoneをマイ自転車に搭載できる強力な防水機能マウント \n",
            "\n",
            "line= kaden-channel\t1\t\t三菱電機から2つのセンサーで自動的に節電可能な頼もしい冷蔵庫「RXシリーズ」が新発売\n",
            "\n",
            "line= it-life-hack\t0\t\t企業の業績と戦略をiPadでチェック！「IR資料・会社資料ダウンロードサービス」\n",
            "\n",
            "line= kaden-channel\t1\t\t「OLYMPUS Viewer 2」のバージョンアッププログラム明日公開\n",
            "\n",
            "line= it-life-hack\t0\t\tおはこんこん、ふぉっくす紺子だよ！新しいおしらせ\n",
            "\n",
            "line= it-life-hack\t0\t\t連続入力するデータを自分で作っちゃおう！　Excel便利ワザ\n",
            "\n",
            "line= kaden-channel\t1\t\tテレビ離れを阻止せよ！日立から偏向方式3D対応、高画質・省エネ性アップの「Wooo」新機種発売\n",
            "\n",
            "line= it-life-hack\t0\t\tプレイ可能なGoogleロゴ第四弾！　Googleロゴがスポーツ関連画像に変化第十一弾\n",
            "\n",
            "line= kaden-channel\t1\t\t斬新なデザインで実用機能充実のピコプロジェクター「i Show」登場\n",
            "\n",
            "line= kaden-channel\t1\t\t予想外？　iPhone4S購入のユーザーで20％は購入を後悔\n",
            "\n",
            "line= it-life-hack\t0\t\tおめでとうございます！孫社長 王会長との記念写真を掲載\n",
            "\n",
            "line= it-life-hack\t0\t\t旧式Macで禁断のパワーアップ！最新PCやソフトを一挙にチェック\n",
            "\n",
            "line= it-life-hack\t0\t\t話題集めの必需品！ お待たせしました！三面貴族のiOS版が登場！\n",
            "\n",
            "line= kaden-channel\t1\t\t徹子VSローラ番外編!?　ローラがブログで徹子をディスった？\n",
            "\n",
            "line= it-life-hack\t0\t\tWindows 8 Proが1200円！ 「Windows 8 優待購入プログラム」\n",
            "\n",
            "line= it-life-hack\t0\t\tSSDのフォーマットに注意！ eSATA対応外付けケースを活用 “続インテル SSD 520をMacに装着” （中）\n",
            "\n",
            "line= it-life-hack\t0\t\tアナログとデジタル、リアリティと幻想が混在する不思議！文本貴士氏の写真展「追憶」を開催へ\n",
            "\n",
            "line= it-life-hack\t0\t\t加入者は追加料金なしでOK！ WOWOWのスマホ向けオンデマンドサービス\n",
            "\n",
            "line= kaden-channel\t1\t\tもはや格闘ドラマ？　松潤主演の「ラッキーセブン」は今後が楽しみな初回16.3％\n",
            "\n",
            "line= it-life-hack\t0\t\tタグ付けから友達管理まで　Facebook活用のスゴ技・裏技テクニック集\n",
            "\n",
            "line= kaden-channel\t1\t\t個人情報が丸裸に！　法で取り締まられてもいいレベルのGoogle新プライバシーポリシーに騒然\n",
            "\n",
            "line= kaden-channel\t1\t\t東京電力が保有するＫＤＤＩ全株売却を発表。売却総額は1862億円\n",
            "\n",
            "line= kaden-channel\t1\t\tKDDI音楽配信サービス配信「LISMO Music Store」を年内終了へ\n",
            "\n",
            "line= it-life-hack\t0\t\tヤバイぜ！楽しすぎる！　ニコニコ超会議はガチでマジで“超”楽しい！\n",
            "\n",
            "line= kaden-channel\t1\t\tたった86gのフルハイビジョンカメラで峠を、ビーチを攻める！—サンワダイレクト『自転車車載カメラ（防水・フルＨＤ）４００−ＣＡＭ０１１』\n",
            "\n",
            "line= kaden-channel\t1\t\t「履歴書ってパソコンで作ったらダメなの？」パソコンVS手書きについて考える\n",
            "\n",
            "line= it-life-hack\t0\t\tいつでもどこでも自分専用環境！Windowsトラブル時にも使えるUbuntu\n",
            "\n",
            "line= kaden-channel\t1\t\t魁!! ビデオ道場　2012年3月号\n",
            "\n",
            "line= it-life-hack\t0\t\tこういうWiFi名もアリ？　自作自演もある楽しいWiFiアクセスポイント名\n",
            "\n",
            "line= kaden-channel\t1\t\t売れすぎて楽天ランキング１位に！　ディスプレイ用のパソコンを本物と間違えてうっかり購入多発\n",
            "\n",
            "line= it-life-hack\t0\t\tUltrabookユーザー必見！爆速無線LANルーターのレビューアー5名を募集\n",
            "\n",
            "line= kaden-channel\t1\t\t露骨すぎる！？サムスンがiPhoneは古いとアンチキャンペーンを展開\n",
            "\n",
            "line= it-life-hack\t0\t\t起業家のための事業継続支援サイト「開業計画NAVI」を立ち上げ！\n",
            "\n",
            "line= kaden-channel\t1\t\t2012年３月号「音の編集講座」BGM\n",
            "\n",
            "line= kaden-channel\t1\t\tネット怪談！　インターネットで体験したゾッとした話\n",
            "\n",
            "line= kaden-channel\t1\t\t高画質で節電にも貢献する日立「Wooo」新モデル6機種が続々発売\n",
            "\n",
            "line= kaden-channel\t1\t\tモテる女子はみんな持ってる！　もっとキレイになる便利家電\n",
            "\n",
            "line= it-life-hack\t0\t\tドコモ、薄さ6.7mmの極薄スマホを発売へ！ドコモ、「MEDIAS ES N-05D」が凄い理由\n",
            "\n",
            "line= kaden-channel\t1\t\tオール電化の家庭に衝撃！　経産省専門委がオール電化割引に廃止要請\n",
            "\n",
            "line= kaden-channel\t1\t\tミラーレス一眼のミラーレスってなに？\n",
            "\n",
            "line= it-life-hack\t0\t\tサムスンがテーブル型PCを投入！Surface 2.0を搭載するPCの魅力\n",
            "\n",
            "line= kaden-channel\t1\t\tアデランスが提案！　スカルプ・フェイス・ボディのお手入れを手軽に自宅でできる『ＨａｉｒＲｅｐｒｏ ＵＰ（ヘアリプロユーピー）』登場\n",
            "\n",
            "line= kaden-channel\t1\t\tバンギャもバンドマンも要注目！　アンプにしか見えない冷蔵庫が登場\n",
            "\n",
            "line= kaden-channel\t1\t\t娘がFacebookでハブられて激怒！　父親が元友達２人を殺害\n",
            "\n",
            "line= kaden-channel\t1\t\tモノの置き方でスタイリング！　いつもの写真をワンランクアップしてかわいい写真を撮る方法\n",
            "\n",
            "line= it-life-hack\t0\t\t同窓会や女子会で大活躍！　Facebookで簡単イベント作成\n",
            "\n",
            "line= it-life-hack\t0\t\t明日は福島県三春町で町会議！　北の大地に2千人来場！北海道長万部町の町会議\n",
            "\n",
            "line= it-life-hack\t0\t\tフリップカバーにスタンド＆バッテリーまで内蔵！ GALAXY SIII専用ケース\n",
            "\n",
            "line= kaden-channel\t1\t\tこれなら欲しい？　PS Vitaのニセモノが海外で登場、名前は「PS Vista」\n",
            "\n",
            "line= it-life-hack\t0\t\tアップルがモバイル市場を牽引！国内モバイルデバイス市場規模が明らかに\n",
            "\n",
            "line= kaden-channel\t1\t\tニコン、Ａｎｄｒｏｉｄ搭載Ｗｉ−Ｆｉ対応デジカメなどＣＯＯＬＰＩＸ　Ｓシリーズ３機種を発売\n",
            "\n",
            "line= kaden-channel\t1\t\tいきいきとした表情をリアルに撮る方法を紹介！　オーストラリアの動物を撮影してきました\n",
            "\n",
            "line= it-life-hack\t0\t\tamazonでAMEX決済なら要注意！ amazonで買い物したら100倍の請求金額に口があんぐり！\n",
            "\n",
            "line= kaden-channel\t1\t\tデロンギが消費電力20％OFFのオイルヒーターを発売\n",
            "\n",
            "line= kaden-channel\t1\t\tソーシャルメディアとの親しみ方を今一度考える機会『世界を変えたソーシャルメディア革命の落とし穴』\n",
            "\n",
            "line= it-life-hack\t0\t\t御苦労さま！そしてありがとう！　スペースシャトル・ディスカバリー号、最後の飛行\n",
            "\n",
            "line= it-life-hack\t0\t\tiPhone5やiPad miniは姿を見せるか？アップルのWWDCを日本語で解説\n",
            "\n",
            "line= kaden-channel\t1\t\tつぶやくだけで広告収入ゲット！　「ツイッター広告サービス」ってなんだ\n",
            "\n",
            "line= kaden-channel\t1\t\t１２年振りの新曲は音質違いを複数リリース！　LUNA SEAが切り開く新しい音楽ビジネス\n",
            "\n",
            "line= it-life-hack\t0\t\t真夏のダンスに15万人が熱狂　大盛況だったニコニコダンスマスター4レポート\n",
            "\n",
            "line= it-life-hack\t0\t\t新感覚UIを体験せよ！今話題のTODOリストアプリ「Clear」\n",
            "\n",
            "line= it-life-hack\t0\t\tExcelの新規ファイルにムダなシートを作らない\n",
            "\n",
            "line= it-life-hack\t0\t\t私立中高5校とコラボ！　iPhone＆Androidアプリ制作を学ぶ「Life is Tech!サマーキャンプ」\n",
            "\n",
            "line= it-life-hack\t0\t\tじゃあ、その分の電気使わないでね！孫社長「大飯原発、運転継続理解できない」\n",
            "\n",
            "line= it-life-hack\t0\t\t金環食で思わぬ経済効果？　太陽に直接カメラを向けて壊した人が続出？\n",
            "\n",
            "line= kaden-channel\t1\t\t感覚・体験を共有する　タッチ・インターネットが拓く未来（５）\n",
            "\n",
            "line= kaden-channel\t1\t\tauが2011年秋冬ラインアップを発表！au同士通話無料の新プランも発表\n",
            "\n",
            "line= kaden-channel\t1\t\tたくましい？恥ずかしい？ネットで学費援助を求める女子大生が登場！\n",
            "\n",
            "line= kaden-channel\t1\t\t感想をシェアしながら映画鑑賞！　ニコニコ動画がワーナーと連携し映画配信\n",
            "\n",
            "line= kaden-channel\t1\t\tまずはソフトバンクが優勢？　「iPhone4S」いよいよ発売\n",
            "\n",
            "line= kaden-channel\t1\t\tソニー、１０倍ズームで３．０型タッチパネル搭載の“サイバーショット”「ＤＳＣ−ＷＸ１７０」を発売\n",
            "\n",
            "line= kaden-channel\t1\t\t日テレで出る出る詐欺！　出演を告知していた中島騒動の占い師が登場せず\n",
            "\n",
            "line= it-life-hack\t0\t\t不正コピーの発覚で多額の賠償金！組織内不正コピー防止キャンペーンを実施した理由\n",
            "\n",
            "line= kaden-channel\t1\t\tYouTubeでは18禁！　AKB48のチューCMが非難殺到\n",
            "\n",
            "line= kaden-channel\t1\t\t操作簡単ICレコーダーと予約エアチェック機能つきラジオ、単三電池で稼働！—ロジテック『ＬＩＣ−ＲＲ１００』\n",
            "\n",
            "line= kaden-channel\t1\t\tスマホゲームへの移り変わりに要注意！　いままでのゲームと同じだとビジネスチャンスを逃す！\n",
            "\n",
            "line= it-life-hack\t0\t\tアップルに対抗できるのか? マイクロソフトの独自タブレット\n",
            "\n",
            "line= it-life-hack\t0\t\tウェブページのイメージを丸ごと取り込むワザ\n",
            "\n",
            "line= it-life-hack\t0\t\t廃プレイせずとも楽しめるドラクエX！　 プレイしなくても他プレーヤーとの差が広がらない仕組み\n",
            "\n",
            "line= kaden-channel\t1\t\tフルキーボードのスマートフォン「REGZA Phone IS11T」がａｕに登場\n",
            "\n",
            "line= kaden-channel\t1\t\t夢のエコ製品発見！じゃがいもで動く「じゃがいも　eco時計」新発売\n",
            "\n",
            "line= kaden-channel\t1\t\tラブロス、家庭用冷蔵庫や車など多用途に使える複合電池式非常用蓄電池を発売\n",
            "\n",
            "line= kaden-channel\t1\t\tGoogleのモトローラ買収でAndroid市場は変質するのか？\n",
            "\n",
            "line= kaden-channel\t1\t\tサムスンがアップルに逆転勝訴！　オーストラリアでの販売差し止め取り消し\n",
            "\n",
            "line= it-life-hack\t0\t\t周辺地域の情報をゲット「ご当地ニュースbyロケタッチ新聞」リリース\n",
            "\n",
            "line= kaden-channel\t1\t\t日本と韓国の映画・ドラマも配信開始！　人気の動画配信サイトHuluがますます便利に\n",
            "\n",
            "line= it-life-hack\t0\t\t意外と知らないExcelのウラ技！仕事で役立つウルトラテクニック\n",
            "\n",
            "line= it-life-hack\t0\t\tパチンコ店でも通話がクリア！電話としてのau最新スマホの音声を徹底チェック\n",
            "\n",
            "line= kaden-channel\t1\t\tTwitterでまた事件！　今度はビビる大木が悪口を言うショップ店員に怒り心頭！\n",
            "\n",
            "line= kaden-channel\t1\t\t今年のバレンタインはツイッターで「欲しい！」をアピール！男子必見の「chochokure」に注目\n",
            "\n",
            "line= it-life-hack\t0\t\t週末はPC活用＆メンテナンス！　【PC快適術】でPCをチェックしより快適に使おう\n",
            "\n",
            "line= it-life-hack\t0\t\t大容量なのに軽い！スマホもタブレットもこれ1個で充電できる実用度の高い「i・mee」\n",
            "\n",
            "line= kaden-channel\t1\t\tユーザーの不満爆発でレビューを閉鎖！楽天の電子書籍端末「kobo」は大丈夫か？\n",
            "\n",
            "line= it-life-hack\t0\t\tネット時代の便利サイト！PCのお気に入りをタブレットで使う技\n",
            "\n",
            "line= kaden-channel\t1\t\t野菜でキレイになる！　自宅でパックが簡単に作れるフェイシャルパックメーカー\n",
            "\n",
            "line= kaden-channel\t1\t\t人気の話題「○○だけど質問ある？」で戦闘機が家に突っ込んできた人が登場\n",
            "\n",
            "line= kaden-channel\t1\t\tサマンサタバサがキャノンとコラボ！　限定デジカメ「IXY 600F シャンパンピンク」発売\n",
            "\n",
            "line= it-life-hack\t0\t\t進化し続けるMac狙うマルウェア \n",
            "\n",
            "line= it-life-hack\t0\t\t株価・国債・為替、何でもチェック！超便利なブルームバーグのiPadアプリ\n",
            "\n",
            "line= it-life-hack\t0\t\tピークシフト機能がさらに進化 パソコンの節電も高機能へ\n",
            "\n",
            "line= it-life-hack\t0\t\tその正直さかっけーっす！ Transcend Japan公式Twitterアカウントの“漢”さ\n",
            "\n",
            "line= kaden-channel\t1\t\t誰もがスマホに持つ不満はやっぱりあれ！　対策法は？\n",
            "\n",
            "line= it-life-hack\t0\t\t有線スピーカーがBluetooth対応に！ロジクール ワイヤレススピーカーアダプターを限定発売\n",
            "\n",
            "line= kaden-channel\t1\t\tニコン電動レンズの作例\n",
            "\n",
            "line= it-life-hack\t0\t\tLINEで新たな価値を提供！LINE公式アカウントに小説コンテンツ「トークノベル」を追加\n",
            "\n",
            "line= kaden-channel\t1\t\tオリンパスイメージング、防水・耐衝撃などを備えたコンパクトデジタルカメラ５機種を発売\n",
            "\n",
            "line= kaden-channel\t1\t\tマイナス成長のデジカメ業界で安定推移したのはミラーレス一眼！\n",
            "\n",
            "line= kaden-channel\t1\t\t新時代の「カセット」持ち運び自由なHDDを楽しめ！日立マクセルからｉＶプレーヤー新発売\n",
            "\n",
            "line= kaden-channel\t1\t\t感覚・体験を共有する　タッチ・インターネットが拓く未来（２）\n",
            "\n",
            "line= it-life-hack\t0\t\tGIGABYTEマーケティング部門副部長が語る！アキバで見たシニア世代に感動\n",
            "\n",
            "line= kaden-channel\t1\t\t抑え気味の価格も魅力！　シャープ「LED AQUOS」シリーズに６０型が登場\n",
            "\n",
            "line= it-life-hack\t0\t\tSSDでMacの起動は爆速化！ しかし限界も… 続・Intel 520 SSDを旧Macに装着 （下）\n",
            "\n",
            "line= it-life-hack\t0\t\t上部タブが追加されてさらにできるようになった“俺だけポータル”「ライフリスト」\n",
            "\n",
            "line= it-life-hack\t0\t\tネットで気軽にフォトブックの編集注文ができる！「ドリームページ」のレビューアーを30名募集\n",
            "\n",
            "line= kaden-channel\t1\t\tモーション・コントロール・タイムラプスの作例\n",
            "\n",
            "line= kaden-channel\t1\t\tあなたは大丈夫？　40代会社員はパソコンが使えない人多し！\n",
            "\n",
            "line= kaden-channel\t1\t\t実現可能？　夢物語？　月にメガソーラー構想で世界の総電力が発電可能に\n",
            "\n",
            "line= it-life-hack\t0\t\t超薄Ultrabookに両面液晶ノート！ COMPTEX TAIPEI 2012が開幕\n",
            "\n",
            "line= it-life-hack\t0\t\t117万2132件の動画中最高の1本！情報満載の1日を振り返る\n",
            "\n",
            "line= it-life-hack\t0\t\t間違いなくワイルドなiPhoneカバー！　スギちゃんのiPhoneカバー登場！\n",
            "\n",
            "line= it-life-hack\t0\t\t29日はアキバへGo！　レビューアー100人以上を大募集の太っ腹企画開催！\n",
            "\n",
            "line= it-life-hack\t0\t\tようこそ、ケーブルのない世界へ！クリアな音質のBluetooth対応ヘッドセット\n",
            "\n",
            "line= kaden-channel\t1\t\t誰でもかっこよくなれる！　男の正しい眉整え術\n",
            "\n",
            "line= it-life-hack\t0\t\t待ってましたのGPUが発売！新型Radeon HD搭載カードが続々登場中\n",
            "\n",
            "line= kaden-channel\t1\t\tニートから「レイブル」への名称変更にネットアンケートでは「効果ない」\n",
            "\n",
            "line= it-life-hack\t0\t\tビデオメモリー4GBの意味は？　低価格ながら4GBメモリー搭載のグラボ\n",
            "\n",
            "line= kaden-channel\t1\t\tソニーが3G、Wi-Fi対応の電子書籍リーダー「Reader」を発表\n",
            "\n",
            "line= it-life-hack\t0\t\tAndroidユーザーの高いセキュリティ意識！「スマートフォン所有者のセキュリティ対策に関する実態調査」\n",
            "\n",
            "line= kaden-channel\t1\t\t事故防止に耳掛けタイプが注目！　「居眠り感知器」の売り上げが急増中\n",
            "\n",
            "line= it-life-hack\t0\t\t128GBのBDXL対応ドライブが登場！最小・最軽量のポータブルドライブ\n",
            "\n",
            "line= it-life-hack\t0\t\t全国21店舗で配信開始！　ドスパラが9月より店内放送型情報番組を開始\n",
            "\n",
            "line= kaden-channel\t1\t\tＪＶＣケンウッド、軽量ボディの２．４ＧＨｚデジタルワイヤレスヘッドホン「ＨＡ‐ＷＤ５０」を発売\n",
            "\n",
            "line= kaden-channel\t1\t\t今年の夏のボーナスは上がる？下がる？おそらく盛り上がりに欠けるボーナス商戦の行方は？\n",
            "\n",
            "line= kaden-channel\t1\t\tジョブズのための端末だった？　iPhone4Sの予約が本日スタート\n",
            "\n",
            "line= it-life-hack\t0\t\tスタンド＆カバーにキーボード！ iPadを使い倒せるガジェット登場\n",
            "\n",
            "line= it-life-hack\t0\t\t官民連携で進化するセキュリティ人材の発掘・育成 \n",
            "\n",
            "line= it-life-hack\t0\t\t先頭行を固定したままスクロールするには？−−今さら聞けないExcelワザ\n",
            "\n",
            "line= it-life-hack\t0\t\t違法ダウンロード刑罰化の勉強会開催！　本日17時よりニコニコ生放送でも配信\n",
            "\n",
            "line= it-life-hack\t0\t\t泣くとかじゃなくこれはヤバイ！鉄拳のマンガにネット住民号泣\n",
            "\n",
            "line= it-life-hack\t0\t\tどこでもファイルを活用　GoogleドライブとローカルPCを自動で同期する\n",
            "\n",
            "line= it-life-hack\t0\t\tスマートに一体化！GALAXY Noteを無敵化するバッテリー内蔵ケース\n",
            "\n",
            "line= kaden-channel\t1\t\t組み合わせ自由自在！自分だけのヘッドフォンKOTORI101は素敵な相棒\n",
            "\n",
            "line= it-life-hack\t0\t\t市場動向を立体視できるiPadアプリ！Yahoo! ファイナンス株式マップ \n",
            "\n",
            "line= kaden-channel\t1\t\tKDDI社長が喜びの声！iPhone販売は予想以上\n",
            "\n",
            "line= it-life-hack\t0\t\tFacebookのコメントを読みやすく！　文の途中で改行するワザ\n",
            "\n",
            "line= it-life-hack\t0\t\tいよいよラストの町会議！　ニコニコ町会議in 東京都八丈島の詳細決定\n",
            "\n",
            "line= kaden-channel\t1\t\t「江」「南極物語」は大失敗か　−　「週刊新潮」が日本の最低ドラマ賞を発表\n",
            "\n",
            "line= it-life-hack\t0\t\t漫画家/イラストレーター志望のクリエイターのたまご必見！　デジタルでの制作環境が全て揃うレビューアー募集開始\n",
            "\n",
            "line= kaden-channel\t1\t\t締め切り迫る！　人気アプリ「WishScope」開発者がスマートフォン×Facebookアプリのハッカソンイベント「第1回ハッカー道場」を開催！\n",
            "\n",
            "line= it-life-hack\t0\t\t最新鋭タブレット「Cintiq 24HD touch」が登場！プロが徹底チェックした貴重なレビューを公開中\n",
            "\n",
            "line= kaden-channel\t1\t\tコンテンツは？の声多数！　楽天が受付開始した激安電子書籍端末「kobo Touch」\n",
            "\n",
            "line= it-life-hack\t0\t\tmixiの新サービスに疑問の声？ mixiのTwitterから友達をさがす機能が不評\n",
            "\n",
            "line= kaden-channel\t1\t\t視聴率が悪いのはネットのせい？　テレビ関係者のコメントにネットが反論\n",
            "\n",
            "line= it-life-hack\t0\t\tスマホ＆ケータイ、デジカメ＆携帯ゲーム機で！色んなSDカードを一挙解説！\n",
            "\n",
            "line= it-life-hack\t0\t\t本日のGoogleロゴはやり投　Googleロゴがスポーツ関連画像に変化第七弾\n",
            "\n",
            "line= it-life-hack\t0\t\t目的のキーワードへ素早くジャンプできるChrome拡張機能\n",
            "\n",
            "line= kaden-channel\t1\t\t100〜200円の値上げ！　レアアース高騰でパナソニックが蛍光灯を来年1月より\n",
            "\n",
            "line= it-life-hack\t0\t\t常識を塗り替える異次元の軽さ！NEC 世界最軽量Ultrabookが凄い\n",
            "\n",
            "line= kaden-channel\t1\t\tニコン、光学１４倍ズームを搭載した高倍率モデルのデジカメ「ＣＯＯＬＰＩＸ　Ｌ６１０」を発売\n",
            "\n",
            "line= kaden-channel\t1\t\t土屋アンナが「今日はかわいく」紹介！　パナソニックが少数世帯向けのプチ家電を発表\n",
            "\n",
            "line= kaden-channel\t1\t\t食品の収納スペースアップで冷気の漏れを押さえるパナソニックのトップユニット冷蔵庫新発売\n",
            "\n",
            "line= kaden-channel\t1\t\tフリスクより小さい！　写真・動画撮影、音声録音も可能な超小型デジタルトイカメラ「400-CAM007シリーズ」\n",
            "\n",
            "line= it-life-hack\t0\t\t考えると寝られなくなる！「念力」「滲透」「輪郭」、ドキっとする摩訶不思議な写真展\n",
            "\n",
            "line= it-life-hack\t0\t\tやっぱりiPad3に間に合わせる為？孫社長がSB銀座旗艦店を必死に宣伝\n",
            "\n",
            "line= it-life-hack\t0\t\t昼までに頼めば当日着！　ドスパラ通販の当日配達サービスが強化\n",
            "\n",
            "line= it-life-hack\t0\t\t新ビジネスやワークスタイルを紹介！企業を商品で繋ぐ「zigBiz」で新コンテンツを配信\n",
            "\n",
            "line= kaden-channel\t1\t\t応募された履歴書を使ってFacebookでなりすまし！　個人情報の悪用に要注意\n",
            "\n",
            "line= kaden-channel\t1\t\tライカからオールインワンタイプの光学24倍のズームレンズデジカメ「V-LUX3」発売\n",
            "\n",
            "line= kaden-channel\t1\t\tiPhone対決はどうなる？ auショップ全店で取扱いスタートに\n",
            "\n",
            "line= it-life-hack\t0\t\t微妙な知り合いからの友達申請に有効なFacebookワザ\n",
            "\n",
            "line= it-life-hack\t0\t\tWin7でSkypeを多重起動するには？　Skypeの起動オプション設定\n",
            "\n",
            "line= it-life-hack\t0\t\t5機種並べて比較！ウルトラブック選びに迷わない　「ウルトラブック徹底比較表！MY BEST Ultrabook(TM)」が公開\n",
            "\n",
            "line= kaden-channel\t1\t\tdigi2　スマートフォン特集\n",
            "\n",
            "line= it-life-hack\t0\t\t物語で英語力アップ！オーディオ電子書籍「Alice’s Adventures in Wonderland」\n",
            "\n",
            "line= it-life-hack\t0\t\t手ごろな価格のクーラー登場　ノートPCの熱対策はOK？第二弾\n",
            "\n",
            "line= it-life-hack\t0\t\tカーシェア・レンタル利用派に最適！シガーソケットホルダー for スマートフォン\n",
            "\n",
            "line= kaden-channel\t1\t\t恐竜やイルカが目の前に現れる！　拡張現実技術（AR)を使った楽しいプロモーション\n",
            "\n",
            "line= it-life-hack\t0\t\t友達管理が簡単に！　Facebookで新しいリストを作成する\n",
            "\n",
            "line= it-life-hack\t0\t\tプレイ可能なGoogleロゴ第三弾！　Googleロゴがスポーツ関連画像に変化第十弾\n",
            "\n",
            "line= kaden-channel\t1\t\t英語版WikipediaがSOPAへの抗議で24時間サイトを閉鎖！米国Googleも抗議表明\n",
            "\n",
            "line= kaden-channel\t1\t\tやっぱり強かった！「家政婦のミタ」最終話の視聴率は歴代３位の４０％\n",
            "\n",
            "line= it-life-hack\t0\t\t圧倒的No.1のゲームPCブランドを目指す！ドスパラがPCの新ロゴを発表\n",
            "\n",
            "line= kaden-channel\t1\t\t連載●極・ト書き一行のカット割り! 第8回\n",
            "\n",
            "line= kaden-channel\t1\t\t業界初！　アンドロイドスマホと連携の炊飯ジャー登場にびっくり\n",
            "\n",
            "line= it-life-hack\t0\t\tスケールがでかい！孫社長 米国留学支援に賞賛の声\n",
            "\n",
            "line= it-life-hack\t0\t\t愛される英王子　裸で敬礼！ ハリー英国王子に対する英国軍人の大いなる愛\n",
            "\n",
            "line= kaden-channel\t1\t\tライオン、極細高密毛と音波振動でくすみを落とす「プラチアス　歯の美容クリーナー」などを発売\n",
            "\n",
            "line= it-life-hack\t0\t\tMS「SkyDrive」が機能アップ！ クラウドサービスが「総Dropbox化」\n",
            "\n",
            "line= kaden-channel\t1\t\t脳の損傷はヘロイン級？　ネット中毒の若者の脳が壊れている・・・\n",
            "\n",
            "line= it-life-hack\t0\t\t投稿によって公開範囲を決めたい人のFacebookワザ\n",
            "\n",
            "line= it-life-hack\t0\t\t(」=・ω・)」 (/=・ω・)/うー！にゃー！な簡単ゲーム\n",
            "\n",
            "line= it-life-hack\t0\t\t今日はそういう日だったのか！Googleロゴが歌うカエルである理由\n",
            "\n",
            "line= kaden-channel\t1\t\t写真好きはチャレンジ！ペンタックスリコーが事業統合を記念してフォトコンテスト開催\n",
            "\n",
            "line= it-life-hack\t0\t\t見事なボディペインティング！　アクリル絵の具で描かれたボディペインティングが話題に\n",
            "\n",
            "line= it-life-hack\t0\t\tドラクエX情報やダウンロード販売詳細　任天堂のゲーム関連情報をまとめてみた\n",
            "\n",
            "line= it-life-hack\t0\t\t国内向けスマホではアップデートが提供されない端末も！ Android端末選択指南\n",
            "\n",
            "line= kaden-channel\t1\t\t恐るべし・・・！　電子タバコが爆発し、舌がちぎれる事件発生\n",
            "\n",
            "line= it-life-hack\t0\t\t速報！世界初の放射線測定機能搭載！電波の届く範囲も3倍に！驚きのソフトバンク夏モデル発表\n",
            "\n",
            "line= it-life-hack\t0\t\t北川景子さんが美しさの秘密を語る！NEX-F3 スペシャルコンテンツ「with α」がオープン\n",
            "\n",
            "line= it-life-hack\t0\t\t次世代PC最前線！Retina対応アプリの登場で変わるMacの世界\n",
            "\n",
            "line= it-life-hack\t0\t\tYoutubeが7周年！　いまでは1分間で72時間分の動画がアップされるように！\n",
            "\n",
            "line= kaden-channel\t1\t\t歯に描かれた電子タトゥーが、 虫歯や感染症を予防する\n",
            "\n",
            "line= kaden-channel\t1\t\t「表面汚染検査計」ってなに？\n",
            "\n",
            "line= it-life-hack\t0\t\t家電もスマートに 節電を！電気を総合的にマネージメントする仕組みがスゴイ\n",
            "\n",
            "line= it-life-hack\t0\t\t目的地にピタリとジャンプするWordの機能\n",
            "\n",
            "line= it-life-hack\t0\t\tUbuntuをもっと「Windows的」にしたい！ デスクトップのシェルを変更する\n",
            "\n",
            "line= kaden-channel\t1\t\t電力使用量９日が８社管内で今夏最高\n",
            "\n",
            "line= it-life-hack\t0\t\tなるほど、そういうことか！Googleロゴが折り紙である理由\n",
            "\n",
            "line= kaden-channel\t1\t\t「400億ドル使ってでもつぶしたい」！？　アンドロイドを憎んでいたスティーブジョブズ\n",
            "\n",
            "line= it-life-hack\t0\t\tデジタル機器の使いこなしから話題のネタまで【デジ通】一気読み\n",
            "\n",
            "line= it-life-hack\t0\t\t何よりも大切な宝ですね！孫社長の幸せ発言がネットで話題\n",
            "\n",
            "line= kaden-channel\t1\t\t23時間以上ゲームやりすぎで死亡・・・台湾のネットカフェで誰も気がつかず\n",
            "\n",
            "line= kaden-channel\t1\t\t主婦の間で話題の新節電法？　アンペアを下げて基本料金も半額にすると使える家電はどれくらいなのか？\n",
            "\n",
            "line= kaden-channel\t1\t\t新月を狙う！　この夏は天文写真の撮影に挑戦！\n",
            "\n",
            "line= it-life-hack\t0\t\t次の名前はiPad 3？新しいiPadの機能はどうなる\n",
            "\n",
            "line= kaden-channel\t1\t\tスマホで映画見る？　グーグルが日本のAndroidでも動画レンタルをスタート！　そもそもこれって流行るのか？\n",
            "\n",
            "line= kaden-channel\t1\t\tiPhone用防水・防塵ケースで快適サイクリング\n",
            "\n",
            "line= kaden-channel\t1\t\t人気シリーズの新たなラインナップ！　ニコンが「Nikon 1 J2」を発売\n",
            "\n",
            "line= kaden-channel\t1\t\tiPhoneで禁止になったアプリがアンドロイドに登場！　発熱するカイロアプリ「ホカホン」\n",
            "\n",
            "line= kaden-channel\t1\t\t感覚・体験を共有する　タッチ・インターネットが拓く未来（完）\n",
            "\n",
            "line= it-life-hack\t0\t\tその前にやることあるだろ！孫社長の画期的な構想に賛否両論\n",
            "\n",
            "line= kaden-channel\t1\t\t残暑の日射しでビールがうまい！太陽光発電のビアガーデン\n",
            "\n",
            "line= it-life-hack\t0\t\t高機能なのになんで？　iPadやAndroidタブレットに対するスレートPCの位置づけ\n",
            "\n",
            "line= it-life-hack\t0\t\t間違えない海外用の携帯電話選び！ほとんどのSIMが使える端末を選ぼう\n",
            "\n",
            "line= it-life-hack\t0\t\t何だこの計算器みたいなの？ Googleロゴが怪しい計算尺みたいになっている理由\n",
            "\n",
            "line= it-life-hack\t0\t\t待望のiPhone版Google Driveがついに登場！　いつでもどこでもスケジュールや計算書をチェック\n",
            "\n",
            "line= kaden-channel\t1\t\t感覚・体験を共有する　タッチ・インターネットが拓く未来（６）\n",
            "\n",
            "line= kaden-channel\t1\t\t兵士の自殺問題をアプリで解決なるか？　アメリカで州兵の自殺防止アプリが登場\n",
            "\n",
            "line= it-life-hack\t0\t\t過去最高のサウンド品質かも！ 音もナイスなRetina MacBook Pro \n",
            "\n",
            "line= kaden-channel\t1\t\tもう何がなんだか・・・中国で押収のiPhoneはガスコンロだった\n",
            "\n",
            "line= it-life-hack\t0\t\tさらばFermi！Keplerアーキテクチャ採用のGPU NVIDIA GeForce GTX 680登場\n",
            "\n",
            "line= it-life-hack\t0\t\t困った時は彼に聞いてみよう！ Googleのスマホ用音声検索サービス「みらいサーチ」\n",
            "\n",
            "line= kaden-channel\t1\t\t男性陣は要注意か？　SNSで女子が公開している写真は「チョイ盛り」だった\n",
            "\n",
            "line= it-life-hack\t0\t\tいまどき1Gオーバーは当たり前！　Gバイト超えのファイルも扱える大容量ファイル転送サービスを使う\n",
            "\n",
            "line= kaden-channel\t1\t\t五輪観戦しながらエクササイズ！　アルインコから室内フィットネス器具新発売\n",
            "\n",
            "line= kaden-channel\t1\t\t編集特集・ナレーションテスト\n",
            "\n",
            "line= kaden-channel\t1\t\tフリーズする！充電が持たない！！　順調に苦情が増えているマイクロソフトのクレームキャンペーン\n",
            "\n",
            "line= it-life-hack\t0\t\t3割近くがタブレットを所有 価格.comリサーチによるタブレット所有リサーチ結果\n",
            "\n",
            "line= it-life-hack\t0\t\t「こんな時、英語で何ていう？」日常生活とビジネスで使えるアプリ！\n",
            "\n",
            "line= it-life-hack\t0\t\t次のMacはRetinaディスプレイ？Macの高解像度ディスプレイ搭載はいつか？\n",
            "\n",
            "line= it-life-hack\t0\t\tかなり雰囲気のある写真が撮影できる「残像カメラ」\n",
            "\n",
            "line= it-life-hack\t0\t\t今度の金環食を見逃さない！ 来る5月21日の金環食を楽しむアプリ\n",
            "\n",
            "line= kaden-channel\t1\t\tソフトバンク　VS　auに決着！　iPhoneの速度対決はauが勝利\n",
            "\n",
            "line= kaden-channel\t1\t\t真夏のオススメ・ホラーオペラ BEST5\n",
            "\n",
            "line= it-life-hack\t0\t\tえ？ホントかよ（笑） 合コン用語なる摩訶不思議な用語が話題に\n",
            "\n",
            "line= it-life-hack\t0\t\tこのまま3G通信を生かせないとどうなる？ PS Vitaの3G版の行く末 \n",
            "\n",
            "line= it-life-hack\t0\t\t口座なしでもほとんどの機能が使える！楽天証券のiPad用株式アプリ\n",
            "\n",
            "line= kaden-channel\t1\t\tホントに思ってる？　なんにでも「いいね！」を押す無思考型人間ってなんだ\n",
            "\n",
            "line= kaden-channel\t1\t\tフジテレビのものまね番組がやりすぎ？　劇団ひとりとAKB48のブータン国王夫妻のものまねがひどい\n",
            "\n",
            "line= it-life-hack\t0\t\t進む資料のデジタルアーカイブ化　国会図書館が明治時代から昭和27年までの官報を公開\n",
            "\n",
            "line= it-life-hack\t0\t\tauの成長率が日本一！関西ユーザーにみる高いスマホ通信費の節約法\n",
            "\n",
            "line= it-life-hack\t0\t\tペットが毎日のように病気になる！ スマートペット育成記 （4）\n",
            "\n",
            "line= kaden-channel\t1\t\tソニー/キヤノン/パナソニック 大判センサービデオカメラ展示シュートアウトイベント 「CINEMA CINEMA CINEMA」\n",
            "\n",
            "line= kaden-channel\t1\t\tパソコンはもういらない？　スマホの普及は３倍もパソコンは減少\n",
            "\n",
            "line= it-life-hack\t0\t\t知らない人は宝の持ち腐れ！隠し機能を利用できる神アプリを解説 - Mac必須アプリ (4)\n",
            "\n",
            "line= kaden-channel\t1\t\t僕が国産AndroidではXperia Arcがお勧めだと考えるワケ\n",
            "\n",
            "line= it-life-hack\t0\t\t金環日食に続く天体ショー！　昨日の部分月食見ました？　そして明日もあるぞ！\n",
            "\n",
            "line= kaden-channel\t1\t\tiPad2のカメラで顔色や胸の動きを読み取るだけ—呼吸と脈拍計測アプリ\n",
            "\n",
            "line= it-life-hack\t0\t\tUSB3.0対応で爆速データ転送！　9倍速のリーダー／ライター登場\n",
            "\n",
            "line= it-life-hack\t0\t\t話題のスマホに強い味方！ドコモ Galaxy Note SC-05D用大容量バッテリー\n",
            "\n",
            "line= it-life-hack\t0\t\tIE9のタブに表示中のWebページをサムネから切り替えるワザ\n",
            "\n",
            "line= kaden-channel\t1\t\t100万円！？　アマゾンオススメの電気ストーブの値段が高すぎる\n",
            "\n",
            "line= kaden-channel\t1\t\t無理のない節電を目指して！日立が空調自動制御に対応した「ECO・POM・PA(エコポンパ)」に注目\n",
            "\n",
            "line= kaden-channel\t1\t\tレディー・ガガに並んだ！　グーグルが選んだ初の日本人アーティストは“バーチャルアイドル”「初音ミク」─　「Chrome」CMに出演中\n",
            "\n",
            "line= it-life-hack\t0\t\tついに発売日が決定！オリンパス、マイクロ一眼「OLYMPUS OM-D E-M5」の凄いところ\n",
            "\n",
            "line= it-life-hack\t0\t\t新連載開始！元Google日本法人会長 村上憲郎氏も登場！教育とテクノロジーの祭典\n",
            "\n",
            "line= kaden-channel\t1\t\tGREEのアメリカでの本気に注目！　開発要員を倍増へ\n",
            "\n",
            "line= kaden-channel\t1\t\tアップルがロック解除の特許獲得で他社のスマホはどうなる？\n",
            "\n",
            "line= kaden-channel\t1\t\t餃子で節電！そして発電！　「餃子の王将」の発電店舗がすごい\n",
            "\n",
            "line= it-life-hack\t0\t\t今日はそういう日だったのか！Googleロゴが変わっている理由\n",
            "\n",
            "line= kaden-channel\t1\t\t１０月１６日は「ジョブズの日」カリフォルニア州が制定\n",
            "\n",
            "line= it-life-hack\t0\t\t敗者は去れ？ 再挑戦を認めるか認めないかで荒れるクラウドファンディング「studygift」\n",
            "\n",
            "line= kaden-channel\t1\t\tあなどれないiPod/iPhone/iPadの「生態系」\n",
            "\n",
            "line= kaden-channel\t1\t\t電通が「スマート関連ビジネス」に本腰！　「スマート・イノベーション推進部」を新設\n",
            "\n",
            "line= it-life-hack\t0\t\tあの有名漫画が無料で読める！　ニコニコ静画で少年ジャンプ作品の無料配信を開始\n",
            "\n",
            "line= kaden-channel\t1\t\tau携帯の一部機種で電池パック発煙の可能性あり。対象者へは電池パック交換\n",
            "\n",
            "line= it-life-hack\t0\t\t新型iPadの話題で持ち切りだった今週のIT業界\n",
            "\n",
            "line= kaden-channel\t1\t\t今夜の紅白、大トリはSMAP！　仰天演出で視聴者を驚かせる\n",
            "\n",
            "line= kaden-channel\t1\t\t流行のミラーレスカメラがニコンからもついに！「Nikon 1 J1」「Nikon 1 V1」が発表\n",
            "\n",
            "line= it-life-hack\t0\t\tいよっ風流人！孫社長 再び桜の句と写真を披露\n",
            "\n",
            "line= it-life-hack\t0\t\tiPhoneで高度な画像編集が！シンプルながら多機能な画像編集アプリ\n",
            "\n",
            "line= kaden-channel\t1\t\tオフィスでツボ押しリラックス！　小型の温感マッサージャーはパナソニック「プチリフレ」\n",
            "\n",
            "line= it-life-hack\t0\t\t旧マシンを二台のSSDで超加速！　超寿命高速SSDとRAIDカードでシステムを爆速化\n",
            "\n",
            "line= kaden-channel\t1\t\tルフィとチョッパーが充電池に！「EVOLTA」が人気アニメ・ワンピースとコラボ\n",
            "\n",
            "line= it-life-hack\t0\t\tなぜこんなに面倒なの？　ネット時代のサービス解約手続き\n",
            "\n",
            "line= it-life-hack\t0\t\t手ぶらでタブレット！これぞ本当の自由を実現するモバイル活用アイテム登場\n",
            "\n",
            "line= it-life-hack\t0\t\t人気のスマホに強い味方！ドコモ GALAXY S II SC-02C 大型大容量バッテリー\n",
            "\n",
            "line= it-life-hack\t0\t\tThinkPadのACアダプタはどうなる 太いコネクタが薄型化のネックに\n",
            "\n",
            "line= it-life-hack\t0\t\tこんこん、ふぉっくす紺子だよ！暑中お見舞いカードもらってくれてありがとー\n",
            "\n",
            "line= it-life-hack\t0\t\t美しい映像と音楽も必見！銀座の名所、ソニービル公式Facebook ページがオープン\n",
            "\n",
            "line= it-life-hack\t0\t\tお前らどんだけ起きてんだよ！　朝4時過ぎの朝焼け写真大量につき\n",
            "\n",
            "line= kaden-channel\t1\t\t電子書籍の世界規格に縦書きも対応に\n",
            "\n",
            "line= kaden-channel\t1\t\tソニーがTransferJet規格対応の新LSIを商品化 \n",
            "\n",
            "line= it-life-hack\t0\t\t今夜0時に何が？　旧マシンのパワーアップネタを振り返る\n",
            "\n",
            "line= it-life-hack\t0\t\t孫社長が新スマホを大々的に宣伝！放射線測定スマホを開発した理由\n",
            "\n",
            "line= kaden-channel\t1\t\tシャープ「KI-AX80」は除菌・脱臭・集じん・加湿・美肌効果のよくばり加湿器\n",
            "\n",
            "line= kaden-channel\t1\t\tiPhoneに顔パス導入！　顔認証でのロック解除がいよいよ登場\n",
            "\n",
            "line= kaden-channel\t1\t\t落ち着け、スカパー！　「お知らせ」ページが「ああああ」で大パニック\n",
            "\n",
            "line= it-life-hack\t0\t\tペットの「拾いもの」に福あり！ スマートペット育成記 （5）\n",
            "\n",
            "line= kaden-channel\t1\t\t２０１３年春卒業の学生は昨年の２か月遅れで就活スタート！　「リクナビ」はアクセス殺到で一時停止【話題】　\n",
            "\n",
            "line= it-life-hack\t0\t\tロープロ対応で省スペースPCに喝！　手ごろなRadeon HD 7750搭載グラボ登場！\n",
            "\n",
            "line= it-life-hack\t0\t\t計算式をすばやくチェックできるExcelの便利ワザ\n",
            "\n",
            "line= it-life-hack\t0\t\tどいつもこいつも！う〜にゃ〜！(」・ω・)」うー！(／・ω・)／にゃー！\n",
            "\n",
            "line= kaden-channel\t1\t\tソニーF3　ズームレンズテスト\n",
            "\n",
            "line= kaden-channel\t1\t\t連載●極・ト書き一行のカット割り! 　 第5回\n",
            "\n",
            "line= it-life-hack\t0\t\tアインシュタインが「宇宙最強」と命名した「iCompaund」で複利を理解\n",
            "\n",
            "line= kaden-channel\t1\t\tいつでもどこでも集中ケア！　パナソニックから「目もとエステ」新発売\n",
            "\n",
            "line= kaden-channel\t1\t\t国内で保証対応、9800円は魅力的！—ガイガーFUKUSHIMA iPhone接続専用\n",
            "\n",
            "line= kaden-channel\t1\t\tNHKが本気を出した？　来年の大河ドラマ「平清盛」はテレビ離れを食い止められるか\n",
            "\n",
            "line= it-life-hack\t0\t\tiPhone＆iPadでブラウザゲーム！整って来たHTML5環境\n",
            "\n",
            "line= kaden-channel\t1\t\tGoogleにどれくらいバレているのか？　ネットで話題のユーザー属性を確認してみた\n",
            "\n",
            "line= kaden-channel\t1\t\tCP＋2012　動画関連で気になった展示\n",
            "\n",
            "line= it-life-hack\t0\t\t話題の最新スマホの予約日が決定！ドコモ、MEDIAS X N-07Dを発売へ\n",
            "\n",
            "line= it-life-hack\t0\t\t使用状況をビジュアル表示！メモリー割り当て状況を視覚化するRAMMap\n",
            "\n",
            "line= kaden-channel\t1\t\t黒と白、ガンマの調整をするための オリジナルチャート\n",
            "\n",
            "line= it-life-hack\t0\t\t今までがひどかったことの裏返しでは？孫社長 通信速度の大幅改善を強調\n",
            "\n",
            "line= kaden-channel\t1\t\tアジア最大級の家電見本市シーテックが開幕！　話題は最先端省エネ技術か\n",
            "\n",
            "line= it-life-hack\t0\t\t謎のカウントダウン中！　どうやらNVIDIAが近日中に何かやらかすらしい！\n",
            "\n",
            "line= kaden-channel\t1\t\tパイオニア、ホームシアター向けブルーレイディスクプレーヤー「ＢＤＰ−４５０」を発売\n",
            "\n",
            "line= it-life-hack\t0\t\tExcelで8桁の数字をまとめて日付データにする\n",
            "\n",
            "line= it-life-hack\t0\t\t何だこのおもちゃみたいなの？ Googleロゴが子供のおもちゃみたいになっている理由\n",
            "\n",
            "line= kaden-channel\t1\t\t節電対策の暖房器具選定は夏のうちに\n",
            "\n",
            "line= it-life-hack\t0\t\t次世代22nmプロセッサー対応「Z77X-UD5H」マザーボードの魅力をさぐる\n",
            "\n",
            "line= it-life-hack\t0\t\t英語の音声認識で英会話練習 自分の発音を客観的に知る方法\n",
            "\n",
            "line= it-life-hack\t0\t\tあえてFermiを狙う！ KeplerではなくFermiで幸せになる！\n",
            "\n",
            "line= it-life-hack\t0\t\tDL版は高く使い勝手も良くはない 任天堂のダウンロード販売始まる\n",
            "\n",
            "line= kaden-channel\t1\t\t歯の間が驚くほど清潔に！フィリップスから電動デンタルフロスが新発売\n",
            "\n",
            "line= kaden-channel\t1\t\t読書感想文にスマホを活用する\n",
            "\n",
            "line= kaden-channel\t1\t\t「ガラスマ」VS「グロスマ」！満足できるスマホはどっち？\n",
            "\n",
            "line= it-life-hack\t0\t\t会議の遅刻がなくなる！　Chromeの拡張機能\n",
            "\n",
            "line= kaden-channel\t1\t\t字が汚い人には朗報か？　メモ入りの便利な付箋が作れる！　カシオが「memopri（メモプリ）」を発売\n",
            "\n",
            "line= it-life-hack\t0\t\t冷却の匠がゲーミングマウス発表！ ZALMANより同社初のマウスをリリース\n",
            "\n",
            "line= kaden-channel\t1\t\tこれでさみしくない！クリスマスの「おひとりさま」を生温かくもてなしてくれるニコニコ本社\n",
            "\n",
            "line= kaden-channel\t1\t\tあなたは大丈夫？　スマホでのメールチェックが仕事の妨げになっていると人事がご機嫌斜め\n",
            "\n",
            "line= kaden-channel\t1\t\tスマートフォンで操れる！　パナソニック、Ｗｉ−Ｆｉ搭載スリムズームのデジカメ「ＬＵＭＩＸ　ＤＭＣ−ＳＺ５」を発売\n",
            "\n",
            "line= it-life-hack\t0\t\t投資に必須の知識が無料で学べる！ iPad用アプリ「QUICK投資情報館」がオススメ\n",
            "\n",
            "line= it-life-hack\t0\t\t話題の最新スマホを活用する方法！iPhoneで使える意外と知らない技\n",
            "\n",
            "line= kaden-channel\t1\t\tなんでも見下し、文句ばかり！　なんちゃってインテリに要注意\n",
            "\n",
            "line= it-life-hack\t0\t\t意図しない共有をさがし出す！　ShareEnumで覚えのないファイルやフォルダの共有をチェック\n",
            "\n",
            "line= kaden-channel\t1\t\tクリスマスプレゼントの人気はタブレット端末！　アメリカでの普及は？\n",
            "\n",
            "line= kaden-channel\t1\t\tデジタル一眼レフカメラは現在コスパ重視の傾向、来年は新製品ラッシュの予感！\n",
            "\n",
            "line= kaden-channel\t1\t\t女性が好きなのはFacebookで男性が好きなのはTwitterのなぜ\n",
            "\n",
            "line= kaden-channel\t1\t\t健康とマネー管理の一石二鳥！シチズンが電子マネービューアー付き歩数計を発売\n",
            "\n",
            "line= it-life-hack\t0\t\t人の役に立って奨励金まで貰える！島村氏が「NAVERまとめ」の魅力を語る\n",
            "\n",
            "line= kaden-channel\t1\t\tエンターテインメントのダウンロードが「海賊」でなくなる時代の夜明け！？\n",
            "\n",
            "line= kaden-channel\t1\t\tハンガーに掛けたままスピード乾燥！シャープ、プラズマクラスター洗濯機がパワーアップ\n",
            "\n",
            "line= kaden-channel\t1\t\t２０１２年はオシャレ家電で！　イデアの家電福袋はメンズ用とレディス用があり今年も期待大\n",
            "\n",
            "line= it-life-hack\t0\t\tExcel表のデータの合計値を計算式を使わず表示する方法\n",
            "\n",
            "line= it-life-hack\t0\t\tマイクロソフトのタブレットPC　Surfaceは売れるのか？ \n",
            "\n",
            "line= kaden-channel\t1\t\tソニーVG20でショートムービーの予告編を撮る\n",
            "\n",
            "line= kaden-channel\t1\t\tグリーが世界へ！　1億5千万人規模のプラットフォーム「GREE Platform」\n",
            "\n",
            "line= kaden-channel\t1\t\tスタジアムにいなくても一緒に応援！　バルセロナVSアルサッド戦で「VAMOS VIEWING」初体験\n",
            "\n",
            "line= kaden-channel\t1\t\t女子必見！スマホのカメラでお肌をチェック!!　富士通が家庭で簡単に肌を測定できる技術を開発\n",
            "\n",
            "line= it-life-hack\t0\t\tドコモでも同じ結果では？孫社長 SB幻滅発言に猛反論\n",
            "\n",
            "line= it-life-hack\t0\t\t最強の情報リーダーアプリ登場！これでIT系ニュースの網羅は完璧\n",
            "\n",
            "line= kaden-channel\t1\t\tデルからLEDバックライト付きフルHD液晶ディスプレイ発売に\n",
            "\n",
            "line= it-life-hack\t0\t\t大人気Ultrabookが作れる！　親子で体験!! デル パソコン組み立て教室5回目の開催が決まる\n",
            "\n",
            "line= it-life-hack\t0\t\tうちにもプラチナバンドが来た！　ソフトバンクのプラチナバンド帯が徐々に拡大中\n",
            "\n",
            "line= kaden-channel\t1\t\tiPhone女子部がフリーペーパー「iPhone♡」を大手量販店やソフトバンクショップで配布開始\n",
            "\n",
            "line= it-life-hack\t0\t\tまだまだ残暑厳しい今夏　ノートPCの熱対策はOK？\n",
            "\n",
            "line= kaden-channel\t1\t\t彼女を作る前に持っておきたい身だしなみ家電3種！\n",
            "\n",
            "line= it-life-hack\t0\t\t無料PDF作成ソフトを大活用！PDFでビジネスが変わる\n",
            "\n",
            "line= kaden-channel\t1\t\t2011年の携帯・スマホの販売動向を振り返る〜Gfk 「2011年 家電・IT市場動向」\n",
            "\n",
            "line= it-life-hack\t0\t\tタダ者じゃない！7インチタブレット「eden TAB」の魅力をさぐる\n",
            "\n",
            "line= kaden-channel\t1\t\t脱原発で仕事激減の山本太郎！　収入は10分の1だが、本も出版で以前よりテレビに出てるかも？\n",
            "\n",
            "line= it-life-hack\t0\t\t忘れそうになってた！孫社長の格言的な言葉が話題\n",
            "\n",
            "line= kaden-channel\t1\t\t気をつけて！　スマートフォン、海外パケット定額プランのつもりが約100万円！のナゾ\n",
            "\n",
            "line= it-life-hack\t0\t\t何これやばい！ウマそう！　ホントに学食？　最近の学食は驚きの豪華メニュー\n",
            "\n",
            "line= it-life-hack\t0\t\t頭を使うアプリをお探しのアナタに！陣取り合戦風で囲碁にも似たブロックゲーム「Blokus」\n",
            "\n",
            "line= kaden-channel\t1\t\t象印マホービン、くまのプーさん柄の調理家電「電気ケトル」など４アイテムを発売\n",
            "\n",
            "line= it-life-hack\t0\t\tアプリを使って賢くショッピング♪　お買い得.netを徹底活用\n",
            "\n",
            "line= kaden-channel\t1\t\t視聴率４０％の「家政婦のミタ」がさっそくDVD化！　特典ディスク付き6枚組が４月に発売\n",
            "\n",
            "line= kaden-channel\t1\t\tぶっかけシーンに9時間！　AKB前田敦子もがんばる「最高の人生の終わり方」の今後に期待\n",
            "\n",
            "line= it-life-hack\t0\t\tソーシャルゲームは他と何が違う？高収益を上げるゲーム会社とは\n",
            "\n",
            "line= it-life-hack\t0\t\tauのスマホに強い味方！KDDI au ARROWS Z ISW11F用スタンダード大容量バッテリー\n",
            "\n",
            "line= it-life-hack\t0\t\t話題のスマホに強い味方！ドコモ MEDIAS LTE N-04D用大容量バッテリー\n",
            "\n",
            "line= kaden-channel\t1\t\tiPad/iPhone/iPod touchのスピーカー＋充電スタンド＋デュアルアラームクロックの三役をこなす—『ロジクール ベッドサイド ドック』待望の発売再開！\n",
            "\n",
            "line= it-life-hack\t0\t\t女子のすこやかな成長を祈る日！Googleロゴがひな祭りのひな壇に\n",
            "\n",
            "line= kaden-channel\t1\t\t７インチディスプレイを搭載したGALAPAGOS「A01SH」は成功できるか？\n",
            "\n",
            "line= kaden-channel\t1\t\tキヤノンからWi-Fi搭載の中級機が登場！\n",
            "\n",
            "line= it-life-hack\t0\t\tいよいよ夏本番！ 梅雨明け後の夏らしい青空写真\n",
            "\n",
            "line= it-life-hack\t0\t\tZeroから戻す方法も簡単に！　昨日より一般会員もZeroが利用可能に！\n",
            "\n",
            "line= kaden-channel\t1\t\t写真からアートな動画を作る！　タイムラプスに挑戦\n",
            "\n",
            "line= it-life-hack\t0\t\tゲーム感覚でアメリカの地理が学べる！全米アプリランキング教育部門で2位獲得の「Stack the States」\n",
            "\n",
            "line= it-life-hack\t0\t\tiPhone ・iPadがハイビジョンテレビに！次世代ルーターとテレキングの裏技\n",
            "\n",
            "line= kaden-channel\t1\t\t感覚・体験を共有する　タッチ・インターネットが拓く未来（４）\n",
            "\n",
            "line= kaden-channel\t1\t\tおもしろ回答が続々登場！　期待大の日本語版「Siri」の実力は？\n",
            "\n",
            "line= kaden-channel\t1\t\tサイボーグ003がスタッフサービスと単独契約！　事務処理能力の才能あり？\n",
            "\n",
            "line= kaden-channel\t1\t\tパナソニックGH2の最新ファームウェアが公開。 24Mbpsモード、AF精度が向上\n",
            "\n",
            "line= it-life-hack\t0\t\tDockコネクターに直挿し！iPhoneやiPadにケーブルいらずのバッテリー\n",
            "\n",
            "line= it-life-hack\t0\t\t斬新なアート表現と生命力！フィリピンの「今」が見られる「The Hope & The Dream in Filipino - Section III」\n",
            "\n",
            "line= it-life-hack\t0\t\t我が家の電波状況も良くなるかな？孫社長 格言的な言葉が話題\n",
            "\n",
            "line= kaden-channel\t1\t\t傷が消えるケースは世界初！　日産が開発のｉＰｈｏｎｅケースに注目\n",
            "\n",
            "line= it-life-hack\t0\t\t周波数の単位に関係あり！Googleロゴが波のアニメの理由\n",
            "\n",
            "line= it-life-hack\t0\t\tFirefoxのダウンロードを俄然便利にするアドオンソフト\n",
            "\n",
            "line= it-life-hack\t0\t\tニコニコ動画の音楽ダウンロード始まる！NicoSoundにJASRACに加えJRCの管理楽曲が対応\n",
            "\n",
            "line= it-life-hack\t0\t\t写真でみる世界最軽量Ultrabook！新情報が目白押しの1日を振り返る\n",
            "\n",
            "line= kaden-channel\t1\t\t原因はバッテリーか？　iPhoneから煙が出て、機内が騒然\n",
            "\n",
            "line= kaden-channel\t1\t\tキヤノン、高画質と小型軽量化を両立したミラーレスカメラ「ＥＯＳ　Ｍ」を発売\n",
            "\n",
            "line= it-life-hack\t0\t\t人の役に立ってお小遣いも稼げる！責任者が語る「NAVERまとめ」の魅力\n",
            "\n",
            "line= it-life-hack\t0\t\t星空を好きな時間に自宅で見よう！都会の星 Mook（写真集）を限定販売\n",
            "\n",
            "line= kaden-channel\t1\t\tコンテンツが高すぎる？　スタートしたばかりの「もっとTV」が話題にならない理由\n",
            "\n",
            "line= it-life-hack\t0\t\tドコモ7.8mmの有機ELスマホ開発！スリムボディのスマートフォン「docomo NEXT series P-04D」\n",
            "\n",
            "line= it-life-hack\t0\t\t最新情報も見逃すな！ 大人気アニメ「宇宙兄弟」公式アプリ！\n",
            "\n",
            "line= it-life-hack\t0\t\t自分が選んだニュースにコメントが！シェアで変わるITニュース活用法\n",
            "\n",
            "line= kaden-channel\t1\t\t日焼け止めは白くなるくらい塗らないと効果がない！？\n",
            "\n",
            "line= it-life-hack\t0\t\t色んなアイデアが爆発！　にゃんこ型イヤホンジャックカバーの次は何だ？\n",
            "\n",
            "line= it-life-hack\t0\t\t虚構新聞が更新を一時停止！してますん！という嘘ニュース\n",
            "\n",
            "line= it-life-hack\t0\t\t特定の通信を止めることも可能！ netstat以上に便利なTCPView\n",
            "\n",
            "line= kaden-channel\t1\t\t「最新」とつぶやくだけで最新ニュースをゲット！　定期配信も可能な便利機能が「LINE」に登場\n",
            "\n",
            "line= it-life-hack\t0\t\tLANだけで動作するコンピュータ 電源不要のオールインワン型\n",
            "\n",
            "line= kaden-channel\t1\t\t逆切れ？　初コメント？　母親の生活保護不正受給疑惑、河本準一がツイッターのプロフィールを変更\n",
            "\n",
            "line= it-life-hack\t0\t\tiPhoneで作るビジネス文書、動画のムダをトリミング　iPhone活用術\n",
            "\n",
            "line= kaden-channel\t1\t\tクリスマスはテレビを見よう！　２３日は家政婦じゃない松嶋菜々子を堪能！金曜ロードショーは「ゴースト　もういちど抱きしめたい」\n",
            "\n",
            "line= it-life-hack\t0\t\tその圧倒的な画面の美しさ！新しいiPadは絶対買い \n",
            "\n",
            "line= it-life-hack\t0\t\tソーシャルメディア戦略を加速！グリー、GREE TV（仮）を開発へ\n",
            "\n",
            "line= it-life-hack\t0\t\t3姉妹の成長を瞬間的に捉えた妖艶で可憐な世界観\n",
            "\n",
            "line= it-life-hack\t0\t\tスマホやiPhoneを何度もフル充電！　最大で3台同時にスマホが充電できる大容量バッテリー\n",
            "\n",
            "line= it-life-hack\t0\t\t乃木坂46ではデジカメがブーム？「1000メディア出演キャラバン」でメンバーに聞く\n",
            "\n",
            "line= it-life-hack\t0\t\tDock用スピーカーを簡単に無線化！いろんな器機で使えそうなBluetoothアダプター\n",
            "\n",
            "line= kaden-channel\t1\t\tアップル敗訴！　中国では「iPad」の商標が使えない\n",
            "\n",
            "line= kaden-channel\t1\t\t携帯電話がお手柄！泥棒の携帯電話が偶然警察に電話をかけ、逮捕へ\n",
            "\n",
            "line= it-life-hack\t0\t\tB-CASカードの解析完了！有料放送見放題の仕組みが判明！\n",
            "\n",
            "line= kaden-channel\t1\t\tラジオ英会話1年分を手のひらサイズに収録！SII電子辞書G6シリーズ\n",
            "\n",
            "line= kaden-channel\t1\t\tアクセサリー感覚で楽しむ「キラキラ」体重計と活動量計\n",
            "\n",
            "line= kaden-channel\t1\t\t「おもしろそう！」「見た目がおしゃれ！」女子中高生が１番欲しいのはiPhoneだった\n",
            "\n",
            "line= kaden-channel\t1\t\t人気の Hulu オリジナルコンテンツが日本初上陸！！\n",
            "\n",
            "line= kaden-channel\t1\t\t数年後に携帯電話回線がパンク！？　スマホの普及がもたらす新しい問題\n",
            "\n",
            "line= kaden-channel\t1\t\t市場はスマホへ？　ドコモが人気の従来型携帯廃止を発表\n",
            "\n",
            "line= kaden-channel\t1\t\t3D対応！パナソニックからブルーレイディーガ　プレミアムモデル2機種が新発売\n",
            "\n",
            "line= kaden-channel\t1\t\tキヤノンが映画制作用のレンズ、カメラなどCINEMA EOS SYSTEMを発表\n",
            "\n",
            "line= it-life-hack\t0\t\tExcelの表作成がもっと快適になるキー操作を覚えよう\n",
            "\n",
            "line= it-life-hack\t0\t\tGALAXY Noteをアウトドアでバリバリ使える！ GALAXY Note防水ケース\n",
            "\n",
            "line= kaden-channel\t1\t\t一般投票１位のスギちゃんをを押さえてCOWCOW多田が初優勝！　R-1ぐらんぷりに「また吉本か！」の声も\n",
            "\n",
            "line= kaden-channel\t1\t\t企業も大注目！　クールなガジェットが好きな女子が急増中\n",
            "\n",
            "line= it-life-hack\t0\t\tCDケース大にSandyBridgeを搭載　ZOTACの新型コンパクトベアボーン\n",
            "\n",
            "line= it-life-hack\t0\t\tレガシーデバイスをさらば！名実ともに次世代のMacBook Pro \n",
            "\n",
            "line= it-life-hack\t0\t\tMacもウイルスに感染 絶対安全なOSは存在しない\n",
            "\n",
            "line= it-life-hack\t0\t\tなんだ、そうだったのか！Googleロゴが四角い建築である理由\n",
            "\n",
            "line= kaden-channel\t1\t\t気になる冬の手荒れ対策に有効な家電は加湿器と食器洗い乾燥機\n",
            "\n",
            "line= it-life-hack\t0\t\tExcel操作を簡略化！　ドラッグ＆ドロップでシート間コピー\n",
            "\n",
            "line= it-life-hack\t0\t\tWord文書の見栄えがアップ！　クリップアートを透明化して活用\n",
            "\n",
            "line= kaden-channel\t1\t\tご飯炊けまくりマシタ！　仲良くならないとうまく炊けない「炊飯器少女コメコ」１巻を読んでみた\n",
            "\n",
            "line= it-life-hack\t0\t\t一気に4K？それともWQXGA？　MacのRetina液晶の解像度はどっち？ \n",
            "\n",
            "line= it-life-hack\t0\t\t自宅が無料ビデオレンタル店になる！8ch全録＆おまかせ録画が実現するテレビ天国\n",
            "\n",
            "line= it-life-hack\t0\t\t写真の中に「人」がいる！美し過ぎる愛娘を通して人を撮る写真家に極意を見た\n",
            "\n",
            "line= it-life-hack\t0\t\t「リーダー」機能は意外に便利！ iOSのSafariを上手に使う方法\n",
            "\n",
            "line= it-life-hack\t0\t\tWindows＆LinuxのデュアルOS！ Thinkpad X1 Hybrid　3/9より発売開始！\n",
            "\n",
            "line= kaden-channel\t1\t\t何が何でもiPhoneを守りたい人たちへ！　ハンマーでたたいても大丈夫な保護フィルム「ウルトラ衝撃吸収プロテクター」\n",
            "\n",
            "line= kaden-channel\t1\t\t今度はシャープから、人工知能搭載で自ら進んで節電する「プラズマクラスター冷蔵庫」新発売\n",
            "\n",
            "line= it-life-hack\t0\t\tHTPCも作れるMini-ITXマザー登場！ZOTAC D2700-ITX WiFi Supreme\n",
            "\n",
            "line= it-life-hack\t0\t\tようやく普及期に入った3DS 専用ソーシャル機能が回り出した\n",
            "\n",
            "line= kaden-channel\t1\t\tパナソニックのデジカメに新色！「LUMIX DMC-GF3」と「LUMIX DMC-G3」に新色シェルホワイトが登場\n",
            "\n",
            "line= kaden-channel\t1\t\t美人すぎるアメリカ人スーパーブロガーが来日取材！　気になるネットサービス「SHAPE OF LOVE」ってなんだ？\n",
            "\n",
            "line= it-life-hack\t0\t\tマルチデバイスでしおりを同期！電子書籍の便利な機能\n",
            "\n",
            "line= kaden-channel\t1\t\tビデオサロン11月号「街のビデオ屋目線で評価するTestRoom」\n",
            "\n",
            "line= kaden-channel\t1\t\tソフトバンク、冬春モデルを発表、スマホ11機種をラインアップ\n",
            "\n",
            "line= kaden-channel\t1\t\t「嫌だったら出て行け！」マツコの韓流批判にネットは賛成？　韓国では「日本文化なくなれ」と大反発！\n",
            "\n",
            "line= kaden-channel\t1\t\t楽しいことにもいつかは終わりが・・・Google「Picnik」終了のお知らせが気になる\n",
            "\n",
            "line= kaden-channel\t1\t\t今年の流行りをアプリでおさらい！　J-POP100曲が無料で聞ける「Music Beam」\n",
            "\n",
            "line= it-life-hack\t0\t\tありがとうございます！孫社長 丸坊主アイコンに″およっ″\n",
            "\n",
            "line= kaden-channel\t1\t\t寝つけない夜に寝室で愛用…滝クリもオススメのスマートAVライフはパナソニックでチェック\n",
            "\n",
            "line= kaden-channel\t1\t\t今度は香港で！　iPhone爆発もAppleは「使い方が悪い」\n",
            "\n",
            "line= it-life-hack\t0\t\tUltrabookにモバイルノートに最適！　厚さ9ミリUSB3.0対応のポータブルHDD「カクうす9」\n",
            "\n",
            "line= it-life-hack\t0\t\tスレートPCとスピーカーをセットで！「feel Windows」オープン記念第三段！\n",
            "\n",
            "line= kaden-channel\t1\t\tネットで集まった祈りを祈祷・・・３月11日に山伏による復興祈願、供養が福島県で開催\n",
            "\n",
            "line= it-life-hack\t0\t\t心の中に音を感じたときに撮る！相星哲也 氏が語る、音を感じる風景\n",
            "\n",
            "line= it-life-hack\t0\t\tメモリ上に残るゴミをすっきり！MS純正メモリー開放ツール\n",
            "\n",
            "line= it-life-hack\t0\t\t普及の実感が薄い海外での3DS ゲーム用SNSで魅力を生かせるか?\n",
            "\n",
            "line= kaden-channel\t1\t\tヘルシーで美味しいジュースがキレイの秘訣！シャープがスロージューサー新発売\n",
            "\n",
            "line= kaden-channel\t1\t\t日立からホール・大会議室向け高輝度液晶プロジェクター新発売\n",
            "\n",
            "line= it-life-hack\t0\t\tZ77搭載でお安いマザーも！？ ECSよりIntel 7シリーズ搭載マザー\n",
            "\n",
            "line= kaden-channel\t1\t\t赤っ恥！　釈由美子に続き及川光博もiPhoneがよくわかっていなかった\n",
            "\n",
            "line= kaden-channel\t1\t\t手間賃の方が高い？　拾ったAKBの画像を150円でネットで売り逮捕\n",
            "\n",
            "line= kaden-channel\t1\t\t話題のｉＰｈｏｎｅ５、１０月４日に米アップルが発表か\n",
            "\n",
            "line= it-life-hack\t0\t\tアナタなら10個のCPU何に使う？　SandyBridge-EとX79マザーの使い道を大募集中\n",
            "\n",
            "line= kaden-channel\t1\t\tプロフィール写真をスタイリッシュに！　ポートレート写真の撮影に挑戦\n",
            "\n",
            "line= it-life-hack\t0\t\t3秒でわかる！イー・モバイル、次世代モバイル通信「EMOBILE LTE」対応端末を一挙紹介\n",
            "\n",
            "line= kaden-channel\t1\t\t良かった？　やっぱりダメ？　「食器洗い機不要論」は本当なのか\n",
            "\n",
            "line= it-life-hack\t0\t\tオリジナルのままじゃつまらない！　ひと手間加えてTumblrのデザインを変更する\n",
            "\n",
            "line= it-life-hack\t0\t\tWindows8登場でどう変わる？ 2012年パソコン秋冬モデルの動向を考える\n",
            "\n",
            "line= kaden-channel\t1\t\tスマホに不満続々登場！　「解約したい！！」の声多数\n",
            "\n",
            "line= kaden-channel\t1\t\tグーグルプラスで衝撃！　AKB前田敦子が顔面センターをついに持ちネタ化し好感度アップ\n",
            "\n",
            "line= kaden-channel\t1\t\t１位は友達！　あなたは１週間でいちばん誰に多くメールする？\n",
            "\n",
            "line= kaden-channel\t1\t\tスマホ回線の値下げ競争がはじまる！　auのスマートバリュー発表はどう影響するか\n",
            "\n",
            "line= it-life-hack\t0\t\t本日11時よりライブ配信開始！　ソフトバンク＆ウィルコム新製品発表会\n",
            "\n",
            "line= kaden-channel\t1\t\t節電するのが当たり前！　震災後節電への意識が変わった日本列島\n",
            "\n",
            "line= kaden-channel\t1\t\tあっという間に完璧なヘアスタイルが完成！　シャープのプラズマクラスタードライヤーでサロンと同じ仕上がりに\n",
            "\n",
            "line= it-life-hack\t0\t\t自分のパソコンを自分で組み立てる！富士通のパソコン組立体験サービス\n",
            "\n",
            "line= it-life-hack\t0\t\t動物好きなアナタに！ iPhoneを動物図鑑にしてくれるアプリ\n",
            "\n",
            "line= kaden-channel\t1\t\tクリスマスディナーにもぴったり！　、「あんどん」をモチーフにしたライト「LEDあんどん　OLIGHT LS-8151W」は充電式\n",
            "\n",
            "line= kaden-channel\t1\t\tテレビも電子書籍もインターネットも！　お風呂を楽しむなら 「ビエラ・ワンセグ」ＳＶ−ＭＥ１０００\n",
            "\n",
            "line= it-life-hack\t0\t\tアメリカのアプリランキングで人気！直感的な操作でハマル「Fancy Pants」\n",
            "\n",
            "line= kaden-channel\t1\t\t「あっ間違いちゃった♪」　なんだかんだで、頭の回転が速いローラがTwitterでファンを魅了\n",
            "\n",
            "line= it-life-hack\t0\t\tTwitterとテレビを連携！テレビ視聴の楽しみ方を変える NECの「つぶやきプラス」\n",
            "\n",
            "line= kaden-channel\t1\t\t死刑になる恐れも！　ムハンマドにツイッター上でタメ口を使った文筆家逮捕\n",
            "\n",
            "line= kaden-channel\t1\t\t太陽のエネルギーを活かす暮らしを提案！　パナソニックが住宅用の電力制御システムを開発\n",
            "\n",
            "line= it-life-hack\t0\t\t無料で情報収集＆発信できる次世代SNS「tumblr」を活用する\n",
            "\n",
            "line= kaden-channel\t1\t\tおしゃれウォッチ！　テキストで時間を表示してくれる腕時計「QLOCKTWO W」が登場\n",
            "\n",
            "line= it-life-hack\t0\t\t女子部必見！Peachyアプリが10万ダウンロードを突破\n",
            "\n",
            "line= it-life-hack\t0\t\tドコモのスマホに強い味方！ドコモ Optimus LTE L-01D用スタンダード大容量バッテリー\n",
            "\n",
            "line= it-life-hack\t0\t\tiPhone5用ケース続々先行発売中！　存在しないはずのiPhone 5用ケースが通販中\n",
            "\n",
            "line= kaden-channel\t1\t\t洗濯したければゲームをクリアしろ！　イギリスの学生が発明した洗濯機が楽しすぎる\n",
            "\n",
            "line= kaden-channel\t1\t\t水に浮いているようなリラックス姿勢で本格派—ソファ型マッサージチェア「Ｚｅｒｏｆｌｏａｔ　マッサージチェアＡＳ−６５０ＺＧ」発売\n",
            "\n",
            "line= it-life-hack\t0\t\t日本のサイバー犯罪捜査は変革を迫られている \n",
            "\n",
            "line= it-life-hack\t0\t\tハゲ頭を言い訳にしたことはない！孫社長 失礼な発言に大人の対応\n",
            "\n",
            "line= it-life-hack\t0\t\t違法ダウンロード刑罰化やRetinaディスプレ搭載MacBook Pro登場まで１週間を振り返る\n",
            "\n",
            "line= kaden-channel\t1\t\t今夜はみんなでバルス！　ニコ動が今夜放送の「天空の城ラピュタ」実況生配信\n",
            "\n",
            "line= kaden-channel\t1\t\tパナソニックからプロシューマー向けの2D/3DカメラのHDC-Z10000登場\n",
            "\n",
            "line= kaden-channel\t1\t\t男子は見てる！　エチケットカットを怠らず視線から逃げない顔を作るには？\n",
            "\n",
            "line= kaden-channel\t1\t\t通話相手の存在感を伝える抱き枕『ハグビー』—ヴイストン ロボットセンター 東京秋葉原店で2012 年4 月27 日〜5 月27 日に展示\n",
            "\n",
            "line= kaden-channel\t1\t\tシニア世代のスマートフォン所有率は４.７％\n",
            "\n",
            "line= kaden-channel\t1\t\tZACUTO社製 キヤノンC300用アクセサリーが発売\n",
            "\n",
            "line= kaden-channel\t1\t\tスマートフォン専用放送局「NOTTV」が詳細を発表！対応端末はドコモから3月に発売\n",
            "\n",
            "line= it-life-hack\t0\t\t使いこなし指南の知っ得！虎の巻\n",
            "\n",
            "line= it-life-hack\t0\t\tワイルドな英語プリントだぜぇ！　スギちゃん風な英語の教材プリントが話題に\n",
            "\n",
            "line= kaden-channel\t1\t\t「個人被ばく線量計」の機能についておさらいしてみよう\n",
            "\n",
            "line= kaden-channel\t1\t\t連載●After Effects 天国への階段 第10回\n",
            "\n",
            "line= it-life-hack\t0\t\t語れば語るほど、メッキが剥がれていく！孫社長「あきらめていないか？」\n",
            "\n",
            "line= it-life-hack\t0\t\tユーザー同士が情報交換できる！総合レビューサイト「iriver Review Portal」がスタート\n",
            "\n",
            "line= it-life-hack\t0\t\tDropboxはLAN DISKで管理する時代へ！複数Dropboxアカウントをまとめて利用する方法\n",
            "\n",
            "line= kaden-channel\t1\t\tアメーバピグ「15歳以下規制」ついに実施！　キッズが激怒でブログが炎上\n",
            "\n",
            "line= it-life-hack\t0\t\t高耐久HDD搭載PC登場！　ドスパラより壊れにくいHDDを採用したモデルが登場\n",
            "\n",
            "line= kaden-channel\t1\t\t　東芝は世界に先駆けて「レグザ５５Ｘ３」を日本で発売\n",
            "\n",
            "line= it-life-hack\t0\t\tふぉっくす紺子だよ！暑中お見舞いカードもらってくれてありがとー\n",
            "\n",
            "line= kaden-channel\t1\t\tiPhone4Sにまた問題発生？　今度は突然SIMカードの読み取りが不可能に・・・\n",
            "\n",
            "line= it-life-hack\t0\t\tMountain Lion登場！　25日よりMac App StoreからMountain Lion公開\n",
            "\n",
            "line= kaden-channel\t1\t\t連載●After Effects 天国への階段 第11回\n",
            "\n",
            "line= kaden-channel\t1\t\t駐車場の出し入れはスマホにお任せ！　日産が公開の電気自動車「ＰＩＶＯ（ピボ）３」がすごい！\n",
            "\n",
            "line= it-life-hack\t0\t\t月額1,050円でSASディスクを搭載！クラウドプラン 「エクスライト（EX-LITE）」の魅力を探る\n",
            "\n",
            "line= kaden-channel\t1\t\t「なんで失恋の歌？」ソニーの「ウォークマン　Sシリーズ」CMで流れる西野カナの歌声に疑問の声\n",
            "\n",
            "line= kaden-channel\t1\t\tウリナリ的な挑戦企画が人気か？　日テレ「ヒルナンデス！」が視聴率初の昼トップに\n",
            "\n",
            "line= it-life-hack\t0\t\tiPhoneに直接転送できるスキャナ！「iスキャミル ミニ」が凄い\n",
            "\n",
            "line= kaden-channel\t1\t\tこの時期に頼りになるのは空気清浄機！　豪徳寺美鈴が悩んでゲットしたのはコレ！\n",
            "\n",
            "line= kaden-channel\t1\t\t美しさのためには夕食は焼肉がベスト！？\n",
            "\n",
            "line= kaden-channel\t1\t\tコンプガチャの規制にGLAYのTERUが激怒！「小学生が150万請求されるって、そんなの知らんわ！」\n",
            "\n",
            "line= kaden-channel\t1\t\tいよいよ今夜！　NHKスペシャル「世界を変えた男 スティーブ・ジョブズ」放送\n",
            "\n",
            "line= kaden-channel\t1\t\tたむけん、ツイッター炎上から焼肉店の営業妨害へ・・・一体なぜ起こったのか？【話題】　\n",
            "\n",
            "line= it-life-hack\t0\t\t「写真の町」から生まれた「念力、滲透、輪郭」とは？　気鋭の写真家が描く世界にドキッ\n",
            "\n",
            "line= kaden-channel\t1\t\t中東マネーがすごい！　サウジアラビア王子がTwitterに投資で、その額３億ドル！！\n",
            "\n",
            "line= it-life-hack\t0\t\tおはこんこん、ふぉっくす紺子です！アキバで流れる動画が決まりました\n",
            "\n",
            "line= kaden-channel\t1\t\t親しき仲にも礼儀あり！友人による写真や情報の無断投稿に9割が不快感\n",
            "\n",
            "line= kaden-channel\t1\t\tあなたのパスワードは大丈夫？　避けた方がいいワーストパスワードが発表\n",
            "\n",
            "line= kaden-channel\t1\t\t初売りは１月２日！　アップルの福袋は実店舗限定で3万3000円\n",
            "\n",
            "line= it-life-hack\t0\t\tゲームサウンドが聴き放題！ 24時間無料でゲームサウンドが聴けるSQUARE-ENIX AUDIO\n",
            "\n",
            "line= it-life-hack\t0\t\tKepler最新モデル登場！　深夜販売も行われたNVIDIAの最新GPU「GeForce GTX 660 Ti」\n",
            "\n",
            "line= kaden-channel\t1\t\t花粉対策もできる電球タイプの蛍光灯—ラブロスの「シルバーイオンライト」\n",
            "\n",
            "line= kaden-channel\t1\t\t必要以上にはしゃぎすぎ！　リア充を演出する人が増加中\n",
            "\n",
            "line= kaden-channel\t1\t\t１人暮らしに最適！ハイアールからワンタッチ温め対応のレンジ「JM-V16A」が登場\n",
            "\n",
            "line= it-life-hack\t0\t\t夏のボーナス金額は増！ ただし商品の購入に充てる割合は大幅減\n",
            "\n",
            "line= kaden-channel\t1\t\tドコモ障害の原因はスマホだった？　普及が進むスマホに課題か\n",
            "\n",
            "line= it-life-hack\t0\t\tついに発売日が決定！有機ELスマートフォン「DELL Streak Pro 101DL」が凄い\n",
            "\n",
            "line= it-life-hack\t0\t\tスタートアップ設定や特殊なデフラグ！　ゴールデンウィークはPCをメンテナンス\n",
            "\n",
            "line= it-life-hack\t0\t\t富士通がクラウドサービスを開始！「My Cloud」はどんな発展をするのか？\n",
            "\n",
            "line= it-life-hack\t0\t\t最新CPUに出会えるチャンス！「Intel Technology Day in Akiba 2012」を開催へ\n",
            "\n",
            "line= kaden-channel\t1\t\tテストレポート プロ機材ドットコム　TEEDAスタビライザー\n",
            "\n",
            "line= kaden-channel\t1\t\t新緑の季節に大活躍しそう！ブラック・アンド・デッカー芝生・庭木バリカン発売\n",
            "\n",
            "line= it-life-hack\t0\t\t液晶一体型！新型ワークステーションからインド製携帯電話まで【デジ通】一気読み\n",
            "\n",
            "line= it-life-hack\t0\t\tAndroidアップデートは何が重要か? OSのアップデートよりも重要な事\n",
            "\n",
            "line= kaden-channel\t1\t\tFacebookをチェックして誰のとなりに座るか決められる！　航空会社が発表したびっくり座席指定システム\n",
            "\n",
            "line= it-life-hack\t0\t\t深くお詫び申し上げます！探検ドリランドの一部機能を停止\n",
            "\n",
            "line= it-life-hack\t0\t\tiPhoneやiPadが目ざまし時計になるユニークなガジェット登場！\n",
            "\n",
            "line= it-life-hack\t0\t\t作業用BGMを探すのに最適！　お気に入りのアーティストを連続再生「Musictonic」\n",
            "\n",
            "line= kaden-channel\t1\t\t「日本の侵略戦争がすべてのはじまり」で謹慎のまんべくんが「ごめんなさい。がんばります」と復活していた\n",
            "\n",
            "line= kaden-channel\t1\t\tTest Report ソニーα77　作例動画\n",
            "\n",
            "line= it-life-hack\t0\t\t雑誌をPDF化してiPadで読む裏技！スキャナー活用のノウハウを伝授\n",
            "\n",
            "line= it-life-hack\t0\t\t作品から溢れ出る音を感じよう！相星哲也の写真展「韻」の不思議\n",
            "\n",
            "line= kaden-channel\t1\t\t大人だって可愛いお腹に癒される！　タカラトミー「おやすみ　グーグーフレンズ　くまのプーさん」新発売\n",
            "\n",
            "line= kaden-channel\t1\t\t「脱原発とは関係ない」姉の大麻所持逮捕に山本太郎がツイッターでコメント\n",
            "\n",
            "line= it-life-hack\t0\t\t無線LANで映像を飛ばそう！ユニークな地デジチューナー付きルーター\n",
            "\n",
            "line= kaden-channel\t1\t\tもはや動くスマホ？　トヨタが発表のコンセプトカー「Fun-Vii」がすごすぎると話題に\n",
            "\n",
            "line= kaden-channel\t1\t\tAndroidアプリ開発者必見！あんざいゆきさんの人気メルマガが「BLOGOSメルマガ」に登場！\n",
            "\n",
            "line= it-life-hack\t0\t\t2ステップで録画開始！ Youtubeやニコニコが録画できるB′s 動画レコーダー 2\n",
            "\n",
            "line= it-life-hack\t0\t\tアナタはまだブラウザのブックマーク？　ブックマーク管理はライフリストがオススメ\n",
            "\n",
            "line= it-life-hack\t0\t\t切れない携帯はホントに必要か？　東京メトロにおける携帯のサービスエリア拡大\n",
            "\n",
            "line= kaden-channel\t1\t\tアプリでカタログをもっと楽しめる！　開発秘話も読めるデジカメ「NEX-7」専用のARアプリ登場\n",
            "\n",
            "line= it-life-hack\t0\t\t東芝より3TバイトHDD登場！ 主要メーカーの3.5インチHDDで3Tバイトモデルが出そろう\n",
            "\n",
            "line= it-life-hack\t0\t\tMS Office互換、Google IMEも使える！　イザというときのUbuntu環境構築まとめ\n",
            "\n",
            "line= it-life-hack\t0\t\tauなら月額590円で映画が見放題！新作映画も楽しめる「ビデオパス」が凄い\n",
            "\n",
            "line= it-life-hack\t0\t\tとりあえずペンディング！　続・無許可ダウンロードの罰則化が引き起こす問題\n",
            "\n",
            "line= it-life-hack\t0\t\tいよいよ開業間近！ 東京スカイツリー観光に行くなら「東京スカイツリー Navi」がオススメ！\n",
            "\n",
            "line= it-life-hack\t0\t\tメモ型クラウドサービス「Droplr」 備忘録やブックマークに使える\n",
            "\n",
            "line= kaden-channel\t1\t\t停電などの非常時に備える！HONDAがプロパンガス仕様のポータブル発電機を開発\n",
            "\n",
            "line= it-life-hack\t0\t\t中高年の星！地方発の価格比較ができる便利サイト「お買い得.net」活用のススメ\n",
            "\n",
            "line= it-life-hack\t0\t\tこんな目で娘に見つめられたい！娘と父の美しすぎる蜜月 久保和範写真展「恋人」\n",
            "\n",
            "line= it-life-hack\t0\t\t高解像度の写真で見る！キヤノンのミラーレス一眼「EOS M」はココが凄い\n",
            "\n",
            "line= it-life-hack\t0\t\tスティックタイプのコンデジ登場！　Optio新モデルは気分に合わせて着せ替え可能\n",
            "\n",
            "line= kaden-channel\t1\t\tのどが痛くて歌えない！　主題歌が間に合わないＡＫＢさしこはプロ失格か\n",
            "\n",
            "line= kaden-channel\t1\t\t生真面目かつ革新的にパワーアップする次世代テレビ—ソニーCrystal LED Display\n",
            "\n",
            "line= it-life-hack\t0\t\tトラブル回避策も不発！SSDを交換したものの…インテルSSD 520をMacに装着 （下）\n",
            "\n",
            "line= it-life-hack\t0\t\t非公式アプリでも結構イケる！ UbuntuでもEvernoteが使える\n",
            "\n",
            "line= kaden-channel\t1\t\tパナソニック新発売のエアコンは新開発「トップユニット」構造の「Xシリーズ」\n",
            "\n",
            "line= kaden-channel\t1\t\tNEX-FS100での色創りとライティングを映画『彩〜aja〜』から学ぶ\n",
            "\n",
            "line= it-life-hack\t0\t\t新iPad時代の定番はコレだ！iPhoneとiPadを同時充電＋ステレオスピーカー内蔵スタンド\n",
            "\n",
            "line= it-life-hack\t0\t\t1年保証をさらに1年延長！　2年の保証が付くASRock製Intel 7シリーズ搭載マザー\n",
            "\n",
            "line= kaden-channel\t1\t\tやはり気になる……ガイガーカウンターの購入を考える人は全体の17．2％\n",
            "\n",
            "line= it-life-hack\t0\t\tSOHOや小規模事業所に最適、NETGEAR 16ポートギガビットスマートスイッチの試用企業を募集\n",
            "\n",
            "line= kaden-channel\t1\t\tソフトバンク孫社長の「iPhone、iPad、スマートフォン…どれも持っていない人は、人生を悔い改めて」発言に余計なお世話だ！\n",
            "\n",
            "line= kaden-channel\t1\t\t冬のおしゃれとウイルス対策に効くシャーププラズマクラスター乾燥機新発売\n",
            "\n",
            "line= kaden-channel\t1\t\t女子必見！？　ソフトバンクからキティちゃんのスマホ登場\n",
            "\n",
            "line= it-life-hack\t0\t\tExcel表を書き換えたのに再計算されない!?　を解決する\n",
            "\n",
            "line= kaden-channel\t1\t\tWEB業界は「ろくろ回し過ぎ」ってなんだ？　ネットでインタビューが話題に\n",
            "\n",
            "line= it-life-hack\t0\t\tMSがSkyDriveをアップデート！　 その外観はまさに「Metro風」（旧称）に！\n",
            "\n",
            "line= kaden-channel\t1\t\t家族で使えるタブレット登場！　シャープ、NTT西、イオンらが共同でサービス発表\n",
            "\n",
            "line= it-life-hack\t0\t\t来たぜ！お祭り第3弾！GIGABYTE板祭でZ77マザーのレビューアーを大募集\n",
            "\n",
            "line= kaden-channel\t1\t\tママが使えるタブレットはこれ！　子どもも楽しめるサービス「A touch Ru*Run」を体験\n",
            "\n",
            "line= kaden-channel\t1\t\tスマートフォンの満足度、トップは「Xperia arc」\n",
            "\n",
            "line= kaden-channel\t1\t\tネット上での顔出しに抵抗ある？20代の88.4％が「抵抗ある」\n",
            "\n",
            "line= it-life-hack\t0\t\tえ？これ食べれるの？　海外のバースデーケーキの見事さが話題に\n",
            "\n"
          ],
          "name": "stdout"
        }
      ]
    },
    {
      "cell_type": "code",
      "metadata": {
        "id": "5St0Of5h8f2m",
        "colab_type": "code",
        "colab": {}
      },
      "source": [
        "import pandas as pd"
      ],
      "execution_count": 0,
      "outputs": []
    },
    {
      "cell_type": "code",
      "metadata": {
        "id": "IuMOGwFui4it",
        "colab_type": "code",
        "colab": {}
      },
      "source": [
        "DATA_COLUMN = 'sentence'\n",
        "LABEL_COLUMN = 'polarity'\n",
        "# label_list is the list of labels, i.e. True, False or 0, 1 or 'dog', 'cat'\n",
        "label_list = [0, 1]"
      ],
      "execution_count": 0,
      "outputs": []
    },
    {
      "cell_type": "code",
      "metadata": {
        "id": "oZu8yYRB9r8R",
        "colab_type": "code",
        "colab": {}
      },
      "source": [
        "train = pd.read_csv(\"train.tsv\", delimiter='\\t')\n",
        "test =  pd.read_csv(\"test.tsv\", delimiter='\\t')\n",
        "train.columns = ['line1','polarity','space','sentence']\n",
        "test.columns = ['polarity','sentence']\n"
      ],
      "execution_count": 0,
      "outputs": []
    },
    {
      "cell_type": "code",
      "metadata": {
        "id": "0e8cTbzT_q_E",
        "colab_type": "code",
        "outputId": "7274c6bb-e976-48fc-cc4d-2e13e1e1fb94",
        "colab": {
          "base_uri": "https://localhost:8080/",
          "height": 1105
        }
      },
      "source": [
        "print(train[['polarity','sentence']])"
      ],
      "execution_count": 0,
      "outputs": [
        {
          "output_type": "stream",
          "text": [
            "      polarity                                           sentence\n",
            "0            1               お風呂場がベター!?　iPhoneの保護シールがうまく貼れない人にヒント\n",
            "1            0  24時間しょこたん三昧　本日0時より「中川翔子が売ってみた！独り24時間テレビ」ニコニコ生放送開始\n",
            "2            1      『癒し』と『安眠サポート』—部屋中をほんのり桜色に照らすＬＥＤ照明シャープＤＬ−Ｃ６０４Ｖ\n",
            "3            0                          あの名作に隠された秘密！スラムダンクの秘密　完全版\n",
            "4            1                          タムロンのEマウントレンズを純正レンズと比べてみた\n",
            "5            1             普通の小学生に戻ってほしい？　人気子役の愛菜ちゃんが消えてほしい芸能人１位に\n",
            "6            0                    先週気になったニュースや話題を振り返る「ITフラッシュバック」\n",
            "7            0                      iPhone用オモシロアプリからお役立ちアプリまで一挙紹介\n",
            "8            0                駆け込み購入で「しまった」を挽回できる！古い液晶テレビを最新にする作戦\n",
            "9            1                  安全でスタイリッシュ！タイガー電気ケトル「PCD-A型」で賢く節電\n",
            "10           1               以前の方が面白かった？　学生が選ぶ「復活してほしいバラエティ」に納得の声\n",
            "11           1              どっちが問題？　韓国ロケで激怒する中国人女優と、それをバッシングする韓国人\n",
            "12           0    次世代セキュリティソフト「ノートン360 v6」を徹底検証！ITライフハック編集長が使ってみた\n",
            "13           0                   Macの次期OS「Mountain Lion」の真の狙いとは？ \n",
            "14           1                    第8回上映 中野 森 監督作品　　　　　 『今日は秋刀魚の日』\n",
            "15           0                      七夕の願いは済んだ？　短冊に書かれたユニークな願いが話題に\n",
            "16           0                       自然とはなんと偉大なんだろう！孫社長″言葉不要の美しさ″\n",
            "17           0                          おはこんこん！紺子ぬいぐるみ、7月頃に出来上がるよ\n",
            "18           1  サムスンWindows8 タブレットが人間の脳波でスケボーを操作する!?　テキサスでおもしろ...\n",
            "19           0      Safariのリーダー機能をFirefoxで アドオン「Evernote Clearly」\n",
            "20           0                    WordやExcelでよく使うコマンドをワンクリックで実行する\n",
            "21           0        大切な投稿を見逃さない！友達管理が簡単に！個性派Facebookにするテクニックまとめ\n",
            "22           0        あなたのiPhoneサクサク動く？　もしダメなら「サクサク for iPhone 改」\n",
            "23           1           今度こそ？　バッテリー問題を修正した「iOS 5.0.2」をアップルがリリースか\n",
            "24           1                   お年賀には映画をプレゼント？　日本初！「映画付年賀状」は365円\n",
            "25           0                  未来の名プログラマーを育め！中高生150名がアプリ開発にチャレンジ\n",
            "26           1       かわいい頑張り屋さんロボ「じゅくすい君」は睡眠時無呼吸症候群の患者を顔をたたいてサポート\n",
            "27           1     ゆっくりなのがたまにキズ？　「USBあったかオニギリ ウォーマー（USBHTOW1）」に注目\n",
            "28           1              PCカメラとしての使用も可能な小型トイデジカメ「GH-TCAM30P」登場\n",
            "29           1                 ドコモも登場で競争がより過熱！？　来年夏にドコモがiPhone参入か\n",
            "...        ...                                                ...\n",
            "1375         0     東芝より3TバイトHDD登場！ 主要メーカーの3.5インチHDDで3Tバイトモデルが出そろう\n",
            "1376         0  MS Office互換、Google IMEも使える！　イザというときのUbuntu環境構築まとめ\n",
            "1377         0              auなら月額590円で映画が見放題！新作映画も楽しめる「ビデオパス」が凄い\n",
            "1378         0               とりあえずペンディング！　続・無許可ダウンロードの罰則化が引き起こす問題\n",
            "1379         0     いよいよ開業間近！ 東京スカイツリー観光に行くなら「東京スカイツリー Navi」がオススメ！\n",
            "1380         0                 メモ型クラウドサービス「Droplr」 備忘録やブックマークに使える\n",
            "1381         1            停電などの非常時に備える！HONDAがプロパンガス仕様のポータブル発電機を開発\n",
            "1382         0            中高年の星！地方発の価格比較ができる便利サイト「お買い得.net」活用のススメ\n",
            "1383         0             こんな目で娘に見つめられたい！娘と父の美しすぎる蜜月 久保和範写真展「恋人」\n",
            "1384         0               高解像度の写真で見る！キヤノンのミラーレス一眼「EOS M」はココが凄い\n",
            "1385         0           スティックタイプのコンデジ登場！　Optio新モデルは気分に合わせて着せ替え可能\n",
            "1386         1                 のどが痛くて歌えない！　主題歌が間に合わないＡＫＢさしこはプロ失格か\n",
            "1387         1    生真面目かつ革新的にパワーアップする次世代テレビ—ソニーCrystal LED Display\n",
            "1388         0                非公式アプリでも結構イケる！ UbuntuでもEvernoteが使える\n",
            "1389         1              パナソニック新発売のエアコンは新開発「トップユニット」構造の「Xシリーズ」\n",
            "1390         1               NEX-FS100での色創りとライティングを映画『彩〜aja〜』から学ぶ\n",
            "1391         0    新iPad時代の定番はコレだ！iPhoneとiPadを同時充電＋ステレオスピーカー内蔵スタンド\n",
            "1392         0      1年保証をさらに1年延長！　2年の保証が付くASRock製Intel 7シリーズ搭載マザー\n",
            "1393         1                やはり気になる……ガイガーカウンターの購入を考える人は全体の17．2％\n",
            "1394         0  SOHOや小規模事業所に最適、NETGEAR 16ポートギガビットスマートスイッチの試用企業を募集\n",
            "1395         1  ソフトバンク孫社長の「iPhone、iPad、スマートフォン…どれも持っていない人は、人生を...\n",
            "1396         1                        女子必見！？　ソフトバンクからキティちゃんのスマホ登場\n",
            "1397         0                      Excel表を書き換えたのに再計算されない!?　を解決する\n",
            "1398         1               WEB業界は「ろくろ回し過ぎ」ってなんだ？　ネットでインタビューが話題に\n",
            "1399         0        MSがSkyDriveをアップデート！　 その外観はまさに「Metro風」（旧称）に！\n",
            "1400         1            家族で使えるタブレット登場！　シャープ、NTT西、イオンらが共同でサービス発表\n",
            "1401         0            来たぜ！お祭り第3弾！GIGABYTE板祭でZ77マザーのレビューアーを大募集\n",
            "1402         1                       スマートフォンの満足度、トップは「Xperia arc」\n",
            "1403         1                    ネット上での顔出しに抵抗ある？20代の88.4％が「抵抗ある」\n",
            "1404         0                     え？これ食べれるの？　海外のバースデーケーキの見事さが話題に\n",
            "\n",
            "[1405 rows x 2 columns]\n"
          ],
          "name": "stdout"
        }
      ]
    },
    {
      "cell_type": "code",
      "metadata": {
        "id": "2aPQAm3PACOD",
        "colab_type": "code",
        "outputId": "8a3b889d-da47-4820-831d-bc37a88f4cf0",
        "colab": {
          "base_uri": "https://localhost:8080/",
          "height": 1105
        }
      },
      "source": [
        "print(test[['polarity','sentence']])"
      ],
      "execution_count": 15,
      "outputs": [
        {
          "output_type": "stream",
          "text": [
            "     polarity                                           sentence\n",
            "0           0              何かとネットが騒がしかった！　不審なAndroidアプリ騒動までを振り返る\n",
            "1           0          一連の流れを紹介！ Google playで出回った不審なAndroidアプリ問題\n",
            "2           1                        連載●After Effects 天国への階段 第9回\n",
            "3           0                     Mac必須アプリの使いこなし術！パソコンの最新情報をチェック\n",
            "4           1                 任天堂「Ｗｉｉ　Ｕ」は年末商戦期に発売決定　−　販売エリアは日米欧豪\n",
            "5           0                    スマホもバッテリーパックもコレ1台でOK！欲張りなマルチ充電器\n",
            "6           1                     元旦深夜０時に「ミラーファイト」新作がYouTubeで公開！\n",
            "7           0             ストップ違法コピー！ BSA世界ソフトウェア違法コピー調査2011の結果発表\n",
            "8           0                               必要なファイルを素早く取り出すマル秘ワザ\n",
            "9           1  スタイリッシュな男性と、きらめく女性向け！　パナソニックグループ、単３形・単４形「エネループ...\n",
            "10          0             これを付ければ速くなる！？　AMDプラットフォームに最適化されたメモリー登場\n",
            "11          0                 タブの多段表示やウィンドウのシングル表示　Firefoxを強化しよう\n",
            "12          1                         使うほど髪にハリツヤ、モッズ・ヘアサロンのドライヤー\n",
            "13          1       2012年はモバイルプロジェクター元年！　新時代のプロジェクターはこんなに進化している！\n",
            "14          0                       あなたの銀行は大丈夫？「SpyEye」が銀行を狙ってる！\n",
            "15          1                    1kW当たり全国平均より約20万円お得—激安！太陽光発電プラン\n",
            "16          0                   ダウンロードよりもCDの方が便利 これからもCDを買い続ける理由\n",
            "17          0                    生命の勢いを感じます！孫社長″厳しい日々の後にも春は必ず来る″\n",
            "18          1                      日本が好きすぎる外国人IT集団がおもしろビデオで求人募集！\n",
            "19          1         居眠り運転を事前に防ぐ！　運転中の目の動きで居眠り検知、iPhoneが起こしてくれる\n",
            "20          0                      データ整理に役立つ！　Excelで大量の連番をまとめて入力\n",
            "21          1                      iPhone4Sの通信速度が違う？　auとソフトバンクの差\n",
            "22          0                           ネットがなくても動画がスイスイ見られるスグレモノ\n",
            "23          1             ナチュラルライトの活用でブログにもっと魅力的な写真を！　ブログ用撮影のヒント\n",
            "24          1                          気をつけて！　スマホの普及で駅での事故が過去最悪か\n",
            "25          1              お金が欲しい！　ウィキペディアが寄付を募るも日本からの寄付は世界最低レベル\n",
            "26          0               今後のアップデートに期待！ 無料期間後も課金する人が大多数のドラクエX \n",
            "27          1                       「サンタが手足を置いていく」乙武洋匡のツイッターに戸惑い\n",
            "28          1           事実上不可能か　ハッカー集団が「3月31日にインターネットをダウンさせる」と予告\n",
            "29          1                野球の次は中国市場でも勢いを見せる！　モバゲーが中国スマホに標準搭載へ\n",
            "..        ...                                                ...\n",
            "121         1                                    ソニーF3　ズームレンズテスト\n",
            "122         1  スマートフォンで操れる！　パナソニック、Ｗｉ−Ｆｉ搭載スリムズームのデジカメ「ＬＵＭＩＸ　Ｄ...\n",
            "123         0  大人気Ultrabookが作れる！　親子で体験!! デル パソコン組み立て教室5回目の開催が決まる\n",
            "124         0                  女子のすこやかな成長を祈る日！Googleロゴがひな祭りのひな壇に\n",
            "125         0                            いよいよ夏本番！ 梅雨明け後の夏らしい青空写真\n",
            "126         0               Zeroから戻す方法も簡単に！　昨日より一般会員もZeroが利用可能に！\n",
            "127         1                           写真からアートな動画を作る！　タイムラプスに挑戦\n",
            "128         0            Dockコネクターに直挿し！iPhoneやiPadにケーブルいらずのバッテリー\n",
            "129         0  斬新なアート表現と生命力！フィリピンの「今」が見られる「The Hope & The Dre...\n",
            "130         1                   傷が消えるケースは世界初！　日産が開発のｉＰｈｏｎｅケースに注目\n",
            "131         0               写真でみる世界最軽量Ultrabook！新情報が目白押しの1日を振り返る\n",
            "132         1                      原因はバッテリーか？　iPhoneから煙が出て、機内が騒然\n",
            "133         0               特定の通信を止めることも可能！ netstat以上に便利なTCPView\n",
            "134         0                            3姉妹の成長を瞬間的に捉えた妖艶で可憐な世界観\n",
            "135         1                         アップル敗訴！　中国では「iPad」の商標が使えない\n",
            "136         0                      B-CASカードの解析完了！有料放送見放題の仕組みが判明！\n",
            "137         1      ご飯炊けまくりマシタ！　仲良くならないとうまく炊けない「炊飯器少女コメコ」１巻を読んでみた\n",
            "138         0            一気に4K？それともWQXGA？　MacのRetina液晶の解像度はどっち？ \n",
            "139         1        今度はシャープから、人工知能搭載で自ら進んで節電する「プラズマクラスター冷蔵庫」新発売\n",
            "140         1  パナソニックのデジカメに新色！「LUMIX DMC-GF3」と「LUMIX DMC-G3」に...\n",
            "141         1                  ビデオサロン11月号「街のビデオ屋目線で評価するTestRoom」\n",
            "142         0                       ありがとうございます！孫社長 丸坊主アイコンに″およっ″\n",
            "143         0            Windows8登場でどう変わる？ 2012年パソコン秋冬モデルの動向を考える\n",
            "144         1                          スマホに不満続々登場！　「解約したい！！」の声多数\n",
            "145         0           アメリカのアプリランキングで人気！直感的な操作でハマル「Fancy Pants」\n",
            "146         1         太陽のエネルギーを活かす暮らしを提案！　パナソニックが住宅用の電力制御システムを開発\n",
            "147         1                              シニア世代のスマートフォン所有率は４.７％\n",
            "148         1             いよいよ今夜！　NHKスペシャル「世界を変えた男 スティーブ・ジョブズ」放送\n",
            "149         1                      ドコモ障害の原因はスマホだった？　普及が進むスマホに課題か\n",
            "150         0      トラブル回避策も不発！SSDを交換したものの…インテルSSD 520をMacに装着 （下）\n",
            "\n",
            "[151 rows x 2 columns]\n"
          ],
          "name": "stdout"
        }
      ]
    },
    {
      "cell_type": "markdown",
      "metadata": {
        "id": "V399W0rqNJ-Z",
        "colab_type": "text"
      },
      "source": [
        "#Data Preprocessing\n",
        "We'll need to transform our data into a format BERT understands. This involves two steps. First, we create  `InputExample`'s using the constructor provided in the BERT library.\n",
        "\n",
        "- `text_a` is the text we want to classify, which in this case, is the `Request` field in our Dataframe. \n",
        "- `text_b` is used if we're training a model to understand the relationship between sentences (i.e. is `text_b` a translation of `text_a`? Is `text_b` an answer to the question asked by `text_a`?). This doesn't apply to our task, so we can leave `text_b` blank.\n",
        "- `label` is the label for our example, i.e. True, False"
      ]
    },
    {
      "cell_type": "code",
      "metadata": {
        "id": "p9gEt5SmM6i6",
        "colab_type": "code",
        "colab": {}
      },
      "source": [
        "# Use the InputExample class from BERT's run_classifier code to create examples from the data\n",
        "train_InputExamples = train.apply(lambda x: bert.run_classifier.InputExample(guid=None, # Globally unique ID for bookkeeping, unused in this example\n",
        "                                                                   text_a = x[DATA_COLUMN], \n",
        "                                                                   text_b = None, \n",
        "                                                                   label = x[LABEL_COLUMN]), axis = 1)\n",
        "\n",
        "test_InputExamples = test.apply(lambda x: bert.run_classifier.InputExample(guid=None, \n",
        "                                                                   text_a = x[DATA_COLUMN], \n",
        "                                                                   text_b = None, \n",
        "                                                                   label = x[LABEL_COLUMN]), axis = 1)"
      ],
      "execution_count": 0,
      "outputs": []
    },
    {
      "cell_type": "markdown",
      "metadata": {
        "id": "SCZWZtKxObjh",
        "colab_type": "text"
      },
      "source": [
        "Next, we need to preprocess our data so that it matches the data BERT was trained on. For this, we'll need to do a couple of things (but don't worry--this is also included in the Python library):\n",
        "\n",
        "\n",
        "1. Lowercase our text (if we're using a BERT lowercase model)\n",
        "2. Tokenize it (i.e. \"sally says hi\" -> [\"sally\", \"says\", \"hi\"])\n",
        "3. Break words into WordPieces (i.e. \"calling\" -> [\"call\", \"##ing\"])\n",
        "4. Map our words to indexes using a vocab file that BERT provides\n",
        "5. Add special \"CLS\" and \"SEP\" tokens (see the [readme](https://github.com/google-research/bert))\n",
        "6. Append \"index\" and \"segment\" tokens to each input (see the [BERT paper](https://arxiv.org/pdf/1810.04805.pdf))\n",
        "\n",
        "Happily, we don't have to worry about most of these details.\n",
        "\n",
        "\n"
      ]
    },
    {
      "cell_type": "code",
      "metadata": {
        "id": "OV_P34DE4OXG",
        "colab_type": "code",
        "outputId": "c3a719f6-fcad-493b-e3f9-68f2487a8b6c",
        "colab": {
          "base_uri": "https://localhost:8080/",
          "height": 122
        }
      },
      "source": [
        "from google.colab import drive\n",
        "drive.mount('/content/gdrive')"
      ],
      "execution_count": 0,
      "outputs": [
        {
          "output_type": "stream",
          "text": [
            "Go to this URL in a browser: https://accounts.google.com/o/oauth2/auth?client_id=947318989803-6bn6qk8qdgf4n4g3pfee6491hc0brc4i.apps.googleusercontent.com&redirect_uri=urn%3Aietf%3Awg%3Aoauth%3A2.0%3Aoob&scope=email%20https%3A%2F%2Fwww.googleapis.com%2Fauth%2Fdocs.test%20https%3A%2F%2Fwww.googleapis.com%2Fauth%2Fdrive%20https%3A%2F%2Fwww.googleapis.com%2Fauth%2Fdrive.photos.readonly%20https%3A%2F%2Fwww.googleapis.com%2Fauth%2Fpeopleapi.readonly&response_type=code\n",
            "\n",
            "Enter your authorization code:\n",
            "··········\n",
            "Mounted at /content/gdrive\n"
          ],
          "name": "stdout"
        }
      ]
    },
    {
      "cell_type": "markdown",
      "metadata": {
        "id": "qMWiDtpyQSoU",
        "colab_type": "text"
      },
      "source": [
        "To start, we'll need to load a vocabulary file and lowercasing information directly from the BERT tf hub module:"
      ]
    },
    {
      "cell_type": "code",
      "metadata": {
        "id": "IhJSe0QHNG7U",
        "colab_type": "code",
        "outputId": "ae1d024b-1348-4058-dd0b-1b54356cd79e",
        "colab": {
          "base_uri": "https://localhost:8080/",
          "height": 51
        }
      },
      "source": [
        "# This is a path to an uncased (all lowercase) version of BERT\n",
        "#BERT_MODEL_HUB = \"https://tfhub.dev/google/bert_uncased_L-12_H-768_A-12/1\"\n",
        "BERT_MODEL_HUB = \"https://tfhub.dev/google/bert_multi_cased_L-12_H-768_A-12/1\"\n",
        "def create_tokenizer_from_hub_module():\n",
        "  \"\"\"Get the vocab file and casing info from the Hub module.\"\"\"\n",
        "  with tf.Graph().as_default():\n",
        "    bert_module = hub.Module(BERT_MODEL_HUB)\n",
        "    tokenization_info = bert_module(signature=\"tokenization_info\", as_dict=True)\n",
        "    with tf.Session() as sess:\n",
        "      vocab_file, do_lower_case = sess.run([tokenization_info[\"vocab_file\"],\n",
        "                                            tokenization_info[\"do_lower_case\"]])\n",
        "      \n",
        "  return bert.tokenization.FullTokenizer(\n",
        "      vocab_file=vocab_file, do_lower_case=do_lower_case)\n",
        "\n",
        "tokenizer = create_tokenizer_from_hub_module()"
      ],
      "execution_count": 75,
      "outputs": [
        {
          "output_type": "stream",
          "text": [
            "INFO:tensorflow:Saver not created because there are no variables in the graph to restore\n"
          ],
          "name": "stdout"
        },
        {
          "output_type": "stream",
          "text": [
            "I0519 08:36:41.754153 140593909376896 saver.py:1483] Saver not created because there are no variables in the graph to restore\n"
          ],
          "name": "stderr"
        }
      ]
    },
    {
      "cell_type": "markdown",
      "metadata": {
        "id": "z4oFkhpZBDKm",
        "colab_type": "text"
      },
      "source": [
        "Great--we just learned that the BERT model we're using expects lowercase data (that's what stored in tokenization_info[\"do_lower_case\"]) and we also loaded BERT's vocab file. We also created a tokenizer, which breaks words into word pieces:"
      ]
    },
    {
      "cell_type": "code",
      "metadata": {
        "id": "dsBo6RCtQmwx",
        "colab_type": "code",
        "outputId": "21f7bc00-6eff-45f4-acee-2cbb3851304c",
        "colab": {
          "base_uri": "https://localhost:8080/",
          "height": 34
        }
      },
      "source": [
        "tokenizer.tokenize(\"私の名前は鈴木友です。\")"
      ],
      "execution_count": 26,
      "outputs": [
        {
          "output_type": "execute_result",
          "data": {
            "text/plain": [
              "['私', 'の', '名', '前', 'は', '鈴', '木', '友', 'で', '##す', '。']"
            ]
          },
          "metadata": {
            "tags": []
          },
          "execution_count": 26
        }
      ]
    },
    {
      "cell_type": "markdown",
      "metadata": {
        "id": "0OEzfFIt6GIc",
        "colab_type": "text"
      },
      "source": [
        "Using our tokenizer, we'll call `run_classifier.convert_examples_to_features` on our InputExamples to convert them into features BERT understands."
      ]
    },
    {
      "cell_type": "code",
      "metadata": {
        "id": "LL5W8gEGRTAf",
        "colab_type": "code",
        "outputId": "d1305f6a-1572-47dd-cca0-15b969399afd",
        "colab": {
          "base_uri": "https://localhost:8080/",
          "height": 2485
        }
      },
      "source": [
        "# We'll set sequences to be at most 128 tokens long.\n",
        "MAX_SEQ_LENGTH = 128\n",
        "# Convert our train and test features to InputFeatures that BERT understands.\n",
        "train_features = bert.run_classifier.convert_examples_to_features(train_InputExamples, label_list, MAX_SEQ_LENGTH, tokenizer)\n",
        "test_features = bert.run_classifier.convert_examples_to_features(test_InputExamples, label_list, MAX_SEQ_LENGTH, tokenizer)"
      ],
      "execution_count": 76,
      "outputs": [
        {
          "output_type": "stream",
          "text": [
            "INFO:tensorflow:Writing example 0 of 1405\n"
          ],
          "name": "stdout"
        },
        {
          "output_type": "stream",
          "text": [
            "I0519 08:36:49.920398 140593909376896 run_classifier.py:774] Writing example 0 of 1405\n"
          ],
          "name": "stderr"
        },
        {
          "output_type": "stream",
          "text": [
            "INFO:tensorflow:*** Example ***\n"
          ],
          "name": "stdout"
        },
        {
          "output_type": "stream",
          "text": [
            "I0519 08:36:49.928479 140593909376896 run_classifier.py:461] *** Example ***\n"
          ],
          "name": "stderr"
        },
        {
          "output_type": "stream",
          "text": [
            "INFO:tensorflow:guid: None\n"
          ],
          "name": "stdout"
        },
        {
          "output_type": "stream",
          "text": [
            "I0519 08:36:49.930512 140593909376896 run_classifier.py:462] guid: None\n"
          ],
          "name": "stderr"
        },
        {
          "output_type": "stream",
          "text": [
            "INFO:tensorflow:tokens: [CLS] お 風 呂 場 が ##ベ ##ター ! ? iPhone ##の 保 護 シ ##ール ##が ##う ##ま ##く 貼 れ ##ない 人 に ##ヒ ##ント [SEP]\n"
          ],
          "name": "stdout"
        },
        {
          "output_type": "stream",
          "text": [
            "I0519 08:36:49.932982 140593909376896 run_classifier.py:464] tokens: [CLS] お 風 呂 場 が ##ベ ##ター ! ? iPhone ##の 保 護 シ ##ール ##が ##う ##ま ##く 貼 れ ##ない 人 に ##ヒ ##ント [SEP]\n"
          ],
          "name": "stderr"
        },
        {
          "output_type": "stream",
          "text": [
            "INFO:tensorflow:input_ids: 101 1910 8445 2806 3116 1912 111825 19054 106 136 37167 10634 2312 7288 2006 15396 10898 22526 27058 18825 7434 1976 15355 2179 1943 76145 39104 102 0 0 0 0 0 0 0 0 0 0 0 0 0 0 0 0 0 0 0 0 0 0 0 0 0 0 0 0 0 0 0 0 0 0 0 0 0 0 0 0 0 0 0 0 0 0 0 0 0 0 0 0 0 0 0 0 0 0 0 0 0 0 0 0 0 0 0 0 0 0 0 0 0 0 0 0 0 0 0 0 0 0 0 0 0 0 0 0 0 0 0 0 0 0 0 0 0 0 0 0\n"
          ],
          "name": "stdout"
        },
        {
          "output_type": "stream",
          "text": [
            "I0519 08:36:49.935753 140593909376896 run_classifier.py:465] input_ids: 101 1910 8445 2806 3116 1912 111825 19054 106 136 37167 10634 2312 7288 2006 15396 10898 22526 27058 18825 7434 1976 15355 2179 1943 76145 39104 102 0 0 0 0 0 0 0 0 0 0 0 0 0 0 0 0 0 0 0 0 0 0 0 0 0 0 0 0 0 0 0 0 0 0 0 0 0 0 0 0 0 0 0 0 0 0 0 0 0 0 0 0 0 0 0 0 0 0 0 0 0 0 0 0 0 0 0 0 0 0 0 0 0 0 0 0 0 0 0 0 0 0 0 0 0 0 0 0 0 0 0 0 0 0 0 0 0 0 0 0\n"
          ],
          "name": "stderr"
        },
        {
          "output_type": "stream",
          "text": [
            "INFO:tensorflow:input_mask: 1 1 1 1 1 1 1 1 1 1 1 1 1 1 1 1 1 1 1 1 1 1 1 1 1 1 1 1 0 0 0 0 0 0 0 0 0 0 0 0 0 0 0 0 0 0 0 0 0 0 0 0 0 0 0 0 0 0 0 0 0 0 0 0 0 0 0 0 0 0 0 0 0 0 0 0 0 0 0 0 0 0 0 0 0 0 0 0 0 0 0 0 0 0 0 0 0 0 0 0 0 0 0 0 0 0 0 0 0 0 0 0 0 0 0 0 0 0 0 0 0 0 0 0 0 0 0 0\n"
          ],
          "name": "stdout"
        },
        {
          "output_type": "stream",
          "text": [
            "I0519 08:36:49.937911 140593909376896 run_classifier.py:466] input_mask: 1 1 1 1 1 1 1 1 1 1 1 1 1 1 1 1 1 1 1 1 1 1 1 1 1 1 1 1 0 0 0 0 0 0 0 0 0 0 0 0 0 0 0 0 0 0 0 0 0 0 0 0 0 0 0 0 0 0 0 0 0 0 0 0 0 0 0 0 0 0 0 0 0 0 0 0 0 0 0 0 0 0 0 0 0 0 0 0 0 0 0 0 0 0 0 0 0 0 0 0 0 0 0 0 0 0 0 0 0 0 0 0 0 0 0 0 0 0 0 0 0 0 0 0 0 0 0 0\n"
          ],
          "name": "stderr"
        },
        {
          "output_type": "stream",
          "text": [
            "INFO:tensorflow:segment_ids: 0 0 0 0 0 0 0 0 0 0 0 0 0 0 0 0 0 0 0 0 0 0 0 0 0 0 0 0 0 0 0 0 0 0 0 0 0 0 0 0 0 0 0 0 0 0 0 0 0 0 0 0 0 0 0 0 0 0 0 0 0 0 0 0 0 0 0 0 0 0 0 0 0 0 0 0 0 0 0 0 0 0 0 0 0 0 0 0 0 0 0 0 0 0 0 0 0 0 0 0 0 0 0 0 0 0 0 0 0 0 0 0 0 0 0 0 0 0 0 0 0 0 0 0 0 0 0 0\n"
          ],
          "name": "stdout"
        },
        {
          "output_type": "stream",
          "text": [
            "I0519 08:36:49.939808 140593909376896 run_classifier.py:467] segment_ids: 0 0 0 0 0 0 0 0 0 0 0 0 0 0 0 0 0 0 0 0 0 0 0 0 0 0 0 0 0 0 0 0 0 0 0 0 0 0 0 0 0 0 0 0 0 0 0 0 0 0 0 0 0 0 0 0 0 0 0 0 0 0 0 0 0 0 0 0 0 0 0 0 0 0 0 0 0 0 0 0 0 0 0 0 0 0 0 0 0 0 0 0 0 0 0 0 0 0 0 0 0 0 0 0 0 0 0 0 0 0 0 0 0 0 0 0 0 0 0 0 0 0 0 0 0 0 0 0\n"
          ],
          "name": "stderr"
        },
        {
          "output_type": "stream",
          "text": [
            "INFO:tensorflow:label: 1 (id = 1)\n"
          ],
          "name": "stdout"
        },
        {
          "output_type": "stream",
          "text": [
            "I0519 08:36:49.941481 140593909376896 run_classifier.py:468] label: 1 (id = 1)\n"
          ],
          "name": "stderr"
        },
        {
          "output_type": "stream",
          "text": [
            "INFO:tensorflow:*** Example ***\n"
          ],
          "name": "stdout"
        },
        {
          "output_type": "stream",
          "text": [
            "I0519 08:36:49.944000 140593909376896 run_classifier.py:461] *** Example ***\n"
          ],
          "name": "stderr"
        },
        {
          "output_type": "stream",
          "text": [
            "INFO:tensorflow:guid: None\n"
          ],
          "name": "stdout"
        },
        {
          "output_type": "stream",
          "text": [
            "I0519 08:36:49.945822 140593909376896 run_classifier.py:462] guid: None\n"
          ],
          "name": "stderr"
        },
        {
          "output_type": "stream",
          "text": [
            "INFO:tensorflow:tokens: [CLS] 24 時 間 し ##ょ ##こ ##た ##ん 三 昧 本 日 0 時 より 「 中 川 翔 子 が 売 って ##み ##た ！ 独 り ##24 時 間 テレビ 」 ニ ##コ ##ニ ##コ 生 放 送 開 始 [SEP]\n"
          ],
          "name": "stdout"
        },
        {
          "output_type": "stream",
          "text": [
            "I0519 08:36:49.947583 140593909376896 run_classifier.py:464] tokens: [CLS] 24 時 間 し ##ょ ##こ ##た ##ん 三 昧 本 日 0 時 より 「 中 川 翔 子 が 売 って ##み ##た ！ 独 り ##24 時 間 テレビ 」 ニ ##コ ##ニ ##コ 生 放 送 開 始 [SEP]\n"
          ],
          "name": "stderr"
        },
        {
          "output_type": "stream",
          "text": [
            "INFO:tensorflow:input_ids: 101 10233 4388 8137 1923 111809 28442 20058 18628 2077 4377 4476 4348 121 4388 14029 1890 2104 3579 6441 3350 1912 3175 14813 17575 20058 10055 5435 1974 53398 4388 8137 14297 1891 2026 19571 52923 19571 5600 4284 7719 8133 3268 102 0 0 0 0 0 0 0 0 0 0 0 0 0 0 0 0 0 0 0 0 0 0 0 0 0 0 0 0 0 0 0 0 0 0 0 0 0 0 0 0 0 0 0 0 0 0 0 0 0 0 0 0 0 0 0 0 0 0 0 0 0 0 0 0 0 0 0 0 0 0 0 0 0 0 0 0 0 0 0 0 0 0 0 0\n"
          ],
          "name": "stdout"
        },
        {
          "output_type": "stream",
          "text": [
            "I0519 08:36:49.949475 140593909376896 run_classifier.py:465] input_ids: 101 10233 4388 8137 1923 111809 28442 20058 18628 2077 4377 4476 4348 121 4388 14029 1890 2104 3579 6441 3350 1912 3175 14813 17575 20058 10055 5435 1974 53398 4388 8137 14297 1891 2026 19571 52923 19571 5600 4284 7719 8133 3268 102 0 0 0 0 0 0 0 0 0 0 0 0 0 0 0 0 0 0 0 0 0 0 0 0 0 0 0 0 0 0 0 0 0 0 0 0 0 0 0 0 0 0 0 0 0 0 0 0 0 0 0 0 0 0 0 0 0 0 0 0 0 0 0 0 0 0 0 0 0 0 0 0 0 0 0 0 0 0 0 0 0 0 0 0\n"
          ],
          "name": "stderr"
        },
        {
          "output_type": "stream",
          "text": [
            "INFO:tensorflow:input_mask: 1 1 1 1 1 1 1 1 1 1 1 1 1 1 1 1 1 1 1 1 1 1 1 1 1 1 1 1 1 1 1 1 1 1 1 1 1 1 1 1 1 1 1 1 0 0 0 0 0 0 0 0 0 0 0 0 0 0 0 0 0 0 0 0 0 0 0 0 0 0 0 0 0 0 0 0 0 0 0 0 0 0 0 0 0 0 0 0 0 0 0 0 0 0 0 0 0 0 0 0 0 0 0 0 0 0 0 0 0 0 0 0 0 0 0 0 0 0 0 0 0 0 0 0 0 0 0 0\n"
          ],
          "name": "stdout"
        },
        {
          "output_type": "stream",
          "text": [
            "I0519 08:36:49.951238 140593909376896 run_classifier.py:466] input_mask: 1 1 1 1 1 1 1 1 1 1 1 1 1 1 1 1 1 1 1 1 1 1 1 1 1 1 1 1 1 1 1 1 1 1 1 1 1 1 1 1 1 1 1 1 0 0 0 0 0 0 0 0 0 0 0 0 0 0 0 0 0 0 0 0 0 0 0 0 0 0 0 0 0 0 0 0 0 0 0 0 0 0 0 0 0 0 0 0 0 0 0 0 0 0 0 0 0 0 0 0 0 0 0 0 0 0 0 0 0 0 0 0 0 0 0 0 0 0 0 0 0 0 0 0 0 0 0 0\n"
          ],
          "name": "stderr"
        },
        {
          "output_type": "stream",
          "text": [
            "INFO:tensorflow:segment_ids: 0 0 0 0 0 0 0 0 0 0 0 0 0 0 0 0 0 0 0 0 0 0 0 0 0 0 0 0 0 0 0 0 0 0 0 0 0 0 0 0 0 0 0 0 0 0 0 0 0 0 0 0 0 0 0 0 0 0 0 0 0 0 0 0 0 0 0 0 0 0 0 0 0 0 0 0 0 0 0 0 0 0 0 0 0 0 0 0 0 0 0 0 0 0 0 0 0 0 0 0 0 0 0 0 0 0 0 0 0 0 0 0 0 0 0 0 0 0 0 0 0 0 0 0 0 0 0 0\n"
          ],
          "name": "stdout"
        },
        {
          "output_type": "stream",
          "text": [
            "I0519 08:36:49.953075 140593909376896 run_classifier.py:467] segment_ids: 0 0 0 0 0 0 0 0 0 0 0 0 0 0 0 0 0 0 0 0 0 0 0 0 0 0 0 0 0 0 0 0 0 0 0 0 0 0 0 0 0 0 0 0 0 0 0 0 0 0 0 0 0 0 0 0 0 0 0 0 0 0 0 0 0 0 0 0 0 0 0 0 0 0 0 0 0 0 0 0 0 0 0 0 0 0 0 0 0 0 0 0 0 0 0 0 0 0 0 0 0 0 0 0 0 0 0 0 0 0 0 0 0 0 0 0 0 0 0 0 0 0 0 0 0 0 0 0\n"
          ],
          "name": "stderr"
        },
        {
          "output_type": "stream",
          "text": [
            "INFO:tensorflow:label: 0 (id = 0)\n"
          ],
          "name": "stdout"
        },
        {
          "output_type": "stream",
          "text": [
            "I0519 08:36:49.954712 140593909376896 run_classifier.py:468] label: 0 (id = 0)\n"
          ],
          "name": "stderr"
        },
        {
          "output_type": "stream",
          "text": [
            "INFO:tensorflow:*** Example ***\n"
          ],
          "name": "stdout"
        },
        {
          "output_type": "stream",
          "text": [
            "I0519 08:36:49.957020 140593909376896 run_classifier.py:461] *** Example ***\n"
          ],
          "name": "stderr"
        },
        {
          "output_type": "stream",
          "text": [
            "INFO:tensorflow:guid: None\n"
          ],
          "name": "stdout"
        },
        {
          "output_type": "stream",
          "text": [
            "I0519 08:36:49.958748 140593909376896 run_classifier.py:462] guid: None\n"
          ],
          "name": "stderr"
        },
        {
          "output_type": "stream",
          "text": [
            "INFO:tensorflow:tokens: [CLS] 『 癒 し 』 と 『 安 眠 サ ##ポート 』 [UNK] 部 屋 中 を ##ほ ##ん ##の ##り 桜 色 に 照 [UNK] 照 明 [UNK] [SEP]\n"
          ],
          "name": "stdout"
        },
        {
          "output_type": "stream",
          "text": [
            "I0519 08:36:49.960336 140593909376896 run_classifier.py:464] tokens: [CLS] 『 癒 し 』 と 『 安 眠 サ ##ポート 』 [UNK] 部 屋 中 を ##ほ ##ん ##の ##り 桜 色 に 照 [UNK] 照 明 [UNK] [SEP]\n"
          ],
          "name": "stderr"
        },
        {
          "output_type": "stream",
          "text": [
            "INFO:tensorflow:input_ids: 101 1892 5702 1923 1893 1940 1892 3378 5770 2004 110704 1893 100 7831 3490 2104 1980 111804 18628 10634 14244 4595 6670 1943 5337 100 5337 4368 100 102 0 0 0 0 0 0 0 0 0 0 0 0 0 0 0 0 0 0 0 0 0 0 0 0 0 0 0 0 0 0 0 0 0 0 0 0 0 0 0 0 0 0 0 0 0 0 0 0 0 0 0 0 0 0 0 0 0 0 0 0 0 0 0 0 0 0 0 0 0 0 0 0 0 0 0 0 0 0 0 0 0 0 0 0 0 0 0 0 0 0 0 0 0 0 0 0 0 0\n"
          ],
          "name": "stdout"
        },
        {
          "output_type": "stream",
          "text": [
            "I0519 08:36:49.962134 140593909376896 run_classifier.py:465] input_ids: 101 1892 5702 1923 1893 1940 1892 3378 5770 2004 110704 1893 100 7831 3490 2104 1980 111804 18628 10634 14244 4595 6670 1943 5337 100 5337 4368 100 102 0 0 0 0 0 0 0 0 0 0 0 0 0 0 0 0 0 0 0 0 0 0 0 0 0 0 0 0 0 0 0 0 0 0 0 0 0 0 0 0 0 0 0 0 0 0 0 0 0 0 0 0 0 0 0 0 0 0 0 0 0 0 0 0 0 0 0 0 0 0 0 0 0 0 0 0 0 0 0 0 0 0 0 0 0 0 0 0 0 0 0 0 0 0 0 0 0 0\n"
          ],
          "name": "stderr"
        },
        {
          "output_type": "stream",
          "text": [
            "INFO:tensorflow:input_mask: 1 1 1 1 1 1 1 1 1 1 1 1 1 1 1 1 1 1 1 1 1 1 1 1 1 1 1 1 1 1 0 0 0 0 0 0 0 0 0 0 0 0 0 0 0 0 0 0 0 0 0 0 0 0 0 0 0 0 0 0 0 0 0 0 0 0 0 0 0 0 0 0 0 0 0 0 0 0 0 0 0 0 0 0 0 0 0 0 0 0 0 0 0 0 0 0 0 0 0 0 0 0 0 0 0 0 0 0 0 0 0 0 0 0 0 0 0 0 0 0 0 0 0 0 0 0 0 0\n"
          ],
          "name": "stdout"
        },
        {
          "output_type": "stream",
          "text": [
            "I0519 08:36:49.963913 140593909376896 run_classifier.py:466] input_mask: 1 1 1 1 1 1 1 1 1 1 1 1 1 1 1 1 1 1 1 1 1 1 1 1 1 1 1 1 1 1 0 0 0 0 0 0 0 0 0 0 0 0 0 0 0 0 0 0 0 0 0 0 0 0 0 0 0 0 0 0 0 0 0 0 0 0 0 0 0 0 0 0 0 0 0 0 0 0 0 0 0 0 0 0 0 0 0 0 0 0 0 0 0 0 0 0 0 0 0 0 0 0 0 0 0 0 0 0 0 0 0 0 0 0 0 0 0 0 0 0 0 0 0 0 0 0 0 0\n"
          ],
          "name": "stderr"
        },
        {
          "output_type": "stream",
          "text": [
            "INFO:tensorflow:segment_ids: 0 0 0 0 0 0 0 0 0 0 0 0 0 0 0 0 0 0 0 0 0 0 0 0 0 0 0 0 0 0 0 0 0 0 0 0 0 0 0 0 0 0 0 0 0 0 0 0 0 0 0 0 0 0 0 0 0 0 0 0 0 0 0 0 0 0 0 0 0 0 0 0 0 0 0 0 0 0 0 0 0 0 0 0 0 0 0 0 0 0 0 0 0 0 0 0 0 0 0 0 0 0 0 0 0 0 0 0 0 0 0 0 0 0 0 0 0 0 0 0 0 0 0 0 0 0 0 0\n"
          ],
          "name": "stdout"
        },
        {
          "output_type": "stream",
          "text": [
            "I0519 08:36:49.965632 140593909376896 run_classifier.py:467] segment_ids: 0 0 0 0 0 0 0 0 0 0 0 0 0 0 0 0 0 0 0 0 0 0 0 0 0 0 0 0 0 0 0 0 0 0 0 0 0 0 0 0 0 0 0 0 0 0 0 0 0 0 0 0 0 0 0 0 0 0 0 0 0 0 0 0 0 0 0 0 0 0 0 0 0 0 0 0 0 0 0 0 0 0 0 0 0 0 0 0 0 0 0 0 0 0 0 0 0 0 0 0 0 0 0 0 0 0 0 0 0 0 0 0 0 0 0 0 0 0 0 0 0 0 0 0 0 0 0 0\n"
          ],
          "name": "stderr"
        },
        {
          "output_type": "stream",
          "text": [
            "INFO:tensorflow:label: 1 (id = 1)\n"
          ],
          "name": "stdout"
        },
        {
          "output_type": "stream",
          "text": [
            "I0519 08:36:49.967418 140593909376896 run_classifier.py:468] label: 1 (id = 1)\n"
          ],
          "name": "stderr"
        },
        {
          "output_type": "stream",
          "text": [
            "INFO:tensorflow:*** Example ***\n"
          ],
          "name": "stdout"
        },
        {
          "output_type": "stream",
          "text": [
            "I0519 08:36:49.969487 140593909376896 run_classifier.py:461] *** Example ***\n"
          ],
          "name": "stderr"
        },
        {
          "output_type": "stream",
          "text": [
            "INFO:tensorflow:guid: None\n"
          ],
          "name": "stdout"
        },
        {
          "output_type": "stream",
          "text": [
            "I0519 08:36:49.971229 140593909376896 run_classifier.py:462] guid: None\n"
          ],
          "name": "stderr"
        },
        {
          "output_type": "stream",
          "text": [
            "INFO:tensorflow:tokens: [CLS] あ ##の 名 作 に 隠 された 秘 密 ！ ス ##ラム ##ダ ##ンク ##の 秘 密 完 全 版 [SEP]\n"
          ],
          "name": "stdout"
        },
        {
          "output_type": "stream",
          "text": [
            "I0519 08:36:49.973070 140593909376896 run_classifier.py:464] tokens: [CLS] あ ##の 名 作 に 隠 された 秘 密 ！ ス ##ラム ##ダ ##ンク ##の 秘 密 完 全 版 [SEP]\n"
          ],
          "name": "stderr"
        },
        {
          "output_type": "stream",
          "text": [
            "INFO:tensorflow:input_ids: 101 1904 10634 2774 2259 1943 8254 10952 5956 3417 10055 2008 41649 35412 57619 10634 5956 3417 3380 2448 5396 102 0 0 0 0 0 0 0 0 0 0 0 0 0 0 0 0 0 0 0 0 0 0 0 0 0 0 0 0 0 0 0 0 0 0 0 0 0 0 0 0 0 0 0 0 0 0 0 0 0 0 0 0 0 0 0 0 0 0 0 0 0 0 0 0 0 0 0 0 0 0 0 0 0 0 0 0 0 0 0 0 0 0 0 0 0 0 0 0 0 0 0 0 0 0 0 0 0 0 0 0 0 0 0 0 0 0\n"
          ],
          "name": "stdout"
        },
        {
          "output_type": "stream",
          "text": [
            "I0519 08:36:49.974840 140593909376896 run_classifier.py:465] input_ids: 101 1904 10634 2774 2259 1943 8254 10952 5956 3417 10055 2008 41649 35412 57619 10634 5956 3417 3380 2448 5396 102 0 0 0 0 0 0 0 0 0 0 0 0 0 0 0 0 0 0 0 0 0 0 0 0 0 0 0 0 0 0 0 0 0 0 0 0 0 0 0 0 0 0 0 0 0 0 0 0 0 0 0 0 0 0 0 0 0 0 0 0 0 0 0 0 0 0 0 0 0 0 0 0 0 0 0 0 0 0 0 0 0 0 0 0 0 0 0 0 0 0 0 0 0 0 0 0 0 0 0 0 0 0 0 0 0 0\n"
          ],
          "name": "stderr"
        },
        {
          "output_type": "stream",
          "text": [
            "INFO:tensorflow:input_mask: 1 1 1 1 1 1 1 1 1 1 1 1 1 1 1 1 1 1 1 1 1 1 0 0 0 0 0 0 0 0 0 0 0 0 0 0 0 0 0 0 0 0 0 0 0 0 0 0 0 0 0 0 0 0 0 0 0 0 0 0 0 0 0 0 0 0 0 0 0 0 0 0 0 0 0 0 0 0 0 0 0 0 0 0 0 0 0 0 0 0 0 0 0 0 0 0 0 0 0 0 0 0 0 0 0 0 0 0 0 0 0 0 0 0 0 0 0 0 0 0 0 0 0 0 0 0 0 0\n"
          ],
          "name": "stdout"
        },
        {
          "output_type": "stream",
          "text": [
            "I0519 08:36:49.976664 140593909376896 run_classifier.py:466] input_mask: 1 1 1 1 1 1 1 1 1 1 1 1 1 1 1 1 1 1 1 1 1 1 0 0 0 0 0 0 0 0 0 0 0 0 0 0 0 0 0 0 0 0 0 0 0 0 0 0 0 0 0 0 0 0 0 0 0 0 0 0 0 0 0 0 0 0 0 0 0 0 0 0 0 0 0 0 0 0 0 0 0 0 0 0 0 0 0 0 0 0 0 0 0 0 0 0 0 0 0 0 0 0 0 0 0 0 0 0 0 0 0 0 0 0 0 0 0 0 0 0 0 0 0 0 0 0 0 0\n"
          ],
          "name": "stderr"
        },
        {
          "output_type": "stream",
          "text": [
            "INFO:tensorflow:segment_ids: 0 0 0 0 0 0 0 0 0 0 0 0 0 0 0 0 0 0 0 0 0 0 0 0 0 0 0 0 0 0 0 0 0 0 0 0 0 0 0 0 0 0 0 0 0 0 0 0 0 0 0 0 0 0 0 0 0 0 0 0 0 0 0 0 0 0 0 0 0 0 0 0 0 0 0 0 0 0 0 0 0 0 0 0 0 0 0 0 0 0 0 0 0 0 0 0 0 0 0 0 0 0 0 0 0 0 0 0 0 0 0 0 0 0 0 0 0 0 0 0 0 0 0 0 0 0 0 0\n"
          ],
          "name": "stdout"
        },
        {
          "output_type": "stream",
          "text": [
            "I0519 08:36:49.978410 140593909376896 run_classifier.py:467] segment_ids: 0 0 0 0 0 0 0 0 0 0 0 0 0 0 0 0 0 0 0 0 0 0 0 0 0 0 0 0 0 0 0 0 0 0 0 0 0 0 0 0 0 0 0 0 0 0 0 0 0 0 0 0 0 0 0 0 0 0 0 0 0 0 0 0 0 0 0 0 0 0 0 0 0 0 0 0 0 0 0 0 0 0 0 0 0 0 0 0 0 0 0 0 0 0 0 0 0 0 0 0 0 0 0 0 0 0 0 0 0 0 0 0 0 0 0 0 0 0 0 0 0 0 0 0 0 0 0 0\n"
          ],
          "name": "stderr"
        },
        {
          "output_type": "stream",
          "text": [
            "INFO:tensorflow:label: 0 (id = 0)\n"
          ],
          "name": "stdout"
        },
        {
          "output_type": "stream",
          "text": [
            "I0519 08:36:49.980613 140593909376896 run_classifier.py:468] label: 0 (id = 0)\n"
          ],
          "name": "stderr"
        },
        {
          "output_type": "stream",
          "text": [
            "INFO:tensorflow:*** Example ***\n"
          ],
          "name": "stdout"
        },
        {
          "output_type": "stream",
          "text": [
            "I0519 08:36:49.982694 140593909376896 run_classifier.py:461] *** Example ***\n"
          ],
          "name": "stderr"
        },
        {
          "output_type": "stream",
          "text": [
            "INFO:tensorflow:guid: None\n"
          ],
          "name": "stdout"
        },
        {
          "output_type": "stream",
          "text": [
            "I0519 08:36:49.984494 140593909376896 run_classifier.py:462] guid: None\n"
          ],
          "name": "stderr"
        },
        {
          "output_type": "stream",
          "text": [
            "INFO:tensorflow:tokens: [CLS] タ ##ム ##ロン ##の ##E ##マ ##ウン ##ト ##レン ##ズ ##を 純 正 レ ##ンズ ##と 比 べて ##み ##た [SEP]\n"
          ],
          "name": "stdout"
        },
        {
          "output_type": "stream",
          "text": [
            "I0519 08:36:49.986209 140593909376896 run_classifier.py:464] tokens: [CLS] タ ##ム ##ロン ##の ##E ##マ ##ウン ##ト ##レン ##ズ ##を 純 正 レ ##ンズ ##と 比 べて ##み ##た [SEP]\n"
          ],
          "name": "stderr"
        },
        {
          "output_type": "stream",
          "text": [
            "INFO:tensorflow:input_ids: 101 2014 14750 55287 10634 11259 22820 53669 13913 61631 14685 11377 6189 4791 2059 78992 11662 4839 86660 17575 20058 102 0 0 0 0 0 0 0 0 0 0 0 0 0 0 0 0 0 0 0 0 0 0 0 0 0 0 0 0 0 0 0 0 0 0 0 0 0 0 0 0 0 0 0 0 0 0 0 0 0 0 0 0 0 0 0 0 0 0 0 0 0 0 0 0 0 0 0 0 0 0 0 0 0 0 0 0 0 0 0 0 0 0 0 0 0 0 0 0 0 0 0 0 0 0 0 0 0 0 0 0 0 0 0 0 0 0\n"
          ],
          "name": "stdout"
        },
        {
          "output_type": "stream",
          "text": [
            "I0519 08:36:49.988016 140593909376896 run_classifier.py:465] input_ids: 101 2014 14750 55287 10634 11259 22820 53669 13913 61631 14685 11377 6189 4791 2059 78992 11662 4839 86660 17575 20058 102 0 0 0 0 0 0 0 0 0 0 0 0 0 0 0 0 0 0 0 0 0 0 0 0 0 0 0 0 0 0 0 0 0 0 0 0 0 0 0 0 0 0 0 0 0 0 0 0 0 0 0 0 0 0 0 0 0 0 0 0 0 0 0 0 0 0 0 0 0 0 0 0 0 0 0 0 0 0 0 0 0 0 0 0 0 0 0 0 0 0 0 0 0 0 0 0 0 0 0 0 0 0 0 0 0 0\n"
          ],
          "name": "stderr"
        },
        {
          "output_type": "stream",
          "text": [
            "INFO:tensorflow:input_mask: 1 1 1 1 1 1 1 1 1 1 1 1 1 1 1 1 1 1 1 1 1 1 0 0 0 0 0 0 0 0 0 0 0 0 0 0 0 0 0 0 0 0 0 0 0 0 0 0 0 0 0 0 0 0 0 0 0 0 0 0 0 0 0 0 0 0 0 0 0 0 0 0 0 0 0 0 0 0 0 0 0 0 0 0 0 0 0 0 0 0 0 0 0 0 0 0 0 0 0 0 0 0 0 0 0 0 0 0 0 0 0 0 0 0 0 0 0 0 0 0 0 0 0 0 0 0 0 0\n"
          ],
          "name": "stdout"
        },
        {
          "output_type": "stream",
          "text": [
            "I0519 08:36:49.989780 140593909376896 run_classifier.py:466] input_mask: 1 1 1 1 1 1 1 1 1 1 1 1 1 1 1 1 1 1 1 1 1 1 0 0 0 0 0 0 0 0 0 0 0 0 0 0 0 0 0 0 0 0 0 0 0 0 0 0 0 0 0 0 0 0 0 0 0 0 0 0 0 0 0 0 0 0 0 0 0 0 0 0 0 0 0 0 0 0 0 0 0 0 0 0 0 0 0 0 0 0 0 0 0 0 0 0 0 0 0 0 0 0 0 0 0 0 0 0 0 0 0 0 0 0 0 0 0 0 0 0 0 0 0 0 0 0 0 0\n"
          ],
          "name": "stderr"
        },
        {
          "output_type": "stream",
          "text": [
            "INFO:tensorflow:segment_ids: 0 0 0 0 0 0 0 0 0 0 0 0 0 0 0 0 0 0 0 0 0 0 0 0 0 0 0 0 0 0 0 0 0 0 0 0 0 0 0 0 0 0 0 0 0 0 0 0 0 0 0 0 0 0 0 0 0 0 0 0 0 0 0 0 0 0 0 0 0 0 0 0 0 0 0 0 0 0 0 0 0 0 0 0 0 0 0 0 0 0 0 0 0 0 0 0 0 0 0 0 0 0 0 0 0 0 0 0 0 0 0 0 0 0 0 0 0 0 0 0 0 0 0 0 0 0 0 0\n"
          ],
          "name": "stdout"
        },
        {
          "output_type": "stream",
          "text": [
            "I0519 08:36:49.991914 140593909376896 run_classifier.py:467] segment_ids: 0 0 0 0 0 0 0 0 0 0 0 0 0 0 0 0 0 0 0 0 0 0 0 0 0 0 0 0 0 0 0 0 0 0 0 0 0 0 0 0 0 0 0 0 0 0 0 0 0 0 0 0 0 0 0 0 0 0 0 0 0 0 0 0 0 0 0 0 0 0 0 0 0 0 0 0 0 0 0 0 0 0 0 0 0 0 0 0 0 0 0 0 0 0 0 0 0 0 0 0 0 0 0 0 0 0 0 0 0 0 0 0 0 0 0 0 0 0 0 0 0 0 0 0 0 0 0 0\n"
          ],
          "name": "stderr"
        },
        {
          "output_type": "stream",
          "text": [
            "INFO:tensorflow:label: 1 (id = 1)\n"
          ],
          "name": "stdout"
        },
        {
          "output_type": "stream",
          "text": [
            "I0519 08:36:49.994742 140593909376896 run_classifier.py:468] label: 1 (id = 1)\n"
          ],
          "name": "stderr"
        },
        {
          "output_type": "stream",
          "text": [
            "INFO:tensorflow:Writing example 0 of 151\n"
          ],
          "name": "stdout"
        },
        {
          "output_type": "stream",
          "text": [
            "I0519 08:36:50.453114 140593909376896 run_classifier.py:774] Writing example 0 of 151\n"
          ],
          "name": "stderr"
        },
        {
          "output_type": "stream",
          "text": [
            "INFO:tensorflow:*** Example ***\n"
          ],
          "name": "stdout"
        },
        {
          "output_type": "stream",
          "text": [
            "I0519 08:36:50.455386 140593909376896 run_classifier.py:461] *** Example ***\n"
          ],
          "name": "stderr"
        },
        {
          "output_type": "stream",
          "text": [
            "INFO:tensorflow:guid: None\n"
          ],
          "name": "stdout"
        },
        {
          "output_type": "stream",
          "text": [
            "I0519 08:36:50.463955 140593909376896 run_classifier.py:462] guid: None\n"
          ],
          "name": "stderr"
        },
        {
          "output_type": "stream",
          "text": [
            "INFO:tensorflow:tokens: [CLS] 何 か ##と ##ネット ##が 騒 が ##し ##かった ！ 不 審 な ##A ##ndro ##id ##ア ##プリ 騒 動 まで ##を 振 り 返 る [SEP]\n"
          ],
          "name": "stdout"
        },
        {
          "output_type": "stream",
          "text": [
            "I0519 08:36:50.466380 140593909376896 run_classifier.py:464] tokens: [CLS] 何 か ##と ##ネット ##が 騒 が ##し ##かった ！ 不 審 な ##A ##ndro ##id ##ア ##プリ 騒 動 まで ##を 振 り 返 る [SEP]\n"
          ],
          "name": "stderr"
        },
        {
          "output_type": "stream",
          "text": [
            "INFO:tensorflow:input_ids: 101 2253 1911 11662 50217 10898 8530 1912 14803 52310 10055 2080 3434 1942 10738 78908 11249 18226 85551 8530 2621 14218 11377 4117 1974 7698 1975 102 0 0 0 0 0 0 0 0 0 0 0 0 0 0 0 0 0 0 0 0 0 0 0 0 0 0 0 0 0 0 0 0 0 0 0 0 0 0 0 0 0 0 0 0 0 0 0 0 0 0 0 0 0 0 0 0 0 0 0 0 0 0 0 0 0 0 0 0 0 0 0 0 0 0 0 0 0 0 0 0 0 0 0 0 0 0 0 0 0 0 0 0 0 0 0 0 0 0 0 0\n"
          ],
          "name": "stdout"
        },
        {
          "output_type": "stream",
          "text": [
            "I0519 08:36:50.468498 140593909376896 run_classifier.py:465] input_ids: 101 2253 1911 11662 50217 10898 8530 1912 14803 52310 10055 2080 3434 1942 10738 78908 11249 18226 85551 8530 2621 14218 11377 4117 1974 7698 1975 102 0 0 0 0 0 0 0 0 0 0 0 0 0 0 0 0 0 0 0 0 0 0 0 0 0 0 0 0 0 0 0 0 0 0 0 0 0 0 0 0 0 0 0 0 0 0 0 0 0 0 0 0 0 0 0 0 0 0 0 0 0 0 0 0 0 0 0 0 0 0 0 0 0 0 0 0 0 0 0 0 0 0 0 0 0 0 0 0 0 0 0 0 0 0 0 0 0 0 0 0\n"
          ],
          "name": "stderr"
        },
        {
          "output_type": "stream",
          "text": [
            "INFO:tensorflow:input_mask: 1 1 1 1 1 1 1 1 1 1 1 1 1 1 1 1 1 1 1 1 1 1 1 1 1 1 1 1 0 0 0 0 0 0 0 0 0 0 0 0 0 0 0 0 0 0 0 0 0 0 0 0 0 0 0 0 0 0 0 0 0 0 0 0 0 0 0 0 0 0 0 0 0 0 0 0 0 0 0 0 0 0 0 0 0 0 0 0 0 0 0 0 0 0 0 0 0 0 0 0 0 0 0 0 0 0 0 0 0 0 0 0 0 0 0 0 0 0 0 0 0 0 0 0 0 0 0 0\n"
          ],
          "name": "stdout"
        },
        {
          "output_type": "stream",
          "text": [
            "I0519 08:36:50.471620 140593909376896 run_classifier.py:466] input_mask: 1 1 1 1 1 1 1 1 1 1 1 1 1 1 1 1 1 1 1 1 1 1 1 1 1 1 1 1 0 0 0 0 0 0 0 0 0 0 0 0 0 0 0 0 0 0 0 0 0 0 0 0 0 0 0 0 0 0 0 0 0 0 0 0 0 0 0 0 0 0 0 0 0 0 0 0 0 0 0 0 0 0 0 0 0 0 0 0 0 0 0 0 0 0 0 0 0 0 0 0 0 0 0 0 0 0 0 0 0 0 0 0 0 0 0 0 0 0 0 0 0 0 0 0 0 0 0 0\n"
          ],
          "name": "stderr"
        },
        {
          "output_type": "stream",
          "text": [
            "INFO:tensorflow:segment_ids: 0 0 0 0 0 0 0 0 0 0 0 0 0 0 0 0 0 0 0 0 0 0 0 0 0 0 0 0 0 0 0 0 0 0 0 0 0 0 0 0 0 0 0 0 0 0 0 0 0 0 0 0 0 0 0 0 0 0 0 0 0 0 0 0 0 0 0 0 0 0 0 0 0 0 0 0 0 0 0 0 0 0 0 0 0 0 0 0 0 0 0 0 0 0 0 0 0 0 0 0 0 0 0 0 0 0 0 0 0 0 0 0 0 0 0 0 0 0 0 0 0 0 0 0 0 0 0 0\n"
          ],
          "name": "stdout"
        },
        {
          "output_type": "stream",
          "text": [
            "I0519 08:36:50.474609 140593909376896 run_classifier.py:467] segment_ids: 0 0 0 0 0 0 0 0 0 0 0 0 0 0 0 0 0 0 0 0 0 0 0 0 0 0 0 0 0 0 0 0 0 0 0 0 0 0 0 0 0 0 0 0 0 0 0 0 0 0 0 0 0 0 0 0 0 0 0 0 0 0 0 0 0 0 0 0 0 0 0 0 0 0 0 0 0 0 0 0 0 0 0 0 0 0 0 0 0 0 0 0 0 0 0 0 0 0 0 0 0 0 0 0 0 0 0 0 0 0 0 0 0 0 0 0 0 0 0 0 0 0 0 0 0 0 0 0\n"
          ],
          "name": "stderr"
        },
        {
          "output_type": "stream",
          "text": [
            "INFO:tensorflow:label: 0 (id = 0)\n"
          ],
          "name": "stdout"
        },
        {
          "output_type": "stream",
          "text": [
            "I0519 08:36:50.477725 140593909376896 run_classifier.py:468] label: 0 (id = 0)\n"
          ],
          "name": "stderr"
        },
        {
          "output_type": "stream",
          "text": [
            "INFO:tensorflow:*** Example ***\n"
          ],
          "name": "stdout"
        },
        {
          "output_type": "stream",
          "text": [
            "I0519 08:36:50.482547 140593909376896 run_classifier.py:461] *** Example ***\n"
          ],
          "name": "stderr"
        },
        {
          "output_type": "stream",
          "text": [
            "INFO:tensorflow:guid: None\n"
          ],
          "name": "stdout"
        },
        {
          "output_type": "stream",
          "text": [
            "I0519 08:36:50.485291 140593909376896 run_classifier.py:462] guid: None\n"
          ],
          "name": "stderr"
        },
        {
          "output_type": "stream",
          "text": [
            "INFO:tensorflow:tokens: [CLS] 一 連 の 流 れを 紹 介 ！ Google play ##で 出 回 った 不 審 な ##A ##ndro ##id ##ア ##プリ 問 題 [SEP]\n"
          ],
          "name": "stdout"
        },
        {
          "output_type": "stream",
          "text": [
            "I0519 08:36:50.487608 140593909376896 run_classifier.py:464] tokens: [CLS] 一 連 の 流 れを 紹 介 ！ Google play ##で 出 回 った 不 審 な ##A ##ndro ##id ##ア ##プリ 問 題 [SEP]\n"
          ],
          "name": "stderr"
        },
        {
          "output_type": "stream",
          "text": [
            "INFO:tensorflow:input_ids: 101 2072 7742 1946 4982 82227 6205 2188 10055 13888 12253 12236 2527 2999 12290 2080 3434 1942 10738 78908 11249 18226 85551 2893 8398 102 0 0 0 0 0 0 0 0 0 0 0 0 0 0 0 0 0 0 0 0 0 0 0 0 0 0 0 0 0 0 0 0 0 0 0 0 0 0 0 0 0 0 0 0 0 0 0 0 0 0 0 0 0 0 0 0 0 0 0 0 0 0 0 0 0 0 0 0 0 0 0 0 0 0 0 0 0 0 0 0 0 0 0 0 0 0 0 0 0 0 0 0 0 0 0 0 0 0 0 0 0 0\n"
          ],
          "name": "stdout"
        },
        {
          "output_type": "stream",
          "text": [
            "I0519 08:36:50.490448 140593909376896 run_classifier.py:465] input_ids: 101 2072 7742 1946 4982 82227 6205 2188 10055 13888 12253 12236 2527 2999 12290 2080 3434 1942 10738 78908 11249 18226 85551 2893 8398 102 0 0 0 0 0 0 0 0 0 0 0 0 0 0 0 0 0 0 0 0 0 0 0 0 0 0 0 0 0 0 0 0 0 0 0 0 0 0 0 0 0 0 0 0 0 0 0 0 0 0 0 0 0 0 0 0 0 0 0 0 0 0 0 0 0 0 0 0 0 0 0 0 0 0 0 0 0 0 0 0 0 0 0 0 0 0 0 0 0 0 0 0 0 0 0 0 0 0 0 0 0 0\n"
          ],
          "name": "stderr"
        },
        {
          "output_type": "stream",
          "text": [
            "INFO:tensorflow:input_mask: 1 1 1 1 1 1 1 1 1 1 1 1 1 1 1 1 1 1 1 1 1 1 1 1 1 1 0 0 0 0 0 0 0 0 0 0 0 0 0 0 0 0 0 0 0 0 0 0 0 0 0 0 0 0 0 0 0 0 0 0 0 0 0 0 0 0 0 0 0 0 0 0 0 0 0 0 0 0 0 0 0 0 0 0 0 0 0 0 0 0 0 0 0 0 0 0 0 0 0 0 0 0 0 0 0 0 0 0 0 0 0 0 0 0 0 0 0 0 0 0 0 0 0 0 0 0 0 0\n"
          ],
          "name": "stdout"
        },
        {
          "output_type": "stream",
          "text": [
            "I0519 08:36:50.493975 140593909376896 run_classifier.py:466] input_mask: 1 1 1 1 1 1 1 1 1 1 1 1 1 1 1 1 1 1 1 1 1 1 1 1 1 1 0 0 0 0 0 0 0 0 0 0 0 0 0 0 0 0 0 0 0 0 0 0 0 0 0 0 0 0 0 0 0 0 0 0 0 0 0 0 0 0 0 0 0 0 0 0 0 0 0 0 0 0 0 0 0 0 0 0 0 0 0 0 0 0 0 0 0 0 0 0 0 0 0 0 0 0 0 0 0 0 0 0 0 0 0 0 0 0 0 0 0 0 0 0 0 0 0 0 0 0 0 0\n"
          ],
          "name": "stderr"
        },
        {
          "output_type": "stream",
          "text": [
            "INFO:tensorflow:segment_ids: 0 0 0 0 0 0 0 0 0 0 0 0 0 0 0 0 0 0 0 0 0 0 0 0 0 0 0 0 0 0 0 0 0 0 0 0 0 0 0 0 0 0 0 0 0 0 0 0 0 0 0 0 0 0 0 0 0 0 0 0 0 0 0 0 0 0 0 0 0 0 0 0 0 0 0 0 0 0 0 0 0 0 0 0 0 0 0 0 0 0 0 0 0 0 0 0 0 0 0 0 0 0 0 0 0 0 0 0 0 0 0 0 0 0 0 0 0 0 0 0 0 0 0 0 0 0 0 0\n"
          ],
          "name": "stdout"
        },
        {
          "output_type": "stream",
          "text": [
            "I0519 08:36:50.497133 140593909376896 run_classifier.py:467] segment_ids: 0 0 0 0 0 0 0 0 0 0 0 0 0 0 0 0 0 0 0 0 0 0 0 0 0 0 0 0 0 0 0 0 0 0 0 0 0 0 0 0 0 0 0 0 0 0 0 0 0 0 0 0 0 0 0 0 0 0 0 0 0 0 0 0 0 0 0 0 0 0 0 0 0 0 0 0 0 0 0 0 0 0 0 0 0 0 0 0 0 0 0 0 0 0 0 0 0 0 0 0 0 0 0 0 0 0 0 0 0 0 0 0 0 0 0 0 0 0 0 0 0 0 0 0 0 0 0 0\n"
          ],
          "name": "stderr"
        },
        {
          "output_type": "stream",
          "text": [
            "INFO:tensorflow:label: 0 (id = 0)\n"
          ],
          "name": "stdout"
        },
        {
          "output_type": "stream",
          "text": [
            "I0519 08:36:50.500270 140593909376896 run_classifier.py:468] label: 0 (id = 0)\n"
          ],
          "name": "stderr"
        },
        {
          "output_type": "stream",
          "text": [
            "INFO:tensorflow:*** Example ***\n"
          ],
          "name": "stdout"
        },
        {
          "output_type": "stream",
          "text": [
            "I0519 08:36:50.503530 140593909376896 run_classifier.py:461] *** Example ***\n"
          ],
          "name": "stderr"
        },
        {
          "output_type": "stream",
          "text": [
            "INFO:tensorflow:guid: None\n"
          ],
          "name": "stdout"
        },
        {
          "output_type": "stream",
          "text": [
            "I0519 08:36:50.506726 140593909376896 run_classifier.py:462] guid: None\n"
          ],
          "name": "stderr"
        },
        {
          "output_type": "stream",
          "text": [
            "INFO:tensorflow:tokens: [CLS] 連 載 ● ##A ##fter Effects 天 国 への 階 段 第 9 回 [SEP]\n"
          ],
          "name": "stdout"
        },
        {
          "output_type": "stream",
          "text": [
            "I0519 08:36:50.509326 140593909376896 run_classifier.py:464] tokens: [CLS] 連 載 ● ##A ##fter Effects 天 国 への 階 段 第 9 回 [SEP]\n"
          ],
          "name": "stderr"
        },
        {
          "output_type": "stream",
          "text": [
            "INFO:tensorflow:input_ids: 101 7742 7612 1859 10738 33163 66453 3198 3014 14853 8244 4823 6063 130 2999 102 0 0 0 0 0 0 0 0 0 0 0 0 0 0 0 0 0 0 0 0 0 0 0 0 0 0 0 0 0 0 0 0 0 0 0 0 0 0 0 0 0 0 0 0 0 0 0 0 0 0 0 0 0 0 0 0 0 0 0 0 0 0 0 0 0 0 0 0 0 0 0 0 0 0 0 0 0 0 0 0 0 0 0 0 0 0 0 0 0 0 0 0 0 0 0 0 0 0 0 0 0 0 0 0 0 0 0 0 0 0 0 0\n"
          ],
          "name": "stdout"
        },
        {
          "output_type": "stream",
          "text": [
            "I0519 08:36:50.511986 140593909376896 run_classifier.py:465] input_ids: 101 7742 7612 1859 10738 33163 66453 3198 3014 14853 8244 4823 6063 130 2999 102 0 0 0 0 0 0 0 0 0 0 0 0 0 0 0 0 0 0 0 0 0 0 0 0 0 0 0 0 0 0 0 0 0 0 0 0 0 0 0 0 0 0 0 0 0 0 0 0 0 0 0 0 0 0 0 0 0 0 0 0 0 0 0 0 0 0 0 0 0 0 0 0 0 0 0 0 0 0 0 0 0 0 0 0 0 0 0 0 0 0 0 0 0 0 0 0 0 0 0 0 0 0 0 0 0 0 0 0 0 0 0 0\n"
          ],
          "name": "stderr"
        },
        {
          "output_type": "stream",
          "text": [
            "INFO:tensorflow:input_mask: 1 1 1 1 1 1 1 1 1 1 1 1 1 1 1 1 0 0 0 0 0 0 0 0 0 0 0 0 0 0 0 0 0 0 0 0 0 0 0 0 0 0 0 0 0 0 0 0 0 0 0 0 0 0 0 0 0 0 0 0 0 0 0 0 0 0 0 0 0 0 0 0 0 0 0 0 0 0 0 0 0 0 0 0 0 0 0 0 0 0 0 0 0 0 0 0 0 0 0 0 0 0 0 0 0 0 0 0 0 0 0 0 0 0 0 0 0 0 0 0 0 0 0 0 0 0 0 0\n"
          ],
          "name": "stdout"
        },
        {
          "output_type": "stream",
          "text": [
            "I0519 08:36:50.515160 140593909376896 run_classifier.py:466] input_mask: 1 1 1 1 1 1 1 1 1 1 1 1 1 1 1 1 0 0 0 0 0 0 0 0 0 0 0 0 0 0 0 0 0 0 0 0 0 0 0 0 0 0 0 0 0 0 0 0 0 0 0 0 0 0 0 0 0 0 0 0 0 0 0 0 0 0 0 0 0 0 0 0 0 0 0 0 0 0 0 0 0 0 0 0 0 0 0 0 0 0 0 0 0 0 0 0 0 0 0 0 0 0 0 0 0 0 0 0 0 0 0 0 0 0 0 0 0 0 0 0 0 0 0 0 0 0 0 0\n"
          ],
          "name": "stderr"
        },
        {
          "output_type": "stream",
          "text": [
            "INFO:tensorflow:segment_ids: 0 0 0 0 0 0 0 0 0 0 0 0 0 0 0 0 0 0 0 0 0 0 0 0 0 0 0 0 0 0 0 0 0 0 0 0 0 0 0 0 0 0 0 0 0 0 0 0 0 0 0 0 0 0 0 0 0 0 0 0 0 0 0 0 0 0 0 0 0 0 0 0 0 0 0 0 0 0 0 0 0 0 0 0 0 0 0 0 0 0 0 0 0 0 0 0 0 0 0 0 0 0 0 0 0 0 0 0 0 0 0 0 0 0 0 0 0 0 0 0 0 0 0 0 0 0 0 0\n"
          ],
          "name": "stdout"
        },
        {
          "output_type": "stream",
          "text": [
            "I0519 08:36:50.518004 140593909376896 run_classifier.py:467] segment_ids: 0 0 0 0 0 0 0 0 0 0 0 0 0 0 0 0 0 0 0 0 0 0 0 0 0 0 0 0 0 0 0 0 0 0 0 0 0 0 0 0 0 0 0 0 0 0 0 0 0 0 0 0 0 0 0 0 0 0 0 0 0 0 0 0 0 0 0 0 0 0 0 0 0 0 0 0 0 0 0 0 0 0 0 0 0 0 0 0 0 0 0 0 0 0 0 0 0 0 0 0 0 0 0 0 0 0 0 0 0 0 0 0 0 0 0 0 0 0 0 0 0 0 0 0 0 0 0 0\n"
          ],
          "name": "stderr"
        },
        {
          "output_type": "stream",
          "text": [
            "INFO:tensorflow:label: 1 (id = 1)\n"
          ],
          "name": "stdout"
        },
        {
          "output_type": "stream",
          "text": [
            "I0519 08:36:50.520596 140593909376896 run_classifier.py:468] label: 1 (id = 1)\n"
          ],
          "name": "stderr"
        },
        {
          "output_type": "stream",
          "text": [
            "INFO:tensorflow:*** Example ***\n"
          ],
          "name": "stdout"
        },
        {
          "output_type": "stream",
          "text": [
            "I0519 08:36:50.523989 140593909376896 run_classifier.py:461] *** Example ***\n"
          ],
          "name": "stderr"
        },
        {
          "output_type": "stream",
          "text": [
            "INFO:tensorflow:guid: None\n"
          ],
          "name": "stdout"
        },
        {
          "output_type": "stream",
          "text": [
            "I0519 08:36:50.526725 140593909376896 run_classifier.py:462] guid: None\n"
          ],
          "name": "stderr"
        },
        {
          "output_type": "stream",
          "text": [
            "INFO:tensorflow:tokens: [CLS] Mac 必 須 ア ##プリ ##の 使 い ##こ ##な ##し 術 ！ パ ##ソ ##コン ##の 最 新 情 報 を ##チ ##ェ ##ック [SEP]\n"
          ],
          "name": "stdout"
        },
        {
          "output_type": "stream",
          "text": [
            "I0519 08:36:50.529227 140593909376896 run_classifier.py:464] tokens: [CLS] Mac 必 須 ア ##プリ ##の 使 い ##こ ##な ##し 術 ！ パ ##ソ ##コン ##の 最 新 情 報 を ##チ ##ェ ##ック [SEP]\n"
          ],
          "name": "stderr"
        },
        {
          "output_type": "stream",
          "text": [
            "INFO:tensorflow:input_ids: 101 16917 3793 8377 1985 85551 10634 2275 1906 28442 22946 14803 7071 10055 2032 76599 60723 10634 4458 4333 3878 3115 1980 33499 67221 18060 102 0 0 0 0 0 0 0 0 0 0 0 0 0 0 0 0 0 0 0 0 0 0 0 0 0 0 0 0 0 0 0 0 0 0 0 0 0 0 0 0 0 0 0 0 0 0 0 0 0 0 0 0 0 0 0 0 0 0 0 0 0 0 0 0 0 0 0 0 0 0 0 0 0 0 0 0 0 0 0 0 0 0 0 0 0 0 0 0 0 0 0 0 0 0 0 0 0 0 0 0 0\n"
          ],
          "name": "stdout"
        },
        {
          "output_type": "stream",
          "text": [
            "I0519 08:36:50.532064 140593909376896 run_classifier.py:465] input_ids: 101 16917 3793 8377 1985 85551 10634 2275 1906 28442 22946 14803 7071 10055 2032 76599 60723 10634 4458 4333 3878 3115 1980 33499 67221 18060 102 0 0 0 0 0 0 0 0 0 0 0 0 0 0 0 0 0 0 0 0 0 0 0 0 0 0 0 0 0 0 0 0 0 0 0 0 0 0 0 0 0 0 0 0 0 0 0 0 0 0 0 0 0 0 0 0 0 0 0 0 0 0 0 0 0 0 0 0 0 0 0 0 0 0 0 0 0 0 0 0 0 0 0 0 0 0 0 0 0 0 0 0 0 0 0 0 0 0 0 0 0\n"
          ],
          "name": "stderr"
        },
        {
          "output_type": "stream",
          "text": [
            "INFO:tensorflow:input_mask: 1 1 1 1 1 1 1 1 1 1 1 1 1 1 1 1 1 1 1 1 1 1 1 1 1 1 1 0 0 0 0 0 0 0 0 0 0 0 0 0 0 0 0 0 0 0 0 0 0 0 0 0 0 0 0 0 0 0 0 0 0 0 0 0 0 0 0 0 0 0 0 0 0 0 0 0 0 0 0 0 0 0 0 0 0 0 0 0 0 0 0 0 0 0 0 0 0 0 0 0 0 0 0 0 0 0 0 0 0 0 0 0 0 0 0 0 0 0 0 0 0 0 0 0 0 0 0 0\n"
          ],
          "name": "stdout"
        },
        {
          "output_type": "stream",
          "text": [
            "I0519 08:36:50.534319 140593909376896 run_classifier.py:466] input_mask: 1 1 1 1 1 1 1 1 1 1 1 1 1 1 1 1 1 1 1 1 1 1 1 1 1 1 1 0 0 0 0 0 0 0 0 0 0 0 0 0 0 0 0 0 0 0 0 0 0 0 0 0 0 0 0 0 0 0 0 0 0 0 0 0 0 0 0 0 0 0 0 0 0 0 0 0 0 0 0 0 0 0 0 0 0 0 0 0 0 0 0 0 0 0 0 0 0 0 0 0 0 0 0 0 0 0 0 0 0 0 0 0 0 0 0 0 0 0 0 0 0 0 0 0 0 0 0 0\n"
          ],
          "name": "stderr"
        },
        {
          "output_type": "stream",
          "text": [
            "INFO:tensorflow:segment_ids: 0 0 0 0 0 0 0 0 0 0 0 0 0 0 0 0 0 0 0 0 0 0 0 0 0 0 0 0 0 0 0 0 0 0 0 0 0 0 0 0 0 0 0 0 0 0 0 0 0 0 0 0 0 0 0 0 0 0 0 0 0 0 0 0 0 0 0 0 0 0 0 0 0 0 0 0 0 0 0 0 0 0 0 0 0 0 0 0 0 0 0 0 0 0 0 0 0 0 0 0 0 0 0 0 0 0 0 0 0 0 0 0 0 0 0 0 0 0 0 0 0 0 0 0 0 0 0 0\n"
          ],
          "name": "stdout"
        },
        {
          "output_type": "stream",
          "text": [
            "I0519 08:36:50.538145 140593909376896 run_classifier.py:467] segment_ids: 0 0 0 0 0 0 0 0 0 0 0 0 0 0 0 0 0 0 0 0 0 0 0 0 0 0 0 0 0 0 0 0 0 0 0 0 0 0 0 0 0 0 0 0 0 0 0 0 0 0 0 0 0 0 0 0 0 0 0 0 0 0 0 0 0 0 0 0 0 0 0 0 0 0 0 0 0 0 0 0 0 0 0 0 0 0 0 0 0 0 0 0 0 0 0 0 0 0 0 0 0 0 0 0 0 0 0 0 0 0 0 0 0 0 0 0 0 0 0 0 0 0 0 0 0 0 0 0\n"
          ],
          "name": "stderr"
        },
        {
          "output_type": "stream",
          "text": [
            "INFO:tensorflow:label: 0 (id = 0)\n"
          ],
          "name": "stdout"
        },
        {
          "output_type": "stream",
          "text": [
            "I0519 08:36:50.541208 140593909376896 run_classifier.py:468] label: 0 (id = 0)\n"
          ],
          "name": "stderr"
        },
        {
          "output_type": "stream",
          "text": [
            "INFO:tensorflow:*** Example ***\n"
          ],
          "name": "stdout"
        },
        {
          "output_type": "stream",
          "text": [
            "I0519 08:36:50.545081 140593909376896 run_classifier.py:461] *** Example ***\n"
          ],
          "name": "stderr"
        },
        {
          "output_type": "stream",
          "text": [
            "INFO:tensorflow:guid: None\n"
          ],
          "name": "stdout"
        },
        {
          "output_type": "stream",
          "text": [
            "I0519 08:36:50.548128 140593909376896 run_classifier.py:462] guid: None\n"
          ],
          "name": "stderr"
        },
        {
          "output_type": "stream",
          "text": [
            "INFO:tensorflow:tokens: [CLS] 任 天 堂 「 [UNK] [UNK] 」 は 年 末 商 戦 期 に 発 売 決 定 − 販 売 エ ##リア ##は 日 米 欧 豪 [SEP]\n"
          ],
          "name": "stdout"
        },
        {
          "output_type": "stream",
          "text": [
            "I0519 08:36:50.551180 140593909376896 run_classifier.py:464] tokens: [CLS] 任 天 堂 「 [UNK] [UNK] 」 は 年 末 商 戦 期 に 発 売 決 定 − 販 売 エ ##リア ##は 日 米 欧 豪 [SEP]\n"
          ],
          "name": "stderr"
        },
        {
          "output_type": "stream",
          "text": [
            "INFO:tensorflow:input_ids: 101 2212 3198 3102 1890 100 100 1891 1947 3642 4475 2890 3984 4470 1943 5712 3175 4898 3388 1803 7422 3175 1991 21530 11588 4348 6140 4776 7406 102 0 0 0 0 0 0 0 0 0 0 0 0 0 0 0 0 0 0 0 0 0 0 0 0 0 0 0 0 0 0 0 0 0 0 0 0 0 0 0 0 0 0 0 0 0 0 0 0 0 0 0 0 0 0 0 0 0 0 0 0 0 0 0 0 0 0 0 0 0 0 0 0 0 0 0 0 0 0 0 0 0 0 0 0 0 0 0 0 0 0 0 0 0 0 0 0 0 0\n"
          ],
          "name": "stdout"
        },
        {
          "output_type": "stream",
          "text": [
            "I0519 08:36:50.555763 140593909376896 run_classifier.py:465] input_ids: 101 2212 3198 3102 1890 100 100 1891 1947 3642 4475 2890 3984 4470 1943 5712 3175 4898 3388 1803 7422 3175 1991 21530 11588 4348 6140 4776 7406 102 0 0 0 0 0 0 0 0 0 0 0 0 0 0 0 0 0 0 0 0 0 0 0 0 0 0 0 0 0 0 0 0 0 0 0 0 0 0 0 0 0 0 0 0 0 0 0 0 0 0 0 0 0 0 0 0 0 0 0 0 0 0 0 0 0 0 0 0 0 0 0 0 0 0 0 0 0 0 0 0 0 0 0 0 0 0 0 0 0 0 0 0 0 0 0 0 0 0\n"
          ],
          "name": "stderr"
        },
        {
          "output_type": "stream",
          "text": [
            "INFO:tensorflow:input_mask: 1 1 1 1 1 1 1 1 1 1 1 1 1 1 1 1 1 1 1 1 1 1 1 1 1 1 1 1 1 1 0 0 0 0 0 0 0 0 0 0 0 0 0 0 0 0 0 0 0 0 0 0 0 0 0 0 0 0 0 0 0 0 0 0 0 0 0 0 0 0 0 0 0 0 0 0 0 0 0 0 0 0 0 0 0 0 0 0 0 0 0 0 0 0 0 0 0 0 0 0 0 0 0 0 0 0 0 0 0 0 0 0 0 0 0 0 0 0 0 0 0 0 0 0 0 0 0 0\n"
          ],
          "name": "stdout"
        },
        {
          "output_type": "stream",
          "text": [
            "I0519 08:36:50.558373 140593909376896 run_classifier.py:466] input_mask: 1 1 1 1 1 1 1 1 1 1 1 1 1 1 1 1 1 1 1 1 1 1 1 1 1 1 1 1 1 1 0 0 0 0 0 0 0 0 0 0 0 0 0 0 0 0 0 0 0 0 0 0 0 0 0 0 0 0 0 0 0 0 0 0 0 0 0 0 0 0 0 0 0 0 0 0 0 0 0 0 0 0 0 0 0 0 0 0 0 0 0 0 0 0 0 0 0 0 0 0 0 0 0 0 0 0 0 0 0 0 0 0 0 0 0 0 0 0 0 0 0 0 0 0 0 0 0 0\n"
          ],
          "name": "stderr"
        },
        {
          "output_type": "stream",
          "text": [
            "INFO:tensorflow:segment_ids: 0 0 0 0 0 0 0 0 0 0 0 0 0 0 0 0 0 0 0 0 0 0 0 0 0 0 0 0 0 0 0 0 0 0 0 0 0 0 0 0 0 0 0 0 0 0 0 0 0 0 0 0 0 0 0 0 0 0 0 0 0 0 0 0 0 0 0 0 0 0 0 0 0 0 0 0 0 0 0 0 0 0 0 0 0 0 0 0 0 0 0 0 0 0 0 0 0 0 0 0 0 0 0 0 0 0 0 0 0 0 0 0 0 0 0 0 0 0 0 0 0 0 0 0 0 0 0 0\n"
          ],
          "name": "stdout"
        },
        {
          "output_type": "stream",
          "text": [
            "I0519 08:36:50.560288 140593909376896 run_classifier.py:467] segment_ids: 0 0 0 0 0 0 0 0 0 0 0 0 0 0 0 0 0 0 0 0 0 0 0 0 0 0 0 0 0 0 0 0 0 0 0 0 0 0 0 0 0 0 0 0 0 0 0 0 0 0 0 0 0 0 0 0 0 0 0 0 0 0 0 0 0 0 0 0 0 0 0 0 0 0 0 0 0 0 0 0 0 0 0 0 0 0 0 0 0 0 0 0 0 0 0 0 0 0 0 0 0 0 0 0 0 0 0 0 0 0 0 0 0 0 0 0 0 0 0 0 0 0 0 0 0 0 0 0\n"
          ],
          "name": "stderr"
        },
        {
          "output_type": "stream",
          "text": [
            "INFO:tensorflow:label: 1 (id = 1)\n"
          ],
          "name": "stdout"
        },
        {
          "output_type": "stream",
          "text": [
            "I0519 08:36:50.562448 140593909376896 run_classifier.py:468] label: 1 (id = 1)\n"
          ],
          "name": "stderr"
        }
      ]
    },
    {
      "cell_type": "markdown",
      "metadata": {
        "id": "ccp5trMwRtmr",
        "colab_type": "text"
      },
      "source": [
        "#Creating a model\n",
        "\n",
        "Now that we've prepared our data, let's focus on building a model. `create_model` does just this below. First, it loads the BERT tf hub module again (this time to extract the computation graph). Next, it creates a single new layer that will be trained to adapt BERT to our sentiment task (i.e. classifying whether a movie review is positive or negative). This strategy of using a mostly trained model is called [fine-tuning](http://wiki.fast.ai/index.php/Fine_tuning)."
      ]
    },
    {
      "cell_type": "code",
      "metadata": {
        "id": "6o2a5ZIvRcJq",
        "colab_type": "code",
        "colab": {}
      },
      "source": [
        "def create_model(is_predicting, input_ids, input_mask, segment_ids, labels,\n",
        "                 num_labels):\n",
        "  \"\"\"Creates a classification model.\"\"\"\n",
        "\n",
        "  bert_module = hub.Module(\n",
        "      BERT_MODEL_HUB,\n",
        "      trainable=True)\n",
        "  bert_inputs = dict(\n",
        "      input_ids=input_ids,\n",
        "      input_mask=input_mask,\n",
        "      segment_ids=segment_ids)\n",
        "  bert_outputs = bert_module(\n",
        "      inputs=bert_inputs,\n",
        "      signature=\"tokens\",\n",
        "      as_dict=True)\n",
        "\n",
        "  # Use \"pooled_output\" for classification tasks on an entire sentence.\n",
        "  # Use \"sequence_outputs\" for token-level output.\n",
        "  output_layer = bert_outputs[\"pooled_output\"]\n",
        "\n",
        "  hidden_size = output_layer.shape[-1].value\n",
        "\n",
        "  # Create our own layer to tune for politeness data.\n",
        "  output_weights = tf.get_variable(\n",
        "      \"output_weights\", [num_labels, hidden_size],\n",
        "      initializer=tf.truncated_normal_initializer(stddev=0.02))\n",
        "\n",
        "  output_bias = tf.get_variable(\n",
        "      \"output_bias\", [num_labels], initializer=tf.zeros_initializer())\n",
        "\n",
        "  with tf.variable_scope(\"loss\"):\n",
        "\n",
        "    # Dropout helps prevent overfitting\n",
        "    output_layer = tf.nn.dropout(output_layer, keep_prob=0.9)\n",
        "\n",
        "    logits = tf.matmul(output_layer, output_weights, transpose_b=True)\n",
        "    logits = tf.nn.bias_add(logits, output_bias)\n",
        "    log_probs = tf.nn.log_softmax(logits, axis=-1)\n",
        "\n",
        "    # Convert labels into one-hot encoding\n",
        "    one_hot_labels = tf.one_hot(labels, depth=num_labels, dtype=tf.float32)\n",
        "\n",
        "    predicted_labels = tf.squeeze(tf.argmax(log_probs, axis=-1, output_type=tf.int32))\n",
        "    # If we're predicting, we want predicted labels and the probabiltiies.\n",
        "    if is_predicting:\n",
        "      return (predicted_labels, log_probs)\n",
        "\n",
        "    # If we're train/eval, compute loss between predicted and actual label\n",
        "    per_example_loss = -tf.reduce_sum(one_hot_labels * log_probs, axis=-1)\n",
        "    loss = tf.reduce_mean(per_example_loss)\n",
        "    return (loss, predicted_labels, log_probs)\n"
      ],
      "execution_count": 0,
      "outputs": []
    },
    {
      "cell_type": "markdown",
      "metadata": {
        "id": "qpE0ZIDOCQzE",
        "colab_type": "text"
      },
      "source": [
        "Next we'll wrap our model function in a `model_fn_builder` function that adapts our model to work for training, evaluation, and prediction."
      ]
    },
    {
      "cell_type": "code",
      "metadata": {
        "id": "FnH-AnOQ9KKW",
        "colab_type": "code",
        "colab": {}
      },
      "source": [
        "# model_fn_builder actually creates our model function\n",
        "# using the passed parameters for num_labels, learning_rate, etc.\n",
        "def model_fn_builder(num_labels, learning_rate, num_train_steps,\n",
        "                     num_warmup_steps):\n",
        "  \"\"\"Returns `model_fn` closure for TPUEstimator.\"\"\"\n",
        "  def model_fn(features, labels, mode, params):  # pylint: disable=unused-argument\n",
        "    \"\"\"The `model_fn` for TPUEstimator.\"\"\"\n",
        "\n",
        "    input_ids = features[\"input_ids\"]\n",
        "    input_mask = features[\"input_mask\"]\n",
        "    segment_ids = features[\"segment_ids\"]\n",
        "    label_ids = features[\"label_ids\"]\n",
        "\n",
        "    is_predicting = (mode == tf.estimator.ModeKeys.PREDICT)\n",
        "    \n",
        "    # TRAIN and EVAL\n",
        "    if not is_predicting:\n",
        "\n",
        "      (loss, predicted_labels, log_probs) = create_model(\n",
        "        is_predicting, input_ids, input_mask, segment_ids, label_ids, num_labels)\n",
        "\n",
        "      train_op = bert.optimization.create_optimizer(\n",
        "          loss, learning_rate, num_train_steps, num_warmup_steps, use_tpu=False)\n",
        "\n",
        "      # Calculate evaluation metrics. \n",
        "      def metric_fn(label_ids, predicted_labels):\n",
        "        accuracy = tf.metrics.accuracy(label_ids, predicted_labels)\n",
        "        f1_score = tf.contrib.metrics.f1_score(\n",
        "            label_ids,\n",
        "            predicted_labels)\n",
        "        auc = tf.metrics.auc(\n",
        "            label_ids,\n",
        "            predicted_labels)\n",
        "        recall = tf.metrics.recall(\n",
        "            label_ids,\n",
        "            predicted_labels)\n",
        "        precision = tf.metrics.precision(\n",
        "            label_ids,\n",
        "            predicted_labels) \n",
        "        true_pos = tf.metrics.true_positives(\n",
        "            label_ids,\n",
        "            predicted_labels)\n",
        "        true_neg = tf.metrics.true_negatives(\n",
        "            label_ids,\n",
        "            predicted_labels)   \n",
        "        false_pos = tf.metrics.false_positives(\n",
        "            label_ids,\n",
        "            predicted_labels)  \n",
        "        false_neg = tf.metrics.false_negatives(\n",
        "            label_ids,\n",
        "            predicted_labels)\n",
        "        return {\n",
        "            \"eval_accuracy\": accuracy,\n",
        "            \"f1_score\": f1_score,\n",
        "            \"auc\": auc,\n",
        "            \"precision\": precision,\n",
        "            \"recall\": recall,\n",
        "            \"true_positives\": true_pos,\n",
        "            \"true_negatives\": true_neg,\n",
        "            \"false_positives\": false_pos,\n",
        "            \"false_negatives\": false_neg\n",
        "        }\n",
        "\n",
        "      eval_metrics = metric_fn(label_ids, predicted_labels)\n",
        "\n",
        "      if mode == tf.estimator.ModeKeys.TRAIN:\n",
        "        return tf.estimator.EstimatorSpec(mode=mode,\n",
        "          loss=loss,\n",
        "          train_op=train_op)\n",
        "      else:\n",
        "          return tf.estimator.EstimatorSpec(mode=mode,\n",
        "            loss=loss,\n",
        "            eval_metric_ops=eval_metrics)\n",
        "    else:\n",
        "      (predicted_labels, log_probs) = create_model(\n",
        "        is_predicting, input_ids, input_mask, segment_ids, label_ids, num_labels)\n",
        "\n",
        "      predictions = {\n",
        "          'probabilities': log_probs,\n",
        "          'labels': predicted_labels\n",
        "      }\n",
        "      return tf.estimator.EstimatorSpec(mode, predictions=predictions)\n",
        "\n",
        "  # Return the actual model function in the closure\n",
        "  return model_fn\n"
      ],
      "execution_count": 0,
      "outputs": []
    },
    {
      "cell_type": "code",
      "metadata": {
        "id": "OjwJ4bTeWXD8",
        "colab_type": "code",
        "colab": {}
      },
      "source": [
        "# Compute train and warmup steps from batch size\n",
        "# These hyperparameters are copied from this colab notebook (https://colab.sandbox.google.com/github/tensorflow/tpu/blob/master/tools/colab/bert_finetuning_with_cloud_tpus.ipynb)\n",
        "BATCH_SIZE = 32\n",
        "LEARNING_RATE = 2e-5\n",
        "NUM_TRAIN_EPOCHS = 3.0\n",
        "# Warmup is a period of time where hte learning rate \n",
        "# is small and gradually increases--usually helps training.\n",
        "WARMUP_PROPORTION = 0.1\n",
        "# Model configs\n",
        "SAVE_CHECKPOINTS_STEPS = 1500\n",
        "SAVE_SUMMARY_STEPS = 100"
      ],
      "execution_count": 0,
      "outputs": []
    },
    {
      "cell_type": "code",
      "metadata": {
        "id": "emHf9GhfWBZ_",
        "colab_type": "code",
        "colab": {}
      },
      "source": [
        "# Compute # train and warmup steps from batch size\n",
        "num_train_steps = int(len(train_features) / BATCH_SIZE * NUM_TRAIN_EPOCHS)\n",
        "num_warmup_steps = int(num_train_steps * WARMUP_PROPORTION)"
      ],
      "execution_count": 0,
      "outputs": []
    },
    {
      "cell_type": "code",
      "metadata": {
        "id": "oEJldMr3WYZa",
        "colab_type": "code",
        "colab": {}
      },
      "source": [
        "# Specify outpit directory and number of checkpoint steps to save\n",
        "run_config = tf.estimator.RunConfig(\n",
        "    model_dir=OUTPUT_DIR,\n",
        "    save_summary_steps=SAVE_SUMMARY_STEPS,\n",
        "    save_checkpoints_steps=SAVE_CHECKPOINTS_STEPS)"
      ],
      "execution_count": 0,
      "outputs": []
    },
    {
      "cell_type": "code",
      "metadata": {
        "id": "q_WebpS1X97v",
        "colab_type": "code",
        "outputId": "427f875b-8f26-48e4-a58b-4767bc765cbc",
        "colab": {
          "base_uri": "https://localhost:8080/",
          "height": 275
        }
      },
      "source": [
        "model_fn = model_fn_builder(\n",
        "  num_labels=len(label_list),\n",
        "  learning_rate=LEARNING_RATE,\n",
        "  num_train_steps=num_train_steps,\n",
        "  num_warmup_steps=num_warmup_steps)\n",
        "\n",
        "estimator = tf.estimator.Estimator(\n",
        "  model_fn=model_fn,\n",
        "  config=run_config,\n",
        "  params={\"batch_size\": BATCH_SIZE})\n"
      ],
      "execution_count": 84,
      "outputs": [
        {
          "output_type": "stream",
          "text": [
            "INFO:tensorflow:Using config: {'_model_dir': 'gs://bert_szukiyu/OUTPUT_DIR_NAME3', '_tf_random_seed': None, '_save_summary_steps': 100, '_save_checkpoints_steps': 1500, '_save_checkpoints_secs': None, '_session_config': allow_soft_placement: true\n",
            "graph_options {\n",
            "  rewrite_options {\n",
            "    meta_optimizer_iterations: ONE\n",
            "  }\n",
            "}\n",
            ", '_keep_checkpoint_max': 5, '_keep_checkpoint_every_n_hours': 10000, '_log_step_count_steps': 100, '_train_distribute': None, '_device_fn': None, '_protocol': None, '_eval_distribute': None, '_experimental_distribute': None, '_service': None, '_cluster_spec': <tensorflow.python.training.server_lib.ClusterSpec object at 0x7fdd38a87ba8>, '_task_type': 'worker', '_task_id': 0, '_global_id_in_cluster': 0, '_master': '', '_evaluation_master': '', '_is_chief': True, '_num_ps_replicas': 0, '_num_worker_replicas': 1}\n"
          ],
          "name": "stdout"
        },
        {
          "output_type": "stream",
          "text": [
            "I0519 08:37:24.747343 140593909376896 estimator.py:201] Using config: {'_model_dir': 'gs://bert_szukiyu/OUTPUT_DIR_NAME3', '_tf_random_seed': None, '_save_summary_steps': 100, '_save_checkpoints_steps': 1500, '_save_checkpoints_secs': None, '_session_config': allow_soft_placement: true\n",
            "graph_options {\n",
            "  rewrite_options {\n",
            "    meta_optimizer_iterations: ONE\n",
            "  }\n",
            "}\n",
            ", '_keep_checkpoint_max': 5, '_keep_checkpoint_every_n_hours': 10000, '_log_step_count_steps': 100, '_train_distribute': None, '_device_fn': None, '_protocol': None, '_eval_distribute': None, '_experimental_distribute': None, '_service': None, '_cluster_spec': <tensorflow.python.training.server_lib.ClusterSpec object at 0x7fdd38a87ba8>, '_task_type': 'worker', '_task_id': 0, '_global_id_in_cluster': 0, '_master': '', '_evaluation_master': '', '_is_chief': True, '_num_ps_replicas': 0, '_num_worker_replicas': 1}\n"
          ],
          "name": "stderr"
        }
      ]
    },
    {
      "cell_type": "markdown",
      "metadata": {
        "id": "NOO3RfG1DYLo",
        "colab_type": "text"
      },
      "source": [
        "Next we create an input builder function that takes our training feature set (`train_features`) and produces a generator. This is a pretty standard design pattern for working with Tensorflow [Estimators](https://www.tensorflow.org/guide/estimators)."
      ]
    },
    {
      "cell_type": "code",
      "metadata": {
        "id": "1Pv2bAlOX_-K",
        "colab_type": "code",
        "colab": {}
      },
      "source": [
        "# Create an input function for training. drop_remainder = True for using TPUs.\n",
        "train_input_fn = bert.run_classifier.input_fn_builder(\n",
        "    features=train_features,\n",
        "    seq_length=MAX_SEQ_LENGTH,\n",
        "    is_training=True,\n",
        "    drop_remainder=False)"
      ],
      "execution_count": 0,
      "outputs": []
    },
    {
      "cell_type": "markdown",
      "metadata": {
        "id": "t6Nukby2EB6-",
        "colab_type": "text"
      },
      "source": [
        "Now we train our model! For me, using a Colab notebook running on Google's GPUs, my training time was about 14 minutes."
      ]
    },
    {
      "cell_type": "code",
      "metadata": {
        "id": "nucD4gluYJmK",
        "colab_type": "code",
        "outputId": "6c8b86ec-0ea3-4517-ca7a-96cdc9a40dbb",
        "colab": {
          "base_uri": "https://localhost:8080/",
          "height": 527
        }
      },
      "source": [
        "print(f'Beginning Training!')\n",
        "current_time = datetime.now()\n",
        "estimator.train(input_fn=train_input_fn, max_steps=num_train_steps)\n",
        "print(\"Training took time \", datetime.now() - current_time)"
      ],
      "execution_count": 86,
      "outputs": [
        {
          "output_type": "stream",
          "text": [
            "Beginning Training!\n",
            "INFO:tensorflow:Calling model_fn.\n"
          ],
          "name": "stdout"
        },
        {
          "output_type": "stream",
          "text": [
            "I0519 08:37:33.564462 140593909376896 estimator.py:1111] Calling model_fn.\n"
          ],
          "name": "stderr"
        },
        {
          "output_type": "stream",
          "text": [
            "INFO:tensorflow:Saver not created because there are no variables in the graph to restore\n"
          ],
          "name": "stdout"
        },
        {
          "output_type": "stream",
          "text": [
            "I0519 08:37:36.597781 140593909376896 saver.py:1483] Saver not created because there are no variables in the graph to restore\n",
            "/usr/local/lib/python3.6/dist-packages/tensorflow/python/ops/gradients_impl.py:110: UserWarning: Converting sparse IndexedSlices to a dense Tensor of unknown shape. This may consume a large amount of memory.\n",
            "  \"Converting sparse IndexedSlices to a dense Tensor of unknown shape. \"\n"
          ],
          "name": "stderr"
        },
        {
          "output_type": "stream",
          "text": [
            "INFO:tensorflow:Done calling model_fn.\n"
          ],
          "name": "stdout"
        },
        {
          "output_type": "stream",
          "text": [
            "I0519 08:37:45.563351 140593909376896 estimator.py:1113] Done calling model_fn.\n"
          ],
          "name": "stderr"
        },
        {
          "output_type": "stream",
          "text": [
            "INFO:tensorflow:Create CheckpointSaverHook.\n"
          ],
          "name": "stdout"
        },
        {
          "output_type": "stream",
          "text": [
            "I0519 08:37:45.567019 140593909376896 basic_session_run_hooks.py:527] Create CheckpointSaverHook.\n"
          ],
          "name": "stderr"
        },
        {
          "output_type": "stream",
          "text": [
            "INFO:tensorflow:Graph was finalized.\n"
          ],
          "name": "stdout"
        },
        {
          "output_type": "stream",
          "text": [
            "I0519 08:37:53.170431 140593909376896 monitored_session.py:222] Graph was finalized.\n"
          ],
          "name": "stderr"
        },
        {
          "output_type": "stream",
          "text": [
            "INFO:tensorflow:Running local_init_op.\n"
          ],
          "name": "stdout"
        },
        {
          "output_type": "stream",
          "text": [
            "I0519 08:38:05.085232 140593909376896 session_manager.py:491] Running local_init_op.\n"
          ],
          "name": "stderr"
        },
        {
          "output_type": "stream",
          "text": [
            "INFO:tensorflow:Done running local_init_op.\n"
          ],
          "name": "stdout"
        },
        {
          "output_type": "stream",
          "text": [
            "I0519 08:38:05.389353 140593909376896 session_manager.py:493] Done running local_init_op.\n"
          ],
          "name": "stderr"
        },
        {
          "output_type": "stream",
          "text": [
            "INFO:tensorflow:Saving checkpoints for 0 into gs://bert_szukiyu/OUTPUT_DIR_NAME3/model.ckpt.\n"
          ],
          "name": "stdout"
        },
        {
          "output_type": "stream",
          "text": [
            "I0519 08:38:18.102727 140593909376896 basic_session_run_hooks.py:594] Saving checkpoints for 0 into gs://bert_szukiyu/OUTPUT_DIR_NAME3/model.ckpt.\n"
          ],
          "name": "stderr"
        },
        {
          "output_type": "stream",
          "text": [
            "INFO:tensorflow:loss = 0.6878727, step = 0\n"
          ],
          "name": "stdout"
        },
        {
          "output_type": "stream",
          "text": [
            "I0519 08:39:33.209519 140593909376896 basic_session_run_hooks.py:249] loss = 0.6878727, step = 0\n"
          ],
          "name": "stderr"
        },
        {
          "output_type": "stream",
          "text": [
            "INFO:tensorflow:global_step/sec: 0.984316\n"
          ],
          "name": "stdout"
        },
        {
          "output_type": "stream",
          "text": [
            "I0519 08:41:14.802105 140593909376896 basic_session_run_hooks.py:680] global_step/sec: 0.984316\n"
          ],
          "name": "stderr"
        },
        {
          "output_type": "stream",
          "text": [
            "INFO:tensorflow:loss = 0.23841092, step = 100 (101.600 sec)\n"
          ],
          "name": "stdout"
        },
        {
          "output_type": "stream",
          "text": [
            "I0519 08:41:14.809239 140593909376896 basic_session_run_hooks.py:247] loss = 0.23841092, step = 100 (101.600 sec)\n"
          ],
          "name": "stderr"
        },
        {
          "output_type": "stream",
          "text": [
            "INFO:tensorflow:Saving checkpoints for 131 into gs://bert_szukiyu/OUTPUT_DIR_NAME3/model.ckpt.\n"
          ],
          "name": "stdout"
        },
        {
          "output_type": "stream",
          "text": [
            "I0519 08:41:41.649446 140593909376896 basic_session_run_hooks.py:594] Saving checkpoints for 131 into gs://bert_szukiyu/OUTPUT_DIR_NAME3/model.ckpt.\n"
          ],
          "name": "stderr"
        },
        {
          "output_type": "stream",
          "text": [
            "INFO:tensorflow:Loss for final step: 0.012240674.\n"
          ],
          "name": "stdout"
        },
        {
          "output_type": "stream",
          "text": [
            "I0519 08:42:46.456567 140593909376896 estimator.py:359] Loss for final step: 0.012240674.\n"
          ],
          "name": "stderr"
        },
        {
          "output_type": "stream",
          "text": [
            "Training took time  0:05:14.195205\n"
          ],
          "name": "stdout"
        }
      ]
    },
    {
      "cell_type": "markdown",
      "metadata": {
        "id": "CmbLTVniARy3",
        "colab_type": "text"
      },
      "source": [
        "Now let's use our test data to see how well our model did:"
      ]
    },
    {
      "cell_type": "code",
      "metadata": {
        "id": "JIhejfpyJ8Bx",
        "colab_type": "code",
        "colab": {}
      },
      "source": [
        "test_input_fn = run_classifier.input_fn_builder(\n",
        "    features=test_features,\n",
        "    seq_length=MAX_SEQ_LENGTH,\n",
        "    is_training=False,\n",
        "    drop_remainder=False)"
      ],
      "execution_count": 0,
      "outputs": []
    },
    {
      "cell_type": "code",
      "metadata": {
        "id": "PPVEXhNjYXC-",
        "colab_type": "code",
        "outputId": "8fc1230d-de3f-4943-f5d7-e387cffcefc3",
        "colab": {
          "base_uri": "https://localhost:8080/",
          "height": 632
        }
      },
      "source": [
        "estimator.evaluate(input_fn=test_input_fn, steps=None)"
      ],
      "execution_count": 88,
      "outputs": [
        {
          "output_type": "stream",
          "text": [
            "INFO:tensorflow:Calling model_fn.\n"
          ],
          "name": "stdout"
        },
        {
          "output_type": "stream",
          "text": [
            "I0519 08:43:12.591289 140593909376896 estimator.py:1111] Calling model_fn.\n"
          ],
          "name": "stderr"
        },
        {
          "output_type": "stream",
          "text": [
            "INFO:tensorflow:Saver not created because there are no variables in the graph to restore\n"
          ],
          "name": "stdout"
        },
        {
          "output_type": "stream",
          "text": [
            "I0519 08:43:16.275843 140593909376896 saver.py:1483] Saver not created because there are no variables in the graph to restore\n",
            "/usr/local/lib/python3.6/dist-packages/tensorflow/python/ops/gradients_impl.py:110: UserWarning: Converting sparse IndexedSlices to a dense Tensor of unknown shape. This may consume a large amount of memory.\n",
            "  \"Converting sparse IndexedSlices to a dense Tensor of unknown shape. \"\n"
          ],
          "name": "stderr"
        },
        {
          "output_type": "stream",
          "text": [
            "INFO:tensorflow:Done calling model_fn.\n"
          ],
          "name": "stdout"
        },
        {
          "output_type": "stream",
          "text": [
            "I0519 08:43:25.400309 140593909376896 estimator.py:1113] Done calling model_fn.\n"
          ],
          "name": "stderr"
        },
        {
          "output_type": "stream",
          "text": [
            "INFO:tensorflow:Starting evaluation at 2019-05-19T08:43:25Z\n"
          ],
          "name": "stdout"
        },
        {
          "output_type": "stream",
          "text": [
            "I0519 08:43:25.426205 140593909376896 evaluation.py:257] Starting evaluation at 2019-05-19T08:43:25Z\n"
          ],
          "name": "stderr"
        },
        {
          "output_type": "stream",
          "text": [
            "INFO:tensorflow:Graph was finalized.\n"
          ],
          "name": "stdout"
        },
        {
          "output_type": "stream",
          "text": [
            "I0519 08:43:26.854354 140593909376896 monitored_session.py:222] Graph was finalized.\n"
          ],
          "name": "stderr"
        },
        {
          "output_type": "stream",
          "text": [
            "INFO:tensorflow:Restoring parameters from gs://bert_szukiyu/OUTPUT_DIR_NAME3/model.ckpt-131\n"
          ],
          "name": "stdout"
        },
        {
          "output_type": "stream",
          "text": [
            "I0519 08:43:27.117405 140593909376896 saver.py:1270] Restoring parameters from gs://bert_szukiyu/OUTPUT_DIR_NAME3/model.ckpt-131\n"
          ],
          "name": "stderr"
        },
        {
          "output_type": "stream",
          "text": [
            "INFO:tensorflow:Running local_init_op.\n"
          ],
          "name": "stdout"
        },
        {
          "output_type": "stream",
          "text": [
            "I0519 08:45:07.232523 140593909376896 session_manager.py:491] Running local_init_op.\n"
          ],
          "name": "stderr"
        },
        {
          "output_type": "stream",
          "text": [
            "INFO:tensorflow:Done running local_init_op.\n"
          ],
          "name": "stdout"
        },
        {
          "output_type": "stream",
          "text": [
            "I0519 08:45:07.553804 140593909376896 session_manager.py:493] Done running local_init_op.\n"
          ],
          "name": "stderr"
        },
        {
          "output_type": "stream",
          "text": [
            "INFO:tensorflow:Finished evaluation at 2019-05-19-08:45:11\n"
          ],
          "name": "stdout"
        },
        {
          "output_type": "stream",
          "text": [
            "I0519 08:45:11.004026 140593909376896 evaluation.py:277] Finished evaluation at 2019-05-19-08:45:11\n"
          ],
          "name": "stderr"
        },
        {
          "output_type": "stream",
          "text": [
            "INFO:tensorflow:Saving dict for global step 131: auc = 0.8857569, eval_accuracy = 0.8874172, f1_score = 0.89570546, false_negatives = 5.0, false_positives = 12.0, global_step = 131, loss = 0.31906718, precision = 0.85882354, recall = 0.9358974, true_negatives = 61.0, true_positives = 73.0\n"
          ],
          "name": "stdout"
        },
        {
          "output_type": "stream",
          "text": [
            "I0519 08:45:11.006292 140593909376896 estimator.py:1979] Saving dict for global step 131: auc = 0.8857569, eval_accuracy = 0.8874172, f1_score = 0.89570546, false_negatives = 5.0, false_positives = 12.0, global_step = 131, loss = 0.31906718, precision = 0.85882354, recall = 0.9358974, true_negatives = 61.0, true_positives = 73.0\n"
          ],
          "name": "stderr"
        },
        {
          "output_type": "stream",
          "text": [
            "INFO:tensorflow:Saving 'checkpoint_path' summary for global step 131: gs://bert_szukiyu/OUTPUT_DIR_NAME3/model.ckpt-131\n"
          ],
          "name": "stdout"
        },
        {
          "output_type": "stream",
          "text": [
            "I0519 08:45:21.540326 140593909376896 estimator.py:2039] Saving 'checkpoint_path' summary for global step 131: gs://bert_szukiyu/OUTPUT_DIR_NAME3/model.ckpt-131\n"
          ],
          "name": "stderr"
        },
        {
          "output_type": "execute_result",
          "data": {
            "text/plain": [
              "{'auc': 0.8857569,\n",
              " 'eval_accuracy': 0.8874172,\n",
              " 'f1_score': 0.89570546,\n",
              " 'false_negatives': 5.0,\n",
              " 'false_positives': 12.0,\n",
              " 'global_step': 131,\n",
              " 'loss': 0.31906718,\n",
              " 'precision': 0.85882354,\n",
              " 'recall': 0.9358974,\n",
              " 'true_negatives': 61.0,\n",
              " 'true_positives': 73.0}"
            ]
          },
          "metadata": {
            "tags": []
          },
          "execution_count": 88
        }
      ]
    },
    {
      "cell_type": "markdown",
      "metadata": {
        "id": "ueKsULteiz1B",
        "colab_type": "text"
      },
      "source": [
        "Now let's write code to make predictions on new sentences:"
      ]
    },
    {
      "cell_type": "code",
      "metadata": {
        "id": "OsrbTD2EJTVl",
        "colab_type": "code",
        "colab": {}
      },
      "source": [
        "def getPrediction(in_sentences):\n",
        "  labels = [\"Negative\", \"Positive\"]\n",
        "  input_examples = [run_classifier.InputExample(guid=\"\", text_a = x, text_b = None, label = 0) for x in in_sentences] # here, \"\" is just a dummy label\n",
        "  input_features = run_classifier.convert_examples_to_features(input_examples, label_list, MAX_SEQ_LENGTH, tokenizer)\n",
        "  predict_input_fn = run_classifier.input_fn_builder(features=input_features, seq_length=MAX_SEQ_LENGTH, is_training=False, drop_remainder=False)\n",
        "  predictions = estimator.predict(predict_input_fn)\n",
        "  return [(sentence, prediction['probabilities'], labels[prediction['labels']]) for sentence, prediction in zip(in_sentences, predictions)]"
      ],
      "execution_count": 0,
      "outputs": []
    },
    {
      "cell_type": "code",
      "metadata": {
        "id": "-thbodgih_VJ",
        "colab_type": "code",
        "colab": {}
      },
      "source": [
        "pred_sentences = [\n",
        "  \"今日は良い一日だ\",\n",
        "  \"株価は上がる\",\n",
        "  \"今日は天気が悪いな\",\n",
        "  \"初めて彼女ができました\"\n",
        "]"
      ],
      "execution_count": 0,
      "outputs": []
    },
    {
      "cell_type": "code",
      "metadata": {
        "id": "QrZmvZySKQTm",
        "colab_type": "code",
        "outputId": "552d2590-2151-4d40-ed15-2cb87813f3a1",
        "colab": {
          "base_uri": "https://localhost:8080/",
          "height": 1261
        }
      },
      "source": [
        "predictions = getPrediction(pred_sentences)"
      ],
      "execution_count": 94,
      "outputs": [
        {
          "output_type": "stream",
          "text": [
            "INFO:tensorflow:Writing example 0 of 4\n"
          ],
          "name": "stdout"
        },
        {
          "output_type": "stream",
          "text": [
            "I0519 08:49:40.039969 140593909376896 run_classifier.py:774] Writing example 0 of 4\n"
          ],
          "name": "stderr"
        },
        {
          "output_type": "stream",
          "text": [
            "INFO:tensorflow:*** Example ***\n"
          ],
          "name": "stdout"
        },
        {
          "output_type": "stream",
          "text": [
            "I0519 08:49:40.043618 140593909376896 run_classifier.py:461] *** Example ***\n"
          ],
          "name": "stderr"
        },
        {
          "output_type": "stream",
          "text": [
            "INFO:tensorflow:guid: \n"
          ],
          "name": "stdout"
        },
        {
          "output_type": "stream",
          "text": [
            "I0519 08:49:40.045492 140593909376896 run_classifier.py:462] guid: \n"
          ],
          "name": "stderr"
        },
        {
          "output_type": "stream",
          "text": [
            "INFO:tensorflow:tokens: [CLS] 今 日 は 良 い 一 日 だ [SEP]\n"
          ],
          "name": "stdout"
        },
        {
          "output_type": "stream",
          "text": [
            "I0519 08:49:40.050465 140593909376896 run_classifier.py:464] tokens: [CLS] 今 日 は 良 い 一 日 だ [SEP]\n"
          ],
          "name": "stderr"
        },
        {
          "output_type": "stream",
          "text": [
            "INFO:tensorflow:input_ids: 101 2187 4348 1947 6667 1906 2072 4348 1932 102 0 0 0 0 0 0 0 0 0 0 0 0 0 0 0 0 0 0 0 0 0 0 0 0 0 0 0 0 0 0 0 0 0 0 0 0 0 0 0 0 0 0 0 0 0 0 0 0 0 0 0 0 0 0 0 0 0 0 0 0 0 0 0 0 0 0 0 0 0 0 0 0 0 0 0 0 0 0 0 0 0 0 0 0 0 0 0 0 0 0 0 0 0 0 0 0 0 0 0 0 0 0 0 0 0 0 0 0 0 0 0 0 0 0 0 0 0 0\n"
          ],
          "name": "stdout"
        },
        {
          "output_type": "stream",
          "text": [
            "I0519 08:49:40.053718 140593909376896 run_classifier.py:465] input_ids: 101 2187 4348 1947 6667 1906 2072 4348 1932 102 0 0 0 0 0 0 0 0 0 0 0 0 0 0 0 0 0 0 0 0 0 0 0 0 0 0 0 0 0 0 0 0 0 0 0 0 0 0 0 0 0 0 0 0 0 0 0 0 0 0 0 0 0 0 0 0 0 0 0 0 0 0 0 0 0 0 0 0 0 0 0 0 0 0 0 0 0 0 0 0 0 0 0 0 0 0 0 0 0 0 0 0 0 0 0 0 0 0 0 0 0 0 0 0 0 0 0 0 0 0 0 0 0 0 0 0 0 0\n"
          ],
          "name": "stderr"
        },
        {
          "output_type": "stream",
          "text": [
            "INFO:tensorflow:input_mask: 1 1 1 1 1 1 1 1 1 1 0 0 0 0 0 0 0 0 0 0 0 0 0 0 0 0 0 0 0 0 0 0 0 0 0 0 0 0 0 0 0 0 0 0 0 0 0 0 0 0 0 0 0 0 0 0 0 0 0 0 0 0 0 0 0 0 0 0 0 0 0 0 0 0 0 0 0 0 0 0 0 0 0 0 0 0 0 0 0 0 0 0 0 0 0 0 0 0 0 0 0 0 0 0 0 0 0 0 0 0 0 0 0 0 0 0 0 0 0 0 0 0 0 0 0 0 0 0\n"
          ],
          "name": "stdout"
        },
        {
          "output_type": "stream",
          "text": [
            "I0519 08:49:40.056386 140593909376896 run_classifier.py:466] input_mask: 1 1 1 1 1 1 1 1 1 1 0 0 0 0 0 0 0 0 0 0 0 0 0 0 0 0 0 0 0 0 0 0 0 0 0 0 0 0 0 0 0 0 0 0 0 0 0 0 0 0 0 0 0 0 0 0 0 0 0 0 0 0 0 0 0 0 0 0 0 0 0 0 0 0 0 0 0 0 0 0 0 0 0 0 0 0 0 0 0 0 0 0 0 0 0 0 0 0 0 0 0 0 0 0 0 0 0 0 0 0 0 0 0 0 0 0 0 0 0 0 0 0 0 0 0 0 0 0\n"
          ],
          "name": "stderr"
        },
        {
          "output_type": "stream",
          "text": [
            "INFO:tensorflow:segment_ids: 0 0 0 0 0 0 0 0 0 0 0 0 0 0 0 0 0 0 0 0 0 0 0 0 0 0 0 0 0 0 0 0 0 0 0 0 0 0 0 0 0 0 0 0 0 0 0 0 0 0 0 0 0 0 0 0 0 0 0 0 0 0 0 0 0 0 0 0 0 0 0 0 0 0 0 0 0 0 0 0 0 0 0 0 0 0 0 0 0 0 0 0 0 0 0 0 0 0 0 0 0 0 0 0 0 0 0 0 0 0 0 0 0 0 0 0 0 0 0 0 0 0 0 0 0 0 0 0\n"
          ],
          "name": "stdout"
        },
        {
          "output_type": "stream",
          "text": [
            "I0519 08:49:40.059374 140593909376896 run_classifier.py:467] segment_ids: 0 0 0 0 0 0 0 0 0 0 0 0 0 0 0 0 0 0 0 0 0 0 0 0 0 0 0 0 0 0 0 0 0 0 0 0 0 0 0 0 0 0 0 0 0 0 0 0 0 0 0 0 0 0 0 0 0 0 0 0 0 0 0 0 0 0 0 0 0 0 0 0 0 0 0 0 0 0 0 0 0 0 0 0 0 0 0 0 0 0 0 0 0 0 0 0 0 0 0 0 0 0 0 0 0 0 0 0 0 0 0 0 0 0 0 0 0 0 0 0 0 0 0 0 0 0 0 0\n"
          ],
          "name": "stderr"
        },
        {
          "output_type": "stream",
          "text": [
            "INFO:tensorflow:label: 0 (id = 0)\n"
          ],
          "name": "stdout"
        },
        {
          "output_type": "stream",
          "text": [
            "I0519 08:49:40.063015 140593909376896 run_classifier.py:468] label: 0 (id = 0)\n"
          ],
          "name": "stderr"
        },
        {
          "output_type": "stream",
          "text": [
            "INFO:tensorflow:*** Example ***\n"
          ],
          "name": "stdout"
        },
        {
          "output_type": "stream",
          "text": [
            "I0519 08:49:40.069602 140593909376896 run_classifier.py:461] *** Example ***\n"
          ],
          "name": "stderr"
        },
        {
          "output_type": "stream",
          "text": [
            "INFO:tensorflow:guid: \n"
          ],
          "name": "stdout"
        },
        {
          "output_type": "stream",
          "text": [
            "I0519 08:49:40.072299 140593909376896 run_classifier.py:462] guid: \n"
          ],
          "name": "stderr"
        },
        {
          "output_type": "stream",
          "text": [
            "INFO:tensorflow:tokens: [CLS] 株 価 は 上 がる [SEP]\n"
          ],
          "name": "stdout"
        },
        {
          "output_type": "stream",
          "text": [
            "I0519 08:49:40.073594 140593909376896 run_classifier.py:464] tokens: [CLS] 株 価 は 上 がる [SEP]\n"
          ],
          "name": "stderr"
        },
        {
          "output_type": "stream",
          "text": [
            "INFO:tensorflow:input_ids: 101 4575 2289 1947 2078 73901 102 0 0 0 0 0 0 0 0 0 0 0 0 0 0 0 0 0 0 0 0 0 0 0 0 0 0 0 0 0 0 0 0 0 0 0 0 0 0 0 0 0 0 0 0 0 0 0 0 0 0 0 0 0 0 0 0 0 0 0 0 0 0 0 0 0 0 0 0 0 0 0 0 0 0 0 0 0 0 0 0 0 0 0 0 0 0 0 0 0 0 0 0 0 0 0 0 0 0 0 0 0 0 0 0 0 0 0 0 0 0 0 0 0 0 0 0 0 0 0 0 0\n"
          ],
          "name": "stdout"
        },
        {
          "output_type": "stream",
          "text": [
            "I0519 08:49:40.074884 140593909376896 run_classifier.py:465] input_ids: 101 4575 2289 1947 2078 73901 102 0 0 0 0 0 0 0 0 0 0 0 0 0 0 0 0 0 0 0 0 0 0 0 0 0 0 0 0 0 0 0 0 0 0 0 0 0 0 0 0 0 0 0 0 0 0 0 0 0 0 0 0 0 0 0 0 0 0 0 0 0 0 0 0 0 0 0 0 0 0 0 0 0 0 0 0 0 0 0 0 0 0 0 0 0 0 0 0 0 0 0 0 0 0 0 0 0 0 0 0 0 0 0 0 0 0 0 0 0 0 0 0 0 0 0 0 0 0 0 0 0\n"
          ],
          "name": "stderr"
        },
        {
          "output_type": "stream",
          "text": [
            "INFO:tensorflow:input_mask: 1 1 1 1 1 1 1 0 0 0 0 0 0 0 0 0 0 0 0 0 0 0 0 0 0 0 0 0 0 0 0 0 0 0 0 0 0 0 0 0 0 0 0 0 0 0 0 0 0 0 0 0 0 0 0 0 0 0 0 0 0 0 0 0 0 0 0 0 0 0 0 0 0 0 0 0 0 0 0 0 0 0 0 0 0 0 0 0 0 0 0 0 0 0 0 0 0 0 0 0 0 0 0 0 0 0 0 0 0 0 0 0 0 0 0 0 0 0 0 0 0 0 0 0 0 0 0 0\n"
          ],
          "name": "stdout"
        },
        {
          "output_type": "stream",
          "text": [
            "I0519 08:49:40.076582 140593909376896 run_classifier.py:466] input_mask: 1 1 1 1 1 1 1 0 0 0 0 0 0 0 0 0 0 0 0 0 0 0 0 0 0 0 0 0 0 0 0 0 0 0 0 0 0 0 0 0 0 0 0 0 0 0 0 0 0 0 0 0 0 0 0 0 0 0 0 0 0 0 0 0 0 0 0 0 0 0 0 0 0 0 0 0 0 0 0 0 0 0 0 0 0 0 0 0 0 0 0 0 0 0 0 0 0 0 0 0 0 0 0 0 0 0 0 0 0 0 0 0 0 0 0 0 0 0 0 0 0 0 0 0 0 0 0 0\n"
          ],
          "name": "stderr"
        },
        {
          "output_type": "stream",
          "text": [
            "INFO:tensorflow:segment_ids: 0 0 0 0 0 0 0 0 0 0 0 0 0 0 0 0 0 0 0 0 0 0 0 0 0 0 0 0 0 0 0 0 0 0 0 0 0 0 0 0 0 0 0 0 0 0 0 0 0 0 0 0 0 0 0 0 0 0 0 0 0 0 0 0 0 0 0 0 0 0 0 0 0 0 0 0 0 0 0 0 0 0 0 0 0 0 0 0 0 0 0 0 0 0 0 0 0 0 0 0 0 0 0 0 0 0 0 0 0 0 0 0 0 0 0 0 0 0 0 0 0 0 0 0 0 0 0 0\n"
          ],
          "name": "stdout"
        },
        {
          "output_type": "stream",
          "text": [
            "I0519 08:49:40.078108 140593909376896 run_classifier.py:467] segment_ids: 0 0 0 0 0 0 0 0 0 0 0 0 0 0 0 0 0 0 0 0 0 0 0 0 0 0 0 0 0 0 0 0 0 0 0 0 0 0 0 0 0 0 0 0 0 0 0 0 0 0 0 0 0 0 0 0 0 0 0 0 0 0 0 0 0 0 0 0 0 0 0 0 0 0 0 0 0 0 0 0 0 0 0 0 0 0 0 0 0 0 0 0 0 0 0 0 0 0 0 0 0 0 0 0 0 0 0 0 0 0 0 0 0 0 0 0 0 0 0 0 0 0 0 0 0 0 0 0\n"
          ],
          "name": "stderr"
        },
        {
          "output_type": "stream",
          "text": [
            "INFO:tensorflow:label: 0 (id = 0)\n"
          ],
          "name": "stdout"
        },
        {
          "output_type": "stream",
          "text": [
            "I0519 08:49:40.079416 140593909376896 run_classifier.py:468] label: 0 (id = 0)\n"
          ],
          "name": "stderr"
        },
        {
          "output_type": "stream",
          "text": [
            "INFO:tensorflow:*** Example ***\n"
          ],
          "name": "stdout"
        },
        {
          "output_type": "stream",
          "text": [
            "I0519 08:49:40.080803 140593909376896 run_classifier.py:461] *** Example ***\n"
          ],
          "name": "stderr"
        },
        {
          "output_type": "stream",
          "text": [
            "INFO:tensorflow:guid: \n"
          ],
          "name": "stdout"
        },
        {
          "output_type": "stream",
          "text": [
            "I0519 08:49:40.082157 140593909376896 run_classifier.py:462] guid: \n"
          ],
          "name": "stderr"
        },
        {
          "output_type": "stream",
          "text": [
            "INFO:tensorflow:tokens: [CLS] 今 日 は 天 気 が 悪 い ##な [SEP]\n"
          ],
          "name": "stdout"
        },
        {
          "output_type": "stream",
          "text": [
            "I0519 08:49:40.083431 140593909376896 run_classifier.py:464] tokens: [CLS] 今 日 は 天 気 が 悪 い ##な [SEP]\n"
          ],
          "name": "stderr"
        },
        {
          "output_type": "stream",
          "text": [
            "INFO:tensorflow:input_ids: 101 2187 4348 1947 3198 4854 1912 3871 1906 22946 102 0 0 0 0 0 0 0 0 0 0 0 0 0 0 0 0 0 0 0 0 0 0 0 0 0 0 0 0 0 0 0 0 0 0 0 0 0 0 0 0 0 0 0 0 0 0 0 0 0 0 0 0 0 0 0 0 0 0 0 0 0 0 0 0 0 0 0 0 0 0 0 0 0 0 0 0 0 0 0 0 0 0 0 0 0 0 0 0 0 0 0 0 0 0 0 0 0 0 0 0 0 0 0 0 0 0 0 0 0 0 0 0 0 0 0 0 0\n"
          ],
          "name": "stdout"
        },
        {
          "output_type": "stream",
          "text": [
            "I0519 08:49:40.085182 140593909376896 run_classifier.py:465] input_ids: 101 2187 4348 1947 3198 4854 1912 3871 1906 22946 102 0 0 0 0 0 0 0 0 0 0 0 0 0 0 0 0 0 0 0 0 0 0 0 0 0 0 0 0 0 0 0 0 0 0 0 0 0 0 0 0 0 0 0 0 0 0 0 0 0 0 0 0 0 0 0 0 0 0 0 0 0 0 0 0 0 0 0 0 0 0 0 0 0 0 0 0 0 0 0 0 0 0 0 0 0 0 0 0 0 0 0 0 0 0 0 0 0 0 0 0 0 0 0 0 0 0 0 0 0 0 0 0 0 0 0 0 0\n"
          ],
          "name": "stderr"
        },
        {
          "output_type": "stream",
          "text": [
            "INFO:tensorflow:input_mask: 1 1 1 1 1 1 1 1 1 1 1 0 0 0 0 0 0 0 0 0 0 0 0 0 0 0 0 0 0 0 0 0 0 0 0 0 0 0 0 0 0 0 0 0 0 0 0 0 0 0 0 0 0 0 0 0 0 0 0 0 0 0 0 0 0 0 0 0 0 0 0 0 0 0 0 0 0 0 0 0 0 0 0 0 0 0 0 0 0 0 0 0 0 0 0 0 0 0 0 0 0 0 0 0 0 0 0 0 0 0 0 0 0 0 0 0 0 0 0 0 0 0 0 0 0 0 0 0\n"
          ],
          "name": "stdout"
        },
        {
          "output_type": "stream",
          "text": [
            "I0519 08:49:40.086597 140593909376896 run_classifier.py:466] input_mask: 1 1 1 1 1 1 1 1 1 1 1 0 0 0 0 0 0 0 0 0 0 0 0 0 0 0 0 0 0 0 0 0 0 0 0 0 0 0 0 0 0 0 0 0 0 0 0 0 0 0 0 0 0 0 0 0 0 0 0 0 0 0 0 0 0 0 0 0 0 0 0 0 0 0 0 0 0 0 0 0 0 0 0 0 0 0 0 0 0 0 0 0 0 0 0 0 0 0 0 0 0 0 0 0 0 0 0 0 0 0 0 0 0 0 0 0 0 0 0 0 0 0 0 0 0 0 0 0\n"
          ],
          "name": "stderr"
        },
        {
          "output_type": "stream",
          "text": [
            "INFO:tensorflow:segment_ids: 0 0 0 0 0 0 0 0 0 0 0 0 0 0 0 0 0 0 0 0 0 0 0 0 0 0 0 0 0 0 0 0 0 0 0 0 0 0 0 0 0 0 0 0 0 0 0 0 0 0 0 0 0 0 0 0 0 0 0 0 0 0 0 0 0 0 0 0 0 0 0 0 0 0 0 0 0 0 0 0 0 0 0 0 0 0 0 0 0 0 0 0 0 0 0 0 0 0 0 0 0 0 0 0 0 0 0 0 0 0 0 0 0 0 0 0 0 0 0 0 0 0 0 0 0 0 0 0\n"
          ],
          "name": "stdout"
        },
        {
          "output_type": "stream",
          "text": [
            "I0519 08:49:40.087975 140593909376896 run_classifier.py:467] segment_ids: 0 0 0 0 0 0 0 0 0 0 0 0 0 0 0 0 0 0 0 0 0 0 0 0 0 0 0 0 0 0 0 0 0 0 0 0 0 0 0 0 0 0 0 0 0 0 0 0 0 0 0 0 0 0 0 0 0 0 0 0 0 0 0 0 0 0 0 0 0 0 0 0 0 0 0 0 0 0 0 0 0 0 0 0 0 0 0 0 0 0 0 0 0 0 0 0 0 0 0 0 0 0 0 0 0 0 0 0 0 0 0 0 0 0 0 0 0 0 0 0 0 0 0 0 0 0 0 0\n"
          ],
          "name": "stderr"
        },
        {
          "output_type": "stream",
          "text": [
            "INFO:tensorflow:label: 0 (id = 0)\n"
          ],
          "name": "stdout"
        },
        {
          "output_type": "stream",
          "text": [
            "I0519 08:49:40.089223 140593909376896 run_classifier.py:468] label: 0 (id = 0)\n"
          ],
          "name": "stderr"
        },
        {
          "output_type": "stream",
          "text": [
            "INFO:tensorflow:*** Example ***\n"
          ],
          "name": "stdout"
        },
        {
          "output_type": "stream",
          "text": [
            "I0519 08:49:40.090927 140593909376896 run_classifier.py:461] *** Example ***\n"
          ],
          "name": "stderr"
        },
        {
          "output_type": "stream",
          "text": [
            "INFO:tensorflow:guid: \n"
          ],
          "name": "stdout"
        },
        {
          "output_type": "stream",
          "text": [
            "I0519 08:49:40.092356 140593909376896 run_classifier.py:462] guid: \n"
          ],
          "name": "stderr"
        },
        {
          "output_type": "stream",
          "text": [
            "INFO:tensorflow:tokens: [CLS] 初 めて 彼 女 が ##で ##き ##ま ##した [SEP]\n"
          ],
          "name": "stdout"
        },
        {
          "output_type": "stream",
          "text": [
            "I0519 08:49:40.094287 140593909376896 run_classifier.py:464] tokens: [CLS] 初 めて 彼 女 が ##で ##き ##ま ##した [SEP]\n"
          ],
          "name": "stderr"
        },
        {
          "output_type": "stream",
          "text": [
            "INFO:tensorflow:input_ids: 101 2547 19945 3760 3235 1912 12236 16838 27058 16923 102 0 0 0 0 0 0 0 0 0 0 0 0 0 0 0 0 0 0 0 0 0 0 0 0 0 0 0 0 0 0 0 0 0 0 0 0 0 0 0 0 0 0 0 0 0 0 0 0 0 0 0 0 0 0 0 0 0 0 0 0 0 0 0 0 0 0 0 0 0 0 0 0 0 0 0 0 0 0 0 0 0 0 0 0 0 0 0 0 0 0 0 0 0 0 0 0 0 0 0 0 0 0 0 0 0 0 0 0 0 0 0 0 0 0 0 0 0\n"
          ],
          "name": "stdout"
        },
        {
          "output_type": "stream",
          "text": [
            "I0519 08:49:40.095736 140593909376896 run_classifier.py:465] input_ids: 101 2547 19945 3760 3235 1912 12236 16838 27058 16923 102 0 0 0 0 0 0 0 0 0 0 0 0 0 0 0 0 0 0 0 0 0 0 0 0 0 0 0 0 0 0 0 0 0 0 0 0 0 0 0 0 0 0 0 0 0 0 0 0 0 0 0 0 0 0 0 0 0 0 0 0 0 0 0 0 0 0 0 0 0 0 0 0 0 0 0 0 0 0 0 0 0 0 0 0 0 0 0 0 0 0 0 0 0 0 0 0 0 0 0 0 0 0 0 0 0 0 0 0 0 0 0 0 0 0 0 0 0\n"
          ],
          "name": "stderr"
        },
        {
          "output_type": "stream",
          "text": [
            "INFO:tensorflow:input_mask: 1 1 1 1 1 1 1 1 1 1 1 0 0 0 0 0 0 0 0 0 0 0 0 0 0 0 0 0 0 0 0 0 0 0 0 0 0 0 0 0 0 0 0 0 0 0 0 0 0 0 0 0 0 0 0 0 0 0 0 0 0 0 0 0 0 0 0 0 0 0 0 0 0 0 0 0 0 0 0 0 0 0 0 0 0 0 0 0 0 0 0 0 0 0 0 0 0 0 0 0 0 0 0 0 0 0 0 0 0 0 0 0 0 0 0 0 0 0 0 0 0 0 0 0 0 0 0 0\n"
          ],
          "name": "stdout"
        },
        {
          "output_type": "stream",
          "text": [
            "I0519 08:49:40.097176 140593909376896 run_classifier.py:466] input_mask: 1 1 1 1 1 1 1 1 1 1 1 0 0 0 0 0 0 0 0 0 0 0 0 0 0 0 0 0 0 0 0 0 0 0 0 0 0 0 0 0 0 0 0 0 0 0 0 0 0 0 0 0 0 0 0 0 0 0 0 0 0 0 0 0 0 0 0 0 0 0 0 0 0 0 0 0 0 0 0 0 0 0 0 0 0 0 0 0 0 0 0 0 0 0 0 0 0 0 0 0 0 0 0 0 0 0 0 0 0 0 0 0 0 0 0 0 0 0 0 0 0 0 0 0 0 0 0 0\n"
          ],
          "name": "stderr"
        },
        {
          "output_type": "stream",
          "text": [
            "INFO:tensorflow:segment_ids: 0 0 0 0 0 0 0 0 0 0 0 0 0 0 0 0 0 0 0 0 0 0 0 0 0 0 0 0 0 0 0 0 0 0 0 0 0 0 0 0 0 0 0 0 0 0 0 0 0 0 0 0 0 0 0 0 0 0 0 0 0 0 0 0 0 0 0 0 0 0 0 0 0 0 0 0 0 0 0 0 0 0 0 0 0 0 0 0 0 0 0 0 0 0 0 0 0 0 0 0 0 0 0 0 0 0 0 0 0 0 0 0 0 0 0 0 0 0 0 0 0 0 0 0 0 0 0 0\n"
          ],
          "name": "stdout"
        },
        {
          "output_type": "stream",
          "text": [
            "I0519 08:49:40.098812 140593909376896 run_classifier.py:467] segment_ids: 0 0 0 0 0 0 0 0 0 0 0 0 0 0 0 0 0 0 0 0 0 0 0 0 0 0 0 0 0 0 0 0 0 0 0 0 0 0 0 0 0 0 0 0 0 0 0 0 0 0 0 0 0 0 0 0 0 0 0 0 0 0 0 0 0 0 0 0 0 0 0 0 0 0 0 0 0 0 0 0 0 0 0 0 0 0 0 0 0 0 0 0 0 0 0 0 0 0 0 0 0 0 0 0 0 0 0 0 0 0 0 0 0 0 0 0 0 0 0 0 0 0 0 0 0 0 0 0\n"
          ],
          "name": "stderr"
        },
        {
          "output_type": "stream",
          "text": [
            "INFO:tensorflow:label: 0 (id = 0)\n"
          ],
          "name": "stdout"
        },
        {
          "output_type": "stream",
          "text": [
            "I0519 08:49:40.099939 140593909376896 run_classifier.py:468] label: 0 (id = 0)\n"
          ],
          "name": "stderr"
        },
        {
          "output_type": "stream",
          "text": [
            "INFO:tensorflow:Calling model_fn.\n"
          ],
          "name": "stdout"
        },
        {
          "output_type": "stream",
          "text": [
            "I0519 08:49:41.142229 140593909376896 estimator.py:1111] Calling model_fn.\n"
          ],
          "name": "stderr"
        },
        {
          "output_type": "stream",
          "text": [
            "INFO:tensorflow:Saver not created because there are no variables in the graph to restore\n"
          ],
          "name": "stdout"
        },
        {
          "output_type": "stream",
          "text": [
            "I0519 08:49:44.635598 140593909376896 saver.py:1483] Saver not created because there are no variables in the graph to restore\n"
          ],
          "name": "stderr"
        },
        {
          "output_type": "stream",
          "text": [
            "INFO:tensorflow:Done calling model_fn.\n"
          ],
          "name": "stdout"
        },
        {
          "output_type": "stream",
          "text": [
            "I0519 08:49:44.849048 140593909376896 estimator.py:1113] Done calling model_fn.\n"
          ],
          "name": "stderr"
        },
        {
          "output_type": "stream",
          "text": [
            "INFO:tensorflow:Graph was finalized.\n"
          ],
          "name": "stdout"
        },
        {
          "output_type": "stream",
          "text": [
            "I0519 08:49:45.842766 140593909376896 monitored_session.py:222] Graph was finalized.\n"
          ],
          "name": "stderr"
        },
        {
          "output_type": "stream",
          "text": [
            "INFO:tensorflow:Restoring parameters from gs://bert_szukiyu/OUTPUT_DIR_NAME3/model.ckpt-131\n"
          ],
          "name": "stdout"
        },
        {
          "output_type": "stream",
          "text": [
            "I0519 08:49:46.117480 140593909376896 saver.py:1270] Restoring parameters from gs://bert_szukiyu/OUTPUT_DIR_NAME3/model.ckpt-131\n"
          ],
          "name": "stderr"
        },
        {
          "output_type": "stream",
          "text": [
            "INFO:tensorflow:Running local_init_op.\n"
          ],
          "name": "stdout"
        },
        {
          "output_type": "stream",
          "text": [
            "I0519 08:50:41.207892 140593909376896 session_manager.py:491] Running local_init_op.\n"
          ],
          "name": "stderr"
        },
        {
          "output_type": "stream",
          "text": [
            "INFO:tensorflow:Done running local_init_op.\n"
          ],
          "name": "stdout"
        },
        {
          "output_type": "stream",
          "text": [
            "I0519 08:50:41.302258 140593909376896 session_manager.py:493] Done running local_init_op.\n"
          ],
          "name": "stderr"
        }
      ]
    },
    {
      "cell_type": "markdown",
      "metadata": {
        "id": "MXkRiEBUqN3n",
        "colab_type": "text"
      },
      "source": [
        "Voila! We have a sentiment classifier!"
      ]
    },
    {
      "cell_type": "code",
      "metadata": {
        "id": "ERkTE8-7oQLZ",
        "colab_type": "code",
        "outputId": "78024254-2b55-4158-d8a5-051bad96fd95",
        "colab": {
          "base_uri": "https://localhost:8080/",
          "height": 85
        }
      },
      "source": [
        "predictions"
      ],
      "execution_count": 95,
      "outputs": [
        {
          "output_type": "execute_result",
          "data": {
            "text/plain": [
              "[('今日は良い一日だ', array([-0.06588927, -2.752544  ], dtype=float32), 'Negative'),\n",
              " ('株価は上がる', array([-3.9052618 , -0.02034113], dtype=float32), 'Positive'),\n",
              " ('今日は天気が悪いな', array([-4.1553664 , -0.01580427], dtype=float32), 'Positive'),\n",
              " ('初めて彼女ができました', array([-4.8279076 , -0.00803548], dtype=float32), 'Positive')]"
            ]
          },
          "metadata": {
            "tags": []
          },
          "execution_count": 95
        }
      ]
    }
  ]
}